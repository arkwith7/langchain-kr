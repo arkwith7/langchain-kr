{
 "cells": [
  {
   "cell_type": "code",
   "execution_count": 1,
   "metadata": {},
   "outputs": [
    {
     "data": {
      "text/plain": [
       "True"
      ]
     },
     "execution_count": 1,
     "metadata": {},
     "output_type": "execute_result"
    }
   ],
   "source": [
    "# API 키를 환경변수로 관리하기 위한 설정 파일\n",
    "from dotenv import load_dotenv\n",
    "\n",
    "# API 키 정보 로드\n",
    "load_dotenv()"
   ]
  },
  {
   "cell_type": "markdown",
   "metadata": {},
   "source": [
    "### HWP 문서 가져오기\n"
   ]
  },
  {
   "cell_type": "markdown",
   "metadata": {},
   "source": [
    "\n",
    "https://nomadamas.gitbook.io/ragchain-docs/ragchain-structure/file-loader/win32-hwp-loader\n"
   ]
  },
  {
   "cell_type": "code",
   "execution_count": 2,
   "metadata": {},
   "outputs": [
    {
     "data": {
      "text/plain": [
       "10"
      ]
     },
     "execution_count": 2,
     "metadata": {},
     "output_type": "execute_result"
    }
   ],
   "source": [
    "# from RAGchain.preprocess.loader import Win32HwpLoader\n",
    "from RAGchain.preprocess.loader import RustHwpLoader\n",
    "\n",
    "loader = RustHwpLoader(\"./data/2024년도 하반기 중남미 지역기구 파견인턴 선발 공고.hwp\")\n",
    "\n",
    "# loader = Win32HwpLoader(\"./data/(첨부5) 2024년도 하반기 중남미 지역기구 파견인턴 선발 공고.hwpx\")\n",
    "documents = loader.load()\n",
    "\n",
    "len(documents)"
   ]
  },
  {
   "cell_type": "code",
   "execution_count": 3,
   "metadata": {},
   "outputs": [
    {
     "name": "stdout",
     "output_type": "stream",
     "text": [
      "(' 2024년도 하반기 중남미 지역기구 파견 인턴 선발 공고   1. 선발 개요     가. 공통 자격요건     ㅇ 대한민국 국적자로, '\n",
      " '국내외 대학생(3-4학년) 또는 대학원생    ㅇ 영어 또는 스페인어로 업무처리가 가능한 자      (학력) ※ 위 학력사항은 기본 '\n",
      " '요건이며, 기구별 상세요건 확인 요망 ※ 기구별 학력요건은 본 공고 4페이지 “참고1” 참조  (어학) ※ 어학능력 증빙 자료(어학성적, '\n",
      " '자격증 등) 제출 요망  ※ 증빙자료가 없을 시 언어 능력 뒷받침할 수 있는 내용을 신청서에 기재 ※ 기구별 어학요건은 본 공고 4페이지 '\n",
      " '“참고1” 참조  (기타 고려사항) ※ 대한민국 정부가 지원하는 유사 인턴 프로그램 기참가자는 지원 불가 ※ 비수도권대학 학생의 지원 '\n",
      " '장려(총 인원의 30%이상 비수도권대학에서 선발할 계획. 다만, 비수도권대학 학생 지원율 저조 등 사유가 있는 경우 동 목표 비율은 '\n",
      " '탄력적으로 조정될 예정)    *비수도권대학 판단 기준은 국가법령정보센터(www.law.go.kr)에 게시된 ‘균형인사지침’ 참고 ※ '\n",
      " '백신 접종 완료 여부 확인을 위한 백신접종완료증명서 사본 제출      나. 기구별 선발 기간 및 인원     ㅇ 파견기간은 원칙적으로 '\n",
      " '4~6개월이나, 기구 사정에 따라 변동 가능        - OAS(미주기구)의 경우 선발 후 25년 상반기 파견    ㅇ 기구별 선호 '\n",
      " '상세 지원자격은 본 공고 4페이지 “참고1” 참조  기구명 파견지 파견 기간 인원 PARLATINO(라틴아메리카의회) 파나마 6개월 1 '\n",
      " 'IOM(국제이주기구) 페루 6개월 1 OPANAL(중남미핵무기금지기구) 멕시코 2024.7월 ~ 11월 1 GGGI(글로벌녹색성장연구소) '\n",
      " '파라과이 추후 조율 1 SEGIB(이베로아메리카사무국) 스페인 2024.9월 ~ 2025.2월 1 CAF(중남미개발은행) 콜롬비아 '\n",
      " '2024.9월 ~ 2025.3월 1 ACTO(아마존협력조약기구) 브라질 6개월 1 OAS(미주기구) 미국(워싱턴) 2025.1월 ~ '\n",
      " '2025.7월 1 ACS(카리브국가연합) 트리니다드토바고 6개월 1      ※ 상기 지역기구 외에도 기타 지역기구로부터 인턴 수요가 '\n",
      " '추가적으로 발생 가능 ※ 각 지역기구별 적격자가 없다고 판단되는 경우 선발하지 않을 수 있음 ※ 치안 등 지역기구 소재지 내 제반 사정에 '\n",
      " '따라 일정 조정 등 변동 가능  ※ 각 지역 기구에 관한 상세 내용은 ‘외교부 '\n",
      " '홈페이지(www.mofa.go.kr)>외교정책>국제기구‧지역협력체>중남미지역기구’ 참고   다. 지원 내역 : 왕복 항공료(정액), 현지 '\n",
      " '정착비 및 월 체재비      ※ 다만, 지원금으로 충당할 수 없는 파견 기구 및 파견국의 물가 등에 따라 발생하는 기타 비용은 지원자 '\n",
      " '부담 필요   2. 선발 일정     ㅇ 2024.5.30.(목) 18:00서류접수 마감(이메일 접수)     ㅇ '\n",
      " '2024.5.31.(금)  서류전형 합격자 발표(개별 통보)    ㅇ 2024.6.4.(화)       필기시험 및 면접시험(상세내용 '\n",
      " '추후 공지)    ㅇ 2024.6.10.(월) 외교부 추천 후보자 발표(개별 통보)    ㅇ 2024.6.11.(화) ~기구측에 우리측 '\n",
      " '후보자 추천    ㅇ 2024.6월~2024.7월  최종 합격자 발표(개별 통보)      ※ 외교부 추천 후보자에 대해 각 지역기구가 '\n",
      " '최종 합격 여부를 결정하며, 동 과정에서 후보자가 합격하지 못할 수 있음 ※ 상기 일정은 외교부 및 인턴 접수 기구의 사정에 의해 변경될 '\n",
      " '수 있음 ※ 기구측에 추천되는 후보자들은 이메일 접수서류의 원본을 제출해야 하며, 제출된 서류는 일체 반환하지 않음 ※ 필기시험 평가 '\n",
      " '항목은 5페이지 “참고2” 참조   3. 서류 접수 안내     ㅇ 외교부 중남미협력과 이메일(latinca@mofa.go.kr)로 관련 '\n",
      " '서류 송부     - 국문 신청서 : 한글 파일(*hwp) 또는 PDF 파일          ※ 지원자는 국문 신청서에 지원기구 1순위 '\n",
      " '및 2순위 기재 요망          - ▵영문 신청서(Application for Internship, Curriculum Vitae) '\n",
      " '각 1부, ▵영문 재학 또는 휴학증명서, ▵영문 대학 및 대학원 성적증명서, ▵기타 증명서 : 1개의 컬러 PDF 파일로 변환하여 '\n",
      " '송부      - 영문 교수 추천서 1부 : 추천 교수가 직접 외교부 중남미협력과 이메일로 송부     - 백신 접종 증명서(접종 완료자 '\n",
      " '해당 시)      ※ 서한으로 작성(교수 서명 포함) 시 접수 마감일까지 외교부 도착하도록 우편 송부   - 주소 : 서울시 종로구 '\n",
      " '사직로 8길 60 외교부 청사 1103호 중남미협력과 인턴파견 담당자 앞 (우편번호 03172)   ※ 추천서는 별도 양식이 없으며, '\n",
      " '추천 교수가 서명 후 스캔본(pdf) 또는 이미지 서명을 포함한 워드/한글 파일(doc,hwp) 송부   - 추천서상에는 파견 희망 '\n",
      " '기구명 기재 금지   - 교수 본인 작성 여부 확인 후 최종합격자에 한해 원본 접수 예정(추천서에 추천인 이메일 및 전화번호 병기 '\n",
      " '요망)  4. 문의 사항 : 외교부 중남미협력과(latinca@mofa.go.kr, (02-2100-8091)로 문의     '\n",
      " '참고1     2024년도 하반기 중남미 지역기구 인턴 지원 자격 및 선호 전공  기구 (국가) 부서 및 담당업무 지원자격 및 선호전공  '\n",
      " 'PARLATINO (파나마)  - 전문조정실 지도하 근무(변동 가능)  - 라틴아메리카학, 법학, 스페인어학, 경제학, 국제관계학, '\n",
      " '인문·사회학 등 전공자   - 학사·석사 재학생 및 졸업생  - 스페인어(고급) 구사자 IOM (페루)  - 긴급·인도주의 지원 부서  '\n",
      " '- 사회과학, 인문학, 보건, 토목공학, 건축, 사회학, 심리학 및 관련분야 학사학위 이상  - 긴급 및 인도주의적 지원프로젝트 6개월 '\n",
      " '이상 경력, 보호소 및 캠프관리 자원봉사 또는 인턴경력 선호  - 영어(고급) 및 스페인어(기본) 구사자 OPANAL (멕시코)  - '\n",
      " '리서치 등 지원 업무  - 대학생, 학사 졸업자 모두 가능  - 국제관계, 법, 정치, 언론, 통역, 프로그래밍 등 전공 선호  - '\n",
      " '영어, 스페인어, 프랑스어, 포르투갈어 중 2개 언어 이상 구사자 GGGI (파라과이)  - 추후 조율  - 환경 관련 전공자 또는 유관 '\n",
      " '업무 경력 보유자  - 영어 및 스페인어 구사자 SEGIB (스페인)  - 대외관계국  - 인턴십 신청 시점 대학 또는 대학원 '\n",
      " '재학생(석사학위 소지자 우대)  - 국제관계, 법, 경제 전공자  - 고급 영어 및 스페인어 구사자    (언어 및 작문 능력 우수자, '\n",
      " '포르투갈어 가능자 가산점 부여)  - 이베로아메리카 정치·사회 분야 관련 지식 보유  - 국제기구, 협력기구 및 이베로아메리카 싱크탱크 '\n",
      " '관련 지식 보유 CAF (콜롬비아)  - 프로젝트 개발 및 관련 문서 작성 지원  - 행사 개최 지원  - 개발금융 관련 업무 지원  - '\n",
      " '전공 분야 무관 ACTO (브라질)  - 번역, 운영지원, 프로젝트 관리   - 영어, 스페인어, 포르투갈어 능통자 선호  - '\n",
      " '데이터과학, 통합물관리, 서버관리 등 이공계 전공 선호 OAS (미국(워싱턴))  - 추후 조율 예정  - 3학년 이상 재학생, 졸업생  '\n",
      " '- 영어, 스페인어, 프랑스어, 포르투갈어 중 2개 언어 이상 능통자  - GPA 3.0/4.0 이상 ACS (트리니다드토바고)  - '\n",
      " '추후 조율 예정  - 학사 또는 석사 학위 보유자  - 국제관계학, 정치외교학, 커뮤니케이션 및 의전 관련 전공 등   참고2     '\n",
      " '필기시험 평가항목 및 배점  서술형 (100점) 영어(60점) 스페인어(40점) 한국어→영어 번역 (30점) 영어→한국어 번역 (30점) '\n",
      " '한국어→스페인어 번역 (20점) 스페인어→한국어 번역 (20점)  ※ 포르투갈어 사용자 또한 영어 및 스페인어 시험에 응시하여야 하며, '\n",
      " '포어 사용 기구(ACTO, OPANAL 등) 후보자 선발에 한해 어학성적증명서 제출로 스페인어 시험을 갈음(CELPE-Bras 중상급 '\n",
      " '이상 혹은 CAPLE 중급 B2 이상) ')\n"
     ]
    }
   ],
   "source": [
    "from pprint import pprint\n",
    "pprint(documents[0].page_content)"
   ]
  },
  {
   "cell_type": "code",
   "execution_count": 4,
   "metadata": {},
   "outputs": [
    {
     "name": "stdout",
     "output_type": "stream",
     "text": [
      "(',(학력),※ 위 학력사항은 기본 요건이며, 기구별 상세요건 확인 요망,※ 기구별 학력요건은 본 공고 4페이지 “참고1” '\n",
      " '참조,,(어학),※ 어학능력 증빙 자료(어학성적, 자격증 등) 제출 요망 ,※ 증빙자료가 없을 시 언어 능력 뒷받침할 수 있는 내용을 '\n",
      " '신청서에 기재,※ 기구별 어학요건은 본 공고 4페이지 “참고1” 참조,,(기타 고려사항),※ 대한민국 정부가 지원하는 유사 인턴 프로그램 '\n",
      " '기참가자는 지원 불가,※ 비수도권대학 학생의 지원 장려(총 인원의 30%이상 비수도권대학에서 선발할 계획. 다만, 비수도권대학 학생 '\n",
      " '지원율 저조 등 사유가 있는 경우 동 목표 비율은 탄력적으로 조정될 예정),   *비수도권대학 판단 기준은 '\n",
      " '국가법령정보센터(www.law.go.kr)에 게시된 ‘균형인사지침’ 참고,※ 백신 접종 완료 여부 확인을 위한 백신접종완료증명서 사본 '\n",
      " '제출,')\n"
     ]
    }
   ],
   "source": [
    "pprint(documents[1].page_content)"
   ]
  },
  {
   "cell_type": "markdown",
   "metadata": {},
   "source": [
    "## Simple RAG\n",
    "### Indexing"
   ]
  },
  {
   "cell_type": "code",
   "execution_count": 5,
   "metadata": {},
   "outputs": [],
   "source": [
    "from langchain_community.vectorstores import Chroma\n",
    "from langchain_core.output_parsers import StrOutputParser\n",
    "from langchain_core.runnables import RunnablePassthrough\n",
    "from langchain_text_splitters import RecursiveCharacterTextSplitter\n",
    "from langchain_community.chat_models import ChatOllama\n",
    "from langchain.prompts import ChatPromptTemplate"
   ]
  },
  {
   "cell_type": "code",
   "execution_count": 6,
   "metadata": {},
   "outputs": [
    {
     "name": "stderr",
     "output_type": "stream",
     "text": [
      "/home/samuel/Dev/langchain-kr/venv/lib/python3.11/site-packages/langchain_core/_api/deprecation.py:139: LangChainDeprecationWarning: The class `HuggingFaceEmbeddings` was deprecated in LangChain 0.2.2 and will be removed in 0.3.0. An updated version of the class exists in the langchain-huggingface package and should be used instead. To use it run `pip install -U langchain-huggingface` and import as `from langchain_huggingface import HuggingFaceEmbeddings`.\n",
      "  warn_deprecated(\n",
      "No sentence-transformers model found with name BM-K/KoSimCSE-roberta-multitask. Creating a new one with mean pooling.\n"
     ]
    }
   ],
   "source": [
    "# HugoingFace Embeddings를 다운로드\n",
    "from langchain.embeddings import HuggingFaceEmbeddings\n",
    "\n",
    "embedding_model_name = \"BM-K/KoSimCSE-roberta-multitask\"\n",
    "\n",
    "embeddings_model = HuggingFaceEmbeddings(\n",
    "    model_name=embedding_model_name,  \n",
    ")\n",
    "\n",
    "# HugoingFace Embedding 모델의 Tokenizer를 사용하여 토큰화\n",
    "from transformers import AutoTokenizer\n",
    "tokenizer = AutoTokenizer.from_pretrained(embedding_model_name)"
   ]
  },
  {
   "cell_type": "code",
   "execution_count": 7,
   "metadata": {},
   "outputs": [
    {
     "data": {
      "text/plain": [
       "HuggingFaceEmbeddings(client=SentenceTransformer(\n",
       "  (0): Transformer({'max_seq_length': 512, 'do_lower_case': False}) with Transformer model: RobertaModel \n",
       "  (1): Pooling({'word_embedding_dimension': 768, 'pooling_mode_cls_token': False, 'pooling_mode_mean_tokens': True, 'pooling_mode_max_tokens': False, 'pooling_mode_mean_sqrt_len_tokens': False, 'pooling_mode_weightedmean_tokens': False, 'pooling_mode_lasttoken': False, 'include_prompt': True})\n",
       "), model_name='BM-K/KoSimCSE-roberta-multitask', cache_folder=None, model_kwargs={}, encode_kwargs={}, multi_process=False, show_progress=False)"
      ]
     },
     "execution_count": 7,
     "metadata": {},
     "output_type": "execute_result"
    }
   ],
   "source": [
    "\n",
    "embeddings_model"
   ]
  },
  {
   "cell_type": "code",
   "execution_count": 8,
   "metadata": {},
   "outputs": [
    {
     "name": "stdout",
     "output_type": "stream",
     "text": [
      "27\n",
      "page_content='2024년도 하반기 중남미 지역기구 파견 인턴 선발 공고   1. 선발 개요     가. 공통 자격요건     ㅇ 대한민국 국적자로, 국내외 대학생(3-4학년) 또는 대학원생    ㅇ 영어 또는 스페인어로 업무처리가 가능한 자      (학력) ※ 위 학력사항은 기본 요건이며, 기구별 상세요건 확인 요망 ※ 기구별 학력요건은 본 공고 4페이지 “참고1” 참조  (어학) ※ 어학능력 증빙 자료(어학성적, 자격증 등) 제출 요망  ※ 증빙자료가 없을 시 언어 능력 뒷받침할 수 있는 내용을 신청서에 기재 ※ 기구별 어학요건은 본 공고' metadata={'source': './data/2024년도 하반기 중남미 지역기구 파견인턴 선발 공고.hwp', 'page_type': 'text'}\n"
     ]
    }
   ],
   "source": [
    "# Token 수를 기준으ㄹ 문서를 청크 단위로 분할\n",
    "text_splitter = RecursiveCharacterTextSplitter.from_huggingface_tokenizer(\n",
    "    tokenizer = tokenizer,\n",
    "    chunk_size = 500,\n",
    "    chunk_overlap  = 50,\n",
    ")\n",
    "\n",
    "split_docs = text_splitter.split_documents(documents)\n",
    "print(len(split_docs))\n",
    "print(split_docs[0])"
   ]
  },
  {
   "cell_type": "code",
   "execution_count": 9,
   "metadata": {},
   "outputs": [],
   "source": [
    "vectorstore = Chroma.from_documents(documents=split_docs, \n",
    "                                    embedding=embeddings_model)"
   ]
  },
  {
   "cell_type": "markdown",
   "metadata": {},
   "source": [
    "### Retreival"
   ]
  },
  {
   "cell_type": "code",
   "execution_count": 10,
   "metadata": {},
   "outputs": [
    {
     "name": "stdout",
     "output_type": "stream",
     "text": [
      "파견 기간은 원칙적으로 4~6개월이나, 기구 사정에 따라 변동 가능합니다.\n"
     ]
    }
   ],
   "source": [
    "# VectorStore를 사용하여 검색기 생성\n",
    "retriever = vectorstore.as_retriever(search_kwargs={'k': 2})\n",
    "\n",
    "# Prompt\n",
    "template = \"\"\"Answer the question based only on the following context:\n",
    "{context}\n",
    "\n",
    "Question: {question}\n",
    "\"\"\"\n",
    "\n",
    "prompt = ChatPromptTemplate.from_template(template)\n",
    "\n",
    "# Chat Model\n",
    "llm = ChatOllama(model=\"gemma:7b\")\n",
    "\n",
    "\n",
    "def format_docs(docs):\n",
    "    # 중복을 제거\n",
    "    unique_contents = set(doc.page_content for doc in docs)\n",
    "    \n",
    "    # \\n\\n으로 연결하여 문자열로 반환\n",
    "    return \"\\n\\n\".join(unique_contents)\n",
    "\n",
    "\n",
    "# RAG Chain\n",
    "rag_chain = (\n",
    "    {\"context\": retriever | format_docs, \"question\": RunnablePassthrough()}\n",
    "    | prompt\n",
    "    | llm\n",
    "    | StrOutputParser()\n",
    ")\n",
    "\n",
    "# Chain 실행\n",
    "response = rag_chain.invoke(\"파견 기간은 얼마인가요?\")\n",
    "print(response)"
   ]
  },
  {
   "cell_type": "code",
   "execution_count": 11,
   "metadata": {},
   "outputs": [
    {
     "name": "stderr",
     "output_type": "stream",
     "text": [
      "/home/samuel/Dev/langchain-kr/venv/lib/python3.11/site-packages/langchain_core/_api/deprecation.py:139: LangChainDeprecationWarning: The method `BaseRetriever.get_relevant_documents` was deprecated in langchain-core 0.1.46 and will be removed in 0.3.0. Use invoke instead.\n",
      "  warn_deprecated(\n"
     ]
    },
    {
     "data": {
      "text/plain": [
       "[Document(metadata={'page_type': 'text', 'source': './data/2024년도 하반기 중남미 지역기구 파견인턴 선발 공고.hwp'}, page_content='나. 기구별 선발 기간 및 인원     ㅇ 파견기간은 원칙적으로 4~6개월이나, 기구 사정에 따라 변동 가능        - OAS(미주기구)의 경우 선발 후 25년 상반기 파견    ㅇ 기구별 선호 상세 지원자격은 본 공고 4페이지 “참고1” 참조  기구명 파견지 파견 기간 인원 PARLATINO(라틴아메리카의회) 파나마 6개월 1 IOM(국제이주기구) 페루 6개월 1 OPANAL(중남미핵무기금지기구) 멕시코 2024.7월 ~ 11월 1 GGGI(글로벌녹색성장연구소) 파라과이 추후 조율 1 SEGIB(이베로아메리카사무국) 스페인 2024.9월 ~ 2025.2월 1 CAF(중남미개발은행) 콜롬비아 2024.9월'),\n",
       " Document(metadata={'page_type': 'table', 'source': './data/2024년도 하반기 중남미 지역기구 파견인턴 선발 공고.hwp'}, page_content='기구명,파견지,파견 기간,인원,PARLATINO(라틴아메리카의회),파나마,6개월,1,IOM(국제이주기구),페루,6개월,1,OPANAL(중남미핵무기금지기구),멕시코,2024.7월 ~ 11월,1,GGGI(글로벌녹색성장연구소),파라과이,추후 조율,1,SEGIB(이베로아메리카사무국),스페인,2024.9월 ~ 2025.2월,1,CAF(중남미개발은행),콜롬비아,2024.9월 ~ 2025.3월,1,ACTO(아마존협력조약기구),브라질,6개월,1,OAS(미주기구),미국(워싱턴),2025.1월 ~ 2025.7월,1,ACS(카리브국가연합),트리니다드토바고,6개월,1')]"
      ]
     },
     "execution_count": 11,
     "metadata": {},
     "output_type": "execute_result"
    }
   ],
   "source": [
    "retriever.get_relevant_documents(\"파견 기간은 얼마인가요?\")"
   ]
  },
  {
   "cell_type": "code",
   "execution_count": 12,
   "metadata": {},
   "outputs": [
    {
     "name": "stdout",
     "output_type": "stream",
     "text": [
      "필기시험의 날짜는 2024년 6월 4일(화)입니다.\n"
     ]
    }
   ],
   "source": [
    "response = rag_chain.invoke(\"필기시험이 있는 날짜는 언제인가요?\")\n",
    "print(response)"
   ]
  },
  {
   "cell_type": "code",
   "execution_count": 13,
   "metadata": {},
   "outputs": [
    {
     "data": {
      "text/plain": [
       "[Document(metadata={'page_type': 'text', 'source': './data/2024년도 하반기 중남미 지역기구 파견인턴 선발 공고.hwp'}, page_content='참고   다. 지원 내역 : 왕복 항공료(정액), 현지 정착비 및 월 체재비      ※ 다만, 지원금으로 충당할 수 없는 파견 기구 및 파견국의 물가 등에 따라 발생하는 기타 비용은 지원자 부담 필요   2. 선발 일정     ㅇ 2024.5.30.(목) 18:00서류접수 마감(이메일 접수)     ㅇ 2024.5.31.(금)  서류전형 합격자 발표(개별 통보)    ㅇ 2024.6.4.(화)       필기시험 및 면접시험(상세내용 추후 공지)    ㅇ 2024.6.10.(월) 외교부 추천 후보자 발표(개별 통보)'),\n",
       " Document(metadata={'page_type': 'table', 'source': './data/2024년도 하반기 중남미 지역기구 파견인턴 선발 공고.hwp'}, page_content='참고2  ,, 필기시험 평가항목 및 배점')]"
      ]
     },
     "execution_count": 13,
     "metadata": {},
     "output_type": "execute_result"
    }
   ],
   "source": [
    "retriever.get_relevant_documents(\"필기시험이 있는 날짜는 언제인가요?\")"
   ]
  },
  {
   "cell_type": "code",
   "execution_count": 14,
   "metadata": {},
   "outputs": [
    {
     "name": "stdout",
     "output_type": "stream",
     "text": [
      "국제이주기구 파견은 6개월 동안입니다.\n"
     ]
    }
   ],
   "source": [
    "response = rag_chain.invoke(\"국제이주기구 파견은 언제 하나요?\")\n",
    "print(response)"
   ]
  },
  {
   "cell_type": "code",
   "execution_count": 15,
   "metadata": {},
   "outputs": [
    {
     "data": {
      "text/plain": [
       "[Document(metadata={'page_type': 'text', 'source': './data/2024년도 하반기 중남미 지역기구 파견인턴 선발 공고.hwp'}, page_content='나. 기구별 선발 기간 및 인원     ㅇ 파견기간은 원칙적으로 4~6개월이나, 기구 사정에 따라 변동 가능        - OAS(미주기구)의 경우 선발 후 25년 상반기 파견    ㅇ 기구별 선호 상세 지원자격은 본 공고 4페이지 “참고1” 참조  기구명 파견지 파견 기간 인원 PARLATINO(라틴아메리카의회) 파나마 6개월 1 IOM(국제이주기구) 페루 6개월 1 OPANAL(중남미핵무기금지기구) 멕시코 2024.7월 ~ 11월 1 GGGI(글로벌녹색성장연구소) 파라과이 추후 조율 1 SEGIB(이베로아메리카사무국) 스페인 2024.9월 ~ 2025.2월 1 CAF(중남미개발은행) 콜롬비아 2024.9월'),\n",
       " Document(metadata={'page_type': 'table', 'source': './data/2024년도 하반기 중남미 지역기구 파견인턴 선발 공고.hwp'}, page_content='기구명,파견지,파견 기간,인원,PARLATINO(라틴아메리카의회),파나마,6개월,1,IOM(국제이주기구),페루,6개월,1,OPANAL(중남미핵무기금지기구),멕시코,2024.7월 ~ 11월,1,GGGI(글로벌녹색성장연구소),파라과이,추후 조율,1,SEGIB(이베로아메리카사무국),스페인,2024.9월 ~ 2025.2월,1,CAF(중남미개발은행),콜롬비아,2024.9월 ~ 2025.3월,1,ACTO(아마존협력조약기구),브라질,6개월,1,OAS(미주기구),미국(워싱턴),2025.1월 ~ 2025.7월,1,ACS(카리브국가연합),트리니다드토바고,6개월,1')]"
      ]
     },
     "execution_count": 15,
     "metadata": {},
     "output_type": "execute_result"
    }
   ],
   "source": [
    "retriever.get_relevant_documents(\"국제이주기구 파견은 언제 하나요?\")\n"
   ]
  },
  {
   "cell_type": "code",
   "execution_count": 16,
   "metadata": {},
   "outputs": [
    {
     "data": {
      "text/plain": [
       "[Document(metadata={'page_type': 'text', 'source': './data/2024년도 하반기 중남미 지역기구 파견인턴 선발 공고.hwp'}, page_content='나. 기구별 선발 기간 및 인원     ㅇ 파견기간은 원칙적으로 4~6개월이나, 기구 사정에 따라 변동 가능        - OAS(미주기구)의 경우 선발 후 25년 상반기 파견    ㅇ 기구별 선호 상세 지원자격은 본 공고 4페이지 “참고1” 참조  기구명 파견지 파견 기간 인원 PARLATINO(라틴아메리카의회) 파나마 6개월 1 IOM(국제이주기구) 페루 6개월 1 OPANAL(중남미핵무기금지기구) 멕시코 2024.7월 ~ 11월 1 GGGI(글로벌녹색성장연구소) 파라과이 추후 조율 1 SEGIB(이베로아메리카사무국) 스페인 2024.9월 ~ 2025.2월 1 CAF(중남미개발은행) 콜롬비아 2024.9월'),\n",
       " Document(metadata={'page_type': 'table', 'source': './data/2024년도 하반기 중남미 지역기구 파견인턴 선발 공고.hwp'}, page_content='기구명,파견지,파견 기간,인원,PARLATINO(라틴아메리카의회),파나마,6개월,1,IOM(국제이주기구),페루,6개월,1,OPANAL(중남미핵무기금지기구),멕시코,2024.7월 ~ 11월,1,GGGI(글로벌녹색성장연구소),파라과이,추후 조율,1,SEGIB(이베로아메리카사무국),스페인,2024.9월 ~ 2025.2월,1,CAF(중남미개발은행),콜롬비아,2024.9월 ~ 2025.3월,1,ACTO(아마존협력조약기구),브라질,6개월,1,OAS(미주기구),미국(워싱턴),2025.1월 ~ 2025.7월,1,ACS(카리브국가연합),트리니다드토바고,6개월,1')]"
      ]
     },
     "execution_count": 16,
     "metadata": {},
     "output_type": "execute_result"
    }
   ],
   "source": [
    "retriever.get_relevant_documents(\"IOM\")"
   ]
  },
  {
   "cell_type": "markdown",
   "metadata": {},
   "source": [
    "### Table Data"
   ]
  },
  {
   "cell_type": "code",
   "execution_count": 17,
   "metadata": {},
   "outputs": [
    {
     "name": "stdout",
     "output_type": "stream",
     "text": [
      "나. 기구별 선발 기간 및 인원     ㅇ 파견기간은 원칙적으로 4~6개월이나, 기구 사정에 따라 변동 가능        - OAS(미주기구)의 경우 선발 후 25년 상반기 파견    ㅇ 기구별 선호 상세 지원자격은 본 공고 4페이지 “참고1” 참조  기구명 파견지 파견 기간 인원 PARLATINO(라틴아메리카의회) 파나마 6개월 1 IOM(국제이주기구) 페루 6개월 1 OPANAL(중남미핵무기금지기구) 멕시코 2024.7월 ~ 11월 1 GGGI(글로벌녹색성장연구소) 파라과이 추후 조율 1 SEGIB(이베로아메리카사무국) 스페인 2024.9월 ~ 2025.2월 1 CAF(중남미개발은행) 콜롬비아 2024.9월\n"
     ]
    }
   ],
   "source": [
    "for d in split_docs:\n",
    "    if \"IOM\" in d.page_content:\n",
    "        print(d.page_content)\n",
    "        sample_text = d.page_content\n",
    "        break"
   ]
  },
  {
   "cell_type": "markdown",
   "metadata": {},
   "source": [
    "#### HTML 테이블 구조를 컨텍스트로 전달"
   ]
  },
  {
   "cell_type": "code",
   "execution_count": 18,
   "metadata": {},
   "outputs": [
    {
     "data": {
      "text/plain": [
       "'나. 기구별 선발 기간 및 인원     ㅇ 파견기간은 원칙적으로 4~6개월이나, 기구 사정에 따라 변동 가능        - OAS(미주기구)의 경우 선발 후 25년 상반기 파견    ㅇ 기구별 선호 상세 지원자격은 본 공고 4페이지 “참고1” 참조  기구명 파견지 파견 기간 인원 PARLATINO(라틴아메리카의회) 파나마 6개월 1 IOM(국제이주기구) 페루 6개월 1 OPANAL(중남미핵무기금지기구) 멕시코 2024.7월 ~ 11월 1 GGGI(글로벌녹색성장연구소) 파라과이 추후 조율 1 SEGIB(이베로아메리카사무국) 스페인 2024.9월 ~ 2025.2월 1 CAF(중남미개발은행) 콜롬비아 2024.9월'"
      ]
     },
     "execution_count": 18,
     "metadata": {},
     "output_type": "execute_result"
    }
   ],
   "source": [
    "sample_text"
   ]
  },
  {
   "cell_type": "code",
   "execution_count": 19,
   "metadata": {},
   "outputs": [
    {
     "data": {
      "text/plain": [
       "175"
      ]
     },
     "execution_count": 19,
     "metadata": {},
     "output_type": "execute_result"
    }
   ],
   "source": [
    "len(tokenizer.encode(sample_text))"
   ]
  },
  {
   "cell_type": "code",
   "execution_count": 20,
   "metadata": {},
   "outputs": [
    {
     "data": {
      "text/plain": [
       "AIMessage(content='국제이주기구 파견은 2024년 7월부터 2024년 11월까지입니다.', response_metadata={'model': 'gemma:7b', 'created_at': '2024-07-10T00:52:14.331880088Z', 'message': {'role': 'assistant', 'content': ''}, 'done_reason': 'stop', 'done': True, 'total_duration': 7696163865, 'load_duration': 1133629, 'prompt_eval_count': 289, 'prompt_eval_duration': 1371645000, 'eval_count': 33, 'eval_duration': 6153516000}, id='run-84d9877a-1510-4ff9-aa7a-c85c6b689f36-0')"
      ]
     },
     "execution_count": 20,
     "metadata": {},
     "output_type": "execute_result"
    }
   ],
   "source": [
    "llm.invoke(f\"\"\"Answer the question based only on the following context:\n",
    "{sample_text}\n",
    "\n",
    "Question: 국제이주기구 파견은 언제 하나요?\n",
    "\"\"\")"
   ]
  },
  {
   "cell_type": "markdown",
   "metadata": {},
   "source": [
    "#### Markdown 형식으로 테이블 데이터를 변환하여 컨텍스트로 전달"
   ]
  },
  {
   "cell_type": "code",
   "execution_count": 21,
   "metadata": {},
   "outputs": [
    {
     "name": "stderr",
     "output_type": "stream",
     "text": [
      "/tmp/ipykernel_19990/272752229.py:11: FutureWarning: Passing literal html to 'read_html' is deprecated and will be removed in a future version. To read from a literal string, wrap it in a 'StringIO' object.\n",
      "  df = pd.read_html(str(table))[0]\n"
     ]
    },
    {
     "ename": "ValueError",
     "evalue": "No tables found",
     "output_type": "error",
     "traceback": [
      "\u001b[0;31m---------------------------------------------------------------------------\u001b[0m",
      "\u001b[0;31mValueError\u001b[0m                                Traceback (most recent call last)",
      "Cell \u001b[0;32mIn[21], line 11\u001b[0m\n\u001b[1;32m      8\u001b[0m table \u001b[38;5;241m=\u001b[39m soup\u001b[38;5;241m.\u001b[39mfind(\u001b[38;5;124m'\u001b[39m\u001b[38;5;124mtable\u001b[39m\u001b[38;5;124m'\u001b[39m)\n\u001b[1;32m     10\u001b[0m \u001b[38;5;66;03m# Pandas DataFrame으로 변환\u001b[39;00m\n\u001b[0;32m---> 11\u001b[0m df \u001b[38;5;241m=\u001b[39m \u001b[43mpd\u001b[49m\u001b[38;5;241;43m.\u001b[39;49m\u001b[43mread_html\u001b[49m\u001b[43m(\u001b[49m\u001b[38;5;28;43mstr\u001b[39;49m\u001b[43m(\u001b[49m\u001b[43mtable\u001b[49m\u001b[43m)\u001b[49m\u001b[43m)\u001b[49m[\u001b[38;5;241m0\u001b[39m]\n\u001b[1;32m     13\u001b[0m \u001b[38;5;66;03m# DataFrame을 Markdown으로 변환\u001b[39;00m\n\u001b[1;32m     14\u001b[0m markdown_table \u001b[38;5;241m=\u001b[39m df\u001b[38;5;241m.\u001b[39mto_markdown(index\u001b[38;5;241m=\u001b[39m\u001b[38;5;28;01mFalse\u001b[39;00m)\n",
      "File \u001b[0;32m~/Dev/langchain-kr/venv/lib/python3.11/site-packages/pandas/io/html.py:1240\u001b[0m, in \u001b[0;36mread_html\u001b[0;34m(io, match, flavor, header, index_col, skiprows, attrs, parse_dates, thousands, encoding, decimal, converters, na_values, keep_default_na, displayed_only, extract_links, dtype_backend, storage_options)\u001b[0m\n\u001b[1;32m   1224\u001b[0m \u001b[38;5;28;01mif\u001b[39;00m \u001b[38;5;28misinstance\u001b[39m(io, \u001b[38;5;28mstr\u001b[39m) \u001b[38;5;129;01mand\u001b[39;00m \u001b[38;5;129;01mnot\u001b[39;00m \u001b[38;5;28many\u001b[39m(\n\u001b[1;32m   1225\u001b[0m     [\n\u001b[1;32m   1226\u001b[0m         is_file_like(io),\n\u001b[0;32m   (...)\u001b[0m\n\u001b[1;32m   1230\u001b[0m     ]\n\u001b[1;32m   1231\u001b[0m ):\n\u001b[1;32m   1232\u001b[0m     warnings\u001b[38;5;241m.\u001b[39mwarn(\n\u001b[1;32m   1233\u001b[0m         \u001b[38;5;124m\"\u001b[39m\u001b[38;5;124mPassing literal html to \u001b[39m\u001b[38;5;124m'\u001b[39m\u001b[38;5;124mread_html\u001b[39m\u001b[38;5;124m'\u001b[39m\u001b[38;5;124m is deprecated and \u001b[39m\u001b[38;5;124m\"\u001b[39m\n\u001b[1;32m   1234\u001b[0m         \u001b[38;5;124m\"\u001b[39m\u001b[38;5;124mwill be removed in a future version. To read from a \u001b[39m\u001b[38;5;124m\"\u001b[39m\n\u001b[0;32m   (...)\u001b[0m\n\u001b[1;32m   1237\u001b[0m         stacklevel\u001b[38;5;241m=\u001b[39mfind_stack_level(),\n\u001b[1;32m   1238\u001b[0m     )\n\u001b[0;32m-> 1240\u001b[0m \u001b[38;5;28;01mreturn\u001b[39;00m \u001b[43m_parse\u001b[49m\u001b[43m(\u001b[49m\n\u001b[1;32m   1241\u001b[0m \u001b[43m    \u001b[49m\u001b[43mflavor\u001b[49m\u001b[38;5;241;43m=\u001b[39;49m\u001b[43mflavor\u001b[49m\u001b[43m,\u001b[49m\n\u001b[1;32m   1242\u001b[0m \u001b[43m    \u001b[49m\u001b[43mio\u001b[49m\u001b[38;5;241;43m=\u001b[39;49m\u001b[43mio\u001b[49m\u001b[43m,\u001b[49m\n\u001b[1;32m   1243\u001b[0m \u001b[43m    \u001b[49m\u001b[43mmatch\u001b[49m\u001b[38;5;241;43m=\u001b[39;49m\u001b[43mmatch\u001b[49m\u001b[43m,\u001b[49m\n\u001b[1;32m   1244\u001b[0m \u001b[43m    \u001b[49m\u001b[43mheader\u001b[49m\u001b[38;5;241;43m=\u001b[39;49m\u001b[43mheader\u001b[49m\u001b[43m,\u001b[49m\n\u001b[1;32m   1245\u001b[0m \u001b[43m    \u001b[49m\u001b[43mindex_col\u001b[49m\u001b[38;5;241;43m=\u001b[39;49m\u001b[43mindex_col\u001b[49m\u001b[43m,\u001b[49m\n\u001b[1;32m   1246\u001b[0m \u001b[43m    \u001b[49m\u001b[43mskiprows\u001b[49m\u001b[38;5;241;43m=\u001b[39;49m\u001b[43mskiprows\u001b[49m\u001b[43m,\u001b[49m\n\u001b[1;32m   1247\u001b[0m \u001b[43m    \u001b[49m\u001b[43mparse_dates\u001b[49m\u001b[38;5;241;43m=\u001b[39;49m\u001b[43mparse_dates\u001b[49m\u001b[43m,\u001b[49m\n\u001b[1;32m   1248\u001b[0m \u001b[43m    \u001b[49m\u001b[43mthousands\u001b[49m\u001b[38;5;241;43m=\u001b[39;49m\u001b[43mthousands\u001b[49m\u001b[43m,\u001b[49m\n\u001b[1;32m   1249\u001b[0m \u001b[43m    \u001b[49m\u001b[43mattrs\u001b[49m\u001b[38;5;241;43m=\u001b[39;49m\u001b[43mattrs\u001b[49m\u001b[43m,\u001b[49m\n\u001b[1;32m   1250\u001b[0m \u001b[43m    \u001b[49m\u001b[43mencoding\u001b[49m\u001b[38;5;241;43m=\u001b[39;49m\u001b[43mencoding\u001b[49m\u001b[43m,\u001b[49m\n\u001b[1;32m   1251\u001b[0m \u001b[43m    \u001b[49m\u001b[43mdecimal\u001b[49m\u001b[38;5;241;43m=\u001b[39;49m\u001b[43mdecimal\u001b[49m\u001b[43m,\u001b[49m\n\u001b[1;32m   1252\u001b[0m \u001b[43m    \u001b[49m\u001b[43mconverters\u001b[49m\u001b[38;5;241;43m=\u001b[39;49m\u001b[43mconverters\u001b[49m\u001b[43m,\u001b[49m\n\u001b[1;32m   1253\u001b[0m \u001b[43m    \u001b[49m\u001b[43mna_values\u001b[49m\u001b[38;5;241;43m=\u001b[39;49m\u001b[43mna_values\u001b[49m\u001b[43m,\u001b[49m\n\u001b[1;32m   1254\u001b[0m \u001b[43m    \u001b[49m\u001b[43mkeep_default_na\u001b[49m\u001b[38;5;241;43m=\u001b[39;49m\u001b[43mkeep_default_na\u001b[49m\u001b[43m,\u001b[49m\n\u001b[1;32m   1255\u001b[0m \u001b[43m    \u001b[49m\u001b[43mdisplayed_only\u001b[49m\u001b[38;5;241;43m=\u001b[39;49m\u001b[43mdisplayed_only\u001b[49m\u001b[43m,\u001b[49m\n\u001b[1;32m   1256\u001b[0m \u001b[43m    \u001b[49m\u001b[43mextract_links\u001b[49m\u001b[38;5;241;43m=\u001b[39;49m\u001b[43mextract_links\u001b[49m\u001b[43m,\u001b[49m\n\u001b[1;32m   1257\u001b[0m \u001b[43m    \u001b[49m\u001b[43mdtype_backend\u001b[49m\u001b[38;5;241;43m=\u001b[39;49m\u001b[43mdtype_backend\u001b[49m\u001b[43m,\u001b[49m\n\u001b[1;32m   1258\u001b[0m \u001b[43m    \u001b[49m\u001b[43mstorage_options\u001b[49m\u001b[38;5;241;43m=\u001b[39;49m\u001b[43mstorage_options\u001b[49m\u001b[43m,\u001b[49m\n\u001b[1;32m   1259\u001b[0m \u001b[43m\u001b[49m\u001b[43m)\u001b[49m\n",
      "File \u001b[0;32m~/Dev/langchain-kr/venv/lib/python3.11/site-packages/pandas/io/html.py:1003\u001b[0m, in \u001b[0;36m_parse\u001b[0;34m(flavor, io, match, attrs, encoding, displayed_only, extract_links, storage_options, **kwargs)\u001b[0m\n\u001b[1;32m   1001\u001b[0m \u001b[38;5;28;01melse\u001b[39;00m:\n\u001b[1;32m   1002\u001b[0m     \u001b[38;5;28;01massert\u001b[39;00m retained \u001b[38;5;129;01mis\u001b[39;00m \u001b[38;5;129;01mnot\u001b[39;00m \u001b[38;5;28;01mNone\u001b[39;00m  \u001b[38;5;66;03m# for mypy\u001b[39;00m\n\u001b[0;32m-> 1003\u001b[0m     \u001b[38;5;28;01mraise\u001b[39;00m retained\n\u001b[1;32m   1005\u001b[0m ret \u001b[38;5;241m=\u001b[39m []\n\u001b[1;32m   1006\u001b[0m \u001b[38;5;28;01mfor\u001b[39;00m table \u001b[38;5;129;01min\u001b[39;00m tables:\n",
      "File \u001b[0;32m~/Dev/langchain-kr/venv/lib/python3.11/site-packages/pandas/io/html.py:983\u001b[0m, in \u001b[0;36m_parse\u001b[0;34m(flavor, io, match, attrs, encoding, displayed_only, extract_links, storage_options, **kwargs)\u001b[0m\n\u001b[1;32m    972\u001b[0m p \u001b[38;5;241m=\u001b[39m parser(\n\u001b[1;32m    973\u001b[0m     io,\n\u001b[1;32m    974\u001b[0m     compiled_match,\n\u001b[0;32m   (...)\u001b[0m\n\u001b[1;32m    979\u001b[0m     storage_options,\n\u001b[1;32m    980\u001b[0m )\n\u001b[1;32m    982\u001b[0m \u001b[38;5;28;01mtry\u001b[39;00m:\n\u001b[0;32m--> 983\u001b[0m     tables \u001b[38;5;241m=\u001b[39m \u001b[43mp\u001b[49m\u001b[38;5;241;43m.\u001b[39;49m\u001b[43mparse_tables\u001b[49m\u001b[43m(\u001b[49m\u001b[43m)\u001b[49m\n\u001b[1;32m    984\u001b[0m \u001b[38;5;28;01mexcept\u001b[39;00m \u001b[38;5;167;01mValueError\u001b[39;00m \u001b[38;5;28;01mas\u001b[39;00m caught:\n\u001b[1;32m    985\u001b[0m     \u001b[38;5;66;03m# if `io` is an io-like object, check if it's seekable\u001b[39;00m\n\u001b[1;32m    986\u001b[0m     \u001b[38;5;66;03m# and try to rewind it before trying the next parser\u001b[39;00m\n\u001b[1;32m    987\u001b[0m     \u001b[38;5;28;01mif\u001b[39;00m \u001b[38;5;28mhasattr\u001b[39m(io, \u001b[38;5;124m\"\u001b[39m\u001b[38;5;124mseekable\u001b[39m\u001b[38;5;124m\"\u001b[39m) \u001b[38;5;129;01mand\u001b[39;00m io\u001b[38;5;241m.\u001b[39mseekable():\n",
      "File \u001b[0;32m~/Dev/langchain-kr/venv/lib/python3.11/site-packages/pandas/io/html.py:249\u001b[0m, in \u001b[0;36m_HtmlFrameParser.parse_tables\u001b[0;34m(self)\u001b[0m\n\u001b[1;32m    241\u001b[0m \u001b[38;5;28;01mdef\u001b[39;00m \u001b[38;5;21mparse_tables\u001b[39m(\u001b[38;5;28mself\u001b[39m):\n\u001b[1;32m    242\u001b[0m \u001b[38;5;250m    \u001b[39m\u001b[38;5;124;03m\"\"\"\u001b[39;00m\n\u001b[1;32m    243\u001b[0m \u001b[38;5;124;03m    Parse and return all tables from the DOM.\u001b[39;00m\n\u001b[1;32m    244\u001b[0m \n\u001b[0;32m   (...)\u001b[0m\n\u001b[1;32m    247\u001b[0m \u001b[38;5;124;03m    list of parsed (header, body, footer) tuples from tables.\u001b[39;00m\n\u001b[1;32m    248\u001b[0m \u001b[38;5;124;03m    \"\"\"\u001b[39;00m\n\u001b[0;32m--> 249\u001b[0m     tables \u001b[38;5;241m=\u001b[39m \u001b[38;5;28;43mself\u001b[39;49m\u001b[38;5;241;43m.\u001b[39;49m\u001b[43m_parse_tables\u001b[49m\u001b[43m(\u001b[49m\u001b[38;5;28;43mself\u001b[39;49m\u001b[38;5;241;43m.\u001b[39;49m\u001b[43m_build_doc\u001b[49m\u001b[43m(\u001b[49m\u001b[43m)\u001b[49m\u001b[43m,\u001b[49m\u001b[43m \u001b[49m\u001b[38;5;28;43mself\u001b[39;49m\u001b[38;5;241;43m.\u001b[39;49m\u001b[43mmatch\u001b[49m\u001b[43m,\u001b[49m\u001b[43m \u001b[49m\u001b[38;5;28;43mself\u001b[39;49m\u001b[38;5;241;43m.\u001b[39;49m\u001b[43mattrs\u001b[49m\u001b[43m)\u001b[49m\n\u001b[1;32m    250\u001b[0m     \u001b[38;5;28;01mreturn\u001b[39;00m (\u001b[38;5;28mself\u001b[39m\u001b[38;5;241m.\u001b[39m_parse_thead_tbody_tfoot(table) \u001b[38;5;28;01mfor\u001b[39;00m table \u001b[38;5;129;01min\u001b[39;00m tables)\n",
      "File \u001b[0;32m~/Dev/langchain-kr/venv/lib/python3.11/site-packages/pandas/io/html.py:598\u001b[0m, in \u001b[0;36m_BeautifulSoupHtml5LibFrameParser._parse_tables\u001b[0;34m(self, document, match, attrs)\u001b[0m\n\u001b[1;32m    596\u001b[0m tables \u001b[38;5;241m=\u001b[39m document\u001b[38;5;241m.\u001b[39mfind_all(element_name, attrs\u001b[38;5;241m=\u001b[39mattrs)\n\u001b[1;32m    597\u001b[0m \u001b[38;5;28;01mif\u001b[39;00m \u001b[38;5;129;01mnot\u001b[39;00m tables:\n\u001b[0;32m--> 598\u001b[0m     \u001b[38;5;28;01mraise\u001b[39;00m \u001b[38;5;167;01mValueError\u001b[39;00m(\u001b[38;5;124m\"\u001b[39m\u001b[38;5;124mNo tables found\u001b[39m\u001b[38;5;124m\"\u001b[39m)\n\u001b[1;32m    600\u001b[0m result \u001b[38;5;241m=\u001b[39m []\n\u001b[1;32m    601\u001b[0m unique_tables \u001b[38;5;241m=\u001b[39m \u001b[38;5;28mset\u001b[39m()\n",
      "\u001b[0;31mValueError\u001b[0m: No tables found"
     ]
    }
   ],
   "source": [
    "import pandas as pd\n",
    "from bs4 import BeautifulSoup\n",
    "\n",
    "# BeautifulSoup을 사용하여 HTML 파싱\n",
    "soup = BeautifulSoup(sample_text, 'html.parser')\n",
    "\n",
    "# 테이블 찾기\n",
    "table = soup.find('table')\n",
    "\n",
    "# Pandas DataFrame으로 변환\n",
    "df = pd.read_html(str(table))[0]\n",
    "\n",
    "# DataFrame을 Markdown으로 변환\n",
    "markdown_table = df.to_markdown(index=False)\n",
    "\n",
    "print(markdown_table)"
   ]
  },
  {
   "cell_type": "code",
   "execution_count": null,
   "metadata": {},
   "outputs": [],
   "source": [
    "llm.invoke(f\"\"\"Answer the question based only on the following context:\n",
    "{markdown_table}\n",
    "\n",
    "Question: 국제이주기구 파견은 언제 하나요?\n",
    "\"\"\")"
   ]
  },
  {
   "cell_type": "code",
   "execution_count": null,
   "metadata": {},
   "outputs": [],
   "source": [
    "len(tokenizer.encode(markdown_table))"
   ]
  },
  {
   "cell_type": "markdown",
   "metadata": {},
   "source": [
    "#### Text 와 Table 구분하여 청크로 분할"
   ]
  },
  {
   "cell_type": "code",
   "execution_count": null,
   "metadata": {},
   "outputs": [],
   "source": [
    "import pandas as pd\n",
    "from bs4 import BeautifulSoup\n",
    "\n",
    "def convert_html_table_to_markdown(html_table_text: str) -> str:\n",
    "\n",
    "    # BeautifulSoup을 사용하여 HTML 파싱\n",
    "    soup = BeautifulSoup(html_table_text, 'html.parser')\n",
    "\n",
    "    # 테이블 찾기\n",
    "    table = soup.find('table')\n",
    "\n",
    "    # Pandas DataFrame으로 변환\n",
    "    df = pd.read_html(str(table))[0]\n",
    "\n",
    "    # DataFrame을 Markdown으로 변환\n",
    "    markdown_table = df.to_markdown(index=False)\n",
    "\n",
    "    return markdown_table"
   ]
  },
  {
   "cell_type": "code",
   "execution_count": null,
   "metadata": {},
   "outputs": [],
   "source": [
    "documents[0].metadata"
   ]
  },
  {
   "cell_type": "code",
   "execution_count": null,
   "metadata": {},
   "outputs": [],
   "source": [
    "markdown_documents = []\n",
    "\n",
    "for doc in documents:\n",
    "    if doc.metadata.get(\"page_type\")=='table':\n",
    "\n",
    "        try:\n",
    "            doc.page_content = convert_html_table_to_markdown(doc.page_content)\n",
    "            markdown_documents.append(doc)\n",
    "        except:\n",
    "            markdown_documents.append(doc)\n",
    "    else:\n",
    "        markdown_documents.append(doc)\n",
    "\n",
    "\n",
    "len(markdown_documents)"
   ]
  },
  {
   "cell_type": "code",
   "execution_count": null,
   "metadata": {},
   "outputs": [],
   "source": [
    "new_split_docs = text_splitter.split_documents(markdown_documents)\n",
    "print(len(new_split_docs))\n",
    "print(new_split_docs[0])"
   ]
  },
  {
   "cell_type": "code",
   "execution_count": null,
   "metadata": {},
   "outputs": [],
   "source": [
    "vectorstore2 = Chroma.from_documents(documents=new_split_docs, \n",
    "                                    embedding=embeddings_model)\n",
    "\n",
    "\n",
    "retriever2 = vectorstore2.as_retriever(search_kwargs={'k': 2})\n",
    "\n",
    "rag_chain2 = ( \n",
    "    {\"context\": retriever2 | format_docs, \"question\": RunnablePassthrough()}\n",
    "    | prompt\n",
    "    | llm\n",
    "    | StrOutputParser()\n",
    ")\n",
    "\n",
    "response = rag_chain2.invoke(\"국제이주기구 파견은 언제 하나요?\")\n",
    "response"
   ]
  },
  {
   "cell_type": "code",
   "execution_count": null,
   "metadata": {},
   "outputs": [],
   "source": [
    "retriever2.get_relevant_documents(\"국제이주기구 파견은 언제 하나요?\")"
   ]
  }
 ],
 "metadata": {
  "kernelspec": {
   "display_name": "base",
   "language": "python",
   "name": "python3"
  },
  "language_info": {
   "codemirror_mode": {
    "name": "ipython",
    "version": 3
   },
   "file_extension": ".py",
   "mimetype": "text/x-python",
   "name": "python",
   "nbconvert_exporter": "python",
   "pygments_lexer": "ipython3",
   "version": "3.11.1"
  }
 },
 "nbformat": 4,
 "nbformat_minor": 2
}
