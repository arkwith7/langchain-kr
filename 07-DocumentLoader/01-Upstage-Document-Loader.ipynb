{
 "cells": [
  {
   "cell_type": "code",
   "execution_count": 1,
   "metadata": {},
   "outputs": [
    {
     "data": {
      "text/plain": [
       "True"
      ]
     },
     "execution_count": 1,
     "metadata": {},
     "output_type": "execute_result"
    }
   ],
   "source": [
    "# API 키를 환경변수로 관리하기 위한 설정 파일\n",
    "from dotenv import load_dotenv\n",
    "\n",
    "# API 키 정보 로드\n",
    "load_dotenv()"
   ]
  },
  {
   "cell_type": "markdown",
   "metadata": {},
   "source": [
    "## 실습에 활용한 문서\n",
    "\n",
    "소프트웨어정책연구소(SPRi) - 2023년 12월호\n",
    "\n",
    "- 저자: 유재흥(AI정책연구실 책임연구원), 이지수(AI정책연구실 위촉연구원)\n",
    "- 링크: https://spri.kr/posts/view/23669\n",
    "- 파일명: `SPRI_AI_Brief_2023년12월호_F.pdf`\n",
    "\n",
    "신한라이프 사업방법서(텍스트형 PDF, 이미지형 PDF)\n",
    "\n",
    "- 파일명(텍스트형): `사업방법서_(간편)신한통합건강보장보험원(ONE)(무배당, 해약환급금 미지급형)_20240503_v0.1_P34.pdf`\n",
    "- 파일명(이미지형): `사업방법서_신한(간편가입)홈닥터의료비보장보험(무배당, 갱신형)_20240401_P14.pdf`\n"
   ]
  },
  {
   "cell_type": "markdown",
   "metadata": {},
   "source": [
    "## 통합형 Loader 인터페이스\n",
    "\n",
    "- loader 객체: 다양한 로더 도구를 활용하여 loader 객체를 생성합니다.\n",
    "- 생성된 loader 객체의 `load()` 함수는 전체 문서를 로드하여 반환합니다.\n",
    "- 생성된 loader 객체의 `load_and_split()` 함수는 문서를 split 한 결과를 반환합니다.\n",
    "- 반환된 document 구조는 `page_content` 와 `metadata` 속성값을 포함합니다. `page_content` 는 문서의 내용을, `metadata` 는 파일명, 페이지 번호, 그 밖에 유용한 메타정보를 포함합니다.\n"
   ]
  },
  {
   "cell_type": "markdown",
   "metadata": {},
   "source": [
    "## UpstageLayoutAnalysisLoader\n"
   ]
  },
  {
   "cell_type": "markdown",
   "metadata": {},
   "source": [
    "표와 그림을 포함한 모든 문서에서 문서 요소를 감지합니다.\n",
    "\n",
    "먼저, 소프트웨어정책연구소(SPRi) - 2023년 12월호 문서를 로드하고 분절하는 예제를 살펴보겠습니다.\n",
    "\n",
    "- 파일명: `SPRI_AI_Brief_2023년12월호_F.pdf`\n"
   ]
  },
  {
   "cell_type": "code",
   "execution_count": 2,
   "metadata": {},
   "outputs": [
    {
     "name": "stdout",
     "output_type": "stream",
     "text": [
      "문서의 수: 23\n"
     ]
    }
   ],
   "source": [
    "from langchain_upstage import UpstageLayoutAnalysisLoader\n",
    "\n",
    "# 대상 PDF 파일 로드. 파일의 경로와 분할 방식 입력\n",
    "loader = UpstageLayoutAnalysisLoader(\"data/SPRI_AI_Brief_2023년12월호_F.pdf\", split=\"page\")\n",
    "\n",
    "# 페이지 별 문서 로드\n",
    "split_docs = loader.load()  # or loader.lazy_load()\n",
    "\n",
    "print(f\"문서의 수: {len(split_docs)}\")"
   ]
  },
  {
   "cell_type": "code",
   "execution_count": 3,
   "metadata": {},
   "outputs": [
    {
     "name": "stdout",
     "output_type": "stream",
     "text": [
      "page_content='<p id=\\'0\\' style=\\'font-size:20px\\'>SPRi AI Brief</p> <p id=\\'1\\' style=\\'font-size:16px\\'>인공지능 산업의 최신 동향<br>2023년 12월호</p> <figure><img id=\\'2\\' alt=\"\" data-coord=\"top-left:(97,711); bottom-right:(1183,1350)\" /></figure>' metadata={'page': 1}\n",
      "page_content=\"<p id='4' style='font-size:16px'>2023년 12월호</p> <p id='5' style='font-size:22px'>CONTENTS</p> <p id='6' style='font-size:20px'>I 인공지능 산업 동향 브리프</p> <p id='7' style='font-size:16px'>1. 정책/법제</p> <p id='8' style='font-size:14px'>▷ 미국, 안전하고 신뢰할 수 있는 AI 개발과 사용에 관한 행정명령 발표 1<br>▷ G7, 히로시마 AI 프로세스를 통해 AI 기업 대상 국제 행동강령에 합의 2<br>▷ 영국 AI 안전성 정상회의에 참가한 28개국, AI 위험에 공동 대응 선언 3<br>▷ 미국 법원, 예술가들이 생성 AI 기업에 제기한 저작권 소송 기각 4<br>▷ 미국 연방거래위원회, 저작권청에 소비자 보호와 경쟁 측면의 AI 의견서 제출 5<br>▷ EU AI 법 3자 협상, 기반모델 규제 관련 견해차로 난항 6</p> <p id='9' style='font-size:16px'>2. 기업/산업</p> <br><p id='10' style='font-size:14px'>▷ 미국 프런티어 모델 포럼, 1,000만 달러 규모의 AI 안전 기금 조성 7<br>▷ 코히어, 데이터 투명성 확보를 위한 데이터 출처 탐색기 공개 8<br>▷ 알리바바 클라우드, 최신 LLM '통이치엔원 2.0' 공개 9<br>▷ 삼성전자, 자체 개발 생성 AI '삼성 가우스' 공개 10<br>▷ 구글, 앤스로픽에 20억 달러 투자로 생성 AI 협력 강화 11<br>▷ IDC, 2027년 AI 소프트웨어 매출 2,500억 달러 돌파 전망 12<br>▷ 빌 게이츠, AI 에이전트로 인한 컴퓨터 사용의 패러다임 변화 전망 13<br>▷ 유튜브, 2024년부터 AI 생성 콘텐츠 표시 의무화 14</p> <p id='11' style='font-size:18px'>3. 기술/연구</p> <br><p id='12' style='font-size:14px'>▷ 영국 과학혁신기술부, AI 안전 연구소 설립 발표 15<br>▷ 구글 딥마인드, 범용 AI 모델의 기능과 동작에 대한 분류 체계 발표 16<br>▷ 갈릴레오의 LLM 환각 지수 평가에서 GPT-4가 가장 우수 17</p> <p id='13' style='font-size:16px'>4. 인력/교육</p> <br><p id='14' style='font-size:16px'>▷ 영국 옥스퍼드 인터넷 연구소, AI 기술자의 임금이 평균 21% 높아 18</p> <p id='15' style='font-size:20px'>II. 주요 행사</p> <p id='16' style='font-size:14px'>▷ CES 2024 19<br>▷ AIMLA 2024 19<br>▷ AAAI Conference on Artificial Intelligence 19</p>\" metadata={'page': 2}\n",
      "page_content=\"<p id='17' style='font-size:14px'>I . 인공지능 산업 동향 브리프</p>\" metadata={'page': 3}\n"
     ]
    }
   ],
   "source": [
    "for doc in split_docs[:3]:\n",
    "    print(doc)"
   ]
  },
  {
   "cell_type": "code",
   "execution_count": 4,
   "metadata": {},
   "outputs": [
    {
     "name": "stdout",
     "output_type": "stream",
     "text": [
      "<p id='0' style='font-size:20px'>SPRi AI Brief</p> <p id='1' style='font-size:16px'>인공지능 산업의 최신 동향<br>2023년 12월호</p> <figure><img id='2' alt=\"\" data-coord=\"top-left:(97,711); bottom-right:(1183,1350)\" /></figure>\n",
      "{'page': 1}\n"
     ]
    }
   ],
   "source": [
    "# 첫번째 문서의 내용 출력\n",
    "print(split_docs[0].page_content)\n",
    "# 첫번째 문서의 메타데이터 출력\n",
    "print(split_docs[0].metadata)"
   ]
  },
  {
   "cell_type": "code",
   "execution_count": 5,
   "metadata": {},
   "outputs": [
    {
     "data": {
      "text/plain": [
       "Document(page_content=\"<br><p id='19' style='font-size:14px'>2. 기업/산업</p> <br><p id='20' style='font-size:14px'>3. 기술/연구</p> <br><p id='21' style='font-size:14px'>4. 인력/교육</p> <p id='22' style='font-size:22px'>미국, 안전하고 신뢰할 수 있는 AI 개발과 사용에 관한 행정명령 발표</p> <p id='23' style='font-size:16px'>KEY Contents</p> <p id='24' style='font-size:18px'>미국 바이든 대통령이 '안전하고 신뢰할 수 있는 AI 개발과 사용에 관한 행정명령'에 서명하고<br>광범위한 행정 조치를 명시<br>■ 행정명령은 △AI의 안전과 보안 기준 마련 △개인정보보호 △형평성과 시민권 향상 △소비자<br>보호 △노동자 지원 △혁신과 경쟁 촉진 △국제협력을 골자로 함</p> <p id='25' style='font-size:20px'>바이든 대통령, AI 행정명령 통해 안전하고 신뢰할 수 있는 AI 개발과 활용 추진</p> <p id='26' style='font-size:18px'>■ 미국 바이든 대통령이 2023년 10월 30일 연방정부 차원에서 안전하고 신뢰할 수 있는 AI 개발과<br>사용을 보장하기 위한 행정명령을 발표<br>· 행정명령은 △AI의 안전과 보안 기준 마련 △개인정보보호 △형평성과 시민권 향상 △소비자 보호<br>△노동자 지원 △혁신과 경쟁 촉진 △국제협력에 관한 내용을 포괄<br>■ (AI 안전과 보안 기준) 강력한 AI 시스템을 개발하는 기업에게 안전 테스트 결과와 시스템에 관한<br>주요 정보를 미국 정부와 공유할 것을 요구하고, AI 시스템의 안전성과 신뢰성 확인을 위한 표준 및<br>AI 생성 콘텐츠 표시를 위한 표준과 모범사례 확립을 추진<br>· △1026 플롭스(FLOPS, Floating Point Operation Per Second)를 초과하는 컴퓨팅 성능 또는 생물학적<br>서열 데이터를 주로 사용하고 1023플롭스를 초과하는 컴퓨팅 성능을 사용하는 모델 △단일 데이터센터에서<br>1,000Gbit/s 이상의 네트워킹으로 연결되며 AI 훈련에서 이론상 최대 1020 플롭스를 처리할 수 있는<br>컴퓨팅 용량을 갖춘 컴퓨팅 클러스터가 정보공유 요구대상<br>■ (형평성과 시민권 향상) 법률, 주택, 보건 분야에서 AI의 무책임한 사용으로 인한 차별과 편견 및 기타<br>문제를 방지하는 조치를 확대<br>· 형사사법 시스템에서 AI 사용 모범사례를 개발하고, 주택 임대 시 AI 알고리즘 차별을 막기 위한 명확한<br>지침을 제공하며, 보건복지 부문에서 책임 있는 AI 배포와 사용을 위한 전략을 마련<br>■ (소비자 보호와 근로자 지원) 의료 분야에서 책임 있는 AI 사용을 촉진하고 맞춤형 개인교습 등 학교<br>내 AI 교육 도구 관련 자원을 개발하며, AI로 인한 근로자 피해를 완화하고 이점을 극대화하는 원칙과<br>모범사례를 마련<br>■ (혁신과 경쟁 촉진) 국가AI연구자원(National Artificial Intelligence Research Resource, NAIRR)*을<br>통해 미국 전역의 AI 연구를 촉진하고, 중소기업과 개발자에 기술과 인프라를 지원<br>* 국가 차원에서 AI 연구 인프라를 확충해 더 많은 AI 연구자에게 인프라를 지원하는 프로그램<br>· 비자 기준과 인터뷰 절차의 현대화와 간소화로 AI 관련 주요 분야의 전문 지식을 갖춘 외국인들이 미국에서</p> <br><p id='27' style='font-size:18px'>공부하고 취업할 수 있도록 지원</p> <p id='28' style='font-size:14px'>☞ 출처 : The White House, Executive Order on the Safe, Secure, and Trustworthy Development and Use of<br>Artificial Intelligence (E.O. 14110), 2023.10.30.</p>\", metadata={'page': 4})"
      ]
     },
     "execution_count": 5,
     "metadata": {},
     "output_type": "execute_result"
    }
   ],
   "source": [
    "split_docs[3]"
   ]
  },
  {
   "cell_type": "markdown",
   "metadata": {},
   "source": [
    "다음은, 신한라이프 사업방법서로 이미지형 PDF 문서를 로드하고 분절하는 예제를 살펴보겠습니다.\n",
    "\n",
    "- 파일명: `사업방법서_신한(간편가입)홈닥터의료비보장보험(무배당, 갱신형)_20240401_P14.pdf`\n",
    "\n"
   ]
  },
  {
   "cell_type": "code",
   "execution_count": 6,
   "metadata": {},
   "outputs": [
    {
     "name": "stdout",
     "output_type": "stream",
     "text": [
      "문서의 수: 14\n"
     ]
    }
   ],
   "source": [
    "# 대상 이미지 PDF 파일 로드. 파일의 경로와 분할 방식 입력\n",
    "loader = UpstageLayoutAnalysisLoader(\"data/사업방법서_신한(간편가입)홈닥터의료비보장보험(무배당, 갱신형)_20240401_P14.pdf\", split=\"page\")\n",
    "\n",
    "# 페이지 별 문서 로드\n",
    "split_docs = loader.load()  # or loader.lazy_load()\n",
    "\n",
    "print(f\"문서의 수: {len(split_docs)}\")"
   ]
  },
  {
   "cell_type": "code",
   "execution_count": 10,
   "metadata": {},
   "outputs": [
    {
     "name": "stdout",
     "output_type": "stream",
     "text": [
      "page_content=\"<p id='0' style='font-size:18px'>신한(간편가입)홈닥터의료비보장보험<br>(무배당, 갱신형)</p> <p id='1' style='font-size:14px'>신한라이프생명보험주식회사</p>\" metadata={'page': 1}\n",
      "page_content=\"<p id='2' style='font-size:14px'>사 업 방 법 서</p>\" metadata={'page': 2}\n",
      "page_content='<p id=\\'3\\' style=\\'font-size:20px\\'>사업방법서 별지</p> <br><p id=\\'4\\' style=\\'font-size:22px\\'>신한(간편가입)홈닥터의료비보장보험(무배당) 갱신형)</p> <caption id=\\'5\\' style=\\'font-size:18px\\'>1 보험종목의 명칭</caption> <table id=\\'6\\' style=\\'font-size:16px\\'><tr><td>구분</td><td>명칭</td><td colspan=\"3\">보험종목</td></tr><tr><td rowspan=\"2\">주계약</td><td rowspan=\"2\">신한홈닥터 의료비보장보험 (무배당, 갱신형)</td><td colspan=\"3\">일반심사형</td></tr><tr><td colspan=\"3\">간편심사(335)형</td></tr><tr><td rowspan=\"10\">종속특약</td><td rowspan=\"10\">신한홈닥터 의료비보장보험 플러스특약 (최초1회) (무배당, 갱신형)</td><td rowspan=\"5\">일반심사형</td><td>급여의료비지원금 (1 백만원이상, 최초1 회한) 보장계약</td><td>순수보장형, 건강환급형</td></tr><tr><td>급여의료비지원금 (2백만원이상, 최초1 회한) 보장계약</td><td>순수보장형</td></tr><tr><td>급여의료비지원금 (3백만원이상, 최초 1 회한) 보장계약</td><td>순수보장형</td></tr><tr><td>급여의료비지원금 (5백만원이상, 최초1 회한) 보장계약</td><td>순수보장형</td></tr><tr><td>급여의료비지원금 (1 천만원이상, 최초1회한) 보장계약</td><td>순수보장형</td></tr><tr><td rowspan=\"5\">간편심사(335)형</td><td>급여의료비지원금 (1 백만원이상, 최초1 회한) 보장계약</td><td>순수보장형, 건강환급형</td></tr><tr><td>급여의료비지원금 (2백만원이상, 최초1회한) 보장계약</td><td>순수보장형</td></tr><tr><td>급여의료비지원금 (3백만원이상, 최초1회한) 보장계약</td><td>순수보장형</td></tr><tr><td>급여의료비지원금 (5백만원이상, 최초1회한) 보장계약</td><td>순수보장형</td></tr><tr><td>급여의료비지원금 (1 천만원이상, 최초1회한) 보장계약</td><td>순수보장형</td></tr></table> <p id=\\'7\\' style=\\'font-size:14px\\'>(주) 1. 이 계약을 최초로 체결하는 경우에는 \"최초계약\"이라 하며, 이후 계약의 보험기간 만료 후 「13.<br>계약의 갱신에 관한 사항」에 따라 갱신된 경우에는 \"갱신계약\"이라 한다.<br>2. \"간편심사(335)형\"의 경우 상품명 신한 다음에 \"(간편가입)\"을 부가한다.</p>' metadata={'page': 3}\n"
     ]
    }
   ],
   "source": [
    "for doc in split_docs[:3]:\n",
    "    print(doc)"
   ]
  },
  {
   "cell_type": "markdown",
   "metadata": {},
   "source": [
    "이번에는, 신한라이프 사업방법서로 텍스트형 PDF 문서를 로드하고 분절하는 예제를 살펴보겠습니다.\n",
    "\n",
    "- 파일명: `사업방법서_(간편)신한통합건강보장보험원(ONE)(무배당, 해약환급금 미지급형)_20240503_v0.1_P34.pdf`\n"
   ]
  },
  {
   "cell_type": "code",
   "execution_count": 20,
   "metadata": {},
   "outputs": [
    {
     "name": "stdout",
     "output_type": "stream",
     "text": [
      "문서의 수: 34\n"
     ]
    }
   ],
   "source": [
    "# 신한라이프 사업방법서로 텍스트형 PDF 문서를 로드\n",
    "\n",
    "loader = UpstageLayoutAnalysisLoader(\"data/사업방법서_(간편)신한통합건강보장보험원(ONE)(무배당, 해약환급금 미지급형)_20240503_v0.1_P34.pdf\", split=\"page\")\n",
    "docs = loader.load()\n",
    "print(f\"문서의 수: {len(docs)}\")"
   ]
  },
  {
   "cell_type": "code",
   "execution_count": 21,
   "metadata": {},
   "outputs": [
    {
     "data": {
      "text/plain": [
       "{'page': 1}"
      ]
     },
     "execution_count": 21,
     "metadata": {},
     "output_type": "execute_result"
    }
   ],
   "source": [
    "docs[0].metadata"
   ]
  },
  {
   "cell_type": "code",
   "execution_count": 22,
   "metadata": {},
   "outputs": [
    {
     "data": {
      "text/plain": [
       "\"<p id='0' style='font-size:18px'>(간편)신한통합건강보장보험<br>원(ONE)<br>(무배당, 해약환급금 미지급형)</p> <p id='1' style='font-size:14px'>신한라이프생명보험주식회사</p>\""
      ]
     },
     "execution_count": 22,
     "metadata": {},
     "output_type": "execute_result"
    }
   ],
   "source": [
    "docs[0].page_content"
   ]
  },
  {
   "cell_type": "code",
   "execution_count": 25,
   "metadata": {},
   "outputs": [
    {
     "name": "stdout",
     "output_type": "stream",
     "text": [
      "(간편)신한통합건강보장보험 원(ONE) (무배당, 해약환급금 미지급형) 신한라이프생명보험주식회사\n"
     ]
    }
   ],
   "source": [
    "from bs4 import BeautifulSoup\n",
    "\n",
    "def extract_text(html_content):\n",
    "    # BeautifulSoup 객체 생성\n",
    "    soup = BeautifulSoup(html_content, 'html.parser')\n",
    "\n",
    "    # 모든 태그의 텍스트 추출 및 공백으로 연결\n",
    "    text_content = ' '.join(soup.stripped_strings)\n",
    "    return text_content\n",
    "\n",
    "# 함수 사용 예\n",
    "html_content = docs[0].page_content\n",
    "extracted_text = extract_text(html_content)\n",
    "print(extracted_text)"
   ]
  },
  {
   "cell_type": "code",
   "execution_count": 27,
   "metadata": {},
   "outputs": [
    {
     "data": {
      "text/plain": [
       "'<p id=\\'10\\' style=\\'font-size:22px\\'>2. 보험기간, 보험료 납입기간, 피보험자 가입나이 및 보험료 납입주기<br>[주계약 및 종속특약의 \"급여의료비지원금 (1백만원이상, 최초1회한) 보장계약\"을 제외한 보장계약]<br>가. 주계약</p> <table id=\\'11\\' style=\\'font-size:14px\\'><tr><td colspan=\"9\">가입가능 조건</td></tr><tr><td>유형1</td><td>유형2</td><td>유형3</td><td>유형4</td><td>보험기간</td><td>보험료 납입기간</td><td>남자나이</td><td>여자나이</td><td>보험료 납입주기</td></tr><tr><td rowspan=\"6\">주계약</td><td rowspan=\"3\">일반 심사형</td><td>-</td><td>최초계약</td><td>15년만기</td><td>전기납</td><td colspan=\"2\">만15세 ~ 70세</td><td rowspan=\"6\">월납</td></tr><tr><td rowspan=\"2\">-</td><td rowspan=\"2\">갱신계약</td><td>15년만기</td><td>전기납</td><td colspan=\"2\">30세 ~ 84세</td></tr><tr><td>100세만기</td><td>전기납</td><td colspan=\"2\">85세 ~ 99세</td></tr><tr><td rowspan=\"3\">간편 심사형</td><td>-</td><td>최초계약</td><td>15년만기</td><td>전기납</td><td colspan=\"2\">30세 ~ 70세</td></tr><tr><td rowspan=\"2\">-</td><td rowspan=\"2\">갱신계약</td><td>15년만기</td><td>전기납</td><td colspan=\"2\">45세 ~ 84세</td></tr><tr><td>100세만기</td><td>전기납</td><td colspan=\"2\">85세 ~ 99세</td></tr></table> <caption id=\\'12\\' style=\\'font-size:18px\\'>나. 종속특약<br>① 5년만기</caption> <table id=\\'13\\' style=\\'font-size:16px\\'><tr><td colspan=\"9\">가입가능 조건</td></tr><tr><td>유형1</td><td>유형2</td><td>유형3</td><td>유형4</td><td>보험기간</td><td>보험료 납입기간</td><td>남자나이</td><td>여자나이</td><td>보험료 납입주기</td></tr><tr><td rowspan=\"6\">종속특약</td><td rowspan=\"3\">일반 심사형</td><td rowspan=\"3\">순수 보장형</td><td>최초계약</td><td>5년만기</td><td>전기납</td><td colspan=\"2\">만15세 ~ 70세</td><td rowspan=\"6\">월납</td></tr><tr><td rowspan=\"2\">갱신계약</td><td>5년만기</td><td>전기납</td><td colspan=\"2\">20세 ~ 94세</td></tr><tr><td>100세만기</td><td>전기납</td><td colspan=\"2\">95세 ~ 99세</td></tr><tr><td rowspan=\"3\">간편 심사형</td><td rowspan=\"3\">순수 보장형</td><td>최초계약</td><td>5년만기</td><td>전기납</td><td colspan=\"2\">30세 ~ 70세</td></tr><tr><td rowspan=\"2\">갱신계약</td><td>5년만기</td><td>전기납</td><td colspan=\"2\">35세 ~ 94세</td></tr><tr><td>100세만기</td><td>전기납</td><td colspan=\"2\">95세 ~ 99세</td></tr></table> <caption id=\\'14\\' style=\\'font-size:20px\\'>15년만기</caption> <table id=\\'15\\' style=\\'font-size:16px\\'><tr><td colspan=\"9\">가입가능 조건</td></tr><tr><td>유형1</td><td>유형2</td><td>유형3</td><td>유형4</td><td>보험기간</td><td>보험료 납입기간</td><td>남자나이</td><td>여자나이</td><td>보험료 납입주기</td></tr><tr><td rowspan=\"6\">종속특약</td><td rowspan=\"3\">일반 심사형</td><td rowspan=\"3\">순수 보장형</td><td>최초계약</td><td>15년만기</td><td>전기납</td><td>만15세</td><td>~ 70세</td><td rowspan=\"6\">월납</td></tr><tr><td rowspan=\"2\">갱신계약</td><td>15년만기</td><td>전기납</td><td colspan=\"2\">30세 ~ 84세</td></tr><tr><td>100세만기</td><td>전기납</td><td colspan=\"2\">85세 ~ 99세</td></tr><tr><td rowspan=\"3\">간편 심사형</td><td rowspan=\"3\">순수 보장형</td><td>최초계약</td><td>15년만기</td><td>전기납</td><td colspan=\"2\">30세 ~ 70세</td></tr><tr><td rowspan=\"2\">갱신계약</td><td>15년만기</td><td>전기납</td><td colspan=\"2\">45세 ~ 84세</td></tr><tr><td>100세만기</td><td>전기납</td><td colspan=\"2\">85세 ~ 99세</td></tr></table>'"
      ]
     },
     "execution_count": 27,
     "metadata": {},
     "output_type": "execute_result"
    }
   ],
   "source": [
    "split_docs[3].page_content"
   ]
  },
  {
   "cell_type": "code",
   "execution_count": 26,
   "metadata": {},
   "outputs": [
    {
     "name": "stdout",
     "output_type": "stream",
     "text": [
      "4. 배당에 관한 사항 해당사항 없음 5. 보험료에 관한 사항 보험료는 이 계약의 \"보험료 및 해약환급금 산출방법서\"에서 정한 방법에 따라 피보험자의 성별, 나이, 보험기간, 보험료 납입기간 및 보험료 납입주기 등에 따라 산출된 금액을 말한다. 6. 보험료 할인에 관한 사항 해당사항 없음 7. 보험료 선납에 관한 사항 계약자는 당월분을 제외하여 6개월분 이하의 보험료를 선납할 수 있으며, 3개월분 이상의 보 험료를 선납하는 경우에는 해당보험료를 계약체결시점의 평균공시이율로 할인하여 영수한다. 8. 해지계약의 부활(효력회복)에 관한 사항 약관 [보험료의 납입이 연체되는 경우 납입최고(독촉)와 계약의 해지] 조항에 따라 계약이 해 지되었으나 해약환급금을 받지 않은 경우(보험계약대출 등에 따라 해약환급금이 차감되었으 나 받지 않은 경우 또는 해약환급금이 없는 경우를 포함한다) 계약자는 해지된 날부터 3년 이내에 회사가 정한 절차에 따라 계약의 부활(효력회복)을 청약할 수 있다. 회사가 부활(효력 회복)을 승낙한 때에 계약자는 부활(효력회복)을 청약한 날까지의 연체된 보험료에 「9. 연체 이율에 관한 사항」에서 정한 연체이율로 계산한 금액을 더하여 납입하여야 한다. 9. 연체이율에 관한 사항 이 계약의 부활(효력회복)시 연체보험료에 대한 연체이율은 연체기간에 대하여 \"계약체결시점 의 평균공시이율+1%\" 범위 내에서 각 상품별로 회사가 정하는 이율로 한다. 10. 중도인출에 관한 사항 해당사항 없음 11. 공시이율에 관한 사항 해당사항 없음\n"
     ]
    }
   ],
   "source": [
    "extracted_text = extract_text(docs[3].page_content)\n",
    "print(extracted_text)"
   ]
  },
  {
   "cell_type": "markdown",
   "metadata": {},
   "source": [
    "## 문서 로드 시간 비교\n",
    "\n",
    "신한라이프 사업방법서로 이미지형 PDF 문서를 로드하여 각각의 소요시간을 비교해 봅니다.\n",
    "\n",
    "- 파일명: `사업방법서_신한(간편가입)홈닥터의료비보장보험(무배당, 갱신형)_20240401_P14.pdf`"
   ]
  },
  {
   "cell_type": "code",
   "execution_count": 29,
   "metadata": {},
   "outputs": [
    {
     "name": "stdout",
     "output_type": "stream",
     "text": [
      "PyPDFLoader 문서의 수: 11, 로드 시간: 7.93초\n",
      "UpstageLayoutAnalysisLoader 문서의 수: 14, 로드 시간: 30.46초\n",
      "UpstageLayoutAnalysisLoader는 PyPDFLoader보다 283.91% 느립니다.\n"
     ]
    }
   ],
   "source": [
    "# UpstageLayoutAnalysisLoader 와 PyPDFLoader의 로드 시간 비교\n",
    "from langchain.document_loaders import PyPDFLoader\n",
    "from langchain_upstage import UpstageLayoutAnalysisLoader\n",
    "import time\n",
    "\n",
    "# PyPDFLoader 로드 시간 측정\n",
    "pypdf_loader = PyPDFLoader(\"data/사업방법서_신한(간편가입)홈닥터의료비보장보험(무배당, 갱신형)_20240401_P14.pdf\")\n",
    "start_time = time.time()\n",
    "split_docs = pypdf_loader.load_and_split()\n",
    "end_time = time.time()\n",
    "pypdf_duration = end_time - start_time\n",
    "print(f\"PyPDFLoader 문서의 수: {len(split_docs)}, 로드 시간: {pypdf_duration:.2f}초\")\n",
    "\n",
    "# UpstageLayoutAnalysisLoader 로드 시간 측정\n",
    "upstage_loader = UpstageLayoutAnalysisLoader(\"data/사업방법서_신한(간편가입)홈닥터의료비보장보험(무배당, 갱신형)_20240401_P14.pdf\", split=\"page\")\n",
    "start_time = time.time()\n",
    "docs = upstage_loader.load()\n",
    "end_time = time.time()\n",
    "upstage_duration = end_time - start_time\n",
    "print(f\"UpstageLayoutAnalysisLoader 문서의 수: {len(docs)}, 로드 시간: {upstage_duration:.2f}초\")\n",
    "\n",
    "# 시간 비교 출력\n",
    "# print(f\"로드 시간 비교: PyPDFLoader - {pypdf_duration:.2f}초, UpstageLayoutAnalysisLoader - {upstage_duration:.2f}초\")\n",
    "if pypdf_duration < upstage_duration:\n",
    "    slower_by = ((upstage_duration - pypdf_duration) / pypdf_duration) * 100\n",
    "    print(f\"UpstageLayoutAnalysisLoader는 PyPDFLoader보다 {slower_by:.2f}% 느립니다.\")\n",
    "else:\n",
    "    slower_by = ((pypdf_duration - upstage_duration) / upstage_duration) * 100\n",
    "    print(f\"PyPDFLoader는 UpstageLayoutAnalysisLoader보다 {slower_by:.2f}% 느립니다.\")"
   ]
  },
  {
   "cell_type": "markdown",
   "metadata": {},
   "source": [
    "**그러나 UpstageLayoutAnalysisLoader는 PyPDFLoader가 못가지고오는 이미지 PDF의 텍스트를 가져옴**"
   ]
  },
  {
   "cell_type": "code",
   "execution_count": 32,
   "metadata": {},
   "outputs": [
    {
     "data": {
      "text/plain": [
       "Document(page_content='- 1 -', metadata={'source': 'data/사업방법서_신한(간편가입)홈닥터의료비보장보험(무배당, 갱신형)_20240401_P14.pdf', 'page': 2})"
      ]
     },
     "execution_count": 32,
     "metadata": {},
     "output_type": "execute_result"
    }
   ],
   "source": [
    "# PyPDFLoader의 텍스트 추출 예, page_content가 비었고 메타데이터만 출력됨\n",
    "split_docs[0]\n"
   ]
  },
  {
   "cell_type": "code",
   "execution_count": 31,
   "metadata": {},
   "outputs": [
    {
     "data": {
      "text/plain": [
       "Document(page_content=\"<p id='0' style='font-size:18px'>신한(간편가입)홈닥터의료비보장보험<br>(무배당, 갱신형)</p> <p id='1' style='font-size:14px'>신한라이프생명보험주식회사</p>\", metadata={'page': 1})"
      ]
     },
     "execution_count": 31,
     "metadata": {},
     "output_type": "execute_result"
    }
   ],
   "source": [
    "# UpstageLayoutAnalysisLoader의 텍스트 추출 예, page_content가 출력됨\n",
    "docs[0]"
   ]
  }
 ],
 "metadata": {
  "kernelspec": {
   "display_name": "base",
   "language": "python",
   "name": "python3"
  },
  "language_info": {
   "codemirror_mode": {
    "name": "ipython",
    "version": 3
   },
   "file_extension": ".py",
   "mimetype": "text/x-python",
   "name": "python",
   "nbconvert_exporter": "python",
   "pygments_lexer": "ipython3",
   "version": "3.11.7"
  }
 },
 "nbformat": 4,
 "nbformat_minor": 2
}
