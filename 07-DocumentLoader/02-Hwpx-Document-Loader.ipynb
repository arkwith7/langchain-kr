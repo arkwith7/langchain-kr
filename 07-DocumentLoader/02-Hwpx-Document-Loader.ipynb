{
 "cells": [
  {
   "cell_type": "code",
   "execution_count": null,
   "metadata": {},
   "outputs": [],
   "source": [
    "# API 키를 환경변수로 관리하기 위한 설정 파일\n",
    "from dotenv import load_dotenv\n",
    "\n",
    "# API 키 정보 로드\n",
    "load_dotenv()"
   ]
  },
  {
   "cell_type": "markdown",
   "metadata": {},
   "source": [
    "## UpstageLayoutAnalysisLoader\n"
   ]
  },
  {
   "cell_type": "markdown",
   "metadata": {},
   "source": [
    "표와 그림을 포함한 모든 문서에서 문서 요소를 감지합니다.\n",
    "\n",
    "먼저, 소프트웨어정책연구소(SPRi) - 2023년 12월호 문서를 로드하고 분절하는 예제를 살펴보겠습니다.\n",
    "\n",
    "- 파일명: `SPRI_AI_Brief_2023년12월호_F.pdf`\n"
   ]
  },
  {
   "cell_type": "code",
   "execution_count": null,
   "metadata": {},
   "outputs": [],
   "source": [
    "# from RAGchain.preprocess.loader import Win32HwpLoader\n",
    "from RAGchain.preprocess.loader import RustHwpLoader\n",
    "\n",
    "loader = RustHwpLoader(\"./data/(첨부5) 2024년도 하반기 중남미 지역기구 파견인턴 선발 공고.hwp\")\n",
    "\n",
    "# loader = Win32HwpLoader(\"./data/(첨부5) 2024년도 하반기 중남미 지역기구 파견인턴 선발 공고.hwpx\")\n",
    "documents = loader.load()\n",
    "\n",
    "len(documents)"
   ]
  },
  {
   "cell_type": "code",
   "execution_count": null,
   "metadata": {},
   "outputs": [],
   "source": [
    "from pprint import pprint\n",
    "pprint(documents[0].page_content)"
   ]
  },
  {
   "cell_type": "code",
   "execution_count": null,
   "metadata": {},
   "outputs": [],
   "source": [
    "# 첫번째 문서의 내용 출력\n",
    "print(split_docs[0].page_content)\n",
    "# 첫번째 문서의 메타데이터 출력\n",
    "print(split_docs[0].metadata)"
   ]
  },
  {
   "cell_type": "code",
   "execution_count": null,
   "metadata": {},
   "outputs": [],
   "source": [
    "split_docs[3]"
   ]
  },
  {
   "cell_type": "markdown",
   "metadata": {},
   "source": [
    "다음은, 신한라이프 사업방법서로 이미지형 PDF 문서를 로드하고 분절하는 예제를 살펴보겠습니다.\n",
    "\n",
    "- 파일명: `사업방법서_신한(간편가입)홈닥터의료비보장보험(무배당, 갱신형)_20240401_P14.pdf`\n",
    "\n"
   ]
  },
  {
   "cell_type": "code",
   "execution_count": null,
   "metadata": {},
   "outputs": [],
   "source": [
    "# 대상 이미지 PDF 파일 로드. 파일의 경로와 분할 방식 입력\n",
    "loader = UpstageLayoutAnalysisLoader(\"data/사업방법서_신한(간편가입)홈닥터의료비보장보험(무배당, 갱신형)_20240401_P14.pdf\", split=\"page\")\n",
    "\n",
    "# 페이지 별 문서 로드\n",
    "split_docs = loader.load()  # or loader.lazy_load()\n",
    "\n",
    "print(f\"문서의 수: {len(split_docs)}\")"
   ]
  },
  {
   "cell_type": "code",
   "execution_count": null,
   "metadata": {},
   "outputs": [],
   "source": [
    "for doc in split_docs[:3]:\n",
    "    print(doc)"
   ]
  },
  {
   "cell_type": "markdown",
   "metadata": {},
   "source": [
    "이번에는, 신한라이프 사업방법서로 텍스트형 PDF 문서를 로드하고 분절하는 예제를 살펴보겠습니다.\n",
    "\n",
    "- 파일명: `사업방법서_(간편)신한통합건강보장보험원(ONE)(무배당, 해약환급금 미지급형)_20240503_v0.1_P34.pdf`\n"
   ]
  },
  {
   "cell_type": "code",
   "execution_count": null,
   "metadata": {},
   "outputs": [],
   "source": [
    "# 신한라이프 사업방법서로 텍스트형 PDF 문서를 로드\n",
    "\n",
    "loader = UpstageLayoutAnalysisLoader(\"data/사업방법서_(간편)신한통합건강보장보험원(ONE)(무배당, 해약환급금 미지급형)_20240503_v0.1_P34.pdf\", split=\"page\")\n",
    "docs = loader.load()\n",
    "print(f\"문서의 수: {len(docs)}\")"
   ]
  },
  {
   "cell_type": "code",
   "execution_count": null,
   "metadata": {},
   "outputs": [],
   "source": [
    "docs[0].metadata"
   ]
  },
  {
   "cell_type": "code",
   "execution_count": null,
   "metadata": {},
   "outputs": [],
   "source": [
    "docs[0].page_content"
   ]
  },
  {
   "cell_type": "code",
   "execution_count": null,
   "metadata": {},
   "outputs": [],
   "source": [
    "from bs4 import BeautifulSoup\n",
    "\n",
    "def extract_text(html_content):\n",
    "    # BeautifulSoup 객체 생성\n",
    "    soup = BeautifulSoup(html_content, 'html.parser')\n",
    "\n",
    "    # 모든 태그의 텍스트 추출 및 공백으로 연결\n",
    "    text_content = ' '.join(soup.stripped_strings)\n",
    "    return text_content\n",
    "\n",
    "# 함수 사용 예\n",
    "html_content = docs[0].page_content\n",
    "extracted_text = extract_text(html_content)\n",
    "print(extracted_text)"
   ]
  },
  {
   "cell_type": "code",
   "execution_count": null,
   "metadata": {},
   "outputs": [],
   "source": [
    "split_docs[3].page_content"
   ]
  },
  {
   "cell_type": "code",
   "execution_count": null,
   "metadata": {},
   "outputs": [],
   "source": [
    "extracted_text = extract_text(docs[3].page_content)\n",
    "print(extracted_text)"
   ]
  },
  {
   "cell_type": "markdown",
   "metadata": {},
   "source": [
    "## 문서 로드 시간 비교\n",
    "\n",
    "신한라이프 사업방법서로 이미지형 PDF 문서를 로드하여 각각의 소요시간을 비교해 봅니다.\n",
    "\n",
    "- 파일명: `사업방법서_신한(간편가입)홈닥터의료비보장보험(무배당, 갱신형)_20240401_P14.pdf`"
   ]
  },
  {
   "cell_type": "code",
   "execution_count": null,
   "metadata": {},
   "outputs": [],
   "source": [
    "# UpstageLayoutAnalysisLoader 와 PyPDFLoader의 로드 시간 비교\n",
    "from langchain.document_loaders import PyPDFLoader\n",
    "from langchain_upstage import UpstageLayoutAnalysisLoader\n",
    "import time\n",
    "\n",
    "# PyPDFLoader 로드 시간 측정\n",
    "pypdf_loader = PyPDFLoader(\"data/사업방법서_신한(간편가입)홈닥터의료비보장보험(무배당, 갱신형)_20240401_P14.pdf\")\n",
    "start_time = time.time()\n",
    "split_docs = pypdf_loader.load_and_split()\n",
    "end_time = time.time()\n",
    "pypdf_duration = end_time - start_time\n",
    "print(f\"PyPDFLoader 문서의 수: {len(split_docs)}, 로드 시간: {pypdf_duration:.2f}초\")\n",
    "\n",
    "# UpstageLayoutAnalysisLoader 로드 시간 측정\n",
    "upstage_loader = UpstageLayoutAnalysisLoader(\"data/사업방법서_신한(간편가입)홈닥터의료비보장보험(무배당, 갱신형)_20240401_P14.pdf\", split=\"page\")\n",
    "start_time = time.time()\n",
    "docs = upstage_loader.load()\n",
    "end_time = time.time()\n",
    "upstage_duration = end_time - start_time\n",
    "print(f\"UpstageLayoutAnalysisLoader 문서의 수: {len(docs)}, 로드 시간: {upstage_duration:.2f}초\")\n",
    "\n",
    "# 시간 비교 출력\n",
    "# print(f\"로드 시간 비교: PyPDFLoader - {pypdf_duration:.2f}초, UpstageLayoutAnalysisLoader - {upstage_duration:.2f}초\")\n",
    "if pypdf_duration < upstage_duration:\n",
    "    slower_by = ((upstage_duration - pypdf_duration) / pypdf_duration) * 100\n",
    "    print(f\"UpstageLayoutAnalysisLoader는 PyPDFLoader보다 {slower_by:.2f}% 느립니다.\")\n",
    "else:\n",
    "    slower_by = ((pypdf_duration - upstage_duration) / upstage_duration) * 100\n",
    "    print(f\"PyPDFLoader는 UpstageLayoutAnalysisLoader보다 {slower_by:.2f}% 느립니다.\")"
   ]
  },
  {
   "cell_type": "markdown",
   "metadata": {},
   "source": [
    "**그러나 UpstageLayoutAnalysisLoader는 PyPDFLoader가 못가지고오는 이미지 PDF의 텍스트를 가져옴**"
   ]
  },
  {
   "cell_type": "code",
   "execution_count": null,
   "metadata": {},
   "outputs": [],
   "source": [
    "# PyPDFLoader의 텍스트 추출 예, page_content가 비었고 메타데이터만 출력됨\n",
    "split_docs[0]\n"
   ]
  },
  {
   "cell_type": "code",
   "execution_count": null,
   "metadata": {},
   "outputs": [],
   "source": [
    "# UpstageLayoutAnalysisLoader의 텍스트 추출 예, page_content가 출력됨\n",
    "docs[0]"
   ]
  }
 ],
 "metadata": {
  "kernelspec": {
   "display_name": "base",
   "language": "python",
   "name": "python3"
  },
  "language_info": {
   "codemirror_mode": {
    "name": "ipython",
    "version": 3
   },
   "file_extension": ".py",
   "mimetype": "text/x-python",
   "name": "python",
   "nbconvert_exporter": "python",
   "pygments_lexer": "ipython3",
   "version": "3.11.1"
  }
 },
 "nbformat": 4,
 "nbformat_minor": 2
}
