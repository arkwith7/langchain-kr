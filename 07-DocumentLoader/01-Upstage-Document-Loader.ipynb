{
 "cells": [
  {
   "cell_type": "code",
   "execution_count": 1,
   "metadata": {},
   "outputs": [
    {
     "data": {
      "text/plain": [
       "True"
      ]
     },
     "execution_count": 1,
     "metadata": {},
     "output_type": "execute_result"
    }
   ],
   "source": [
    "# API 키를 환경변수로 관리하기 위한 설정 파일\n",
    "from dotenv import load_dotenv\n",
    "\n",
    "# API 키 정보 로드\n",
    "load_dotenv()"
   ]
  },
  {
   "cell_type": "markdown",
   "metadata": {},
   "source": [
    "## 실습에 활용한 문서\n",
    "\n",
    "소프트웨어정책연구소(SPRi) - 2023년 12월호\n",
    "\n",
    "- 저자: 유재흥(AI정책연구실 책임연구원), 이지수(AI정책연구실 위촉연구원)\n",
    "- 링크: https://spri.kr/posts/view/23669\n",
    "- 파일명: `SPRI_AI_Brief_2023년12월호_F.pdf`\n",
    "\n",
    "신한라이프 사업방법서(텍스트형 PDF, 이미지형 PDF)\n",
    "\n",
    "- 파일명(텍스트형): `사업방법서_(간편)신한통합건강보장보험원(ONE)(무배당, 해약환급금 미지급형)_20240503_v0.1_P34.pdf`\n",
    "- 파일명(이미지형): `사업방법서_신한(간편가입)홈닥터의료비보장보험(무배당, 갱신형)_20240401_P14.pdf`\n"
   ]
  },
  {
   "cell_type": "markdown",
   "metadata": {},
   "source": [
    "## 통합형 Loader 인터페이스\n",
    "\n",
    "- loader 객체: 다양한 로더 도구를 활용하여 loader 객체를 생성합니다.\n",
    "- 생성된 loader 객체의 `load()` 함수는 전체 문서를 로드하여 반환합니다.\n",
    "- 생성된 loader 객체의 `load_and_split()` 함수는 문서를 split 한 결과를 반환합니다.\n",
    "- 반환된 document 구조는 `page_content` 와 `metadata` 속성값을 포함합니다. `page_content` 는 문서의 내용을, `metadata` 는 파일명, 페이지 번호, 그 밖에 유용한 메타정보를 포함합니다.\n"
   ]
  },
  {
   "cell_type": "markdown",
   "metadata": {},
   "source": [
    "## UpstageLayoutAnalysisLoader\n"
   ]
  },
  {
   "cell_type": "markdown",
   "metadata": {},
   "source": [
    "[Upstage-LangChain](https://python.langchain.com/v0.2/docs/integrations/providers/upstage/)\n",
    "\n",
    "표와 그림을 포함한 모든 문서에서 문서 요소를 감지합니다.\n",
    "\n",
    "먼저, 소프트웨어정책연구소(SPRi) - 2023년 12월호 문서를 로드하고 분절하는 예제를 살펴보겠습니다.\n",
    "\n",
    "- 파일명: `SPRI_AI_Brief_2023년12월호_F.pdf`\n"
   ]
  },
  {
   "cell_type": "code",
   "execution_count": 2,
   "metadata": {},
   "outputs": [
    {
     "name": "stdout",
     "output_type": "stream",
     "text": [
      "문서의 수: 23\n"
     ]
    }
   ],
   "source": [
    "from langchain_upstage import UpstageLayoutAnalysisLoader\n",
    "\n",
    "# 대상 PDF 파일 로드. 파일의 경로와 분할 방식 입력\n",
    "loader = UpstageLayoutAnalysisLoader(\"data/SPRI_AI_Brief_2023년12월호_F.pdf\", split=\"page\")\n",
    "\n",
    "# 페이지 별 문서 로드\n",
    "split_docs = loader.load()  # or loader.lazy_load()\n",
    "\n",
    "print(f\"문서의 수: {len(split_docs)}\")"
   ]
  },
  {
   "cell_type": "code",
   "execution_count": 3,
   "metadata": {},
   "outputs": [
    {
     "name": "stdout",
     "output_type": "stream",
     "text": [
      "page_content='<h1 id='0' style='font-size:14px'>2023년 12월호</h1>' metadata={'page': 1}\n",
      "page_content='<p id='1' data-category='paragraph' style='font-size:16px'>2023년 12월호</p> <h1 id='2' style='font-size:20px'>Ⅰ. 인공지능 산업 동향 브리프</h1> <p id='3' data-category='paragraph' style='font-size:18px'>1. 정책/법제</p> <br><p id='4' data-category='list' style='font-size:14px'>▹ 미국, 안전하고 신뢰할 수 있는 AI 개발과 사용에 관한 행정명령 발표 ························· 1<br>▹ G7, 히로시마 AI 프로세스를 통해 AI 기업 대상 국제 행동강령에 합의 ··························· 2<br>▹ 영국 AI 안전성 정상회의에 참가한 28개국, AI 위험에 공동 대응 선언 ··························· 3<br>▹ 미국 법원, 예술가들이 생성 AI 기업에 제기한 저작권 소송 기각 ····································· 4<br>▹ 미국 연방거래위원회, 저작권청에 소비자 보호와 경쟁 측면의 AI 의견서 제출 ················· 5<br>▹ EU AI 법 3자 협상, 기반모델 규제 관련 견해차로 난항 ··················································· 6</p> <p id='5' data-category='paragraph' style='font-size:18px'>2. 기업/산업</p> <br><p id='6' data-category='list' style='font-size:14px'>▹ 미국 프런티어 모델 포럼, 1,000만 달러 규모의 AI 안전 기금 조성 ································ 7<br>▹ 코히어, 데이터 투명성 확보를 위한 데이터 출처 탐색기 공개 ······································· 8<br>▹ 알리바바 클라우드, 최신 LLM ‘통이치엔원 2.0’ 공개 ······················································ 9<br>▹ 삼성전자, 자체 개발 생성 AI ‘삼성 가우스’ 공개 ··························································· 10<br>▹ 구글, 앤스로픽에 20억 달러 투자로 생성 AI 협력 강화 ················································ 11<br>▹ IDC, 2027년 AI 소프트웨어 매출 2,500억 달러 돌파 전망 ··········································· 12<br>▹ 빌 게이츠, AI 에이전트로 인한 컴퓨터 사용의 패러다임 변화 전망 ································ 13<br>▹ 유튜브, 2024년부터 AI 생성 콘텐츠 표시 의무화 ···························································· 14</p> <p id='7' data-category='paragraph' style='font-size:18px'>3. 기술/연구</p> <br><p id='8' data-category='list' style='font-size:14px'>▹ 영국 과학혁신기술부, AI 안전 연구소 설립 발표 ······························································ 15<br>▹ 구글 딥마인드, 범용 AI 모델의 기능과 동작에 대한 분류 체계 발표 ······························ 16<br>▹ 갈릴레오의 LLM 환각 지수 평가에서 GPT-4가 가장 우수 ··········································· 17</p> <p id='9' data-category='paragraph' style='font-size:18px'>4. 인력/교육</p> <br><p id='10' data-category='paragraph' style='font-size:14px'>▹ 영국 옥스퍼드 인터넷 연구소, AI 기술자의 임금이 평균 21% 높아 ······························· 18</p> <h1 id='11' style='font-size:22px'>Ⅱ. 주요 행사</h1> <p id='12' data-category='list' style='font-size:14px'>▹CES 2024 ····························································································································· 19<br>▹AIMLA 2024 ························································································································· 19<br>▹AAAI Conference on Artificial Intelligence ·································································· 19</p>' metadata={'page': 2}\n",
      "page_content='<h1 id='13' style='font-size:14px'>Ⅰ. 인공지능 산업 동향 브리프</h1>' metadata={'page': 3}\n",
      "page_content='<table id='14' style='font-size:14px'><tr><td>1. 정책/법제</td><td>2. 기업/산업</td><td>3. 기술/연구</td><td>4. 인력/교육</td></tr></table> <br><h1 id='15' style='font-size:22px'>미국, 안전하고 신뢰할 수 있는 AI 개발과 사용에 관한 행정명령 발표</h1> <br><p id='16' data-category='paragraph' style='font-size:20px'>KEY Contents</p> <p id='17' data-category='list' style='font-size:18px'>n 미국 바이든 대통령이 ‘안전하고 신뢰할 수 있는 AI 개발과 사용에 관한 행정명령’에 서명하고<br>광범위한 행정 조치를 명시<br>n 행정명령은 △AI의 안전과 보안 기준 마련 △개인정보보호 △형평성과 시민권 향상 △소비자<br>보호 △노동자 지원 △혁신과 경쟁 촉진 △국제협력을 골자로 함</p> <p id='18' data-category='paragraph' style='font-size:20px'>£ 바이든 대통령, AI 행정명령 통해 안전하고 신뢰할 수 있는 AI 개발과 활용 추진</p> <p id='19' data-category='list' style='font-size:18px'>n 미국 바이든 대통령이 2023년 10월 30일 연방정부 차원에서 안전하고 신뢰할 수 있는 AI 개발과<br>사용을 보장하기 위한 행정명령을 발표</p> <br><p id='20' data-category='list' style='font-size:16px'>∙ 행정명령은 △AI의 안전과 보안 기준 마련 △개인정보보호 △형평성과 시민권 향상 △소비자 보호<br>△노동자 지원 △혁신과 경쟁 촉진 △국제협력에 관한 내용을 포괄</p> <br><p id='21' data-category='list' style='font-size:18px'>n (AI 안전과 보안 기준) 강력한 AI 시스템을 개발하는 기업에게 안전 테스트 결과와 시스템에 관한<br>주요 정보를 미국 정부와 공유할 것을 요구하고, AI 시스템의 안전성과 신뢰성 확인을 위한 표준 및<br>AI 생성 콘텐츠 표시를 위한 표준과 모범사례 확립을 추진</p> <br><p id='22' data-category='list' style='font-size:18px'>∙ △1026 플롭스(FLOPS, Floating Point Operation Per Second)를 초과하는 컴퓨팅 성능 또는 생물학적<br>서열 데이터를 주로 사용하고 1023플롭스를 초과하는 컴퓨팅 성능을 사용하는 모델 △단일 데이터센터에서<br>1,000Gbit/s 이상의 네트워킹으로 연결되며 AI 훈련에서 이론상 최대 1020 플롭스를 처리할 수 있는<br>컴퓨팅 용량을 갖춘 컴퓨팅 클러스터가 정보공유 요구대상</p> <br><p id='23' data-category='list' style='font-size:18px'>n (형평성과 시민권 향상) 법률, 주택, 보건 분야에서 AI의 무책임한 사용으로 인한 차별과 편견 및 기타<br>문제를 방지하는 조치를 확대</p> <br><p id='24' data-category='list' style='font-size:16px'>∙ 형사사법 시스템에서 AI 사용 모범사례를 개발하고, 주택 임대 시 AI 알고리즘 차별을 막기 위한 명확한<br>지침을 제공하며, 보건복지 부문에서 책임 있는 AI 배포와 사용을 위한 전략을 마련</p> <br><p id='25' data-category='list' style='font-size:18px'>n (소비자 보호와 근로자 지원) 의료 분야에서 책임 있는 AI 사용을 촉진하고 맞춤형 개인교습 등 학교<br>내 AI 교육 도구 관련 자원을 개발하며, AI로 인한 근로자 피해를 완화하고 이점을 극대화하는 원칙과<br>모범사례를 마련</p> <p id='26' data-category='list' style='font-size:18px'>n (혁신과 경쟁 촉진) 국가AI연구자원(National Artificial Intelligence Research Resource, NAIRR)*을<br>통해 미국 전역의 AI 연구를 촉진하고, 중소기업과 개발자에 기술과 인프라를 지원</p> <br><p id='27' data-category='list' style='font-size:16px'>* 국가 차원에서 AI 연구 인프라를 확충해 더 많은 AI 연구자에게 인프라를 지원하는 프로그램<br>∙ 비자 기준과 인터뷰 절차의 현대화와 간소화로 AI 관련 주요 분야의 전문 지식을 갖춘 외국인들이 미국에서<br>공부하고 취업할 수 있도록 지원</p> <br><p id='28' data-category='paragraph' style='font-size:14px'>☞ 출처 : The White House, Executive Order on the Safe, Secure, and Trustworthy Development and Use of<br>Artificial Intelligence (E.O. 14110), 2023.10.30.</p>' metadata={'page': 4}\n",
      "page_content='<p id='29' data-category='paragraph' style='font-size:14px'>SPRi AI Brief |<br>2023-12월호</p> <h1 id='30' style='font-size:22px'>G7, 히로시마 AI 프로세스를 통해 AI 기업 대상 국제 행동강령에 합의</h1> <br><h1 id='31' style='font-size:20px'>KEY Contents</h1> <p id='32' data-category='list' style='font-size:18px'>n G7이 첨단 AI 시스템을 개발하는 기업을 대상으로 AI 위험 식별과 완화를 위해 자발적인<br>채택을 권고하는 AI 국제 행동강령을 마련</p> <br><p id='33' data-category='list' style='font-size:18px'>n 행동강령은 AI 수명주기 전반에 걸친 위험 평가와 완화, 투명성과 책임성의 보장, 정보공유와<br>이해관계자 간 협력, 보안 통제, 콘텐츠 인증과 출처 확인 등의 조치를 요구</p> <p id='34' data-category='paragraph' style='font-size:20px'>£ G7, 첨단 AI 시스템의 위험 관리를 위한 국제 행동강령 마련</p> <p id='35' data-category='list' style='font-size:18px'>n 주요 7개국(G7)*은 2023년 10월 30일 ‘히로시마 AI 프로세스’를 통해 AI 기업 대상의 AI 국제<br>행동강령(International Code of Conduct for Advanced AI Systems)에 합의<br>∙ G7은 2023년 5월 일본 히로시마에서 개최된 정상회의에서 생성 AI에 관한 국제규범 마련과<br>정보공유를 위해 ‘히로시마 AI 프로세스’를 출범**<br>∙ 기업의 자발적 채택을 위해 마련된 이번 행동강령은 기반모델과 생성 AI를 포함한 첨단 AI 시스템의<br>위험 식별과 완화에 필요한 조치를 포함</p> <br><p id='36' data-category='list' style='font-size:14px'>* 주요 7개국(G7)은 미국, 일본, 독일, 영국, 프랑스, 이탈리아, 캐나다를 의미<br>** 5월 정상회의에는 한국, 호주, 베트남 등을 포함한 8개국이 초청을 받았으나, AI 국제 행동강령에는 우선 G7 국가만 포함하여 채택</p> <br><p id='37' data-category='list' style='font-size:18px'>n G7은 행동강령을 통해 아래의 조치를 제시했으며, 빠르게 발전하는 기술에 대응할 수 있도록<br>이해관계자 협의를 통해 필요에 따라 개정할 예정</p> <br><p id='38' data-category='list' style='font-size:16px'>∙ 첨단 AI 시스템의 개발 과정에서 AI 수명주기 전반에 걸쳐 위험을 평가 및 완화하는 조치를 채택하고,<br>첨단 AI 시스템의 출시와 배포 이후 취약점과 오용 사고, 오용 유형을 파악해 완화<br>∙ 첨단 AI 시스템의 성능과 한계를 공개하고 적절하거나 부적절한 사용영역을 알리는 방법으로 투명성을<br>보장하고 책임성을 강화<br>∙ 산업계, 정부, 시민사회, 학계를 포함해 첨단 AI 시스템을 개발하는 조직 간 정보공유와 사고 발생 시<br>신고를 위해 협력하고, 위험 기반 접근방식을 토대로 개인정보보호 정책과 위험 완화 조치를 포함하는<br>AI 거버넌스와 위험 관리 정책을 마련<br>∙ AI 수명주기 전반에 걸쳐 물리보안, 사이버보안, 내부자 위협 보안을 포함한 강력한 보안 통제 구현<br>∙ 사용자가 AI 생성 콘텐츠를 식별할 수 있도록 워터마크를 비롯하여 기술적으로 가능한 기법으로<br>신뢰할 수 있는 콘텐츠 인증과 출처 확인 메커니즘을 개발 및 구축<br>∙ 사회적 위험과 안전·보안 문제를 완화하는 연구와 효과적인 완화 대책에 우선 투자하고, 기후 위기<br>대응, 세계 보건과 교육 등 세계적 난제 해결을 위한 첨단 AI 시스템을 우선 개발<br>∙ 국제 기술 표준의 개발 및 채택을 가속화하고, 개인정보와 지식재산권 보호를 위해 데이터 입력과 수집<br>시 적절한 보호 장치 구현</p> <p id='39' data-category='paragraph' style='font-size:16px'>☞ 출처: G7, Hiroshima Process International Code of Conduct for Advanced AI Systems, 2023.10.30.</p>' metadata={'page': 5}\n",
      "page_content='<table id='41' style='font-size:14px'><tr><td>1. 정책/법제</td><td>2. 기업/산업</td><td>3. 기술/연구</td><td>4. 인력/교육</td></tr></table> <br><h1 id='42' style='font-size:22px'>영국 AI 안전성 정상회의에 참가한 28개국, AI 위험에 공동 대응 선언</h1> <p id='43' data-category='paragraph' style='font-size:18px'>KEY Contents</p> <p id='44' data-category='list' style='font-size:18px'>n 영국 블레츨리 파크에서 개최된 AI 안전성 정상회의에 참가한 28개국들이 AI 안전 보장을<br>위한 협력 방안을 담은 블레츨리 선언을 발표</p> <br><p id='45' data-category='list' style='font-size:18px'>n 첨단 AI를 개발하는 국가와 기업들은 AI 시스템에 대한 안전 테스트 계획에 합의했으며,<br>영국의 AI 안전 연구소가 전 세계 국가와 협력해 테스트를 주도할 예정</p> <p id='46' data-category='paragraph' style='font-size:20px'>£ AI 안전성 정상회의 참가국들, 블레츨리 선언 통해 AI 안전 보장을 위한 협력에 합의</p> <p id='47' data-category='list' style='font-size:18px'>n 2023년 11월 1~2일 영국 블레츨리 파크에서 열린 AI 안전성 정상회의(AI Safety Summit)에<br>참가한 28개국 대표들이 AI 위험 관리를 위한 ‘블레츨리 선언’을 발표</p> <br><p id='48' data-category='list' style='font-size:16px'>∙ 선언은 AI 안전 보장을 위해 국가, 국제기구, 기업, 시민사회, 학계를 포함한 모든 이해관계자의 협력이<br>중요하다고 강조했으며, 특히 최첨단 AI 시스템 개발 기업은 안전 평가를 비롯한 적절한 조치를 취하여<br>AI 시스템의 안전을 보장할 책임이 있다고 지적<br>∙ 각국은 AI 안전 보장을 위해 첨단 AI 개발기업의 투명성 향상, 적절한 평가지표와 안전 테스트 도구<br>개발, 공공부문 역량 구축과 과학 연구개발 등의 분야에서 협력하기로 합의</p> <p id='49' data-category='paragraph' style='font-size:20px'>£ 영국 총리, 정부 주도의 첨단 AI 시스템 안전 테스트 계획 발표</p> <p id='50' data-category='list' style='font-size:18px'>n 리시 수낙 영국 총리는 AI 안전성 정상회의를 마무리하며 첨단 AI 모델에 대한 안전성 시험 계획<br>수립과 테스트 수행을 주도할 영국 AI 안전 연구소의 출범을 발표</p> <br><p id='51' data-category='list' style='font-size:16px'>∙ 첨단 AI 모델의 안전 테스트는 국가 안보와 안전, 사회적 피해를 포함한 여러 잠재적 유해 기능에 대한<br>시험을 포함하며, 참석자들은 정부 주도의 외부 안전 테스트에 합의<br>∙ 각국 정부는 테스트와 기타 안전 연구를 위한 공공부문 역량에 투자하고, 테스트 결과가 다른 국가와<br>관련된 경우 해당 국가와 결과를 공유하며, 적절한 시기에 공동 표준 개발을 위해 노력하기로 합의</p> <br><p id='52' data-category='list' style='font-size:18px'>n 참가국들은 튜링상을 수상한 AI 학자인 요슈아 벤지오 교수가 주도하는 ‘과학의 현황(State of<br>the Science)’ 보고서 작성에도 합의했으며, 보고서를 통해 첨단 AI의 위험과 가능성에 관한<br>기존 연구를 과학적으로 평가하고 향후 AI 안전 연구를 위한 우선순위를 제시할 계획</p> <p id='53' data-category='list' style='font-size:18px'>n 한국은 영국 정부와 6개월 뒤에 온라인으로 AI 미니 정상회의를 공동 개최하기로 합의했으며,<br>프랑스 정부와는 1년 후 대면 정상회의를 개최할 예정</p> <p id='54' data-category='paragraph' style='font-size:14px'>☞ 출처: Gov.uk, The Bletchley Declaration by Countries Attending the AI Safety Summit, 1-2 November 2023, 2023.11.01.<br>Gov.uk, World leaders, top AI companies set out plan for safety testing of frontier as first global AI Safety Summit<br>concludes, 2023.11.02.</p>' metadata={'page': 6}\n"
     ]
    }
   ],
   "source": [
    "for doc in split_docs[:6]:\n",
    "    print(doc)"
   ]
  },
  {
   "cell_type": "code",
   "execution_count": 4,
   "metadata": {},
   "outputs": [
    {
     "name": "stdout",
     "output_type": "stream",
     "text": [
      "<h1 id='0' style='font-size:14px'>2023년 12월호</h1>\n",
      "{'page': 1}\n"
     ]
    }
   ],
   "source": [
    "# 첫번째 문서의 내용 출력\n",
    "print(split_docs[0].page_content)\n",
    "# 첫번째 문서의 메타데이터 출력\n",
    "print(split_docs[0].metadata)"
   ]
  },
  {
   "cell_type": "code",
   "execution_count": 5,
   "metadata": {},
   "outputs": [
    {
     "data": {
      "text/plain": [
       "Document(metadata={'page': 4}, page_content=\"<table id='14' style='font-size:14px'><tr><td>1. 정책/법제</td><td>2. 기업/산업</td><td>3. 기술/연구</td><td>4. 인력/교육</td></tr></table> <br><h1 id='15' style='font-size:22px'>미국, 안전하고 신뢰할 수 있는 AI 개발과 사용에 관한 행정명령 발표</h1> <br><p id='16' data-category='paragraph' style='font-size:20px'>KEY Contents</p> <p id='17' data-category='list' style='font-size:18px'>n 미국 바이든 대통령이 ‘안전하고 신뢰할 수 있는 AI 개발과 사용에 관한 행정명령’에 서명하고<br>광범위한 행정 조치를 명시<br>n 행정명령은 △AI의 안전과 보안 기준 마련 △개인정보보호 △형평성과 시민권 향상 △소비자<br>보호 △노동자 지원 △혁신과 경쟁 촉진 △국제협력을 골자로 함</p> <p id='18' data-category='paragraph' style='font-size:20px'>£ 바이든 대통령, AI 행정명령 통해 안전하고 신뢰할 수 있는 AI 개발과 활용 추진</p> <p id='19' data-category='list' style='font-size:18px'>n 미국 바이든 대통령이 2023년 10월 30일 연방정부 차원에서 안전하고 신뢰할 수 있는 AI 개발과<br>사용을 보장하기 위한 행정명령을 발표</p> <br><p id='20' data-category='list' style='font-size:16px'>∙ 행정명령은 △AI의 안전과 보안 기준 마련 △개인정보보호 △형평성과 시민권 향상 △소비자 보호<br>△노동자 지원 △혁신과 경쟁 촉진 △국제협력에 관한 내용을 포괄</p> <br><p id='21' data-category='list' style='font-size:18px'>n (AI 안전과 보안 기준) 강력한 AI 시스템을 개발하는 기업에게 안전 테스트 결과와 시스템에 관한<br>주요 정보를 미국 정부와 공유할 것을 요구하고, AI 시스템의 안전성과 신뢰성 확인을 위한 표준 및<br>AI 생성 콘텐츠 표시를 위한 표준과 모범사례 확립을 추진</p> <br><p id='22' data-category='list' style='font-size:18px'>∙ △1026 플롭스(FLOPS, Floating Point Operation Per Second)를 초과하는 컴퓨팅 성능 또는 생물학적<br>서열 데이터를 주로 사용하고 1023플롭스를 초과하는 컴퓨팅 성능을 사용하는 모델 △단일 데이터센터에서<br>1,000Gbit/s 이상의 네트워킹으로 연결되며 AI 훈련에서 이론상 최대 1020 플롭스를 처리할 수 있는<br>컴퓨팅 용량을 갖춘 컴퓨팅 클러스터가 정보공유 요구대상</p> <br><p id='23' data-category='list' style='font-size:18px'>n (형평성과 시민권 향상) 법률, 주택, 보건 분야에서 AI의 무책임한 사용으로 인한 차별과 편견 및 기타<br>문제를 방지하는 조치를 확대</p> <br><p id='24' data-category='list' style='font-size:16px'>∙ 형사사법 시스템에서 AI 사용 모범사례를 개발하고, 주택 임대 시 AI 알고리즘 차별을 막기 위한 명확한<br>지침을 제공하며, 보건복지 부문에서 책임 있는 AI 배포와 사용을 위한 전략을 마련</p> <br><p id='25' data-category='list' style='font-size:18px'>n (소비자 보호와 근로자 지원) 의료 분야에서 책임 있는 AI 사용을 촉진하고 맞춤형 개인교습 등 학교<br>내 AI 교육 도구 관련 자원을 개발하며, AI로 인한 근로자 피해를 완화하고 이점을 극대화하는 원칙과<br>모범사례를 마련</p> <p id='26' data-category='list' style='font-size:18px'>n (혁신과 경쟁 촉진) 국가AI연구자원(National Artificial Intelligence Research Resource, NAIRR)*을<br>통해 미국 전역의 AI 연구를 촉진하고, 중소기업과 개발자에 기술과 인프라를 지원</p> <br><p id='27' data-category='list' style='font-size:16px'>* 국가 차원에서 AI 연구 인프라를 확충해 더 많은 AI 연구자에게 인프라를 지원하는 프로그램<br>∙ 비자 기준과 인터뷰 절차의 현대화와 간소화로 AI 관련 주요 분야의 전문 지식을 갖춘 외국인들이 미국에서<br>공부하고 취업할 수 있도록 지원</p> <br><p id='28' data-category='paragraph' style='font-size:14px'>☞ 출처 : The White House, Executive Order on the Safe, Secure, and Trustworthy Development and Use of<br>Artificial Intelligence (E.O. 14110), 2023.10.30.</p>\")"
      ]
     },
     "execution_count": 5,
     "metadata": {},
     "output_type": "execute_result"
    }
   ],
   "source": [
    "split_docs[3]"
   ]
  },
  {
   "cell_type": "markdown",
   "metadata": {},
   "source": [
    "다음은, 신한라이프 사업방법서로 이미지형 PDF 문서를 로드하고 분절하는 예제를 살펴보겠습니다.\n",
    "\n",
    "- 파일명: `사업방법서_신한(간편가입)홈닥터의료비보장보험(무배당, 갱신형)_20240401_P14.pdf`\n",
    "\n"
   ]
  },
  {
   "cell_type": "code",
   "execution_count": 6,
   "metadata": {},
   "outputs": [
    {
     "name": "stdout",
     "output_type": "stream",
     "text": [
      "문서의 수: 14\n"
     ]
    }
   ],
   "source": [
    "# 대상 이미지 PDF 파일 로드. 파일의 경로와 분할 방식 입력\n",
    "loader = UpstageLayoutAnalysisLoader(\"data/사업방법서_신한(간편가입)홈닥터의료비보장보험(무배당, 갱신형)_20240401_P14.pdf\", split=\"page\", use_ocr=True)\n",
    "\n",
    "# 페이지 별 문서 로드\n",
    "split_docs = loader.load()  # or loader.lazy_load()\n",
    "\n",
    "print(f\"문서의 수: {len(split_docs)}\")"
   ]
  },
  {
   "cell_type": "code",
   "execution_count": 7,
   "metadata": {},
   "outputs": [
    {
     "data": {
      "text/plain": [
       "{'page': 2}"
      ]
     },
     "execution_count": 7,
     "metadata": {},
     "output_type": "execute_result"
    }
   ],
   "source": [
    "split_docs[1].metadata"
   ]
  },
  {
   "cell_type": "code",
   "execution_count": 8,
   "metadata": {},
   "outputs": [
    {
     "data": {
      "text/plain": [
       "'<table id=\\'11\\' style=\\'font-size:16px\\'><tr><td></td><td colspan=\"3\">· 급여의료비지원금(5백만원이상, 최초1 회한) : 200만원 · 급여의료비지원금(1 천만원이상, 최초1 회한) : 500만원</td><td></td></tr><tr><td>계약승낙 여부</td><td colspan=\"3\">일반 상품 대비 질문항목(고지)을 간소화하여 인수기준을 완화하여, 지병이나 기왕력이 있어도 가입할 수 있습니다.</td><td>피보험자의 건강상태 및 직 업에 따라서 청약에 대한 승 낙을 거절할 수 있습니다.</td></tr><tr><td rowspan=\"2\">보험료예시</td><td colspan=\"4\">주계약 15년 갱신형, 종속특약(순수보장형) 15년 갱신형, 월납기준</td></tr><tr><td>남자</td><td>여자</td><td>남자</td><td>여자</td></tr><tr><td>40세</td><td></td><td></td><td></td><td></td></tr><tr><td>50세</td><td></td><td></td><td></td><td></td></tr><tr><td>60세</td><td></td><td></td><td></td><td></td></tr><tr><td rowspan=\"2\">보험료예시</td><td colspan=\"4\">주계약 15년 갱신형, 종속특약(건강환급형) 5년 갱신형, 월납기준</td></tr><tr><td>남자</td><td>여자</td><td>남자</td><td>여자</td></tr><tr><td>40세</td><td></td><td></td><td></td><td></td></tr><tr><td>50세</td><td></td><td></td><td></td><td></td></tr><tr><td>60세</td><td></td><td></td><td></td><td></td></tr></table> <p id=\\'12\\' data-category=\\'paragraph\\' style=\\'font-size:16px\\'>위 내용에 대하여 모집자는 계약자에게 충분히 설명하였고, 계약자는 설명 받은 내용을 이해하였음을 확인합니다.</p> <table id=\\'13\\' style=\\'font-size:20px\\'><tr><td>[모집자 확인] 보험설계사</td><td>은(는) 위 내용에 대하여 계약자 에게 설명하였습니다.</td></tr><tr><td></td><td>20 년 월 일 보험설계사 (인/서명)</td></tr><tr><td>[계약자 확인] 보험설계사</td><td>으(로)부터 위 내용에 대하여 설명을 들었습니다. 20 년 월 일 계약자 (인/서명)</td></tr></table>'"
      ]
     },
     "execution_count": 8,
     "metadata": {},
     "output_type": "execute_result"
    }
   ],
   "source": [
    "split_docs[11].page_content"
   ]
  },
  {
   "cell_type": "code",
   "execution_count": 9,
   "metadata": {},
   "outputs": [
    {
     "name": "stdout",
     "output_type": "stream",
     "text": [
      "page_content='<h1 id='0' style='font-size:18px'>신한(간편가입)홈닥터의료비보장보험<br>(무배당, 갱신형)</h1> <p id='1' data-category='paragraph' style='font-size:14px'>신한라이프생명보험주식회사</p>' metadata={'page': 1}\n",
      "page_content='<h1 id='2' style='font-size:14px'>사 업 방 법 서</h1>' metadata={'page': 2}\n",
      "page_content='<h1 id='3' style='font-size:20px'>사업방법서 별지</h1> <br><h1 id='4' style='font-size:22px'>신한(간편가입)홈닥터의료비보장보험(무배당) 갱신형)</h1> <h1 id='5' style='font-size:18px'>1 보험종목의 명칭</h1> <br><table id='6' style='font-size:16px'><tr><td>구분</td><td>명칭</td><td colspan=\"3\">보험종목</td></tr><tr><td rowspan=\"2\">주계약</td><td rowspan=\"2\">신한홈닥터 의료비보장보험 (무배당, 갱신형)</td><td colspan=\"3\">일반심사형</td></tr><tr><td colspan=\"3\">간편심사(335)형</td></tr><tr><td rowspan=\"10\">종속특약</td><td rowspan=\"10\">신한홈닥터 의료비보장보험 플러스특약 (최초1회) (무배당, 갱신형)</td><td rowspan=\"5\">일반심사형</td><td>급여의료비지원금 (1 백만원이상, 최초1 회한) 보장계약</td><td>순수보장형, 건강환급형</td></tr><tr><td>급여의료비지원금 (2백만원이상, 최초1 회한) 보장계약</td><td>순수보장형</td></tr><tr><td>급여의료비지원금 (3백만원이상, 최초 1 회한) 보장계약</td><td>순수보장형</td></tr><tr><td>급여의료비지원금 (5백만원이상, 최초1 회한) 보장계약</td><td>순수보장형</td></tr><tr><td>급여의료비지원금 (1 천만원이상, 최초1회한) 보장계약</td><td>순수보장형</td></tr><tr><td rowspan=\"5\">간편심사(335)형</td><td>급여의료비지원금 (1 백만원이상, 최초1 회한) 보장계약</td><td>순수보장형, 건강환급형</td></tr><tr><td>급여의료비지원금 (2백만원이상, 최초1회한) 보장계약</td><td>순수보장형</td></tr><tr><td>급여의료비지원금 (3백만원이상, 최초1회한) 보장계약</td><td>순수보장형</td></tr><tr><td>급여의료비지원금 (5백만원이상, 최초1회한) 보장계약</td><td>순수보장형</td></tr><tr><td>급여의료비지원금 (1 천만원이상, 최초1회한) 보장계약</td><td>순수보장형</td></tr></table> <p id='7' data-category='list' style='font-size:14px'>(주) 1. 이 계약을 최초로 체결하는 경우에는 \"최초계약\"이라 하며, 이후 계약의 보험기간 만료 후 「13.<br>계약의 갱신에 관한 사항」에 따라 갱신된 경우에는 \"갱신계약\"이라 한다.<br>2. \"간편심사(335)형\"의 경우 상품명 신한 다음에 \"(간편가입)\"을 부가한다.</p>' metadata={'page': 3}\n",
      "page_content='<h1 id='10' style='font-size:22px'>2. 보험기간, 보험료 납입기간, 피보험자 가입나이 및 보험료 납입주기</h1> <br><p id='11' data-category='paragraph' style='font-size:18px'>[주계약 및 종속특약의 \"급여의료비지원금 (1백만원이상, 최초1회한) 보장계약\"을 제외한 보장계약]<br>가. 주계약</p> <table id='12' style='font-size:14px'><tr><td colspan=\"9\">가입가능 조건</td></tr><tr><td>유형1</td><td>유형2</td><td>유형3</td><td>유형4</td><td>보험기간</td><td>보험료 납입기간</td><td>남자나이</td><td>여자나이</td><td>보험료 납입주기</td></tr><tr><td rowspan=\"6\">주계약</td><td rowspan=\"3\">일반 심사형</td><td>-</td><td>최초계약</td><td>15년만기</td><td>전기납</td><td colspan=\"2\">만15세 ~ 70세</td><td rowspan=\"6\">월납</td></tr><tr><td rowspan=\"2\">-</td><td rowspan=\"2\">갱신계약</td><td>15년만기</td><td>전기납</td><td colspan=\"2\">30세 ~ 84세</td></tr><tr><td>100세만기</td><td>전기납</td><td colspan=\"2\">85세 ~ 99세</td></tr><tr><td rowspan=\"3\">간편 심사형</td><td>-</td><td>최초계약</td><td>15년만기</td><td>전기납</td><td colspan=\"2\">30세 ~ 70세</td></tr><tr><td rowspan=\"2\">-</td><td rowspan=\"2\">갱신계약</td><td>15년만기</td><td>전기납</td><td colspan=\"2\">45세 ~ 84세</td></tr><tr><td>100세만기</td><td>전기납</td><td colspan=\"2\">85세 ~ 99세</td></tr></table> <p id='13' data-category='paragraph' style='font-size:16px'>나. 종속특약<br>① 5년만기</p> <table id='14' style='font-size:14px'><tr><td colspan=\"9\">가입가능 조건</td></tr><tr><td>유형1</td><td>유형2</td><td>유형3</td><td>유형4</td><td>보험기간</td><td>보험료 납입기간</td><td>남자나이</td><td>여자나이</td><td>보험료 납입주기</td></tr><tr><td rowspan=\"6\">종속특약</td><td rowspan=\"3\">일반 심사형</td><td rowspan=\"3\">순수 보장형</td><td>최초계약</td><td>5년만기</td><td>전기납</td><td colspan=\"2\">만15세 ~ 70세</td><td rowspan=\"6\">월납</td></tr><tr><td rowspan=\"2\">갱신계약</td><td>5년만기</td><td>전기납</td><td colspan=\"2\">20세 ~ 94세</td></tr><tr><td>100세만기</td><td>전기납</td><td colspan=\"2\">95세 ~ 99세</td></tr><tr><td rowspan=\"3\">간편 심사형</td><td rowspan=\"3\">순수 보장형</td><td>최초계약</td><td>5년만기</td><td>전기납</td><td colspan=\"2\">30세 ~ 70세</td></tr><tr><td rowspan=\"2\">갱신계약</td><td>5년만기</td><td>전기납</td><td colspan=\"2\">35세 ~ 94세</td></tr><tr><td>100세만기</td><td>전기납</td><td colspan=\"2\">95세 ~ 99세</td></tr></table> <p id='15' data-category='paragraph' style='font-size:18px'>15년만기</p> <table id='16' style='font-size:14px'><tr><td colspan=\"9\">가입가능 조건</td></tr><tr><td>유형1</td><td>유형2</td><td>유형3</td><td>유형4</td><td>보험기간</td><td>보험료 납입기간</td><td>남자나이</td><td>여자나이</td><td>보험료 납입주기</td></tr><tr><td rowspan=\"6\">종속특약</td><td rowspan=\"3\">일반 심사형</td><td rowspan=\"3\">순수 보장형</td><td>최초계약</td><td>15년만기</td><td>전기납</td><td colspan=\"2\">만15세 ~ 70세</td><td rowspan=\"6\">월납</td></tr><tr><td rowspan=\"2\">갱신계약</td><td>15년만기</td><td>전기납</td><td colspan=\"2\">30세 ~ 84세</td></tr><tr><td>100세만기</td><td>전기납</td><td colspan=\"2\">85세 ~ 99세</td></tr><tr><td rowspan=\"3\">간편 심사형</td><td rowspan=\"3\">순수 보장형</td><td>최초계약</td><td>15년만기</td><td>전기납</td><td colspan=\"2\">30세 ~ 70세</td></tr><tr><td rowspan=\"2\">갱신계약</td><td>15년만기</td><td>전기납</td><td colspan=\"2\">45세 ~ 84세</td></tr><tr><td>100세만기</td><td>전기납</td><td colspan=\"2\">85세 ~ 99세</td></tr></table> <h1 id='17' style='font-size:20px'>신한(간편가입)홈닥터의료비보장보험(무배당, 갱신형)2</h1>' metadata={'page': 4}\n",
      "page_content='<h1 id='19' style='font-size:22px'>[종속특약의 \"급여의료비지원금 (1 백만원이상, 최초1회한) 보장계약\"]</h1> <br><h1 id='20' style='font-size:20px'>① 건강환급형</h1> <table id='21' style='font-size:16px'><tr><td colspan=\"9\">가입가능 조건</td></tr><tr><td>유형1</td><td>유형2</td><td>유형3</td><td>유형4</td><td>보험기간</td><td>보험료 납입기간</td><td>남자나이</td><td>여자나이</td><td>보험료 납입주기</td></tr><tr><td rowspan=\"4\">종속특약</td><td rowspan=\"2\">일반 심사형</td><td rowspan=\"2\">건강 환급형</td><td>최초계약</td><td>5년만기</td><td>전기납</td><td colspan=\"2\">만15세 ~ 70세</td><td rowspan=\"4\">월납</td></tr><tr><td>갱신계약</td><td>5년만기</td><td>전기납</td><td colspan=\"2\">20세 ~ 94세</td></tr><tr><td rowspan=\"2\">간편 심사형</td><td rowspan=\"2\">건강 환급형</td><td>최초계약</td><td>5년만기</td><td>전기납</td><td colspan=\"2\">30세 ~ 70세</td></tr><tr><td>갱신계약</td><td>5년만기</td><td>전기납</td><td>35세</td><td>~ 94세</td></tr></table> <br><h1 id='22' style='font-size:18px'>② 순수보장형</h1> <table id='23' style='font-size:16px'><tr><td colspan=\"9\">가입가능 조건</td></tr><tr><td>유형1</td><td>유형2</td><td>유형3</td><td>유형4</td><td>보험기간</td><td>보험료 납입기간</td><td>남자나이</td><td>여자나이</td><td>보험료 납입주기</td></tr><tr><td rowspan=\"6\">종속특약</td><td rowspan=\"3\">일반 심사형</td><td rowspan=\"3\">순수 보장형</td><td>최초계약</td><td>15년만기</td><td>전기납</td><td colspan=\"2\">만15세 ~ 70세</td><td rowspan=\"6\">월납</td></tr><tr><td rowspan=\"2\">갱신계약</td><td>15년만기</td><td>전기납</td><td colspan=\"2\">30세 ~ 84세</td></tr><tr><td>100세만기</td><td>전기납</td><td colspan=\"2\">85세 ~ 99세</td></tr><tr><td rowspan=\"3\">간편 심사형</td><td rowspan=\"3\">순수 보장형</td><td>최초계약</td><td>15년만기</td><td>전기납</td><td colspan=\"2\">30세 ~ 70세</td></tr><tr><td rowspan=\"2\">갱신계약</td><td>15년만기</td><td>전기납</td><td colspan=\"2\">45세 ~ 84세</td></tr><tr><td>100세만기</td><td>전기납</td><td colspan=\"2\">85세 ~ 99세</td></tr></table> <table id='24' style='font-size:18px'><tr><td colspan=\"9\">가입불가 조건</td></tr><tr><td>유형1</td><td>유형2</td><td>유형3</td><td>유형4</td><td>보험기간</td><td>보험료 납입기간</td><td>남자나이</td><td>여자나이</td><td>보험료 납입주기</td></tr><tr><td>종속특약</td><td>일반 심사형</td><td>건강 환급형</td><td>최초계약</td><td>5년만기</td><td>전기납</td><td>만15세 ~ 31세</td><td>만15세 ~ 20세</td><td>월납</td></tr></table> <br><p id='25' data-category='list' style='font-size:20px'>(주) 1. 주계약은 15년만기 갱신형으로 하며, 종속특약의 \"급여의료비지원금 (1 백만원이상, 최초1회<br>한) 보장계약\"의 경우 건강환급형은 5년만기 갱신형, 순수보장형은 15년만기 갱신형으로 하<br>며, \"급여의료비지원금 (1 백만원이상, 최초1회한) 보장계약\"을 제외한 모든 보장계약은 \"급여<br>의료비지원금 (1 백만원이상, 최초1회한) 보장계약\"과 동일한 보험기간으로 한다. 계약이 갱신<br>된 경우 갱신되기 직전 계약과 동일한 보험기간으로 갱신한다.<br>다만, \"급여의료비지원금 (1 백만원이상, 최초1회한) 보장계약\"의 \"건강환급형\"의 경우 갱신시<br>점에서 100세까지의 잔여보험기간이 5년 이하인 경우에는 \"순수보장형\"으로 갱신한다.</p> <br><p id='26' data-category='list' style='font-size:20px'>2. 「13. 갱신에 관한 사항」에서 정한 최종 갱신계약의 보험기간 만료일까지가 \"15년만기의 경우<br>15년\", \"5년만기의 경우 5년\" 미만일 경우에는 갱신일(갱신 전 계약의 보험기간 만료일의 다<br>음날)부터 최종 갱신계약의 보험기간 만료일까지를 주계약 및 종속특약의 보험기간으로 한다.</p> <br><p id='27' data-category='list' style='font-size:20px'>3. 판매시 위의 사항을 일부 제한할 수 있다.</p> <p id='28' data-category='paragraph' style='font-size:14px'>신한(간편가입)홈닥터의료비보장보험(무배당, 갱신형)3 -</p>' metadata={'page': 5}\n"
     ]
    }
   ],
   "source": [
    "for doc in split_docs[:5]:\n",
    "    print(doc)"
   ]
  },
  {
   "cell_type": "markdown",
   "metadata": {},
   "source": [
    "이번에는, 신한라이프 사업방법서로 텍스트형 PDF 문서를 로드하고 분절하는 예제를 살펴보겠습니다.\n",
    "\n",
    "- 파일명: `사업방법서_(간편)신한통합건강보장보험원(ONE)(무배당, 해약환급금 미지급형)_20240503_v0.1_P34.pdf`\n"
   ]
  },
  {
   "cell_type": "code",
   "execution_count": 10,
   "metadata": {},
   "outputs": [
    {
     "name": "stdout",
     "output_type": "stream",
     "text": [
      "문서의 수: 34\n"
     ]
    }
   ],
   "source": [
    "# 신한라이프 사업방법서로 텍스트형 PDF 문서를 로드\n",
    "\n",
    "loader = UpstageLayoutAnalysisLoader(\"data/사업방법서_(간편)신한통합건강보장보험원(ONE)(무배당, 해약환급금 미지급형)_20240503_v0.1_P34.pdf\", split=\"page\")\n",
    "docs = loader.load()\n",
    "print(f\"문서의 수: {len(docs)}\")"
   ]
  },
  {
   "cell_type": "code",
   "execution_count": 11,
   "metadata": {},
   "outputs": [
    {
     "data": {
      "text/plain": [
       "{'page': 1}"
      ]
     },
     "execution_count": 11,
     "metadata": {},
     "output_type": "execute_result"
    }
   ],
   "source": [
    "docs[0].metadata"
   ]
  },
  {
   "cell_type": "code",
   "execution_count": 12,
   "metadata": {},
   "outputs": [
    {
     "data": {
      "text/plain": [
       "\"<h1 id='0' style='font-size:18px'>(간편)신한통합건강보장보험<br>원(ONE)<br>(무배당, 해약환급금 미지급형)</h1> <p id='1' data-category='paragraph' style='font-size:14px'>신한라이프생명보험주식회사</p>\""
      ]
     },
     "execution_count": 12,
     "metadata": {},
     "output_type": "execute_result"
    }
   ],
   "source": [
    "docs[0].page_content"
   ]
  },
  {
   "cell_type": "code",
   "execution_count": 13,
   "metadata": {},
   "outputs": [
    {
     "data": {
      "text/plain": [
       "'<p id=\\'50\\' data-category=\\'paragraph\\' style=\\'font-size:18px\\'>사. 회사는 이 계약을 체결할 때 계약자에게 해약환급금 내용에 대한 충분한 설명을 하고<br>(별첨 제1호)에 따른 별도의 계약자확인서를 받는다.</p> <h1 id=\\'51\\' style=\\'font-size:20px\\'>15. 기 타</h1> <br><p id=\\'52\\' data-category=\\'list\\' style=\\'font-size:18px\\'>가. 보험기간, 보험료 납입기간, 보험료 납입주기 외 피보험자 가입나이, 가입한도 등 계약인<br>수관련 사항은 회사가 별도로 정한 기준에 따라 제한될 수 있다.</p> <br><p id=\\'53\\' data-category=\\'list\\' style=\\'font-size:18px\\'>나. 회사는 상품명칭 앞에 계약자가 원하는 이름이나 판매경로(금융기관보험대리점 제외) 등<br>을 인식할 수 있는 용어를 덧붙여 안내자료 및 보험증권 등에 기재할 수 있다.</p> <br><p id=\\'54\\' data-category=\\'list\\' style=\\'font-size:18px\\'>다. 제휴업체 회원들을 대상으로 보험계약이 이루어질 경우 상품명 앞에 제휴업체명을 넣어<br>서 사용할 수 있다.</p> <br><h1 id=\\'55\\' style=\\'font-size:18px\\'>라. 특약운영에 관한 사항</h1> <br><p id=\\'56\\' data-category=\\'list\\' style=\\'font-size:18px\\'>① 이 주계약은 사망시 지급되는 금액이 없는 특약을 부가할 수 있다.<br>② “①”에 따라 이 주계약에 부가한 특약은 피보험자가 보험기간 중 사망한 경우 \"사망률<br>\"을 적용하여 계약자적립액이 지급되지 않는 대신, 해당 특약을 부가할 때 계약자에게<br>「\"사망률\"을 적용하지 않아 계약자적립액이 지급되는 동일한 보장 내용의 상품(이하, \"<br>사망시 계약자적립액 지급형 상품\"이라 한다)」 대비 「보험료 및 사망시 지급금액 등의<br>수준」에 대하여 안내하고 (별첨 제4호)에 따른 별도의 계약자확인서를 받는다.<br>③ “②”의 \"사망시 계약자적립액 지급형 상품\"은 비교 안내를 위한 상품으로 판매는 하지<br>않는다.</p>'"
      ]
     },
     "execution_count": 13,
     "metadata": {},
     "output_type": "execute_result"
    }
   ],
   "source": [
    "docs[6].page_content"
   ]
  },
  {
   "cell_type": "code",
   "execution_count": 14,
   "metadata": {},
   "outputs": [
    {
     "name": "stdout",
     "output_type": "stream",
     "text": [
      "(간편)신한통합건강보장보험 원(ONE) (무배당, 해약환급금 미지급형) 신한라이프생명보험주식회사\n"
     ]
    }
   ],
   "source": [
    "from bs4 import BeautifulSoup\n",
    "\n",
    "def extract_text(html_content):\n",
    "    # BeautifulSoup 객체 생성\n",
    "    soup = BeautifulSoup(html_content, 'html.parser')\n",
    "\n",
    "    # 모든 태그의 텍스트 추출 및 공백으로 연결\n",
    "    text_content = ' '.join(soup.stripped_strings)\n",
    "    return text_content\n",
    "\n",
    "# 함수 사용 예\n",
    "html_content = docs[0].page_content\n",
    "extracted_text = extract_text(html_content)\n",
    "print(extracted_text)"
   ]
  },
  {
   "cell_type": "code",
   "execution_count": 15,
   "metadata": {},
   "outputs": [
    {
     "data": {
      "text/plain": [
       "'<h1 id=\\'10\\' style=\\'font-size:22px\\'>2. 보험기간, 보험료 납입기간, 피보험자 가입나이 및 보험료 납입주기</h1> <br><p id=\\'11\\' data-category=\\'paragraph\\' style=\\'font-size:18px\\'>[주계약 및 종속특약의 \"급여의료비지원금 (1백만원이상, 최초1회한) 보장계약\"을 제외한 보장계약]<br>가. 주계약</p> <table id=\\'12\\' style=\\'font-size:14px\\'><tr><td colspan=\"9\">가입가능 조건</td></tr><tr><td>유형1</td><td>유형2</td><td>유형3</td><td>유형4</td><td>보험기간</td><td>보험료 납입기간</td><td>남자나이</td><td>여자나이</td><td>보험료 납입주기</td></tr><tr><td rowspan=\"6\">주계약</td><td rowspan=\"3\">일반 심사형</td><td>-</td><td>최초계약</td><td>15년만기</td><td>전기납</td><td colspan=\"2\">만15세 ~ 70세</td><td rowspan=\"6\">월납</td></tr><tr><td rowspan=\"2\">-</td><td rowspan=\"2\">갱신계약</td><td>15년만기</td><td>전기납</td><td colspan=\"2\">30세 ~ 84세</td></tr><tr><td>100세만기</td><td>전기납</td><td colspan=\"2\">85세 ~ 99세</td></tr><tr><td rowspan=\"3\">간편 심사형</td><td>-</td><td>최초계약</td><td>15년만기</td><td>전기납</td><td colspan=\"2\">30세 ~ 70세</td></tr><tr><td rowspan=\"2\">-</td><td rowspan=\"2\">갱신계약</td><td>15년만기</td><td>전기납</td><td colspan=\"2\">45세 ~ 84세</td></tr><tr><td>100세만기</td><td>전기납</td><td colspan=\"2\">85세 ~ 99세</td></tr></table> <p id=\\'13\\' data-category=\\'paragraph\\' style=\\'font-size:16px\\'>나. 종속특약<br>① 5년만기</p> <table id=\\'14\\' style=\\'font-size:14px\\'><tr><td colspan=\"9\">가입가능 조건</td></tr><tr><td>유형1</td><td>유형2</td><td>유형3</td><td>유형4</td><td>보험기간</td><td>보험료 납입기간</td><td>남자나이</td><td>여자나이</td><td>보험료 납입주기</td></tr><tr><td rowspan=\"6\">종속특약</td><td rowspan=\"3\">일반 심사형</td><td rowspan=\"3\">순수 보장형</td><td>최초계약</td><td>5년만기</td><td>전기납</td><td colspan=\"2\">만15세 ~ 70세</td><td rowspan=\"6\">월납</td></tr><tr><td rowspan=\"2\">갱신계약</td><td>5년만기</td><td>전기납</td><td colspan=\"2\">20세 ~ 94세</td></tr><tr><td>100세만기</td><td>전기납</td><td colspan=\"2\">95세 ~ 99세</td></tr><tr><td rowspan=\"3\">간편 심사형</td><td rowspan=\"3\">순수 보장형</td><td>최초계약</td><td>5년만기</td><td>전기납</td><td colspan=\"2\">30세 ~ 70세</td></tr><tr><td rowspan=\"2\">갱신계약</td><td>5년만기</td><td>전기납</td><td colspan=\"2\">35세 ~ 94세</td></tr><tr><td>100세만기</td><td>전기납</td><td colspan=\"2\">95세 ~ 99세</td></tr></table> <p id=\\'15\\' data-category=\\'paragraph\\' style=\\'font-size:18px\\'>15년만기</p> <table id=\\'16\\' style=\\'font-size:14px\\'><tr><td colspan=\"9\">가입가능 조건</td></tr><tr><td>유형1</td><td>유형2</td><td>유형3</td><td>유형4</td><td>보험기간</td><td>보험료 납입기간</td><td>남자나이</td><td>여자나이</td><td>보험료 납입주기</td></tr><tr><td rowspan=\"6\">종속특약</td><td rowspan=\"3\">일반 심사형</td><td rowspan=\"3\">순수 보장형</td><td>최초계약</td><td>15년만기</td><td>전기납</td><td colspan=\"2\">만15세 ~ 70세</td><td rowspan=\"6\">월납</td></tr><tr><td rowspan=\"2\">갱신계약</td><td>15년만기</td><td>전기납</td><td colspan=\"2\">30세 ~ 84세</td></tr><tr><td>100세만기</td><td>전기납</td><td colspan=\"2\">85세 ~ 99세</td></tr><tr><td rowspan=\"3\">간편 심사형</td><td rowspan=\"3\">순수 보장형</td><td>최초계약</td><td>15년만기</td><td>전기납</td><td colspan=\"2\">30세 ~ 70세</td></tr><tr><td rowspan=\"2\">갱신계약</td><td>15년만기</td><td>전기납</td><td colspan=\"2\">45세 ~ 84세</td></tr><tr><td>100세만기</td><td>전기납</td><td colspan=\"2\">85세 ~ 99세</td></tr></table> <h1 id=\\'17\\' style=\\'font-size:20px\\'>신한(간편가입)홈닥터의료비보장보험(무배당, 갱신형)2</h1>'"
      ]
     },
     "execution_count": 15,
     "metadata": {},
     "output_type": "execute_result"
    }
   ],
   "source": [
    "split_docs[3].page_content"
   ]
  },
  {
   "cell_type": "code",
   "execution_count": 16,
   "metadata": {},
   "outputs": [
    {
     "name": "stdout",
     "output_type": "stream",
     "text": [
      "4. 배당에 관한 사항 해당사항 없음 5. 보험료에 관한 사항 보험료는 이 계약의 “보험료 및 해약환급금 산출방법서”에서 정한 방법에 따라 피보험자의 성별, 나이, 보험기간, 보험료 납입기간 및 보험료 납입주기 등에 따라 산출된 금액을 말한다. 6. 보험료 할인에 관한 사항 해당사항 없음 7. 보험료 선납에 관한 사항 계약자는 당월분을 제외하여 6개월분 이하의 보험료를 선납할 수 있으며, 3개월분 이상의 보 험료를 선납하는 경우에는 해당보험료를 계약체결시점의 평균공시이율로 할인하여 영수한다. 8. 해지계약의 부활(효력회복)에 관한 사항 약관 [보험료의 납입이 연체되는 경우 납입최고(독촉)와 계약의 해지] 조항에 따라 계약이 해 지되었으나 해약환급금을 받지 않은 경우(보험계약대출 등에 따라 해약환급금이 차감되었으 나 받지 않은 경우 또는 해약환급금이 없는 경우를 포함한다) 계약자는 해지된 날부터 3년 이내에 회사가 정한 절차에 따라 계약의 부활(효력회복)을 청약할 수 있다. 회사가 부활(효력 회복)을 승낙한 때에 계약자는 부활(효력회복)을 청약한 날까지의 연체된 보험료에 「9. 연체 이율에 관한 사항」에서 정한 연체이율로 계산한 금액을 더하여 납입하여야 한다. 9. 연체이율에 관한 사항 이 계약의 부활(효력회복)시 연체보험료에 대한 연체이율은 연체기간에 대하여 “계약체결시점 의 평균공시이율+1%” 범위 내에서 각 상품별로 회사가 정하는 이율로 한다. 10. 중도인출에 관한 사항 해당사항 없음 11. 공시이율에 관한 사항 해당사항 없음\n"
     ]
    }
   ],
   "source": [
    "extracted_text = extract_text(docs[3].page_content)\n",
    "print(extracted_text)"
   ]
  },
  {
   "cell_type": "code",
   "execution_count": 17,
   "metadata": {},
   "outputs": [
    {
     "ename": "ValueError",
     "evalue": "Failed to send request: 415 Client Error: Unsupported Media Type for url: https://api.upstage.ai/v1/document-ai/layout-analysis",
     "output_type": "error",
     "traceback": [
      "\u001b[0;31m---------------------------------------------------------------------------\u001b[0m",
      "\u001b[0;31mHTTPError\u001b[0m                                 Traceback (most recent call last)",
      "File \u001b[0;32m~/Dev/langchain-kr/venv/lib/python3.11/site-packages/langchain_upstage/layout_analysis_parsers.py:196\u001b[0m, in \u001b[0;36mUpstageLayoutAnalysisParser._get_response\u001b[0;34m(self, files)\u001b[0m\n\u001b[1;32m    193\u001b[0m     response \u001b[38;5;241m=\u001b[39m requests\u001b[38;5;241m.\u001b[39mpost(\n\u001b[1;32m    194\u001b[0m         LAYOUT_ANALYSIS_URL, headers\u001b[38;5;241m=\u001b[39mheaders, files\u001b[38;5;241m=\u001b[39mfiles\n\u001b[1;32m    195\u001b[0m     )\n\u001b[0;32m--> 196\u001b[0m \u001b[43mresponse\u001b[49m\u001b[38;5;241;43m.\u001b[39;49m\u001b[43mraise_for_status\u001b[49m\u001b[43m(\u001b[49m\u001b[43m)\u001b[49m\n\u001b[1;32m    198\u001b[0m result \u001b[38;5;241m=\u001b[39m response\u001b[38;5;241m.\u001b[39mjson()\u001b[38;5;241m.\u001b[39mget(\u001b[38;5;124m\"\u001b[39m\u001b[38;5;124melements\u001b[39m\u001b[38;5;124m\"\u001b[39m, [])\n",
      "File \u001b[0;32m~/Dev/langchain-kr/venv/lib/python3.11/site-packages/requests/models.py:1024\u001b[0m, in \u001b[0;36mResponse.raise_for_status\u001b[0;34m(self)\u001b[0m\n\u001b[1;32m   1023\u001b[0m \u001b[38;5;28;01mif\u001b[39;00m http_error_msg:\n\u001b[0;32m-> 1024\u001b[0m     \u001b[38;5;28;01mraise\u001b[39;00m HTTPError(http_error_msg, response\u001b[38;5;241m=\u001b[39m\u001b[38;5;28mself\u001b[39m)\n",
      "\u001b[0;31mHTTPError\u001b[0m: 415 Client Error: Unsupported Media Type for url: https://api.upstage.ai/v1/document-ai/layout-analysis",
      "\nDuring handling of the above exception, another exception occurred:\n",
      "\u001b[0;31mValueError\u001b[0m                                Traceback (most recent call last)",
      "Cell \u001b[0;32mIn[17], line 4\u001b[0m\n\u001b[1;32m      1\u001b[0m \u001b[38;5;66;03m# 아래아한글 파일 문서를 로드\u001b[39;00m\n\u001b[1;32m      3\u001b[0m loader \u001b[38;5;241m=\u001b[39m UpstageLayoutAnalysisLoader(\u001b[38;5;124m\"\u001b[39m\u001b[38;5;124mdata/(첨부5) 2024년도 하반기 중남미 지역기구 파견인턴 선발 공고.hwpx\u001b[39m\u001b[38;5;124m\"\u001b[39m, split\u001b[38;5;241m=\u001b[39m\u001b[38;5;124m\"\u001b[39m\u001b[38;5;124mpage\u001b[39m\u001b[38;5;124m\"\u001b[39m)\n\u001b[0;32m----> 4\u001b[0m docs \u001b[38;5;241m=\u001b[39m \u001b[43mloader\u001b[49m\u001b[38;5;241;43m.\u001b[39;49m\u001b[43mload\u001b[49m\u001b[43m(\u001b[49m\u001b[43m)\u001b[49m\n\u001b[1;32m      5\u001b[0m \u001b[38;5;28mprint\u001b[39m(\u001b[38;5;124mf\u001b[39m\u001b[38;5;124m\"\u001b[39m\u001b[38;5;124m문서의 수: \u001b[39m\u001b[38;5;132;01m{\u001b[39;00m\u001b[38;5;28mlen\u001b[39m(docs)\u001b[38;5;132;01m}\u001b[39;00m\u001b[38;5;124m\"\u001b[39m)\n",
      "File \u001b[0;32m~/Dev/langchain-kr/venv/lib/python3.11/site-packages/langchain_upstage/layout_analysis.py:180\u001b[0m, in \u001b[0;36mUpstageLayoutAnalysisLoader.load\u001b[0;34m(self)\u001b[0m\n\u001b[1;32m    171\u001b[0m blob \u001b[38;5;241m=\u001b[39m Blob\u001b[38;5;241m.\u001b[39mfrom_path(\u001b[38;5;28mself\u001b[39m\u001b[38;5;241m.\u001b[39mfile_path)\n\u001b[1;32m    173\u001b[0m parser \u001b[38;5;241m=\u001b[39m UpstageLayoutAnalysisParser(\n\u001b[1;32m    174\u001b[0m     \u001b[38;5;28mself\u001b[39m\u001b[38;5;241m.\u001b[39mapi_key,\n\u001b[1;32m    175\u001b[0m     split\u001b[38;5;241m=\u001b[39m\u001b[38;5;28mself\u001b[39m\u001b[38;5;241m.\u001b[39msplit,\n\u001b[0;32m   (...)\u001b[0m\n\u001b[1;32m    178\u001b[0m     exclude\u001b[38;5;241m=\u001b[39m\u001b[38;5;28mself\u001b[39m\u001b[38;5;241m.\u001b[39mexclude,\n\u001b[1;32m    179\u001b[0m )\n\u001b[0;32m--> 180\u001b[0m \u001b[38;5;28;01mreturn\u001b[39;00m \u001b[38;5;28;43mlist\u001b[39;49m\u001b[43m(\u001b[49m\u001b[43mparser\u001b[49m\u001b[38;5;241;43m.\u001b[39;49m\u001b[43mlazy_parse\u001b[49m\u001b[43m(\u001b[49m\u001b[43mblob\u001b[49m\u001b[43m,\u001b[49m\u001b[43m \u001b[49m\u001b[43mis_batch\u001b[49m\u001b[38;5;241;43m=\u001b[39;49m\u001b[38;5;28;43;01mTrue\u001b[39;49;00m\u001b[43m)\u001b[49m\u001b[43m)\u001b[49m\n",
      "File \u001b[0;32m~/Dev/langchain-kr/venv/lib/python3.11/site-packages/langchain_upstage/layout_analysis_parsers.py:413\u001b[0m, in \u001b[0;36mUpstageLayoutAnalysisParser.lazy_parse\u001b[0;34m(self, blob, is_batch)\u001b[0m\n\u001b[1;32m    411\u001b[0m             \u001b[38;5;28;01mraise\u001b[39;00m \u001b[38;5;167;01mValueError\u001b[39;00m(\u001b[38;5;124m\"\u001b[39m\u001b[38;5;124mBlob path is required for non-PDF files.\u001b[39m\u001b[38;5;124m\"\u001b[39m)\n\u001b[1;32m    412\u001b[0m         \u001b[38;5;28;01mwith\u001b[39;00m \u001b[38;5;28mopen\u001b[39m(blob\u001b[38;5;241m.\u001b[39mpath, \u001b[38;5;124m\"\u001b[39m\u001b[38;5;124mrb\u001b[39m\u001b[38;5;124m\"\u001b[39m) \u001b[38;5;28;01mas\u001b[39;00m f:\n\u001b[0;32m--> 413\u001b[0m             elements \u001b[38;5;241m=\u001b[39m \u001b[38;5;28;43mself\u001b[39;49m\u001b[38;5;241;43m.\u001b[39;49m\u001b[43m_get_response\u001b[49m\u001b[43m(\u001b[49m\u001b[43m{\u001b[49m\u001b[38;5;124;43m\"\u001b[39;49m\u001b[38;5;124;43mdocument\u001b[39;49m\u001b[38;5;124;43m\"\u001b[39;49m\u001b[43m:\u001b[49m\u001b[43m \u001b[49m\u001b[43mf\u001b[49m\u001b[43m}\u001b[49m\u001b[43m)\u001b[49m\n\u001b[1;32m    415\u001b[0m         \u001b[38;5;28;01myield from\u001b[39;00m \u001b[38;5;28mself\u001b[39m\u001b[38;5;241m.\u001b[39m_page_document(elements)\n\u001b[1;32m    417\u001b[0m \u001b[38;5;28;01melse\u001b[39;00m:\n",
      "File \u001b[0;32m~/Dev/langchain-kr/venv/lib/python3.11/site-packages/langchain_upstage/layout_analysis_parsers.py:208\u001b[0m, in \u001b[0;36mUpstageLayoutAnalysisParser._get_response\u001b[0;34m(self, files)\u001b[0m\n\u001b[1;32m    204\u001b[0m     \u001b[38;5;28;01mreturn\u001b[39;00m elements\n\u001b[1;32m    206\u001b[0m \u001b[38;5;28;01mexcept\u001b[39;00m requests\u001b[38;5;241m.\u001b[39mRequestException \u001b[38;5;28;01mas\u001b[39;00m req_err:\n\u001b[1;32m    207\u001b[0m     \u001b[38;5;66;03m# Handle any request-related exceptions\u001b[39;00m\n\u001b[0;32m--> 208\u001b[0m     \u001b[38;5;28;01mraise\u001b[39;00m \u001b[38;5;167;01mValueError\u001b[39;00m(\u001b[38;5;124mf\u001b[39m\u001b[38;5;124m\"\u001b[39m\u001b[38;5;124mFailed to send request: \u001b[39m\u001b[38;5;132;01m{\u001b[39;00mreq_err\u001b[38;5;132;01m}\u001b[39;00m\u001b[38;5;124m\"\u001b[39m)\n\u001b[1;32m    209\u001b[0m \u001b[38;5;28;01mexcept\u001b[39;00m json\u001b[38;5;241m.\u001b[39mJSONDecodeError \u001b[38;5;28;01mas\u001b[39;00m json_err:\n\u001b[1;32m    210\u001b[0m     \u001b[38;5;66;03m# Handle JSON decode errors\u001b[39;00m\n\u001b[1;32m    211\u001b[0m     \u001b[38;5;28;01mraise\u001b[39;00m \u001b[38;5;167;01mValueError\u001b[39;00m(\u001b[38;5;124mf\u001b[39m\u001b[38;5;124m\"\u001b[39m\u001b[38;5;124mFailed to decode JSON response: \u001b[39m\u001b[38;5;132;01m{\u001b[39;00mjson_err\u001b[38;5;132;01m}\u001b[39;00m\u001b[38;5;124m\"\u001b[39m)\n",
      "\u001b[0;31mValueError\u001b[0m: Failed to send request: 415 Client Error: Unsupported Media Type for url: https://api.upstage.ai/v1/document-ai/layout-analysis"
     ]
    }
   ],
   "source": [
    "# 아래아한글 파일 문서를 로드\n",
    "\n",
    "loader = UpstageLayoutAnalysisLoader(\"data/(첨부5) 2024년도 하반기 중남미 지역기구 파견인턴 선발 공고.hwpx\", split=\"page\")\n",
    "docs = loader.load()\n",
    "print(f\"문서의 수: {len(docs)}\")"
   ]
  },
  {
   "cell_type": "code",
   "execution_count": null,
   "metadata": {},
   "outputs": [],
   "source": [
    "docs[0].metadata"
   ]
  },
  {
   "cell_type": "code",
   "execution_count": null,
   "metadata": {},
   "outputs": [],
   "source": [
    "docs[0].page_content"
   ]
  },
  {
   "cell_type": "markdown",
   "metadata": {},
   "source": [
    "## 문서 로드 시간 비교\n",
    "\n",
    "신한라이프 사업방법서로 이미지형 PDF 문서를 로드하여 각각의 소요시간을 비교해 봅니다.\n",
    "\n",
    "- 파일명: `사업방법서_신한(간편가입)홈닥터의료비보장보험(무배당, 갱신형)_20240401_P14.pdf`"
   ]
  },
  {
   "cell_type": "code",
   "execution_count": null,
   "metadata": {},
   "outputs": [],
   "source": [
    "# UpstageLayoutAnalysisLoader 와 PyPDFLoader의 로드 시간 비교\n",
    "from langchain.document_loaders import PyPDFLoader\n",
    "from langchain_upstage import UpstageLayoutAnalysisLoader\n",
    "import time\n",
    "\n",
    "# PyPDFLoader 로드 시간 측정\n",
    "pypdf_loader = PyPDFLoader(\"data/사업방법서_신한(간편가입)홈닥터의료비보장보험(무배당, 갱신형)_20240401_P14.pdf\")\n",
    "start_time = time.time()\n",
    "split_docs = pypdf_loader.load_and_split()\n",
    "end_time = time.time()\n",
    "pypdf_duration = end_time - start_time\n",
    "print(f\"PyPDFLoader 문서의 수: {len(split_docs)}, 로드 시간: {pypdf_duration:.2f}초\")\n",
    "\n",
    "# UpstageLayoutAnalysisLoader 로드 시간 측정\n",
    "upstage_loader = UpstageLayoutAnalysisLoader(\"data/사업방법서_신한(간편가입)홈닥터의료비보장보험(무배당, 갱신형)_20240401_P14.pdf\", split=\"page\")\n",
    "start_time = time.time()\n",
    "docs = upstage_loader.load()\n",
    "end_time = time.time()\n",
    "upstage_duration = end_time - start_time\n",
    "print(f\"UpstageLayoutAnalysisLoader 문서의 수: {len(docs)}, 로드 시간: {upstage_duration:.2f}초\")\n",
    "\n",
    "# 시간 비교 출력\n",
    "# print(f\"로드 시간 비교: PyPDFLoader - {pypdf_duration:.2f}초, UpstageLayoutAnalysisLoader - {upstage_duration:.2f}초\")\n",
    "if pypdf_duration < upstage_duration:\n",
    "    slower_by = ((upstage_duration - pypdf_duration) / pypdf_duration) * 100\n",
    "    print(f\"UpstageLayoutAnalysisLoader는 PyPDFLoader보다 {slower_by:.2f}% 느립니다.\")\n",
    "else:\n",
    "    slower_by = ((pypdf_duration - upstage_duration) / upstage_duration) * 100\n",
    "    print(f\"PyPDFLoader는 UpstageLayoutAnalysisLoader보다 {slower_by:.2f}% 느립니다.\")"
   ]
  },
  {
   "cell_type": "markdown",
   "metadata": {},
   "source": [
    "**그러나 UpstageLayoutAnalysisLoader는 PyPDFLoader가 못가지고오는 이미지 PDF의 텍스트를 가져옴**"
   ]
  },
  {
   "cell_type": "code",
   "execution_count": null,
   "metadata": {},
   "outputs": [],
   "source": [
    "# PyPDFLoader의 텍스트 추출 예, page_content가 비었고 메타데이터만 출력됨\n",
    "split_docs[0]\n"
   ]
  },
  {
   "cell_type": "code",
   "execution_count": null,
   "metadata": {},
   "outputs": [],
   "source": [
    "# UpstageLayoutAnalysisLoader의 텍스트 추출 예, page_content가 출력됨\n",
    "docs[0]"
   ]
  }
 ],
 "metadata": {
  "kernelspec": {
   "display_name": "base",
   "language": "python",
   "name": "python3"
  },
  "language_info": {
   "codemirror_mode": {
    "name": "ipython",
    "version": 3
   },
   "file_extension": ".py",
   "mimetype": "text/x-python",
   "name": "python",
   "nbconvert_exporter": "python",
   "pygments_lexer": "ipython3",
   "version": "3.11.1"
  }
 },
 "nbformat": 4,
 "nbformat_minor": 2
}
