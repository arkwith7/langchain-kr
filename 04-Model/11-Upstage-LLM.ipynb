{
 "cells": [
  {
   "cell_type": "code",
   "execution_count": 1,
   "id": "3bf28f9e",
   "metadata": {},
   "outputs": [
    {
     "data": {
      "text/plain": [
       "True"
      ]
     },
     "execution_count": 1,
     "metadata": {},
     "output_type": "execute_result"
    }
   ],
   "source": [
    "import os\n",
    "# API KEY를 환경변수로 관리하기 위한 설정 파일\n",
    "from dotenv import load_dotenv\n",
    "\n",
    "# API KEY 정보로드. .env에 선언된 것 가져옴\n",
    "load_dotenv()"
   ]
  },
  {
   "cell_type": "markdown",
   "id": "2550920c-09d8-48b3-be2f-b36362c37989",
   "metadata": {},
   "source": [
    "## Upstage\n",
    "\n",
    "Upstage는 인간 수준 이상의 성능 LLM 구성 요소를 제공하는 데 특화된 선도적인 인공 지능(AI) 회사입니다.\n",
    "\n",
    "Upstage 사의 Upstage Solar는 작지만 강력한 LLM(대형 언어 모델)입니다.\n",
    "\n",
    "패키지를 설치합니다 `langchain-upstage`.\n",
    "```\n",
    "pip install -U langchain-upstage\n",
    "```\n",
    "\n",
    "다음 환경 변수를 설정해야 합니다.\n",
    "\n",
    "`UPSTAGE_API_KEY`: Upstage 콘솔 의 Upstage API 키입니다 .\n",
    "\n",
    "객체를 생성할 때 다음을 옵션 값을 지정할 수 있습니다. 옵션에 대한 상세 설명은 다음과 같습니다.\n",
    "\n",
    "`temperature`\n",
    "\n",
    "- 사용할 샘플링 온도는 0과 2 사이에서 선택합니다. 0.8과 같은 높은 값은 출력을 더 무작위하게 만들고, 0.2와 같은 낮은 값은 출력을 더 집중되고 결정론적으로 만듭니다.\n",
    "\n",
    "`max_tokens`\n",
    "\n",
    "- 채팅 완성에서 생성할 토큰의 최대 개수입니다.\n",
    "\n",
    "`base_url`: 적용 가능한 모델 url\n",
    "\n",
    "- 링크: https://developers.upstage.ai/docs/apis/chat\n"
   ]
  },
  {
   "cell_type": "markdown",
   "id": "9c8c49e4",
   "metadata": {},
   "source": [
    "## Create an Upstage LLM"
   ]
  },
  {
   "cell_type": "code",
   "execution_count": 2,
   "id": "5fc161c2",
   "metadata": {},
   "outputs": [
    {
     "name": "stderr",
     "output_type": "stream",
     "text": [
      "/home/samuel/Dev/langchain-kr/venv/lib/python3.11/site-packages/langchain_core/_api/deprecation.py:119: LangChainDeprecationWarning: The method `BaseChatModel.predict` was deprecated in langchain-core 0.1.7 and will be removed in 0.3.0. Use invoke instead.\n",
      "  warn_deprecated(\n"
     ]
    },
    {
     "name": "stdout",
     "output_type": "stream",
     "text": [
      "[답변]: 서울.\n"
     ]
    }
   ],
   "source": [
    "from langchain_upstage import ChatUpstage\n",
    "# from openai import OpenAI\n",
    "\n",
    "# Fetch the API key from environment variables, \n",
    "# .env 파일에 설정한 UPSTAGE_API_KEY 가져옴\n",
    "upstage_api_key = os.getenv('UPSTAGE_API_KEY')\n",
    "\n",
    "\n",
    "# 객체 생성\n",
    "# llm = ChatUpstage()\n",
    "llm = ChatUpstage(\n",
    "    api_key=upstage_api_key,\n",
    "    base_url=\"https://api.upstage.ai/v1/solar\"\n",
    ")\n",
    "# client = OpenAI(\n",
    "#     api_key=upstage_api_key,\n",
    "#     base_url=\"https://api.upstage.ai/v1/solar\"\n",
    "# )\n",
    "\n",
    "\n",
    "# 질의내용\n",
    "question = \"대한민국의 수도는 뭐야?\"\n",
    "\n",
    "# 질의\n",
    "print(f\"[답변]: {llm.predict(question)}\")"
   ]
  },
  {
   "cell_type": "markdown",
   "id": "124d74d9",
   "metadata": {},
   "source": [
    "## 프롬프트 템플릿의 활용\n"
   ]
  },
  {
   "cell_type": "markdown",
   "id": "b1f8aedc",
   "metadata": {},
   "source": [
    "`PromptTemplate`\n",
    "\n",
    "- 사용자의 입력 변수를 사용하여 완전한 프롬프트 문자열을 만드는 데 사용되는 템플릿입니다\n",
    "- 사용법\n",
    "  - `template`: 템플릿 문자열입니다. 이 문자열 내에서 중괄호 `{}`는 변수를 나타냅니다.\n",
    "  - `input_variables`: 중괄호 안에 들어갈 변수의 이름을 리스트로 정의합니다.\n",
    "\n",
    "`input_variables`\n",
    "\n",
    "- input_variables는 PromptTemplate에서 사용되는 변수의 이름을 정의하는 리스트입니다.\n",
    "- 사용법: 리스트 형식으로 변수 이름을 정의합니다.\n"
   ]
  },
  {
   "cell_type": "code",
   "execution_count": 3,
   "id": "5b3f01e7",
   "metadata": {},
   "outputs": [
    {
     "data": {
      "text/plain": [
       "PromptTemplate(input_variables=['country'], template='{country}의 수도는 뭐야?')"
      ]
     },
     "execution_count": 3,
     "metadata": {},
     "output_type": "execute_result"
    }
   ],
   "source": [
    "from langchain.prompts import PromptTemplate\n",
    "\n",
    "# 질문 템플릿 형식 정의\n",
    "template = \"{country}의 수도는 뭐야?\"\n",
    "\n",
    "# 템플릿 완성\n",
    "prompt = PromptTemplate.from_template(template=template)\n",
    "prompt"
   ]
  },
  {
   "cell_type": "markdown",
   "id": "9d700a6e",
   "metadata": {},
   "source": [
    "### LLMChain 객체\n"
   ]
  },
  {
   "cell_type": "markdown",
   "id": "4b3cc045",
   "metadata": {},
   "source": [
    "`LLMChain`\n",
    "\n",
    "- LLMChain은 특정 PromptTemplate와 연결된 체인 객체를 생성합니다\n",
    "- 사용법\n",
    "  - `prompt`: 앞서 정의한 PromptTemplate 객체를 사용합니다.\n",
    "  - `llm`: 언어 모델을 나타내며, 이 예시에서는 이미 어딘가에서 정의된 것으로 보입니다.\n"
   ]
  },
  {
   "cell_type": "code",
   "execution_count": 4,
   "id": "572eb96d",
   "metadata": {},
   "outputs": [
    {
     "name": "stderr",
     "output_type": "stream",
     "text": [
      "/home/samuel/Dev/langchain-kr/venv/lib/python3.11/site-packages/langchain_core/_api/deprecation.py:119: LangChainDeprecationWarning: The class `LLMChain` was deprecated in LangChain 0.1.17 and will be removed in 0.3.0. Use RunnableSequence, e.g., `prompt | llm` instead.\n",
      "  warn_deprecated(\n"
     ]
    }
   ],
   "source": [
    "from langchain.chains import LLMChain\n",
    "\n",
    "# 연결된 체인(Chain)객체 생성\n",
    "llm_chain = LLMChain(prompt=prompt, llm=llm)"
   ]
  },
  {
   "cell_type": "markdown",
   "id": "1e98f9d8",
   "metadata": {},
   "source": [
    "### run()\n"
   ]
  },
  {
   "cell_type": "markdown",
   "id": "cfff17ad",
   "metadata": {},
   "source": [
    "`run()` 함수로 템플릿 프롬프트 실행\n"
   ]
  },
  {
   "cell_type": "code",
   "execution_count": 5,
   "id": "b2ddbf7e",
   "metadata": {},
   "outputs": [
    {
     "name": "stderr",
     "output_type": "stream",
     "text": [
      "/home/samuel/Dev/langchain-kr/venv/lib/python3.11/site-packages/langchain_core/_api/deprecation.py:119: LangChainDeprecationWarning: The method `Chain.run` was deprecated in langchain 0.1.0 and will be removed in 0.3.0. Use invoke instead.\n",
      "  warn_deprecated(\n"
     ]
    },
    {
     "data": {
      "text/plain": [
       "'일본의 수도는 도쿄(Tokyo)입니다.'"
      ]
     },
     "execution_count": 5,
     "metadata": {},
     "output_type": "execute_result"
    }
   ],
   "source": [
    "# 체인 실행: run()\n",
    "llm_chain.run(country=\"일본\")"
   ]
  },
  {
   "cell_type": "code",
   "execution_count": 6,
   "id": "e9269fac",
   "metadata": {},
   "outputs": [
    {
     "data": {
      "text/plain": [
       "'캐나다의 수도는 오타와(Ottawa)입니다.'"
      ]
     },
     "execution_count": 6,
     "metadata": {},
     "output_type": "execute_result"
    }
   ],
   "source": [
    "# 체인 실행: run()\n",
    "llm_chain.run(country=\"캐나다\")"
   ]
  },
  {
   "cell_type": "markdown",
   "id": "23c0a261",
   "metadata": {},
   "source": [
    "`predict()` 함수로 `run()` 함수를 대체할 수 있습니다.\n"
   ]
  },
  {
   "cell_type": "code",
   "execution_count": 7,
   "id": "45cd4873",
   "metadata": {},
   "outputs": [
    {
     "data": {
      "text/plain": [
       "'서울특별시가 대한민국의 수도입니다.'"
      ]
     },
     "execution_count": 7,
     "metadata": {},
     "output_type": "execute_result"
    }
   ],
   "source": [
    "llm_chain.predict(country=\"대한민국\")"
   ]
  },
  {
   "cell_type": "markdown",
   "id": "2ac9a157",
   "metadata": {},
   "source": [
    "### apply()\n",
    "\n",
    "`apply()` 함수로 여러개의 입력에 대한 처리를 한 번에 수행할 수 있습니다.\n"
   ]
  },
  {
   "cell_type": "code",
   "execution_count": 8,
   "id": "b656d241",
   "metadata": {},
   "outputs": [
    {
     "data": {
      "text/plain": [
       "[{'text': '호주의 수도는 캔버라(Canberra)입니다.'},\n",
       " {'text': \"중국(People's Republic of China)의 수도는 베이징(Beijing)입니다.\"},\n",
       " {'text': '네덜란드의 수도는 암스테르담이 아니라 헤이그(덴하그)입니다.'}]"
      ]
     },
     "execution_count": 8,
     "metadata": {},
     "output_type": "execute_result"
    }
   ],
   "source": [
    "input_list = [{\"country\": \"호주\"}, {\"country\": \"중국\"}, {\"country\": \"네덜란드\"}]\n",
    "\n",
    "llm_chain.apply(input_list)"
   ]
  },
  {
   "cell_type": "markdown",
   "id": "622efee7",
   "metadata": {},
   "source": [
    "`text` 키 값으로 결과 뭉치가 반환되었음을 확인할 수 있습니다.\n",
    "\n",
    "이를 반복문으로 출력한다면 다음과 같습니다.\n"
   ]
  },
  {
   "cell_type": "code",
   "execution_count": 9,
   "id": "01abd39c",
   "metadata": {},
   "outputs": [
    {
     "name": "stdout",
     "output_type": "stream",
     "text": [
      "호주의 수도는 캔버라(Canberra)입니다.\n",
      "중국의 수도는 베이징(北京)입니다.\n",
      "암스테르담\n"
     ]
    }
   ],
   "source": [
    "# input_list 에 대한 결과 반환\n",
    "result = llm_chain.apply(input_list)\n",
    "\n",
    "# 반복문으로 결과 출력\n",
    "for res in result:\n",
    "    print(res[\"text\"].strip())"
   ]
  },
  {
   "cell_type": "markdown",
   "id": "be38852a",
   "metadata": {},
   "source": [
    "### `generate()`\n"
   ]
  },
  {
   "cell_type": "markdown",
   "id": "dd758206",
   "metadata": {},
   "source": [
    "`generate()` 는 문자열 대신에 LLMResult를 반환하는 점을 제외하고는 apply와 유사합니다.\n",
    "\n",
    "LLMResult는 토큰 사용량과 종료 이유와 같은 유용한 생성 정보를 자주 포함하고 있습니다.\n"
   ]
  },
  {
   "cell_type": "code",
   "execution_count": 10,
   "id": "2457653b",
   "metadata": {},
   "outputs": [
    {
     "name": "stdout",
     "output_type": "stream",
     "text": [
      "generations=[[ChatGeneration(text='호주의 수도는 캔버라(Canberra)입니다.', generation_info={'finish_reason': 'stop', 'logprobs': None}, message=AIMessage(content='호주의 수도는 캔버라(Canberra)입니다.', response_metadata={'token_usage': {'completion_tokens': 15, 'prompt_tokens': 17, 'total_tokens': 32}, 'model_name': 'solar-1-mini-chat', 'system_fingerprint': None, 'finish_reason': 'stop', 'logprobs': None}, id='run-464b9fa2-5cff-4d9f-8bb4-74bb31c600b9-0', usage_metadata={'input_tokens': 17, 'output_tokens': 15, 'total_tokens': 32}))], [ChatGeneration(text='베이징', generation_info={'finish_reason': 'eos', 'logprobs': None}, message=AIMessage(content='베이징', response_metadata={'token_usage': {'completion_tokens': 3, 'prompt_tokens': 17, 'total_tokens': 20}, 'model_name': 'solar-1-mini-chat', 'system_fingerprint': None, 'finish_reason': 'eos', 'logprobs': None}, id='run-198cc451-e33a-4434-b684-ba592029d56d-0', usage_metadata={'input_tokens': 17, 'output_tokens': 3, 'total_tokens': 20}))], [ChatGeneration(text='암스테르담', generation_info={'finish_reason': 'stop', 'logprobs': None}, message=AIMessage(content='암스테르담', response_metadata={'token_usage': {'completion_tokens': 5, 'prompt_tokens': 19, 'total_tokens': 24}, 'model_name': 'solar-1-mini-chat', 'system_fingerprint': None, 'finish_reason': 'stop', 'logprobs': None}, id='run-89f65273-4982-4606-ab4b-3a093317764d-0', usage_metadata={'input_tokens': 19, 'output_tokens': 5, 'total_tokens': 24}))]] llm_output={'token_usage': {'completion_tokens': 23, 'prompt_tokens': 53, 'total_tokens': 76}, 'model_name': 'solar-1-mini-chat'} run=[RunInfo(run_id=UUID('464b9fa2-5cff-4d9f-8bb4-74bb31c600b9')), RunInfo(run_id=UUID('198cc451-e33a-4434-b684-ba592029d56d')), RunInfo(run_id=UUID('89f65273-4982-4606-ab4b-3a093317764d'))]\n"
     ]
    }
   ],
   "source": [
    "# 입력값\n",
    "input_list = [{\"country\": \"호주\"}, {\"country\": \"중국\"}, {\"country\": \"네덜란드\"}]\n",
    "\n",
    "# input_list 에 대한 결과 반환\n",
    "generated_result = llm_chain.generate(input_list)\n",
    "print(generated_result)"
   ]
  },
  {
   "cell_type": "code",
   "execution_count": 11,
   "id": "c3034ae4",
   "metadata": {},
   "outputs": [
    {
     "data": {
      "text/plain": [
       "[[ChatGeneration(text='호주의 수도는 캔버라(Canberra)입니다.', generation_info={'finish_reason': 'stop', 'logprobs': None}, message=AIMessage(content='호주의 수도는 캔버라(Canberra)입니다.', response_metadata={'token_usage': {'completion_tokens': 15, 'prompt_tokens': 17, 'total_tokens': 32}, 'model_name': 'solar-1-mini-chat', 'system_fingerprint': None, 'finish_reason': 'stop', 'logprobs': None}, id='run-464b9fa2-5cff-4d9f-8bb4-74bb31c600b9-0', usage_metadata={'input_tokens': 17, 'output_tokens': 15, 'total_tokens': 32}))],\n",
       " [ChatGeneration(text='베이징', generation_info={'finish_reason': 'eos', 'logprobs': None}, message=AIMessage(content='베이징', response_metadata={'token_usage': {'completion_tokens': 3, 'prompt_tokens': 17, 'total_tokens': 20}, 'model_name': 'solar-1-mini-chat', 'system_fingerprint': None, 'finish_reason': 'eos', 'logprobs': None}, id='run-198cc451-e33a-4434-b684-ba592029d56d-0', usage_metadata={'input_tokens': 17, 'output_tokens': 3, 'total_tokens': 20}))],\n",
       " [ChatGeneration(text='암스테르담', generation_info={'finish_reason': 'stop', 'logprobs': None}, message=AIMessage(content='암스테르담', response_metadata={'token_usage': {'completion_tokens': 5, 'prompt_tokens': 19, 'total_tokens': 24}, 'model_name': 'solar-1-mini-chat', 'system_fingerprint': None, 'finish_reason': 'stop', 'logprobs': None}, id='run-89f65273-4982-4606-ab4b-3a093317764d-0', usage_metadata={'input_tokens': 19, 'output_tokens': 5, 'total_tokens': 24}))]]"
      ]
     },
     "execution_count": 11,
     "metadata": {},
     "output_type": "execute_result"
    }
   ],
   "source": [
    "# 답변 출력\n",
    "generated_result.generations"
   ]
  },
  {
   "cell_type": "code",
   "execution_count": 12,
   "id": "59487318",
   "metadata": {},
   "outputs": [
    {
     "data": {
      "text/plain": [
       "{'token_usage': {'completion_tokens': 23,\n",
       "  'prompt_tokens': 53,\n",
       "  'total_tokens': 76},\n",
       " 'model_name': 'solar-1-mini-chat'}"
      ]
     },
     "execution_count": 12,
     "metadata": {},
     "output_type": "execute_result"
    }
   ],
   "source": [
    "# 토큰 사용량 출력\n",
    "generated_result.llm_output"
   ]
  },
  {
   "cell_type": "code",
   "execution_count": 13,
   "id": "fe647a6c",
   "metadata": {},
   "outputs": [
    {
     "data": {
      "text/plain": [
       "[RunInfo(run_id=UUID('464b9fa2-5cff-4d9f-8bb4-74bb31c600b9')),\n",
       " RunInfo(run_id=UUID('198cc451-e33a-4434-b684-ba592029d56d')),\n",
       " RunInfo(run_id=UUID('89f65273-4982-4606-ab4b-3a093317764d'))]"
      ]
     },
     "execution_count": 13,
     "metadata": {},
     "output_type": "execute_result"
    }
   ],
   "source": [
    "# run ID 출력\n",
    "generated_result.run"
   ]
  },
  {
   "cell_type": "code",
   "execution_count": 14,
   "id": "810633c1",
   "metadata": {},
   "outputs": [
    {
     "name": "stdout",
     "output_type": "stream",
     "text": [
      "호주의 수도는 캔버라(Canberra)입니다.\n",
      "베이징\n",
      "암스테르담\n"
     ]
    }
   ],
   "source": [
    "# 답변 출력\n",
    "for gen in generated_result.generations:\n",
    "    print(gen[0].text.strip())"
   ]
  },
  {
   "cell_type": "markdown",
   "id": "28a99eed",
   "metadata": {},
   "source": [
    "### 2개 이상의 변수를 템플릿 안에 정의\n"
   ]
  },
  {
   "cell_type": "markdown",
   "id": "f77b1093",
   "metadata": {},
   "source": [
    "2개 이상의 변수를 적용하여 템플릿을 생성할 수 있습니다.\n",
    "\n",
    "이번에는 2개 이상의 변수(`input_variables`) 를 활용하여 템플릿 구성을 해보겠습니다.\n"
   ]
  },
  {
   "cell_type": "code",
   "execution_count": 15,
   "id": "0a9e9a36",
   "metadata": {},
   "outputs": [
    {
     "data": {
      "text/plain": [
       "PromptTemplate(input_variables=['area1', 'area2'], template='{area1} 와 {area2} 의 시차는 몇시간이야?')"
      ]
     },
     "execution_count": 15,
     "metadata": {},
     "output_type": "execute_result"
    }
   ],
   "source": [
    "# 질문 템플릿 형식 정의\n",
    "template = \"{area1} 와 {area2} 의 시차는 몇시간이야?\"\n",
    "\n",
    "# 템플릿 완성\n",
    "prompt = PromptTemplate.from_template(template)\n",
    "prompt"
   ]
  },
  {
   "cell_type": "code",
   "execution_count": 16,
   "id": "cc451ac1",
   "metadata": {},
   "outputs": [],
   "source": [
    "# 연결된 체인(Chain)객체 생성\n",
    "llm_chain = LLMChain(prompt=prompt, llm=llm)"
   ]
  },
  {
   "cell_type": "code",
   "execution_count": 17,
   "id": "d3533451",
   "metadata": {},
   "outputs": [
    {
     "name": "stdout",
     "output_type": "stream",
     "text": [
      "7시간입니다.\n"
     ]
    }
   ],
   "source": [
    "# 체인 실행: run()\n",
    "print(llm_chain.run(area1=\"서울\", area2=\"파리\"))"
   ]
  },
  {
   "cell_type": "code",
   "execution_count": 18,
   "id": "78aaa1eb",
   "metadata": {},
   "outputs": [
    {
     "name": "stdout",
     "output_type": "stream",
     "text": [
      "파리는 그리니치 표준시(GMT)로부터 1시간 빠른 중앙유럽 표준시(CET)에 해당합니다. 뉴욕은 그리니치 표준시(GMT)로부터 5시간 빠른 동부 표준시(EST)에 해당합니다. 따라서 파리에서 뉴욕으로 갈 때 시차를 고려하면, 뉴욕은 파리보다 4시간 빠릅니다.\n",
      "서울 와 하와이 의 시차는 17시간입니다.\n",
      "캔버라와 베이징의 시차는 1시간입니다.\n"
     ]
    }
   ],
   "source": [
    "input_list = [\n",
    "    {\"area1\": \"파리\", \"area2\": \"뉴욕\"},\n",
    "    {\"area1\": \"서울\", \"area2\": \"하와이\"},\n",
    "    {\"area1\": \"켄버라\", \"area2\": \"베이징\"},\n",
    "]\n",
    "\n",
    "# 반복문으로 결과 출력\n",
    "result = llm_chain.apply(input_list)\n",
    "for res in result:\n",
    "    print(res[\"text\"].strip())"
   ]
  },
  {
   "cell_type": "markdown",
   "id": "d1ef6054",
   "metadata": {},
   "source": [
    "## 스트리밍(streaming)\n",
    "\n",
    "스트리밍 옵션은 질의에 대한 답변을 실시간으로 받을 때 유용합니다.\n",
    "\n",
    "다음과 같이 `streaming=True` 로 설정하고 스트리밍으로 답변을 받기 위한 `StreamingStdOutCallbackHandler()` 을 콜백으로 지정합니다.\n"
   ]
  },
  {
   "cell_type": "code",
   "execution_count": 23,
   "id": "14dfb526",
   "metadata": {},
   "outputs": [],
   "source": [
    "from langchain.callbacks.streaming_stdout import StreamingStdOutCallbackHandler\n",
    "\n",
    "# 객체 생성\n",
    "llm = ChatUpstage(\n",
    "    temperature=1,  # 창의성 (0.0 ~ 2.0)\n",
    "    max_tokens=2048,  # 최대 토큰수\n",
    "    api_key=upstage_api_key,\n",
    "    base_url=\"https://api.upstage.ai/v1/solar\",\n",
    "    streaming=True,\n",
    "    callbacks=[StreamingStdOutCallbackHandler()],\n",
    ")"
   ]
  },
  {
   "cell_type": "code",
   "execution_count": 24,
   "id": "62d721f2",
   "metadata": {},
   "outputs": [
    {
     "name": "stdout",
     "output_type": "stream",
     "text": [
      "대한민국, 또는 South Korea는 동아시아의 한반도에 위치한 나라입니다. 한반도는 북쪽으로 북한, 남쪽으로 서해와 동해로 둘러싸여 있습니다. 대한민국은 면적 약 100,313 평방킬로미터(35,491 평방마일), 인구는 약 5,174만 명에 이르는 나라로, 서울에는 약 974만 명이 거주하고 있습니다. 언어는 한국어, 국기는 태극기, 화폐는 한국 원(한국 화폐단위)을 사용합니다. \n",
      "\n",
      "대한민국은 현대적인 시설과 인프라를 갖춘 나라로 잘 알려져 있습니다. 서울은 특히 인구 밀도가 높고, 경제적으로 발달한 도시입니다. 한국과 일본은 문화적, 역사적으로 깊은 관계를 가지고 있으며, 양국은 현대사에서 어려움을 겪기도 했습니다.\n",
      "\n",
      "대한민국 국민은 예의 바르고 친절하며, 예의범절을 중시하는 사회로 알려져 있습니다. 많은 한국인들은 가족 중심적이며, '조상 숭배'라고 불리는 조상들과의 깊은 연결과 존경심을 가지고 있습니다. 한국 문화는 한식, K-pop 음악, 드라마, 영화, 전통 예술 등 다양한 분야에서 세계적으로 인기를 얻고 있습니다.\n",
      "\n",
      "대한민국 사회는 경제적인 격차가 상당합니다. 한국은 경제적으로 부유한 나라로 여겨지지만, 빈부 격차가 크다는 문제가 있습니다. 그러나 전반적으로 교육 수준이 높고, 시민 의식이 높으며, 정치적인 자유와 민주주의가 보장되어 있습니다.\n",
      "\n",
      "현대 한국 역사는 일본에서 독립한 이후부터 현재까지 이어져 왔습니다. 한국은 전쟁, 권위주의 정권, 인권 침해 등 다양한 어려움을 겪었지만, 경제적인 발전과 민주주의의 성장을 이뤄냈습니다. 오늘날 한국은 세계적으로 영향력 있는 나라로서 국제 사회에 기여하고 있습니다.\n",
      "\n",
      "한국 여행은 안전하고 풍부한 경험을 제공하는 나라입니다. 세계적으로 유명한 K-pop 콘서트, 드라마 촬영지, 한강의 아름다운 야경, 역사적인 유적지 등 다양한 관광 명소가 있습니다. 한국은 현대적인 도시와 전통적인 문화가 조화롭게 어우러진 매력적인 나라로, 다양한 매력을 즐길 수 있습니다."
     ]
    }
   ],
   "source": [
    "# 질의내용\n",
    "question = \"대한민국에 대해서 300자 내외로 최대한 상세히 알려줘\"\n",
    "\n",
    "# 스트리밍으로 답변 출력\n",
    "response = llm.predict(question)"
   ]
  }
 ],
 "metadata": {
  "kernelspec": {
   "display_name": "Python 3 (ipykernel)",
   "language": "python",
   "name": "python3"
  },
  "language_info": {
   "codemirror_mode": {
    "name": "ipython",
    "version": 3
   },
   "file_extension": ".py",
   "mimetype": "text/x-python",
   "name": "python",
   "nbconvert_exporter": "python",
   "pygments_lexer": "ipython3",
   "version": "3.11.7"
  }
 },
 "nbformat": 4,
 "nbformat_minor": 5
}
