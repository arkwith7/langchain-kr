{
 "cells": [
  {
   "cell_type": "code",
   "execution_count": 1,
   "metadata": {},
   "outputs": [
    {
     "data": {
      "text/plain": [
       "True"
      ]
     },
     "execution_count": 1,
     "metadata": {},
     "output_type": "execute_result"
    }
   ],
   "source": [
    "# API 키를 환경변수로 관리하기 위한 설정 파일\n",
    "from dotenv import load_dotenv\n",
    "\n",
    "# API 키 정보 로드\n",
    "load_dotenv()"
   ]
  },
  {
   "cell_type": "markdown",
   "metadata": {},
   "source": [
    "## 실습에 활용한 문서\n",
    "\n",
    "소프트웨어정책연구소(SPRi) - 2023년 12월호\n",
    "\n",
    "- 저자: 유재흥(AI정책연구실 책임연구원), 이지수(AI정책연구실 위촉연구원)\n",
    "- 링크: https://spri.kr/posts/view/23669\n",
    "- 파일명: `SPRI_AI_Brief_2023년12월호_F.pdf`\n",
    "\n",
    "신한라이프 사업방법서(텍스트형 PDF, 이미지형 PDF)\n",
    "\n",
    "- 파일명(텍스트형): `사업방법서_(간편)신한통합건강보장보험원(ONE)(무배당, 해약환급금 미지급형)_20240503_v0.1_P34.pdf`\n",
    "- 파일명(이미지형): `사업방법서_신한(간편가입)홈닥터의료비보장보험(무배당, 갱신형)_20240401_P14.pdf`\n"
   ]
  },
  {
   "cell_type": "markdown",
   "metadata": {},
   "source": [
    "## 통합형 Loader 인터페이스\n",
    "\n",
    "- loader 객체: 다양한 로더 도구를 활용하여 loader 객체를 생성합니다.\n",
    "- 생성된 loader 객체의 `load()` 함수는 전체 문서를 로드하여 반환합니다.\n",
    "- 생성된 loader 객체의 `load_and_split()` 함수는 문서를 split 한 결과를 반환합니다.\n",
    "- 반환된 document 구조는 `page_content` 와 `metadata` 속성값을 포함합니다. `page_content` 는 문서의 내용을, `metadata` 는 파일명, 페이지 번호, 그 밖에 유용한 메타정보를 포함합니다.\n"
   ]
  },
  {
   "cell_type": "markdown",
   "metadata": {},
   "source": [
    "## UpstageLayoutAnalysisLoader\n"
   ]
  },
  {
   "cell_type": "markdown",
   "metadata": {},
   "source": [
    "표와 그림을 포함한 모든 문서에서 문서 요소를 감지합니다.\n",
    "\n",
    "먼저, 소프트웨어정책연구소(SPRi) - 2023년 12월호 문서를 로드하고 분절하는 예제를 살펴보겠습니다.\n",
    "\n",
    "- 파일명: `SPRI_AI_Brief_2023년12월호_F.pdf`\n"
   ]
  },
  {
   "cell_type": "code",
   "execution_count": 2,
   "metadata": {},
   "outputs": [
    {
     "name": "stdout",
     "output_type": "stream",
     "text": [
      "문서의 수: 23\n"
     ]
    }
   ],
   "source": [
    "from langchain_upstage import UpstageLayoutAnalysisLoader\n",
    "\n",
    "# 대상 PDF 파일 로드. 파일의 경로와 분할 방식 입력\n",
    "loader = UpstageLayoutAnalysisLoader(\"data/SPRI_AI_Brief_2023년12월호_F.pdf\", split=\"page\")\n",
    "\n",
    "# 페이지 별 문서 로드\n",
    "split_docs = loader.load()  # or loader.lazy_load()\n",
    "\n",
    "print(f\"문서의 수: {len(split_docs)}\")"
   ]
  },
  {
   "cell_type": "code",
   "execution_count": 3,
   "metadata": {},
   "outputs": [
    {
     "name": "stdout",
     "output_type": "stream",
     "text": [
      "page_content='<h1 id='0' style='font-size:14px'>2023년 12 월호</h1>' metadata={'page': 1}\n",
      "page_content='<p id='1' data-category='paragraph' style='font-size:14px'>2023년 12월호</p> <h1 id='2' style='font-size:20px'>Ⅰ . 인공지능 산업 동향 브리프</h1> <h1 id='3' style='font-size:14px'>1. 정책/법제</h1> <br><p id='4' data-category='paragraph' style='font-size:18px'>▹ 미국, 안전하고 신뢰할 수 있는 AI 개발과 사용에 관한 행정명령 발표 ························· 1<br>▹ G7, 히로시마 AI 프로세스를 통해 AI 기업 대상 국제 행동강령에 합의 ··························· 2<br>▹ 영국 AI 안전성 정상회의에 참가한 28개국, AI 위험에 공동 대응 선언 ··························· 3<br>▹ 미국 법원, 예술가들이 생성 AI 기업에 제기한 저작권 소송 기각 ····································· 4<br>▹ 미국 연방거래위원회, 저작권청에 소비자 보호와 경쟁 측면의 AI 의견서 제출 ················· 5<br>▹ EU AI 법 3자 협상, 기반모델 규제 관련 견해차로 난항 ··················································· 6</p> <br><p id='5' data-category='paragraph' style='font-size:14px'>2. 기업/산업</p> <br><p id='6' data-category='paragraph' style='font-size:18px'>▹ 미국 프런티어 모델 포럼, 1,000만 달러 규모의 AI 안전 기금 조성 ································ 7<br>▹ 코히어, 데이터 투명성 확보를 위한 데이터 출처 탐색기 공개 ······································· 8<br>▹ 알리바바 클라우드, 최신 LLM ‘통이치엔원 2.0’ 공개 ······················································ 9<br>▹ 삼성전자, 자체 개발 생성 AI ‘삼성 가우스’ 공개 ··························································· 10<br>▹ 구글, 앤스로픽에 20억 달러 투자로 생성 AI 협력 강화 ················································ 11<br>▹ IDC, 2027년 AI 소프트웨어 매출 2,500억 달러 돌파 전망 ··········································· 12<br>▹ 빌 게이츠, AI 에이전트로 인한 컴퓨터 사용의 패러다임 변화 전망 ································ 13<br>▹ 유튜브, 2024년부터 AI 생성 콘텐츠 표시 의무화 ···························································· 14</p> <br><h1 id='7' style='font-size:14px'>3. 기술/연구</h1> <br><p id='8' data-category='paragraph' style='font-size:18px'>▹ 영국 과학혁신기술부, AI 안전 연구소 설립 발표 ······························································ 15<br>▹ 구글 딥마인드, 범용 AI 모델의 기능과 동작에 대한 분류 체계 발표 ······························ 16<br>▹ 갈릴레오의 LLM 환각 지수 평가에서 GPT-4가 가장 우수 ··········································· 17</p> <p id='9' data-category='paragraph' style='font-size:14px'>4. 인력/교육</p> <br><p id='10' data-category='paragraph' style='font-size:18px'>▹ 영국 옥스퍼드 인터넷 연구소, AI 기술자의 임금이 평균 21% 높아 ······························· 18</p> <h1 id='11' style='font-size:22px'>Ⅱ . 주요 행사</h1> <p id='12' data-category='paragraph' style='font-size:16px'>▹ CES 2024 ····························································································································· 19<br>▹ AIMLA 2024 ························································································································· 19<br>▹ AAAI Conference on Artificial Intelligence ·································································· 19</p>' metadata={'page': 2}\n",
      "page_content='<h1 id='13' style='font-size:14px'>Ⅰ . 인공지능 산업 동향 브리프</h1>' metadata={'page': 3}\n"
     ]
    }
   ],
   "source": [
    "for doc in split_docs[:3]:\n",
    "    print(doc)"
   ]
  },
  {
   "cell_type": "code",
   "execution_count": 4,
   "metadata": {},
   "outputs": [
    {
     "name": "stdout",
     "output_type": "stream",
     "text": [
      "<h1 id='0' style='font-size:14px'>2023년 12 월호</h1>\n",
      "{'page': 1}\n"
     ]
    }
   ],
   "source": [
    "# 첫번째 문서의 내용 출력\n",
    "print(split_docs[0].page_content)\n",
    "# 첫번째 문서의 메타데이터 출력\n",
    "print(split_docs[0].metadata)"
   ]
  },
  {
   "cell_type": "code",
   "execution_count": 5,
   "metadata": {},
   "outputs": [
    {
     "data": {
      "text/plain": [
       "Document(metadata={'page': 4}, page_content=\"<table id='14' style='font-size:14px'><tr><td>1. 정책/법제</td><td>2. 기업/산업</td><td>3. 기술/연구</td><td>4. 인력/교육</td></tr></table> <br><h1 id='15' style='font-size:22px'>미국, 안전하고 신뢰할 수 있는 AI 개발과 사용에 관한 행정명령 발표</h1> <br><h1 id='16' style='font-size:16px'>KEY Contents</h1> <br><p id='17' data-category='paragraph' style='font-size:20px'>n 미국 바이든 대통령이 ‘안전하고 신뢰할 수 있는 AI 개발과 사용에 관한 행정명령’에 서명하고<br>광범위한 행정 조치를 명시<br>n 행정명령은 △AI의 안전과 보안 기준 마련 △개인정보보호 △형평성과 시민권 향상 △소비자<br>보호 △노동자 지원 △혁신과 경쟁 촉진 △국제협력을 골자로 함</p> <p id='18' data-category='paragraph' style='font-size:18px'>£ 바이든 대통령, AI 행정명령 통해 안전하고 신뢰할 수 있는 AI 개발과 활용 추진</p> <p id='19' data-category='paragraph' style='font-size:20px'>n 미국 바이든 대통령이 2023년 10월 30일 연방정부 차원에서 안전하고 신뢰할 수 있는 AI 개발과<br>사용을 보장하기 위한 행정명령을 발표</p> <br><p id='20' data-category='paragraph' style='font-size:16px'>∙ 행정명령은 △AI의 안전과 보안 기준 마련 △개인정보보호 △형평성과 시민권 향상 △소비자 보호<br>△노동자 지원 △혁신과 경쟁 촉진 △국제협력에 관한 내용을 포괄</p> <br><p id='21' data-category='paragraph' style='font-size:20px'>n (AI 안전과 보안 기준) 강력한 AI 시스템을 개발하는 기업에게 안전 테스트 결과와 시스템에 관한<br>주요 정보를 미국 정부와 공유할 것을 요구하고, AI 시스템의 안전성과 신뢰성 확인을 위한 표준 및<br>AI 생성 콘텐츠 표시를 위한 표준과 모범사례 확립을 추진</p> <br><p id='22' data-category='paragraph' style='font-size:16px'>∙ △10 26 플롭스(FLOPS, Floating Point Operation Per Second)를 초과하는 컴퓨팅 성능 또는 생물학적<br>서열 데이터를 주로 사용하고 10 23 플롭스를 초과하는 컴퓨팅 성능을 사용하는 모델 △단일 데이터센터에서<br>1,000Gbit/s 이상의 네트워킹으로 연결되며 AI 훈련에서 이론상 최대 10 20 플롭스를 처리할 수 있는<br>컴퓨팅 용량을 갖춘 컴퓨팅 클러스터가 정보공유 요구대상</p> <br><p id='23' data-category='paragraph' style='font-size:20px'>n (형평성과 시민권 향상) 법률, 주택, 보건 분야에서 AI의 무책임한 사용으로 인한 차별과 편견 및 기타<br>문제를 방지하는 조치를 확대</p> <br><p id='24' data-category='paragraph' style='font-size:16px'>∙ 형사사법 시스템에서 AI 사용 모범사례를 개발하고, 주택 임대 시 AI 알고리즘 차별을 막기 위한 명확한<br>지침을 제공하며, 보건복지 부문에서 책임 있는 AI 배포와 사용을 위한 전략을 마련</p> <br><p id='25' data-category='paragraph' style='font-size:20px'>n (소비자 보호와 근로자 지원) 의료 분야에서 책임 있는 AI 사용을 촉진하고 맞춤형 개인교습 등 학교<br>내 AI 교육 도구 관련 자원을 개발하며, AI로 인한 근로자 피해를 완화하고 이점을 극대화하는 원칙과<br>모범사례를 마련</p> <p id='26' data-category='paragraph' style='font-size:20px'>n (혁신과 경쟁 촉진) 국가AI연구자원(National Artificial Intelligence Research Resource, NAIRR)*을<br>통해 미국 전역의 AI 연구를 촉진하고, 중소기업과 개발자에 기술과 인프라를 지원</p> <br><p id='27' data-category='paragraph' style='font-size:14px'>* 국가 차원에서 AI 연구 인프라를 확충해 더 많은 AI 연구자에게 인프라를 지원하는 프로그램<br>∙ 비자 기준과 인터뷰 절차의 현대화와 간소화로 AI 관련 주요 분야의 전문 지식을 갖춘 외국인들이 미국에서<br>공부하고 취업할 수 있도록 지원</p> <br><p id='28' data-category='paragraph' style='font-size:20px'>☞ 출처 : The White House, Executive Order on the Safe, Secure, and Trustworthy Development and Use of<br>Artificial Intelligence (E.O. 14110), 2023.10.30.</p>\")"
      ]
     },
     "execution_count": 5,
     "metadata": {},
     "output_type": "execute_result"
    }
   ],
   "source": [
    "split_docs[3]"
   ]
  },
  {
   "cell_type": "markdown",
   "metadata": {},
   "source": [
    "다음은, 신한라이프 사업방법서로 이미지형 PDF 문서를 로드하고 분절하는 예제를 살펴보겠습니다.\n",
    "\n",
    "- 파일명: `사업방법서_신한(간편가입)홈닥터의료비보장보험(무배당, 갱신형)_20240401_P14.pdf`\n",
    "\n"
   ]
  },
  {
   "cell_type": "code",
   "execution_count": 6,
   "metadata": {},
   "outputs": [
    {
     "name": "stdout",
     "output_type": "stream",
     "text": [
      "문서의 수: 12\n"
     ]
    }
   ],
   "source": [
    "# 대상 이미지 PDF 파일 로드. 파일의 경로와 분할 방식 입력\n",
    "loader = UpstageLayoutAnalysisLoader(\"data/사업방법서_신한(간편가입)홈닥터의료비보장보험(무배당, 갱신형)_20240401_P14.pdf\", split=\"page\")\n",
    "\n",
    "# 페이지 별 문서 로드\n",
    "split_docs = loader.load()  # or loader.lazy_load()\n",
    "\n",
    "print(f\"문서의 수: {len(split_docs)}\")"
   ]
  },
  {
   "cell_type": "code",
   "execution_count": 7,
   "metadata": {},
   "outputs": [
    {
     "name": "stdout",
     "output_type": "stream",
     "text": [
      "page_content='<p id='0' data-category='paragraph'></p>' metadata={'page': 3}\n",
      "page_content='<p id='2' data-category='paragraph' style='font-size:14px'>- 2 -</p>' metadata={'page': 4}\n",
      "page_content='<p id='3' data-category='paragraph'></p> <p id='4' data-category='paragraph'></p> <br><p id='5' data-category='paragraph'></p> <p id='6' data-category='paragraph' style='font-size:14px'>- 3 -</p>' metadata={'page': 5}\n"
     ]
    }
   ],
   "source": [
    "for doc in split_docs[:3]:\n",
    "    print(doc)"
   ]
  },
  {
   "cell_type": "markdown",
   "metadata": {},
   "source": [
    "이번에는, 신한라이프 사업방법서로 텍스트형 PDF 문서를 로드하고 분절하는 예제를 살펴보겠습니다.\n",
    "\n",
    "- 파일명: `사업방법서_(간편)신한통합건강보장보험원(ONE)(무배당, 해약환급금 미지급형)_20240503_v0.1_P34.pdf`\n"
   ]
  },
  {
   "cell_type": "code",
   "execution_count": 8,
   "metadata": {},
   "outputs": [
    {
     "name": "stdout",
     "output_type": "stream",
     "text": [
      "문서의 수: 34\n"
     ]
    }
   ],
   "source": [
    "# 신한라이프 사업방법서로 텍스트형 PDF 문서를 로드\n",
    "\n",
    "loader = UpstageLayoutAnalysisLoader(\"data/사업방법서_(간편)신한통합건강보장보험원(ONE)(무배당, 해약환급금 미지급형)_20240503_v0.1_P34.pdf\", split=\"page\")\n",
    "docs = loader.load()\n",
    "print(f\"문서의 수: {len(docs)}\")"
   ]
  },
  {
   "cell_type": "code",
   "execution_count": 9,
   "metadata": {},
   "outputs": [
    {
     "data": {
      "text/plain": [
       "{'page': 1}"
      ]
     },
     "execution_count": 9,
     "metadata": {},
     "output_type": "execute_result"
    }
   ],
   "source": [
    "docs[0].metadata"
   ]
  },
  {
   "cell_type": "code",
   "execution_count": 10,
   "metadata": {},
   "outputs": [
    {
     "data": {
      "text/plain": [
       "\"<h1 id='0' style='font-size:18px'>(간편)신한통합건강보장보험<br>원(ONE)<br>(무배당, 해약환급금 미지급형)</h1> <p id='1' data-category='paragraph' style='font-size:14px'>신한라이프생명보험주식회사</p>\""
      ]
     },
     "execution_count": 10,
     "metadata": {},
     "output_type": "execute_result"
    }
   ],
   "source": [
    "docs[0].page_content"
   ]
  },
  {
   "cell_type": "code",
   "execution_count": 11,
   "metadata": {},
   "outputs": [
    {
     "name": "stdout",
     "output_type": "stream",
     "text": [
      "(간편)신한통합건강보장보험 원(ONE) (무배당, 해약환급금 미지급형) 신한라이프생명보험주식회사\n"
     ]
    }
   ],
   "source": [
    "from bs4 import BeautifulSoup\n",
    "\n",
    "def extract_text(html_content):\n",
    "    # BeautifulSoup 객체 생성\n",
    "    soup = BeautifulSoup(html_content, 'html.parser')\n",
    "\n",
    "    # 모든 태그의 텍스트 추출 및 공백으로 연결\n",
    "    text_content = ' '.join(soup.stripped_strings)\n",
    "    return text_content\n",
    "\n",
    "# 함수 사용 예\n",
    "html_content = docs[0].page_content\n",
    "extracted_text = extract_text(html_content)\n",
    "print(extracted_text)"
   ]
  },
  {
   "cell_type": "code",
   "execution_count": 12,
   "metadata": {},
   "outputs": [
    {
     "data": {
      "text/plain": [
       "\"<p id='7' data-category='paragraph'></p> <p id='8' data-category='paragraph'></p> <p id='9' data-category='paragraph' style='font-size:14px'>- 4 -</p>\""
      ]
     },
     "execution_count": 12,
     "metadata": {},
     "output_type": "execute_result"
    }
   ],
   "source": [
    "split_docs[3].page_content"
   ]
  },
  {
   "cell_type": "code",
   "execution_count": 13,
   "metadata": {},
   "outputs": [
    {
     "name": "stdout",
     "output_type": "stream",
     "text": [
      "4. 배당에 관한 사항 해당사항 없음 5. 보험료에 관한 사항 보험료는 이 계약의 “보험료 및 해약환급금 산출방법서”에서 정한 방법에 따라 피보험자의 성별, 나이, 보험기간, 보험료 납입기간 및 보험료 납입주기 등에 따라 산출된 금액을 말한다. 6. 보험료 할인에 관한 사항 해당사항 없음 7. 보험료 선납에 관한 사항 계약자는 당월분을 제외하여 6개월분 이하의 보험료를 선납할 수 있으며, 3개월분 이상의 보 험료를 선납하는 경우에는 해당보험료를 계약체결시점의 평균공시이율로 할인하여 영수한다. 8. 해지계약의 부활(효력회복)에 관한 사항 약관 [보험료의 납입이 연체되는 경우 납입최고(독촉)와 계약의 해지] 조항에 따라 계약이 해 지되었으나 해약환급금을 받지 않은 경우(보험계약대출 등에 따라 해약환급금이 차감되었으 나 받지 않은 경우 또는 해약환급금이 없는 경우를 포함한다) 계약자는 해지된 날부터 3년 이내에 회사가 정한 절차에 따라 계약의 부활(효력회복)을 청약할 수 있다. 회사가 부활(효력 회복)을 승낙한 때에 계약자는 부활(효력회복)을 청약한 날까지의 연체된 보험료에 「9. 연체 이율에 관한 사항」에서 정한 연체이율로 계산한 금액을 더하여 납입하여야 한다. 9. 연체이율에 관한 사항 이 계약의 부활(효력회복)시 연체보험료에 대한 연체이율은 연체기간에 대하여 “계약체결시점 의 평균공시이율+1%” 범위 내에서 각 상품별로 회사가 정하는 이율로 한다. 10. 중도인출에 관한 사항 해당사항 없음 11. 공시이율에 관한 사항 해당사항 없음\n"
     ]
    }
   ],
   "source": [
    "extracted_text = extract_text(docs[3].page_content)\n",
    "print(extracted_text)"
   ]
  },
  {
   "cell_type": "code",
   "execution_count": 14,
   "metadata": {},
   "outputs": [
    {
     "ename": "ValueError",
     "evalue": "Failed to send request: 415 Client Error: Unsupported Media Type for url: https://api.upstage.ai/v1/document-ai/layout-analysis",
     "output_type": "error",
     "traceback": [
      "\u001b[0;31m---------------------------------------------------------------------------\u001b[0m",
      "\u001b[0;31mHTTPError\u001b[0m                                 Traceback (most recent call last)",
      "File \u001b[0;32m~/Dev/langchain-kr/venv/lib/python3.11/site-packages/langchain_upstage/layout_analysis_parsers.py:196\u001b[0m, in \u001b[0;36mUpstageLayoutAnalysisParser._get_response\u001b[0;34m(self, files)\u001b[0m\n\u001b[1;32m    193\u001b[0m     response \u001b[38;5;241m=\u001b[39m requests\u001b[38;5;241m.\u001b[39mpost(\n\u001b[1;32m    194\u001b[0m         LAYOUT_ANALYSIS_URL, headers\u001b[38;5;241m=\u001b[39mheaders, files\u001b[38;5;241m=\u001b[39mfiles\n\u001b[1;32m    195\u001b[0m     )\n\u001b[0;32m--> 196\u001b[0m \u001b[43mresponse\u001b[49m\u001b[38;5;241;43m.\u001b[39;49m\u001b[43mraise_for_status\u001b[49m\u001b[43m(\u001b[49m\u001b[43m)\u001b[49m\n\u001b[1;32m    198\u001b[0m result \u001b[38;5;241m=\u001b[39m response\u001b[38;5;241m.\u001b[39mjson()\u001b[38;5;241m.\u001b[39mget(\u001b[38;5;124m\"\u001b[39m\u001b[38;5;124melements\u001b[39m\u001b[38;5;124m\"\u001b[39m, [])\n",
      "File \u001b[0;32m~/Dev/langchain-kr/venv/lib/python3.11/site-packages/requests/models.py:1024\u001b[0m, in \u001b[0;36mResponse.raise_for_status\u001b[0;34m(self)\u001b[0m\n\u001b[1;32m   1023\u001b[0m \u001b[38;5;28;01mif\u001b[39;00m http_error_msg:\n\u001b[0;32m-> 1024\u001b[0m     \u001b[38;5;28;01mraise\u001b[39;00m HTTPError(http_error_msg, response\u001b[38;5;241m=\u001b[39m\u001b[38;5;28mself\u001b[39m)\n",
      "\u001b[0;31mHTTPError\u001b[0m: 415 Client Error: Unsupported Media Type for url: https://api.upstage.ai/v1/document-ai/layout-analysis",
      "\nDuring handling of the above exception, another exception occurred:\n",
      "\u001b[0;31mValueError\u001b[0m                                Traceback (most recent call last)",
      "Cell \u001b[0;32mIn[14], line 4\u001b[0m\n\u001b[1;32m      1\u001b[0m \u001b[38;5;66;03m# 아래아한글 파일 문서를 로드\u001b[39;00m\n\u001b[1;32m      3\u001b[0m loader \u001b[38;5;241m=\u001b[39m UpstageLayoutAnalysisLoader(\u001b[38;5;124m\"\u001b[39m\u001b[38;5;124mdata/(첨부5) 2024년도 하반기 중남미 지역기구 파견인턴 선발 공고.hwpx\u001b[39m\u001b[38;5;124m\"\u001b[39m, split\u001b[38;5;241m=\u001b[39m\u001b[38;5;124m\"\u001b[39m\u001b[38;5;124mpage\u001b[39m\u001b[38;5;124m\"\u001b[39m)\n\u001b[0;32m----> 4\u001b[0m docs \u001b[38;5;241m=\u001b[39m \u001b[43mloader\u001b[49m\u001b[38;5;241;43m.\u001b[39;49m\u001b[43mload\u001b[49m\u001b[43m(\u001b[49m\u001b[43m)\u001b[49m\n\u001b[1;32m      5\u001b[0m \u001b[38;5;28mprint\u001b[39m(\u001b[38;5;124mf\u001b[39m\u001b[38;5;124m\"\u001b[39m\u001b[38;5;124m문서의 수: \u001b[39m\u001b[38;5;132;01m{\u001b[39;00m\u001b[38;5;28mlen\u001b[39m(docs)\u001b[38;5;132;01m}\u001b[39;00m\u001b[38;5;124m\"\u001b[39m)\n",
      "File \u001b[0;32m~/Dev/langchain-kr/venv/lib/python3.11/site-packages/langchain_upstage/layout_analysis.py:180\u001b[0m, in \u001b[0;36mUpstageLayoutAnalysisLoader.load\u001b[0;34m(self)\u001b[0m\n\u001b[1;32m    171\u001b[0m blob \u001b[38;5;241m=\u001b[39m Blob\u001b[38;5;241m.\u001b[39mfrom_path(\u001b[38;5;28mself\u001b[39m\u001b[38;5;241m.\u001b[39mfile_path)\n\u001b[1;32m    173\u001b[0m parser \u001b[38;5;241m=\u001b[39m UpstageLayoutAnalysisParser(\n\u001b[1;32m    174\u001b[0m     \u001b[38;5;28mself\u001b[39m\u001b[38;5;241m.\u001b[39mapi_key,\n\u001b[1;32m    175\u001b[0m     split\u001b[38;5;241m=\u001b[39m\u001b[38;5;28mself\u001b[39m\u001b[38;5;241m.\u001b[39msplit,\n\u001b[0;32m   (...)\u001b[0m\n\u001b[1;32m    178\u001b[0m     exclude\u001b[38;5;241m=\u001b[39m\u001b[38;5;28mself\u001b[39m\u001b[38;5;241m.\u001b[39mexclude,\n\u001b[1;32m    179\u001b[0m )\n\u001b[0;32m--> 180\u001b[0m \u001b[38;5;28;01mreturn\u001b[39;00m \u001b[38;5;28;43mlist\u001b[39;49m\u001b[43m(\u001b[49m\u001b[43mparser\u001b[49m\u001b[38;5;241;43m.\u001b[39;49m\u001b[43mlazy_parse\u001b[49m\u001b[43m(\u001b[49m\u001b[43mblob\u001b[49m\u001b[43m,\u001b[49m\u001b[43m \u001b[49m\u001b[43mis_batch\u001b[49m\u001b[38;5;241;43m=\u001b[39;49m\u001b[38;5;28;43;01mTrue\u001b[39;49;00m\u001b[43m)\u001b[49m\u001b[43m)\u001b[49m\n",
      "File \u001b[0;32m~/Dev/langchain-kr/venv/lib/python3.11/site-packages/langchain_upstage/layout_analysis_parsers.py:413\u001b[0m, in \u001b[0;36mUpstageLayoutAnalysisParser.lazy_parse\u001b[0;34m(self, blob, is_batch)\u001b[0m\n\u001b[1;32m    411\u001b[0m             \u001b[38;5;28;01mraise\u001b[39;00m \u001b[38;5;167;01mValueError\u001b[39;00m(\u001b[38;5;124m\"\u001b[39m\u001b[38;5;124mBlob path is required for non-PDF files.\u001b[39m\u001b[38;5;124m\"\u001b[39m)\n\u001b[1;32m    412\u001b[0m         \u001b[38;5;28;01mwith\u001b[39;00m \u001b[38;5;28mopen\u001b[39m(blob\u001b[38;5;241m.\u001b[39mpath, \u001b[38;5;124m\"\u001b[39m\u001b[38;5;124mrb\u001b[39m\u001b[38;5;124m\"\u001b[39m) \u001b[38;5;28;01mas\u001b[39;00m f:\n\u001b[0;32m--> 413\u001b[0m             elements \u001b[38;5;241m=\u001b[39m \u001b[38;5;28;43mself\u001b[39;49m\u001b[38;5;241;43m.\u001b[39;49m\u001b[43m_get_response\u001b[49m\u001b[43m(\u001b[49m\u001b[43m{\u001b[49m\u001b[38;5;124;43m\"\u001b[39;49m\u001b[38;5;124;43mdocument\u001b[39;49m\u001b[38;5;124;43m\"\u001b[39;49m\u001b[43m:\u001b[49m\u001b[43m \u001b[49m\u001b[43mf\u001b[49m\u001b[43m}\u001b[49m\u001b[43m)\u001b[49m\n\u001b[1;32m    415\u001b[0m         \u001b[38;5;28;01myield from\u001b[39;00m \u001b[38;5;28mself\u001b[39m\u001b[38;5;241m.\u001b[39m_page_document(elements)\n\u001b[1;32m    417\u001b[0m \u001b[38;5;28;01melse\u001b[39;00m:\n",
      "File \u001b[0;32m~/Dev/langchain-kr/venv/lib/python3.11/site-packages/langchain_upstage/layout_analysis_parsers.py:208\u001b[0m, in \u001b[0;36mUpstageLayoutAnalysisParser._get_response\u001b[0;34m(self, files)\u001b[0m\n\u001b[1;32m    204\u001b[0m     \u001b[38;5;28;01mreturn\u001b[39;00m elements\n\u001b[1;32m    206\u001b[0m \u001b[38;5;28;01mexcept\u001b[39;00m requests\u001b[38;5;241m.\u001b[39mRequestException \u001b[38;5;28;01mas\u001b[39;00m req_err:\n\u001b[1;32m    207\u001b[0m     \u001b[38;5;66;03m# Handle any request-related exceptions\u001b[39;00m\n\u001b[0;32m--> 208\u001b[0m     \u001b[38;5;28;01mraise\u001b[39;00m \u001b[38;5;167;01mValueError\u001b[39;00m(\u001b[38;5;124mf\u001b[39m\u001b[38;5;124m\"\u001b[39m\u001b[38;5;124mFailed to send request: \u001b[39m\u001b[38;5;132;01m{\u001b[39;00mreq_err\u001b[38;5;132;01m}\u001b[39;00m\u001b[38;5;124m\"\u001b[39m)\n\u001b[1;32m    209\u001b[0m \u001b[38;5;28;01mexcept\u001b[39;00m json\u001b[38;5;241m.\u001b[39mJSONDecodeError \u001b[38;5;28;01mas\u001b[39;00m json_err:\n\u001b[1;32m    210\u001b[0m     \u001b[38;5;66;03m# Handle JSON decode errors\u001b[39;00m\n\u001b[1;32m    211\u001b[0m     \u001b[38;5;28;01mraise\u001b[39;00m \u001b[38;5;167;01mValueError\u001b[39;00m(\u001b[38;5;124mf\u001b[39m\u001b[38;5;124m\"\u001b[39m\u001b[38;5;124mFailed to decode JSON response: \u001b[39m\u001b[38;5;132;01m{\u001b[39;00mjson_err\u001b[38;5;132;01m}\u001b[39;00m\u001b[38;5;124m\"\u001b[39m)\n",
      "\u001b[0;31mValueError\u001b[0m: Failed to send request: 415 Client Error: Unsupported Media Type for url: https://api.upstage.ai/v1/document-ai/layout-analysis"
     ]
    }
   ],
   "source": [
    "# 아래아한글 파일 문서를 로드\n",
    "\n",
    "loader = UpstageLayoutAnalysisLoader(\"data/(첨부5) 2024년도 하반기 중남미 지역기구 파견인턴 선발 공고.hwpx\", split=\"page\")\n",
    "docs = loader.load()\n",
    "print(f\"문서의 수: {len(docs)}\")"
   ]
  },
  {
   "cell_type": "code",
   "execution_count": 15,
   "metadata": {},
   "outputs": [
    {
     "data": {
      "text/plain": [
       "{'page': 1}"
      ]
     },
     "execution_count": 15,
     "metadata": {},
     "output_type": "execute_result"
    }
   ],
   "source": [
    "docs[0].metadata"
   ]
  },
  {
   "cell_type": "code",
   "execution_count": 16,
   "metadata": {},
   "outputs": [
    {
     "data": {
      "text/plain": [
       "\"<h1 id='0' style='font-size:18px'>(간편)신한통합건강보장보험<br>원(ONE)<br>(무배당, 해약환급금 미지급형)</h1> <p id='1' data-category='paragraph' style='font-size:14px'>신한라이프생명보험주식회사</p>\""
      ]
     },
     "execution_count": 16,
     "metadata": {},
     "output_type": "execute_result"
    }
   ],
   "source": [
    "docs[0].page_content"
   ]
  },
  {
   "cell_type": "markdown",
   "metadata": {},
   "source": [
    "## 문서 로드 시간 비교\n",
    "\n",
    "신한라이프 사업방법서로 이미지형 PDF 문서를 로드하여 각각의 소요시간을 비교해 봅니다.\n",
    "\n",
    "- 파일명: `사업방법서_신한(간편가입)홈닥터의료비보장보험(무배당, 갱신형)_20240401_P14.pdf`"
   ]
  },
  {
   "cell_type": "code",
   "execution_count": 17,
   "metadata": {},
   "outputs": [
    {
     "name": "stdout",
     "output_type": "stream",
     "text": [
      "PyPDFLoader 문서의 수: 11, 로드 시간: 10.01초\n",
      "UpstageLayoutAnalysisLoader 문서의 수: 12, 로드 시간: 9.24초\n",
      "PyPDFLoader는 UpstageLayoutAnalysisLoader보다 8.29% 느립니다.\n"
     ]
    }
   ],
   "source": [
    "# UpstageLayoutAnalysisLoader 와 PyPDFLoader의 로드 시간 비교\n",
    "from langchain.document_loaders import PyPDFLoader\n",
    "from langchain_upstage import UpstageLayoutAnalysisLoader\n",
    "import time\n",
    "\n",
    "# PyPDFLoader 로드 시간 측정\n",
    "pypdf_loader = PyPDFLoader(\"data/사업방법서_신한(간편가입)홈닥터의료비보장보험(무배당, 갱신형)_20240401_P14.pdf\")\n",
    "start_time = time.time()\n",
    "split_docs = pypdf_loader.load_and_split()\n",
    "end_time = time.time()\n",
    "pypdf_duration = end_time - start_time\n",
    "print(f\"PyPDFLoader 문서의 수: {len(split_docs)}, 로드 시간: {pypdf_duration:.2f}초\")\n",
    "\n",
    "# UpstageLayoutAnalysisLoader 로드 시간 측정\n",
    "upstage_loader = UpstageLayoutAnalysisLoader(\"data/사업방법서_신한(간편가입)홈닥터의료비보장보험(무배당, 갱신형)_20240401_P14.pdf\", split=\"page\")\n",
    "start_time = time.time()\n",
    "docs = upstage_loader.load()\n",
    "end_time = time.time()\n",
    "upstage_duration = end_time - start_time\n",
    "print(f\"UpstageLayoutAnalysisLoader 문서의 수: {len(docs)}, 로드 시간: {upstage_duration:.2f}초\")\n",
    "\n",
    "# 시간 비교 출력\n",
    "# print(f\"로드 시간 비교: PyPDFLoader - {pypdf_duration:.2f}초, UpstageLayoutAnalysisLoader - {upstage_duration:.2f}초\")\n",
    "if pypdf_duration < upstage_duration:\n",
    "    slower_by = ((upstage_duration - pypdf_duration) / pypdf_duration) * 100\n",
    "    print(f\"UpstageLayoutAnalysisLoader는 PyPDFLoader보다 {slower_by:.2f}% 느립니다.\")\n",
    "else:\n",
    "    slower_by = ((pypdf_duration - upstage_duration) / upstage_duration) * 100\n",
    "    print(f\"PyPDFLoader는 UpstageLayoutAnalysisLoader보다 {slower_by:.2f}% 느립니다.\")"
   ]
  },
  {
   "cell_type": "markdown",
   "metadata": {},
   "source": [
    "**그러나 UpstageLayoutAnalysisLoader는 PyPDFLoader가 못가지고오는 이미지 PDF의 텍스트를 가져옴**"
   ]
  },
  {
   "cell_type": "code",
   "execution_count": 18,
   "metadata": {},
   "outputs": [
    {
     "data": {
      "text/plain": [
       "Document(metadata={'source': 'data/사업방법서_신한(간편가입)홈닥터의료비보장보험(무배당, 갱신형)_20240401_P14.pdf', 'page': 2}, page_content='- 1 -')"
      ]
     },
     "execution_count": 18,
     "metadata": {},
     "output_type": "execute_result"
    }
   ],
   "source": [
    "# PyPDFLoader의 텍스트 추출 예, page_content가 비었고 메타데이터만 출력됨\n",
    "split_docs[0]\n"
   ]
  },
  {
   "cell_type": "code",
   "execution_count": 19,
   "metadata": {},
   "outputs": [
    {
     "data": {
      "text/plain": [
       "Document(metadata={'page': 3}, page_content=\"<p id='0' data-category='paragraph'></p>\")"
      ]
     },
     "execution_count": 19,
     "metadata": {},
     "output_type": "execute_result"
    }
   ],
   "source": [
    "# UpstageLayoutAnalysisLoader의 텍스트 추출 예, page_content가 출력됨\n",
    "docs[0]"
   ]
  },
  {
   "cell_type": "code",
   "execution_count": null,
   "metadata": {},
   "outputs": [],
   "source": []
  }
 ],
 "metadata": {
  "kernelspec": {
   "display_name": "langchain-kr-env",
   "language": "python",
   "name": "venv"
  },
  "language_info": {
   "codemirror_mode": {
    "name": "ipython",
    "version": 3
   },
   "file_extension": ".py",
   "mimetype": "text/x-python",
   "name": "python",
   "nbconvert_exporter": "python",
   "pygments_lexer": "ipython3",
   "version": "3.11.1"
  }
 },
 "nbformat": 4,
 "nbformat_minor": 4
}
