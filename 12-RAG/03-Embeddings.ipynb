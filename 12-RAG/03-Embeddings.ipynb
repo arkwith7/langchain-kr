{
 "cells": [
  {
   "cell_type": "code",
   "execution_count": 1,
   "metadata": {},
   "outputs": [
    {
     "data": {
      "text/plain": [
       "True"
      ]
     },
     "execution_count": 1,
     "metadata": {},
     "output_type": "execute_result"
    }
   ],
   "source": [
    "# API KEY를 환경변수로 관리하기 위한 설정 파일\n",
    "from dotenv import load_dotenv\n",
    "\n",
    "# API KEY 정보로드\n",
    "load_dotenv()"
   ]
  },
  {
   "cell_type": "markdown",
   "metadata": {},
   "source": [
    "## Embedding\n",
    "\n",
    "임베딩 클래스는 텍스트 임베딩 모델과의 인터페이스를 위해 설계된 클래스입니다.\n",
    "\n",
    "이 클래스는 다양한 임베딩 모델(OpenAI, Cohere, HuggingFace 등)에 대한 표준 인터페이스를 제공하도록 설계되었습니다.\n",
    "\n",
    "임베딩은 텍스트 조각의 벡터 표현을 생성합니다. 이는 벡터 공간에서 텍스트를 생각하고, 벡터 공간에서 가장 유사한 텍스트 조각을 찾는 시맨틱 검색과 같은 작업을 수행할 수 있다는 점에서 유용합니다.\n",
    "\n",
    "LangChain의 기본 Embeddings 클래스는 다음의 2가지 형태의 임베딩 함수를 가집니다.\n",
    "\n",
    "- 문서 임베딩(`embed_documents`): 여러 개의 텍스트를 입력\n",
    "- 쿼리 임베딩(`embed_query`): 하나의 텍스트를 입력\n"
   ]
  },
  {
   "cell_type": "code",
   "execution_count": 2,
   "metadata": {},
   "outputs": [
    {
     "name": "stderr",
     "output_type": "stream",
     "text": [
      "/home/samuel/Dev/langchain-kr/venv/lib/python3.11/site-packages/langchain_core/_api/deprecation.py:119: LangChainDeprecationWarning: The class `OpenAIEmbeddings` was deprecated in LangChain 0.0.9 and will be removed in 0.3.0. An updated version of the class exists in the langchain-openai package and should be used instead. To use it run `pip install -U langchain-openai` and import as `from langchain_openai import OpenAIEmbeddings`.\n",
      "  warn_deprecated(\n"
     ]
    },
    {
     "name": "stdout",
     "output_type": "stream",
     "text": [
      "호출에 청구된 금액(USD): \t$0.0\n"
     ]
    },
    {
     "data": {
      "text/plain": [
       "1536"
      ]
     },
     "execution_count": 2,
     "metadata": {},
     "output_type": "execute_result"
    }
   ],
   "source": [
    "from langchain_community.embeddings import OpenAIEmbeddings\n",
    "from langchain.callbacks import get_openai_callback\n",
    "\n",
    "openai_embedding = OpenAIEmbeddings()\n",
    "\n",
    "with get_openai_callback() as cb:\n",
    "    embedding = openai_embedding.embed_query(\n",
    "        \"안녕하세요? 반갑습니다. 제 이름은 테디입니다.\"\n",
    "    )\n",
    "    print(f\"호출에 청구된 금액(USD): \\t${cb.total_cost}\")\n",
    "len(embedding)"
   ]
  },
  {
   "cell_type": "code",
   "execution_count": 3,
   "metadata": {},
   "outputs": [
    {
     "data": {
      "text/plain": [
       "(3, 1536)"
      ]
     },
     "execution_count": 3,
     "metadata": {},
     "output_type": "execute_result"
    }
   ],
   "source": [
    "embedding = openai_embedding.embed_documents(\n",
    "    [\"안녕하세요?\", \"반갑습니다\", \"제 이름은 테디입니다.\"])\n",
    "len(embedding), len(embedding[0])"
   ]
  },
  {
   "cell_type": "code",
   "execution_count": 4,
   "metadata": {},
   "outputs": [
    {
     "data": {
      "text/plain": [
       "1"
      ]
     },
     "execution_count": 4,
     "metadata": {},
     "output_type": "execute_result"
    }
   ],
   "source": [
    "from langchain_community.document_loaders import TextLoader\n",
    "\n",
    "loader = TextLoader(\"./data/appendix-keywords.txt\")\n",
    "docs = loader.load()\n",
    "len(docs)"
   ]
  },
  {
   "cell_type": "code",
   "execution_count": 5,
   "metadata": {},
   "outputs": [
    {
     "name": "stdout",
     "output_type": "stream",
     "text": [
      "호출에 청구된 금액(USD): \t$0.00\n"
     ]
    }
   ],
   "source": [
    "with get_openai_callback() as cb:\n",
    "    openai_embedding.embed_query(docs[0].page_content)\n",
    "    print(f\"호출에 청구된 금액(USD): \\t${cb.total_cost:.2f}\")"
   ]
  },
  {
   "cell_type": "code",
   "execution_count": 7,
   "metadata": {},
   "outputs": [
    {
     "data": {
      "text/plain": [
       "9"
      ]
     },
     "execution_count": 7,
     "metadata": {},
     "output_type": "execute_result"
    }
   ],
   "source": [
    "from langchain_community.document_loaders import PyPDFLoader\n",
    "\n",
    "# PDF 파일 로드. 파일의 경로 입력\n",
    "loader = PyPDFLoader(\"data/상품요약서_신한스포츠&레저보장보험Plus(무배당)_240401_P9.pdf\")\n",
    "pdf = loader.load()\n",
    "len(pdf)"
   ]
  },
  {
   "cell_type": "code",
   "execution_count": 8,
   "metadata": {},
   "outputs": [
    {
     "data": {
      "text/plain": [
       "6627"
      ]
     },
     "execution_count": 8,
     "metadata": {},
     "output_type": "execute_result"
    }
   ],
   "source": [
    "whole_pdf = \" \".join([p.page_content for p in pdf])\n",
    "len(whole_pdf)"
   ]
  },
  {
   "cell_type": "code",
   "execution_count": 9,
   "metadata": {},
   "outputs": [
    {
     "name": "stdout",
     "output_type": "stream",
     "text": [
      "호출에 청구된 금액(USD): \t$0.00\n"
     ]
    }
   ],
   "source": [
    "with get_openai_callback() as cb:\n",
    "    openai_embedding.embed_query(whole_pdf)\n",
    "    print(f\"호출에 청구된 금액(USD): \\t${cb.total_cost:.2f}\")"
   ]
  },
  {
   "cell_type": "markdown",
   "metadata": {},
   "source": [
    "## HuggingFace Embeddings\n"
   ]
  },
  {
   "cell_type": "code",
   "execution_count": 1,
   "metadata": {},
   "outputs": [
    {
     "name": "stderr",
     "output_type": "stream",
     "text": [
      "/home/samuel/Dev/langchain-kr/venv/lib/python3.11/site-packages/langchain_core/_api/deprecation.py:119: LangChainDeprecationWarning: The class `HuggingFaceEmbeddings` was deprecated in LangChain 0.2.2 and will be removed in 0.3.0. An updated version of the class exists in the langchain-huggingface package and should be used instead. To use it run `pip install -U langchain-huggingface` and import as `from langchain_huggingface import HuggingFaceEmbeddings`.\n",
      "  warn_deprecated(\n",
      "/home/samuel/Dev/langchain-kr/venv/lib/python3.11/site-packages/sentence_transformers/cross_encoder/CrossEncoder.py:11: TqdmExperimentalWarning: Using `tqdm.autonotebook.tqdm` in notebook mode. Use `tqdm.tqdm` instead to force console mode (e.g. in jupyter console)\n",
      "  from tqdm.autonotebook import tqdm, trange\n"
     ]
    },
    {
     "data": {
      "application/vnd.jupyter.widget-view+json": {
       "model_id": "87c4d511cd00413bbafb5e9efb745361",
       "version_major": 2,
       "version_minor": 0
      },
      "text/plain": [
       "modules.json:   0%|          | 0.00/349 [00:00<?, ?B/s]"
      ]
     },
     "metadata": {},
     "output_type": "display_data"
    },
    {
     "data": {
      "application/vnd.jupyter.widget-view+json": {
       "model_id": "22ef4f10c3084491bfc39b5b2f415719",
       "version_major": 2,
       "version_minor": 0
      },
      "text/plain": [
       "config_sentence_transformers.json:   0%|          | 0.00/116 [00:00<?, ?B/s]"
      ]
     },
     "metadata": {},
     "output_type": "display_data"
    },
    {
     "data": {
      "application/vnd.jupyter.widget-view+json": {
       "model_id": "df9723b5c0db4c22b1dc386c147cfe2f",
       "version_major": 2,
       "version_minor": 0
      },
      "text/plain": [
       "README.md:   0%|          | 0.00/10.6k [00:00<?, ?B/s]"
      ]
     },
     "metadata": {},
     "output_type": "display_data"
    },
    {
     "data": {
      "application/vnd.jupyter.widget-view+json": {
       "model_id": "f2008b82dc204601b8e4f9b256dedcab",
       "version_major": 2,
       "version_minor": 0
      },
      "text/plain": [
       "sentence_bert_config.json:   0%|          | 0.00/53.0 [00:00<?, ?B/s]"
      ]
     },
     "metadata": {},
     "output_type": "display_data"
    },
    {
     "name": "stderr",
     "output_type": "stream",
     "text": [
      "/home/samuel/Dev/langchain-kr/venv/lib/python3.11/site-packages/huggingface_hub/file_download.py:1132: FutureWarning: `resume_download` is deprecated and will be removed in version 1.0.0. Downloads always resume when possible. If you want to force a new download, use `force_download=True`.\n",
      "  warnings.warn(\n"
     ]
    },
    {
     "data": {
      "application/vnd.jupyter.widget-view+json": {
       "model_id": "0e0c0ff680784b02b7ccd51effc45c9a",
       "version_major": 2,
       "version_minor": 0
      },
      "text/plain": [
       "config.json:   0%|          | 0.00/571 [00:00<?, ?B/s]"
      ]
     },
     "metadata": {},
     "output_type": "display_data"
    },
    {
     "data": {
      "application/vnd.jupyter.widget-view+json": {
       "model_id": "5f67c53987604ada8af70e1f06753606",
       "version_major": 2,
       "version_minor": 0
      },
      "text/plain": [
       "model.safetensors:   0%|          | 0.00/438M [00:00<?, ?B/s]"
      ]
     },
     "metadata": {},
     "output_type": "display_data"
    },
    {
     "data": {
      "application/vnd.jupyter.widget-view+json": {
       "model_id": "6fe7e364bf074b4a9051de4d63e9f438",
       "version_major": 2,
       "version_minor": 0
      },
      "text/plain": [
       "tokenizer_config.json:   0%|          | 0.00/363 [00:00<?, ?B/s]"
      ]
     },
     "metadata": {},
     "output_type": "display_data"
    },
    {
     "data": {
      "application/vnd.jupyter.widget-view+json": {
       "model_id": "f4af4926620145bfa5012329ea95d81a",
       "version_major": 2,
       "version_minor": 0
      },
      "text/plain": [
       "vocab.txt:   0%|          | 0.00/232k [00:00<?, ?B/s]"
      ]
     },
     "metadata": {},
     "output_type": "display_data"
    },
    {
     "data": {
      "application/vnd.jupyter.widget-view+json": {
       "model_id": "c4db17a3a7954a3b99eee83296674ce2",
       "version_major": 2,
       "version_minor": 0
      },
      "text/plain": [
       "tokenizer.json:   0%|          | 0.00/466k [00:00<?, ?B/s]"
      ]
     },
     "metadata": {},
     "output_type": "display_data"
    },
    {
     "data": {
      "application/vnd.jupyter.widget-view+json": {
       "model_id": "b1e5ba0d3b9b460aa7afdfa875b4ca06",
       "version_major": 2,
       "version_minor": 0
      },
      "text/plain": [
       "special_tokens_map.json:   0%|          | 0.00/239 [00:00<?, ?B/s]"
      ]
     },
     "metadata": {},
     "output_type": "display_data"
    },
    {
     "data": {
      "application/vnd.jupyter.widget-view+json": {
       "model_id": "5ad3691884a34261941b545be0d65ccb",
       "version_major": 2,
       "version_minor": 0
      },
      "text/plain": [
       "1_Pooling/config.json:   0%|          | 0.00/190 [00:00<?, ?B/s]"
      ]
     },
     "metadata": {},
     "output_type": "display_data"
    }
   ],
   "source": [
    "from langchain_community.embeddings import HuggingFaceEmbeddings\n",
    "\n",
    "hf_embedding = HuggingFaceEmbeddings()\n",
    "\n",
    "text = \"안녕하세요? 반갑습니다. 제 이름은 테디입니다.\"\n",
    "query_result = hf_embedding.embed_query(text)"
   ]
  },
  {
   "cell_type": "code",
   "execution_count": 2,
   "metadata": {},
   "outputs": [
    {
     "data": {
      "text/plain": [
       "768"
      ]
     },
     "execution_count": 2,
     "metadata": {},
     "output_type": "execute_result"
    }
   ],
   "source": [
    "len(query_result)"
   ]
  },
  {
   "cell_type": "code",
   "execution_count": 3,
   "metadata": {},
   "outputs": [
    {
     "data": {
      "text/plain": [
       "384"
      ]
     },
     "execution_count": 3,
     "metadata": {},
     "output_type": "execute_result"
    }
   ],
   "source": [
    "import os\n",
    "from langchain_community.embeddings import HuggingFaceInferenceAPIEmbeddings\n",
    "\n",
    "# HugginFace 링크: https://huggingface.co/sentence-transformers/all-MiniLM-L6-v2\n",
    "hf_embedding = HuggingFaceInferenceAPIEmbeddings(\n",
    "    api_key=os.getenv(\"HUGGINGFACEHUB_API_TOKEN\"),\n",
    "    model_name=\"sentence-transformers/all-MiniLM-l6-v2\",\n",
    ")\n",
    "\n",
    "query_result = hf_embedding.embed_query(text)\n",
    "len(query_result)"
   ]
  },
  {
   "cell_type": "markdown",
   "metadata": {},
   "source": [
    "허깅페이스의 `BGE` 모델은 최고의 오픈소스 임베딩 모델입니다. BGE 모델은 Beijing Academy of Artificial Intelligence (BAAI) 에서 개발했습니다. BAAI는 AI 연구 및 개발에 종사하는 민간 비영리 단체입니다.\n"
   ]
  },
  {
   "cell_type": "code",
   "execution_count": 4,
   "metadata": {},
   "outputs": [
    {
     "data": {
      "application/vnd.jupyter.widget-view+json": {
       "model_id": "e157bd9906244f94abc8470940d81423",
       "version_major": 2,
       "version_minor": 0
      },
      "text/plain": [
       "modules.json:   0%|          | 0.00/349 [00:00<?, ?B/s]"
      ]
     },
     "metadata": {},
     "output_type": "display_data"
    },
    {
     "data": {
      "application/vnd.jupyter.widget-view+json": {
       "model_id": "467ed0a7260343ac88f9ec370f236b85",
       "version_major": 2,
       "version_minor": 0
      },
      "text/plain": [
       "config_sentence_transformers.json:   0%|          | 0.00/124 [00:00<?, ?B/s]"
      ]
     },
     "metadata": {},
     "output_type": "display_data"
    },
    {
     "data": {
      "application/vnd.jupyter.widget-view+json": {
       "model_id": "f99c44f9e159431b830d88417d4d24ff",
       "version_major": 2,
       "version_minor": 0
      },
      "text/plain": [
       "README.md:   0%|          | 0.00/90.8k [00:00<?, ?B/s]"
      ]
     },
     "metadata": {},
     "output_type": "display_data"
    },
    {
     "data": {
      "application/vnd.jupyter.widget-view+json": {
       "model_id": "33d212ffa28845fb9a7b662eff8caf4b",
       "version_major": 2,
       "version_minor": 0
      },
      "text/plain": [
       "sentence_bert_config.json:   0%|          | 0.00/52.0 [00:00<?, ?B/s]"
      ]
     },
     "metadata": {},
     "output_type": "display_data"
    },
    {
     "data": {
      "application/vnd.jupyter.widget-view+json": {
       "model_id": "f45852593ddf443ba76517ce0d1eac6b",
       "version_major": 2,
       "version_minor": 0
      },
      "text/plain": [
       "config.json:   0%|          | 0.00/684 [00:00<?, ?B/s]"
      ]
     },
     "metadata": {},
     "output_type": "display_data"
    },
    {
     "data": {
      "application/vnd.jupyter.widget-view+json": {
       "model_id": "614c68def0c34935a9a50dc736baf5f2",
       "version_major": 2,
       "version_minor": 0
      },
      "text/plain": [
       "model.safetensors:   0%|          | 0.00/133M [00:00<?, ?B/s]"
      ]
     },
     "metadata": {},
     "output_type": "display_data"
    },
    {
     "data": {
      "application/vnd.jupyter.widget-view+json": {
       "model_id": "af4543f9e2d041be97ec28e697864ab9",
       "version_major": 2,
       "version_minor": 0
      },
      "text/plain": [
       "tokenizer_config.json:   0%|          | 0.00/366 [00:00<?, ?B/s]"
      ]
     },
     "metadata": {},
     "output_type": "display_data"
    },
    {
     "data": {
      "application/vnd.jupyter.widget-view+json": {
       "model_id": "344cefc1dbde4ab9a70af9341f2570be",
       "version_major": 2,
       "version_minor": 0
      },
      "text/plain": [
       "vocab.txt:   0%|          | 0.00/232k [00:00<?, ?B/s]"
      ]
     },
     "metadata": {},
     "output_type": "display_data"
    },
    {
     "data": {
      "application/vnd.jupyter.widget-view+json": {
       "model_id": "3af2a3aad6384c67b72a9243f91a1f1f",
       "version_major": 2,
       "version_minor": 0
      },
      "text/plain": [
       "tokenizer.json:   0%|          | 0.00/711k [00:00<?, ?B/s]"
      ]
     },
     "metadata": {},
     "output_type": "display_data"
    },
    {
     "data": {
      "application/vnd.jupyter.widget-view+json": {
       "model_id": "7cc130f47fde46c0930bff3b5b31e345",
       "version_major": 2,
       "version_minor": 0
      },
      "text/plain": [
       "special_tokens_map.json:   0%|          | 0.00/125 [00:00<?, ?B/s]"
      ]
     },
     "metadata": {},
     "output_type": "display_data"
    },
    {
     "data": {
      "application/vnd.jupyter.widget-view+json": {
       "model_id": "1d599a3daba644d0886336cea1b158b9",
       "version_major": 2,
       "version_minor": 0
      },
      "text/plain": [
       "1_Pooling/config.json:   0%|          | 0.00/190 [00:00<?, ?B/s]"
      ]
     },
     "metadata": {},
     "output_type": "display_data"
    }
   ],
   "source": [
    "from langchain_community.embeddings import HuggingFaceBgeEmbeddings\n",
    "\n",
    "model_name = \"BAAI/bge-small-en\"\n",
    "model_kwargs = {\"device\": \"cpu\"}\n",
    "encode_kwargs = {\"normalize_embeddings\": True}\n",
    "bge_embedding = HuggingFaceBgeEmbeddings(\n",
    "    model_name=model_name, model_kwargs=model_kwargs, encode_kwargs=encode_kwargs\n",
    ")"
   ]
  },
  {
   "cell_type": "code",
   "execution_count": 5,
   "metadata": {},
   "outputs": [
    {
     "data": {
      "text/plain": [
       "384"
      ]
     },
     "execution_count": 5,
     "metadata": {},
     "output_type": "execute_result"
    }
   ],
   "source": [
    "query_result = bge_embedding.embed_query(text)\n",
    "len(query_result)"
   ]
  },
  {
   "cell_type": "markdown",
   "metadata": {},
   "source": [
    "## CacheBackedEmbeddings\n"
   ]
  },
  {
   "cell_type": "markdown",
   "metadata": {},
   "source": [
    "`CacheBackedEmbeddings` 는 임베딩을 저장하거나 임시로 캐싱(caching)하여 다시 계산할 필요가 없도록 할 수 있습니다.\n",
    "\n",
    "`CacheBackedEmbeddings` 는 임베더를 감싸는 wrapper 클래스로, 임베딩을 key-value 저장소에 캐시합니다.\n",
    "\n",
    "텍스트는 해시(hash) 되고 해시는 캐시에서 키(key)로 사용됩니다.\n",
    "\n",
    "`CacheBackedEmbedding` 을 초기화하는 데 주로 지원되는 방법은 `from_bytes_store` 입니다. 여기에는 다음 매개변수가 사용됩니다:\n",
    "\n",
    "- `underlying_embedder`: 임베딩에 사용할 임베더.\n",
    "- `document_embedding_cache`: 문서 임베딩을 캐싱하기 위한 바이트 저장소.\n",
    "- `namespace`: (선택 사항, 기본값은 \"\") 문서 캐시에 사용할 네임스페이스입니다. 이 네임스페이스는 다른 캐시와의 충돌을 피하기 위해 사용됩니다. 예를 들어 사용된 임베딩 모델의 이름으로 설정합니다.\n",
    "\n",
    "주의: 서로 다른 임베딩 모델을 사용하여 임베드된 동일한 텍스트의 충돌을 방지하려면 네임스페이스 매개변수를 설정해야 합니다.\n"
   ]
  },
  {
   "cell_type": "code",
   "execution_count": 6,
   "metadata": {},
   "outputs": [],
   "source": [
    "from langchain.embeddings import CacheBackedEmbeddings"
   ]
  },
  {
   "cell_type": "code",
   "execution_count": 7,
   "metadata": {},
   "outputs": [
    {
     "name": "stderr",
     "output_type": "stream",
     "text": [
      "/home/samuel/Dev/langchain-kr/venv/lib/python3.11/site-packages/langchain_core/_api/deprecation.py:119: LangChainDeprecationWarning: The class `OpenAIEmbeddings` was deprecated in LangChain 0.0.9 and will be removed in 0.3.0. An updated version of the class exists in the langchain-openai package and should be used instead. To use it run `pip install -U langchain-openai` and import as `from langchain_openai import OpenAIEmbeddings`.\n",
      "  warn_deprecated(\n"
     ]
    }
   ],
   "source": [
    "from langchain.storage import LocalFileStore\n",
    "from langchain.text_splitter import CharacterTextSplitter\n",
    "from langchain_community.document_loaders import TextLoader\n",
    "from langchain_community.embeddings.openai import OpenAIEmbeddings\n",
    "from langchain_community.vectorstores import FAISS\n",
    "\n",
    "openai_embedding = OpenAIEmbeddings()\n",
    "\n",
    "store = LocalFileStore(\"./cache/\")\n",
    "\n",
    "cached_embedder = CacheBackedEmbeddings.from_bytes_store(\n",
    "    openai_embedding, store, namespace=openai_embedding.model\n",
    ")"
   ]
  },
  {
   "cell_type": "code",
   "execution_count": 8,
   "metadata": {},
   "outputs": [
    {
     "data": {
      "text/plain": [
       "[]"
      ]
     },
     "execution_count": 8,
     "metadata": {},
     "output_type": "execute_result"
    }
   ],
   "source": [
    "# 초기의 캐시는 비어있음\n",
    "list(store.yield_keys())"
   ]
  },
  {
   "cell_type": "code",
   "execution_count": 9,
   "metadata": {},
   "outputs": [
    {
     "data": {
      "text/plain": [
       "[-0.010770357923422545,\n",
       " -0.028560170922586725,\n",
       " -0.01396275031160441,\n",
       " -0.029169455229553432,\n",
       " -0.0016501431741946682,\n",
       " 0.037394783129054976,\n",
       " -0.01977633070094087,\n",
       " 0.0017707305962690542,\n",
       " -0.007025802039505753,\n",
       " 0.01179217717992678,\n",
       " 0.002200719812573234,\n",
       " -0.011988924674710685,\n",
       " -0.010941718494472619,\n",
       " -0.01339154685589977,\n",
       " 0.0029988179096187007,\n",
       " -0.006340357892660185,\n",
       " 0.012909197167602226,\n",
       " -0.009253495051092532,\n",
       " 0.011995271638474803,\n",
       " -0.01752959866070701,\n",
       " 0.004978989578953907,\n",
       " -0.017580372508174676,\n",
       " 8.097007036192576e-05,\n",
       " 0.0015097223052647226,\n",
       " 0.00012564491144134173,\n",
       " 0.0007203509923565933,\n",
       " 0.03599850698030737,\n",
       " -0.010922678534502904,\n",
       " 0.012058738482148066,\n",
       " -0.026351516939647025,\n",
       " 0.019002032786688203,\n",
       " 0.005315365154273892,\n",
       " -0.005981768875488427,\n",
       " -0.009678724859480929,\n",
       " -0.002898857421285718,\n",
       " -0.01600638882461288,\n",
       " 0.012027005525972752,\n",
       " -0.003401833577663348,\n",
       " 0.01822773487243554,\n",
       " 0.005699340629518165,\n",
       " -0.0031701789463300925,\n",
       " -0.015473266220170307,\n",
       " 0.0011067066372200752,\n",
       " -0.015993694897084645,\n",
       " 0.011963537750976853,\n",
       " 0.02023329346550458,\n",
       " -0.0015795361127021027,\n",
       " -0.016336417901830064,\n",
       " -0.0024656948395148093,\n",
       " 0.027316216316242117,\n",
       " 0.009862779358059237,\n",
       " -0.004347492761458063,\n",
       " -0.020563322542721765,\n",
       " -0.019636704948711378,\n",
       " -0.003953996840567613,\n",
       " -0.009380429669761693,\n",
       " -0.014495872916046985,\n",
       " 0.023063923820293947,\n",
       " -0.011246360647955972,\n",
       " -0.029474096451714147,\n",
       " 0.00963429797577738,\n",
       " -0.0008702918412713965,\n",
       " -0.01254108817044561,\n",
       " -0.001028959474323537,\n",
       " -0.007311403767358073,\n",
       " -0.00949467036090262,\n",
       " 0.021248766689567333,\n",
       " -0.0023086137727807037,\n",
       " -0.041405900315193055,\n",
       " 0.02757008555358044,\n",
       " -0.0027021094608404937,\n",
       " 0.04732102839946484,\n",
       " 0.008618824751714629,\n",
       " -0.023812835742135413,\n",
       " 0.02823014184536954,\n",
       " -0.0020087320749510975,\n",
       " -0.008701331555357607,\n",
       " 0.016539511429055454,\n",
       " -0.023444726744978796,\n",
       " -0.003662048614612495,\n",
       " 0.007996847448542323,\n",
       " -0.032723607788482524,\n",
       " -0.001546215949924442,\n",
       " 0.006911561348364825,\n",
       " 0.002962324264958981,\n",
       " 0.014191231693886266,\n",
       " -0.029702577833996005,\n",
       " 0.001263787587538851,\n",
       " 0.002629122404351714,\n",
       " -0.036049282690420306,\n",
       " 0.014127764850213003,\n",
       " 0.026833867559267206,\n",
       " -0.007006762079536038,\n",
       " 0.02498062864595589,\n",
       " -0.013518480543246296,\n",
       " 0.023178165442757512,\n",
       " 0.008587090864216678,\n",
       " 0.006057929646689924,\n",
       " -0.007977807488572608,\n",
       " 0.003595408056226514,\n",
       " 0.0064387316400521385,\n",
       " -0.0018786245564765241,\n",
       " -0.014381632224906056,\n",
       " -0.0061340899522301035,\n",
       " -0.0305149556681881,\n",
       " 0.010097606772782574,\n",
       " 0.007825486877492249,\n",
       " -0.02009366585062982,\n",
       " 0.017428050965771682,\n",
       " -0.019979426090811526,\n",
       " -0.025666072792801458,\n",
       " 0.04237060155443341,\n",
       " -0.0023466939255507935,\n",
       " -0.04539162964627466,\n",
       " -0.005286804748658001,\n",
       " 0.039654209096817064,\n",
       " -0.0024530013776478932,\n",
       " -0.007571618571476561,\n",
       " -0.011684283452549968,\n",
       " -0.02133762045697443,\n",
       " 0.01661567313157959,\n",
       " 0.017136101808493925,\n",
       " 0.00974853866691831,\n",
       " -0.030311860278317438,\n",
       " 0.009031360632574792,\n",
       " -0.01947168947878015,\n",
       " 0.0007021041700267336,\n",
       " -0.023495500592446462,\n",
       " 0.009094827476248055,\n",
       " 0.0014954422188721067,\n",
       " 0.05189065604510196,\n",
       " 0.006010329281104318,\n",
       " 0.0009385189659754122,\n",
       " 0.004668001393029073,\n",
       " -0.005626353805860044,\n",
       " -0.013239226244819413,\n",
       " -0.010592650388608352,\n",
       " 0.004978989578953907,\n",
       " -0.01947168947878015,\n",
       " -0.011544655837675208,\n",
       " 0.017072635896143298,\n",
       " 0.018506990102185063,\n",
       " -0.001815157479972602,\n",
       " -0.027036961086492593,\n",
       " 0.014026217155277673,\n",
       " -0.00036929887823939413,\n",
       " 0.017694612267992967,\n",
       " 0.0013732681722720208,\n",
       " 0.012046045485942467,\n",
       " 0.010668810228487214,\n",
       " -0.0035827148271902567,\n",
       " 0.024066703116828465,\n",
       " 0.013632721234387225,\n",
       " 0.008168208950915032,\n",
       " -0.0013423280044905744,\n",
       " 0.009932593165496618,\n",
       " -0.0022546669090922986,\n",
       " -0.0011439935359349796,\n",
       " -0.0064165181982003645,\n",
       " -0.008136475063417083,\n",
       " 0.007298710305491157,\n",
       " -0.005626353805860044,\n",
       " 0.03488148978659983,\n",
       " -0.025196417963354784,\n",
       " 0.013734268929322556,\n",
       " 0.041710543399999044,\n",
       " -0.017720000123049435,\n",
       " 0.011823911067424728,\n",
       " -0.0006933775023047258,\n",
       " 0.0075779650695793595,\n",
       " 0.0016120630214245784,\n",
       " 0.006670386504216053,\n",
       " -0.030921144585284145,\n",
       " 0.0072288964980537765,\n",
       " -0.013835815692935249,\n",
       " -0.0008583918080826597,\n",
       " -0.01261090197788299,\n",
       " 0.002640229125277601,\n",
       " -0.008238022758352413,\n",
       " -0.012991703971245204,\n",
       " -0.027493923851056305,\n",
       " 0.00675289377352035,\n",
       " 0.026732319864331878,\n",
       " 0.02876326444981211,\n",
       " 0.003906396474982007,\n",
       " 0.016488739444233062,\n",
       " 0.003509727537870818,\n",
       " 0.004864748887812979,\n",
       " -0.0034653006541672704,\n",
       " -0.030337248133373906,\n",
       " 0.016577593211640155,\n",
       " 0.03158120273971852,\n",
       " 0.02415555688423556,\n",
       " -0.013480400623306866,\n",
       " -0.6226878576400613,\n",
       " -0.003557327903456424,\n",
       " 0.015701747602452163,\n",
       " 0.028357075532716065,\n",
       " 0.02122338069715614,\n",
       " 0.011157506880548876,\n",
       " 0.004163438262879755,\n",
       " 0.03853719190310952,\n",
       " -0.030311860278317438,\n",
       " 0.02927100106184349,\n",
       " 0.0018357842972986762,\n",
       " 0.005838968244392925,\n",
       " -0.021604181759195717,\n",
       " 0.01672991289139788,\n",
       " -0.008333223489523625,\n",
       " -0.01224913994449049,\n",
       " -0.0019769984202838067,\n",
       " 0.011595429685142872,\n",
       " 0.01307421170621082,\n",
       " 0.006790974159121098,\n",
       " -0.021743809374070475,\n",
       " 0.014978222604344529,\n",
       " -0.003760422362004448,\n",
       " -0.006368918298276076,\n",
       " 0.021705729454131045,\n",
       " 0.00017334437557618146,\n",
       " 0.013023437858743155,\n",
       " 0.005683474151430508,\n",
       " -0.02757008555358044,\n",
       " 0.06874750262384637,\n",
       " -0.021172606849688472,\n",
       " 0.0219342108364129,\n",
       " 0.018532377957241532,\n",
       " -0.011379641299066615,\n",
       " 0.0503674480716531,\n",
       " 0.008345916485729224,\n",
       " 0.01139868125903633,\n",
       " 0.03483071407648689,\n",
       " 0.004972643080851108,\n",
       " 0.03495764962647869,\n",
       " -0.005172564057517073,\n",
       " -0.016323723974301832,\n",
       " -0.0003195169184828668,\n",
       " -0.02982951152134253,\n",
       " 0.021731117309187514,\n",
       " 0.02147724807184919,\n",
       " -0.018887793026869912,\n",
       " -0.00020101203568591685,\n",
       " -0.012103165365851614,\n",
       " 0.00946928343716879,\n",
       " -0.009532750280842052,\n",
       " -0.006733853813550634,\n",
       " 0.02181997107659461,\n",
       " 0.007844526837461964,\n",
       " -0.005163044077532215,\n",
       " 0.000384967304747746,\n",
       " 0.0035002075578859605,\n",
       " -0.012357033671867301,\n",
       " 0.018164268960084915,\n",
       " 0.005588273420259296,\n",
       " -0.0021055193142326804,\n",
       " 0.029017133687150438,\n",
       " -0.0033224997902411104,\n",
       " -0.0031432055144858897,\n",
       " -0.028966359839682772,\n",
       " 0.009945286161702215,\n",
       " -0.020068279858218623,\n",
       " -0.014089683998950936,\n",
       " -0.008618824751714629,\n",
       " -0.0368616605246124,\n",
       " -0.0027354296236181547,\n",
       " -0.01714879573602216,\n",
       " -0.002069025669572961,\n",
       " 0.0099262462017325,\n",
       " -0.003630314959945204,\n",
       " 0.04016194757149372,\n",
       " 0.0390703145075521,\n",
       " -0.01264263586538094,\n",
       " -1.3412372001291558e-05,\n",
       " 0.003379620135811574,\n",
       " 0.010719584075954879,\n",
       " 0.0009234455091122816,\n",
       " -0.0044426930269679575,\n",
       " -0.0033859668667450323,\n",
       " 0.0069686816939352894,\n",
       " -0.016272950126834166,\n",
       " -0.026376904794703494,\n",
       " -0.01089729161076907,\n",
       " -0.004998030004584941,\n",
       " 0.002732256374566755,\n",
       " 0.024434812113985082,\n",
       " 0.026910027399146066,\n",
       " 0.02362243427979299,\n",
       " -0.027519311706112774,\n",
       " -0.008580744831775197,\n",
       " 0.017821545955339493,\n",
       " -0.008257062718322128,\n",
       " -0.013036130854948752,\n",
       " 0.006955988232068373,\n",
       " 0.0038683165550425767,\n",
       " 0.0037350356711012746,\n",
       " 0.003303459830271395,\n",
       " 0.03924802204236629,\n",
       " -0.004074584495472659,\n",
       " -0.0003113851913022479,\n",
       " 0.0034145270395302646,\n",
       " -0.035186129146115276,\n",
       " -0.006518065427474376,\n",
       " 0.01482590199326417,\n",
       " 0.019827104548408532,\n",
       " -0.005378831997947155,\n",
       " -0.001306627846716699,\n",
       " 0.001182867059175584,\n",
       " 0.023292405202575802,\n",
       " 0.019636704948711378,\n",
       " -0.023203551435168706,\n",
       " -0.005112270695725869,\n",
       " 0.04996125729191178,\n",
       " 0.002692589480855636,\n",
       " -0.0034938608269525022,\n",
       " 0.026173809404832837,\n",
       " -0.006280064065207662,\n",
       " 0.011512921950177259,\n",
       " 0.01011664673275229,\n",
       " 0.01603177667966935,\n",
       " 0.020842577772471286,\n",
       " 0.005312191672391833,\n",
       " 0.002408574493944345,\n",
       " -0.02240386752850485,\n",
       " 0.009627951012013265,\n",
       " -0.019344755791433625,\n",
       " -0.02217538614622299,\n",
       " 0.0021689863907366023,\n",
       " -0.01891317901928111,\n",
       " -0.00034371372830326253,\n",
       " -0.015130544146747523,\n",
       " 0.013899283467931147,\n",
       " -0.006975028192038088,\n",
       " 0.01378504277679022,\n",
       " 0.001128920079071849,\n",
       " 0.005969075879282828,\n",
       " 0.009088481443806574,\n",
       " 0.009437549549670838,\n",
       " 0.012166633140847512,\n",
       " -0.006924254810231741,\n",
       " -0.011696976448755567,\n",
       " -0.0043316258177090875,\n",
       " 0.002881403969426373,\n",
       " 0.015206703986626385,\n",
       " 0.012395114523129368,\n",
       " -0.004658480947382897,\n",
       " 0.02871249246498972,\n",
       " 0.0015652560263094868,\n",
       " -0.012033351558414233,\n",
       " 0.030337248133373906,\n",
       " 0.0007108308959564061,\n",
       " -0.0035509811725229663,\n",
       " -0.016742606818926115,\n",
       " -0.011582735757614638,\n",
       " -0.004128531359161064,\n",
       " 0.010630730308547784,\n",
       " 0.025539139105454932,\n",
       " -0.006261024105237947,\n",
       " 0.0004200725219802324,\n",
       " -2.3254722404429114e-05,\n",
       " -0.0636193645187102,\n",
       " -0.017110715816082728,\n",
       " 0.007527191687773013,\n",
       " -0.021972290756352333,\n",
       " -0.026072261709897505,\n",
       " 0.0043347992995911465,\n",
       " -0.013302693088492676,\n",
       " -0.01791039972274659,\n",
       " -0.02823014184536954,\n",
       " 0.010237234387657335,\n",
       " -0.026910027399146066,\n",
       " 0.005918302031815164,\n",
       " -0.010833824767095808,\n",
       " -0.010288008235125,\n",
       " -0.01290285020383811,\n",
       " -0.006803667155326696,\n",
       " 0.003255859464685789,\n",
       " -0.0013629548218166484,\n",
       " 0.015485959216375906,\n",
       " 0.035566932070800125,\n",
       " 0.00864421167544846,\n",
       " -0.012534741206681493,\n",
       " 0.029854899376399,\n",
       " -0.001778663951728212,\n",
       " 0.0340183362422948,\n",
       " 0.010662464196045733,\n",
       " 0.008244369722116531,\n",
       " -0.01295997101506989,\n",
       " -0.002829043613848338,\n",
       " 0.012883810243868393,\n",
       " -0.019040114569272907,\n",
       " 0.020309455168028713,\n",
       " 0.013937363387870579,\n",
       " -0.005286804748658001,\n",
       " 0.031301947509968994,\n",
       " 0.02251810728832314,\n",
       " 0.01783423988286773,\n",
       " 0.018646617717059822,\n",
       " -0.024612519648799274,\n",
       " -0.002422854463921632,\n",
       " 0.0006568839158526712,\n",
       " -0.012833036396400729,\n",
       " -0.022708508750665563,\n",
       " 0.01977633070094087,\n",
       " 0.02279736251807266,\n",
       " -0.003731862422049875,\n",
       " -0.022315013761097752,\n",
       " 0.00020309454585952066,\n",
       " 0.006594226198675873,\n",
       " -0.0066640400061132535,\n",
       " 0.024358652274106222,\n",
       " -0.013848509620463483,\n",
       " 0.007355830651061621,\n",
       " -0.03239358057391061,\n",
       " 0.01596830890467345,\n",
       " 0.002479974809492096,\n",
       " 0.02011905370568629,\n",
       " -0.017656532348053536,\n",
       " -0.02754469769852397,\n",
       " -0.024345958346577986,\n",
       " -0.002411747742995745,\n",
       " 0.03693782036449126,\n",
       " 0.024003237204477838,\n",
       " -0.0036398351727607208,\n",
       " -0.010072219849048741,\n",
       " -0.01176044329242883,\n",
       " 0.010338782082592665,\n",
       " -0.00040242072750325866,\n",
       " 0.030261088293495046,\n",
       " -0.00542960584541482,\n",
       " -0.011766790256192946,\n",
       " 0.009678724859480929,\n",
       " -0.019205128176558863,\n",
       " 0.012756876556521867,\n",
       " -0.005959555433636653,\n",
       " -0.013988137235338243,\n",
       " 0.02990567136122139,\n",
       " 0.0075589251096096445,\n",
       " -0.039603437111994676,\n",
       " 0.006023022742971233,\n",
       " 0.04523930996651694,\n",
       " 0.009431202585906722,\n",
       " -0.0043792261832946945,\n",
       " -0.022822750373129128,\n",
       " 0.038791059277802575,\n",
       " -0.031378107349847854,\n",
       " 0.010878251650799356,\n",
       " -0.0011884204196385274,\n",
       " -0.024066703116828465,\n",
       " -0.01146849506647371,\n",
       " -0.03457684670179384,\n",
       " 0.002137252736069312,\n",
       " 0.020182521480682187,\n",
       " 0.01435624623249486,\n",
       " 0.037623266373982105,\n",
       " 0.01777077210787183,\n",
       " 0.01468627437838941,\n",
       " 0.008974240752665646,\n",
       " -0.0055184596128219155,\n",
       " 0.021172606849688472,\n",
       " 0.00960891105204355,\n",
       " 0.0033478867139749425,\n",
       " -0.03434836345686671,\n",
       " 0.00539469894169613,\n",
       " -0.011246360647955972,\n",
       " -0.009202722134947503,\n",
       " -0.018062721265149583,\n",
       " -0.007527191687773013,\n",
       " -0.025450285338047836,\n",
       " -0.00040658577695429864,\n",
       " -0.00971680477942036,\n",
       " 0.019966732163283294,\n",
       " -0.02850939707511906,\n",
       " -0.010027792965345195,\n",
       " -0.006873480962764076,\n",
       " 0.006930601308334541,\n",
       " -0.022530801215851375,\n",
       " -0.00015063506262841974,\n",
       " 0.028940973847271574,\n",
       " 0.005578753440274438,\n",
       " -0.03142888305996079,\n",
       " -0.024993322573484123,\n",
       " -0.020068279858218623,\n",
       " -0.020804497852531856,\n",
       " 0.010503795689878621,\n",
       " -0.005105923731961752,\n",
       " 0.011138466920579161,\n",
       " 0.019966732163283294,\n",
       " 0.008656904671654059,\n",
       " -0.0177961599629283,\n",
       " -0.038156388978424674,\n",
       " 0.02815398200549068,\n",
       " 0.005623180323977986,\n",
       " 0.010230887423893218,\n",
       " -0.0026180156834258272,\n",
       " 0.02307661774782218,\n",
       " 0.019979426090811526,\n",
       " -0.011271747571689803,\n",
       " -0.03345982578279576,\n",
       " -0.006016675779207116,\n",
       " 0.021591489694312755,\n",
       " -0.0031289253116779446,\n",
       " -0.024714067343734603,\n",
       " 0.01176044329242883,\n",
       " -0.01122097372422214,\n",
       " -0.012858423320134562,\n",
       " 0.010135687624044641,\n",
       " -0.03759787851892563,\n",
       " -0.027163896636484393,\n",
       " -0.028027048318144152,\n",
       " -0.0022483201781588404,\n",
       " -0.01714879573602216,\n",
       " -0.010973452381970568,\n",
       " 0.014305472385027196,\n",
       " -0.013340773008432106,\n",
       " -0.004144398302910039,\n",
       " 0.02494254872601646,\n",
       " -0.02590724810261155,\n",
       " 0.008288796605820077,\n",
       " 0.05102750622608747,\n",
       " -0.029854899376399,\n",
       " -0.0018913180183434404,\n",
       " -0.009450243477199072,\n",
       " -0.0025640685869067624,\n",
       " 0.023292405202575802,\n",
       " -0.016234870206894736,\n",
       " -0.03521151700117174,\n",
       " -0.010681504156015448,\n",
       " -0.01829120264743144,\n",
       " -0.009367735742233459,\n",
       " -0.014470486923635787,\n",
       " 0.0025132949722697566,\n",
       " -0.0035478079234715666,\n",
       " 0.013455013699573033,\n",
       " 0.001408175075990711,\n",
       " 0.005953208935533853,\n",
       " -0.00935504274602786,\n",
       " 0.006854441002794361,\n",
       " 0.011525615877705493,\n",
       " -0.006873480962764076,\n",
       " 0.003662048614612495,\n",
       " 0.011392335226594849,\n",
       " -0.0002610082327966669,\n",
       " 0.008815572246498534,\n",
       " 0.017720000123049435,\n",
       " 0.015232090910360216,\n",
       " 0.011722363372489398,\n",
       " 0.02525988387570541,\n",
       " -0.017199569583489824,\n",
       " -0.02245464137597251,\n",
       " -0.017783466035400063,\n",
       " -0.02234039975350895,\n",
       " 0.00039706570965794384,\n",
       " 0.006930601308334541,\n",
       " 0.05788194769454315,\n",
       " -0.025171030108298315,\n",
       " 0.029956445208689057,\n",
       " 0.001289174394857354,\n",
       " 0.011982578642269204,\n",
       " 0.03896876681261677,\n",
       " 0.040365042961364374,\n",
       " 0.011240013684191854,\n",
       " -0.02251810728832314,\n",
       " -0.015371718525234977,\n",
       " -0.004204691664701244,\n",
       " 0.002172159639788002,\n",
       " -0.016260258061951204,\n",
       " -0.010770357923422545,\n",
       " -0.022810056445600895,\n",
       " 0.029169455229553432,\n",
       " 0.011741403332459113,\n",
       " -0.028915585992215106,\n",
       " -0.010522836581170973,\n",
       " -0.005397872423578189,\n",
       " -0.01760575850058587,\n",
       " -0.01207777844211778,\n",
       " -0.026859253551678404,\n",
       " -0.00949467036090262,\n",
       " 0.01011664673275229,\n",
       " 0.02580570040767622,\n",
       " -0.047295644269698914,\n",
       " -0.014089683998950936,\n",
       " -0.01396275031160441,\n",
       " 0.002103932573291651,\n",
       " -0.01586676120973812,\n",
       " -0.004712428276732621,\n",
       " -0.008688638559152008,\n",
       " -0.02047446877531467,\n",
       " -0.01482590199326417,\n",
       " -0.01917974218414767,\n",
       " -0.005578753440274438,\n",
       " -0.030159540598559718,\n",
       " -0.00424594553218405,\n",
       " 0.01236338063563142,\n",
       " 0.020068279858218623,\n",
       " 0.02529796379564484,\n",
       " -0.01760575850058587,\n",
       " -0.002419681214870232,\n",
       " 0.03483071407648689,\n",
       " -0.01021819442768762,\n",
       " -0.01132886745159895,\n",
       " 0.015117850219219289,\n",
       " 0.0014700554115536038,\n",
       " 0.001954784978432033,\n",
       " 0.014775128145796505,\n",
       " 0.0006061103012156652,\n",
       " 0.016361803894241262,\n",
       " -0.007412950996632085,\n",
       " 0.03742017098411144,\n",
       " 0.01822773487243554,\n",
       " 0.01020550143148202,\n",
       " 0.030921144585284145,\n",
       " -0.01586676120973812,\n",
       " 0.005946862437431055,\n",
       " -0.0011876270491680127,\n",
       " -0.009291575902354597,\n",
       " -0.0049060027552957864,\n",
       " -0.019522463326247814,\n",
       " 0.011633509605082304,\n",
       " -0.00835226344949334,\n",
       " -0.0015803294831726175,\n",
       " 0.012280873831988441,\n",
       " -0.0055406730546736895,\n",
       " 0.008790186254087338,\n",
       " 0.01784693381039596,\n",
       " -0.008225328830824179,\n",
       " 0.01708532796102626,\n",
       " -0.014495872916046985,\n",
       " 0.007539885149639929,\n",
       " 0.02154071584684509,\n",
       " -0.022264239913630086,\n",
       " 0.031784298129589175,\n",
       " -0.014889368836937433,\n",
       " 0.03216509732898348,\n",
       " 0.020982205387346048,\n",
       " -0.00474733518045131,\n",
       " 0.02155340791172805,\n",
       " -0.0014843354979462197,\n",
       " -0.012382420595601134,\n",
       " -0.004721948256717478,\n",
       " -0.03716630360941839,\n",
       " 0.011874683983569757,\n",
       " 0.005055150350155404,\n",
       " -0.016260258061951204,\n",
       " 0.01236338063563142,\n",
       " -0.0283063016852484,\n",
       " -0.024269798506699126,\n",
       " -0.01524478483788845,\n",
       " -0.00196589169935792,\n",
       " 0.00028778338023090574,\n",
       " -0.0006326871060322755,\n",
       " -0.006261024105237947,\n",
       " -0.013632721234387225,\n",
       " -0.003969863784316589,\n",
       " 0.0030115113714856167,\n",
       " -0.0017881840481283994,\n",
       " 0.008967893788901529,\n",
       " -0.0009535923646308781,\n",
       " -0.046204011205757296,\n",
       " -0.016793380666393777,\n",
       " -0.02754469769852397,\n",
       " -0.008510931024337818,\n",
       " -0.001689810067905787,\n",
       " -0.04394458151270467,\n",
       " -0.029702577833996005,\n",
       " -0.03153042702960558,\n",
       " 0.005712034091385081,\n",
       " -0.013442320703367436,\n",
       " 0.03198738979416929,\n",
       " 0.0018516511246323213,\n",
       " 0.021731117309187514,\n",
       " -0.02850939707511906,\n",
       " 0.0021991330716322048,\n",
       " 0.033434441653029834,\n",
       " -0.02698618723902493,\n",
       " -0.0005362965519859498,\n",
       " 0.011227320687986255,\n",
       " 0.02993105921627786,\n",
       " 0.026275357099768165,\n",
       " 0.018557763949652726,\n",
       " 0.006518065427474376,\n",
       " 0.028534783067530257,\n",
       " -0.0024545881185889223,\n",
       " 0.017999253490153685,\n",
       " -0.0027179761717588094,\n",
       " -0.0346530065416727,\n",
       " 0.01468627437838941,\n",
       " -0.03117501382262247,\n",
       " -0.0016057162904911204,\n",
       " 0.000715987629391757,\n",
       " 0.012230099984520775,\n",
       " 0.03127655965491253,\n",
       " 0.02171842338165928,\n",
       " -0.011855644023600042,\n",
       " 0.02289891021300799,\n",
       " 0.012483968290536464,\n",
       " -0.005997635819237401,\n",
       " 0.009932593165496618,\n",
       " -0.01150657498641314,\n",
       " 0.005851661706259842,\n",
       " -0.009704111783214762,\n",
       " 0.0011186067286164767,\n",
       " -0.021210686769627903,\n",
       " 0.01496552960813893,\n",
       " -0.005118617193828667,\n",
       " 0.011303480527865117,\n",
       " -0.0003837773072496388,\n",
       " 0.019078194489212337,\n",
       " 0.01801194741768192,\n",
       " 0.02234039975350895,\n",
       " -0.024929854798488225,\n",
       " 0.006232463699622056,\n",
       " 0.019306675871494195,\n",
       " 0.00736217714916442,\n",
       " -0.017466130885711112,\n",
       " -0.022302319833569516,\n",
       " 0.0006457771949267842,\n",
       " -0.005642220283947701,\n",
       " 0.021109139074692574,\n",
       " 0.013556561394508363,\n",
       " 0.00414757131913078,\n",
       " -0.009672377895716813,\n",
       " 0.0023800143211591134,\n",
       " 0.0013756481672682352,\n",
       " 0.01787231980280716,\n",
       " -0.011392335226594849,\n",
       " -0.02171842338165928,\n",
       " -0.009907206241762785,\n",
       " 0.007216203036186861,\n",
       " -0.04135512833037066,\n",
       " 0.0002455381489059437,\n",
       " -0.012737836596552152,\n",
       " -0.02504409642095179,\n",
       " 0.021299540537035,\n",
       " -0.008764799330353505,\n",
       " -0.029144067374496964,\n",
       " 0.0205125486952541,\n",
       " -0.027798566935862294,\n",
       " -0.018900486954398145,\n",
       " -0.010307048195094716,\n",
       " 0.01791039972274659,\n",
       " 0.019281288016437727,\n",
       " -0.011823911067424728,\n",
       " 0.014990916531872763,\n",
       " 0.015016303455606596,\n",
       " 0.003852449611293602,\n",
       " -0.018735471484466918,\n",
       " 0.006695773427949885,\n",
       " -0.0031416187735448606,\n",
       " 0.012179326137053111,\n",
       " 0.022467333440855476,\n",
       " 0.018963952866748773,\n",
       " -0.030464181820720432,\n",
       " -0.018900486954398145,\n",
       " 0.004547413738124027,\n",
       " 0.006727506849786517,\n",
       " -0.021426474224381525,\n",
       " -0.018202348880024345,\n",
       " 0.005642220283947701,\n",
       " -0.0025910422515816245,\n",
       " -0.0075779650695793595,\n",
       " -0.001036892829782695,\n",
       " 0.020461774847786437,\n",
       " -0.02993105921627786,\n",
       " 0.03117501382262247,\n",
       " 0.005362965519859498,\n",
       " -0.020728338012652996,\n",
       " -0.02990567136122139,\n",
       " -0.013480400623306866,\n",
       " 0.005743767513221713,\n",
       " 0.016361803894241262,\n",
       " -0.006051582682925807,\n",
       " 0.027874726775741158,\n",
       " 0.029118681382085766,\n",
       " -0.0030099246305445877,\n",
       " -0.010440328846205358,\n",
       " -0.005480379227221167,\n",
       " -0.02965180398652834,\n",
       " 0.009336002786058145,\n",
       " -0.010154727584014357,\n",
       " 0.016831460586333207,\n",
       " -0.008314182598231275,\n",
       " 0.009672377895716813,\n",
       " 0.005245551346836512,\n",
       " -0.0021277327560844544,\n",
       " -0.012096819333410133,\n",
       " -0.0002770733154364437,\n",
       " -0.023647822134849457,\n",
       " 0.03472916638155157,\n",
       " 0.015676359747395695,\n",
       " 0.016755300746454347,\n",
       " -0.015143237142953122,\n",
       " 0.02179458322153814,\n",
       " 0.008910772977669746,\n",
       " 0.012515701246711778,\n",
       " 0.006930601308334541,\n",
       " 0.005334405114243607,\n",
       " -0.012845730323928963,\n",
       " -0.014698968305917643,\n",
       " 0.005937341991784879,\n",
       " -0.022391173600976613,\n",
       " 0.01714879573602216,\n",
       " -0.004179305206628729,\n",
       " -0.03348521363785223,\n",
       " -0.012687062749084488,\n",
       " -0.04351300660319742,\n",
       " -0.01867200557211629,\n",
       " 0.014889368836937433,\n",
       " 0.028737878457400917,\n",
       " -0.017174181728433355,\n",
       " -0.01179217717992678,\n",
       " -0.011373294335302498,\n",
       " -0.007089268883179016,\n",
       " 0.00917733521121367,\n",
       " -0.012001618602238919,\n",
       " 0.00625150412525309,\n",
       " 0.023609740352264756,\n",
       " -0.021769197229126944,\n",
       " -0.0014359418783054282,\n",
       " -0.01353117447077453,\n",
       " 0.017732692187932397,\n",
       " 0.0006668006392804509,\n",
       " -0.004315759339621431,\n",
       " 0.010275314307596766,\n",
       " -0.013442320703367436,\n",
       " 0.002514881713210786,\n",
       " -0.011373294335302498,\n",
       " -0.015511346140109737,\n",
       " -0.0027370163645591837,\n",
       " 0.0036271417108938047,\n",
       " -0.0016326897223353232,\n",
       " -0.004848882409725322,\n",
       " -0.026453064634582357,\n",
       " 0.021908824844001706,\n",
       " 0.0011344734395347925,\n",
       " 0.023063923820293947,\n",
       " -0.00832687652575951,\n",
       " -0.038410256353117726,\n",
       " 0.0169837821287362,\n",
       " 0.006045236184823007,\n",
       " 0.017681918340464734,\n",
       " 0.0002673549346262926,\n",
       " 0.007127349268779765,\n",
       " -0.01690762042621207,\n",
       " 0.0014756087720165473,\n",
       " -0.004588667605606835,\n",
       " -0.014876675840731834,\n",
       " -0.02269581482313733,\n",
       " -0.0019024247392693274,\n",
       " -0.010446675809969476,\n",
       " 0.011976231678505088,\n",
       " -0.015600199907516833,\n",
       " -0.01659028527652312,\n",
       " 0.013264612237230609,\n",
       " -0.03653163331004049,\n",
       " -0.0028084166801069345,\n",
       " 0.024523665881392178,\n",
       " -0.005880221646214415,\n",
       " -0.020563322542721765,\n",
       " -2.8213085937308507e-05,\n",
       " 0.04521392211146047,\n",
       " -0.022226159993690656,\n",
       " 0.01167793648878585,\n",
       " -0.0007552578378676187,\n",
       " -0.030997304425163005,\n",
       " -0.012160286177083396,\n",
       " -0.021096447009809612,\n",
       " -0.03145426718972672,\n",
       " -0.00539469894169613,\n",
       " -0.019141660401562965,\n",
       " 0.03759787851892563,\n",
       " 0.00575328749320657,\n",
       " -0.008669598599182293,\n",
       " -0.03142888305996079,\n",
       " 0.02303853782788275,\n",
       " -0.051484468990651185,\n",
       " 0.009329655822294029,\n",
       " 0.011957191718535373,\n",
       " 0.007831833841256367,\n",
       " -0.0063752647963788754,\n",
       " -0.01078939788339226,\n",
       " -0.009456589509640555,\n",
       " 0.02019521354556515,\n",
       " -0.007857220764990198,\n",
       " 0.020741030077535957,\n",
       " -0.027874726775741158,\n",
       " -0.02069025623006829,\n",
       " 0.004172958242864612,\n",
       " -0.02065217631012886,\n",
       " -0.013429626775839202,\n",
       " -0.018494298037302098,\n",
       " -0.044706187362074365,\n",
       " -0.02303853782788275,\n",
       " -0.011278094535453921,\n",
       " -0.007203509574319944,\n",
       " -0.01614601643948764,\n",
       " 0.028737878457400917,\n",
       " -0.013886589540402913,\n",
       " 0.00968507089192241,\n",
       " -0.016552205356583687,\n",
       " -0.0013201145626388004,\n",
       " -0.01925590202402653,\n",
       " 0.01822773487243554,\n",
       " 0.024333266281695024,\n",
       " -0.0030495915242557065,\n",
       " -0.0011551002568608666,\n",
       " 0.0008742585772086402,\n",
       " -0.002241973447225382,\n",
       " -0.0061531299121998185,\n",
       " -0.008250715754558012,\n",
       " 0.024434812113985082,\n",
       " -0.019040114569272907,\n",
       " 0.019116274409151767,\n",
       " 0.0036779153255308106,\n",
       " -0.008764799330353505,\n",
       " 0.012553782097973844,\n",
       " -0.0046172275455614075,\n",
       " 0.019827104548408532,\n",
       " -0.010053179889079026,\n",
       " -0.02011905370568629,\n",
       " 0.018481604109773866,\n",
       " 0.0019690651812399786,\n",
       " -0.008815572246498534,\n",
       " -0.012014311598444518,\n",
       " 0.010351475078798264,\n",
       " -0.014978222604344529,\n",
       " 0.01832928256737087,\n",
       " 0.0041570912991156376,\n",
       " -0.0038143694585235123,\n",
       " 0.01271244967281832,\n",
       " 0.014978222604344529,\n",
       " 0.015689053674923927,\n",
       " -0.021908824844001706,\n",
       " -0.011170199876754475,\n",
       " -0.00860613175550903,\n",
       " -0.0026719625471142323,\n",
       " -0.020068279858218623,\n",
       " 0.027341604171298585,\n",
       " 0.004144398302910039,\n",
       " -0.026656160024453014,\n",
       " -0.012350686708103185,\n",
       " -0.002738603105500213,\n",
       " -0.008675945562946409,\n",
       " 0.00935504274602786,\n",
       " -0.022911604140536224,\n",
       " 0.012598208981677392,\n",
       " -0.030464181820720432,\n",
       " -0.010414941922471527,\n",
       " 0.049834325467210526,\n",
       " -0.0025862820287585364,\n",
       " 0.009932593165496618,\n",
       " 0.005911955533712364,\n",
       " -0.009780271623093624,\n",
       " 0.006816360617193613,\n",
       " 0.013924669460342345,\n",
       " 0.2640229041458564,\n",
       " -0.02812859415043421,\n",
       " -0.016285644054362402,\n",
       " 0.030007219056156723,\n",
       " 0.015282864757827882,\n",
       " 0.032977478888466125,\n",
       " 0.006264197587120006,\n",
       " -0.0069432947702014565,\n",
       " 0.003662048614612495,\n",
       " 0.016323723974301832,\n",
       " -0.016272950126834166,\n",
       " -0.01240146055557085,\n",
       " -0.00439191964516161,\n",
       " 0.0009567657300976071,\n",
       " -0.0024609346166917217,\n",
       " -0.01325191924102501,\n",
       " -0.02757008555358044,\n",
       " -0.008860000061524717,\n",
       " -0.012414154483099083,\n",
       " -0.02612303555736517,\n",
       " 0.006403824736333448,\n",
       " -0.007819139913728132,\n",
       " -0.014381632224906056,\n",
       " 0.0003034518067392576,\n",
       " 0.017821545955339493,\n",
       " 0.0021753328888394017,\n",
       " -0.01586676120973812,\n",
       " 0.0040904509735603155,\n",
       " 0.00911386743621777,\n",
       " -0.019446303486368954,\n",
       " -0.021401088231970327,\n",
       " -0.013493093619512465,\n",
       " 0.019763638636057904,\n",
       " -0.0015422492139871983,\n",
       " -0.0026053222215589107,\n",
       " -0.013607334310653392,\n",
       " 0.01775808004298887,\n",
       " 0.01179217717992678,\n",
       " 0.03787713374867516,\n",
       " 0.0023324139555735072,\n",
       " 0.00817455591467915,\n",
       " -0.005258244808703428,\n",
       " -0.01354386746698013,\n",
       " -0.03135271949479139,\n",
       " -0.0067465468097562325,\n",
       " 0.005994462337355342,\n",
       " ...]"
      ]
     },
     "execution_count": 9,
     "metadata": {},
     "output_type": "execute_result"
    }
   ],
   "source": [
    "cached_embedder.embed_query(\"안녕하세요? 반갑습니다. 제 이름은 테디입니다.\")"
   ]
  },
  {
   "cell_type": "markdown",
   "metadata": {},
   "source": [
    "## ByteStore 로 교체\n"
   ]
  },
  {
   "cell_type": "markdown",
   "metadata": {},
   "source": [
    "다른 바이트 저장소를 사용하려면 `CacheBackedEmbedding` 을 생성할 때 사용하면 됩니다.\n",
    "\n",
    "아래에서는 동등한 캐시된 임베딩 객체를 생성하지만, 비영구적인 `InMemoryByteStore` 를 대신 사용합니다:\n"
   ]
  },
  {
   "cell_type": "code",
   "execution_count": 10,
   "metadata": {},
   "outputs": [
    {
     "ename": "NameError",
     "evalue": "name 'underlying_embeddings' is not defined",
     "output_type": "error",
     "traceback": [
      "\u001b[0;31m---------------------------------------------------------------------------\u001b[0m",
      "\u001b[0;31mNameError\u001b[0m                                 Traceback (most recent call last)",
      "Cell \u001b[0;32mIn[10], line 7\u001b[0m\n\u001b[1;32m      2\u001b[0m \u001b[38;5;28;01mfrom\u001b[39;00m \u001b[38;5;21;01mlangchain\u001b[39;00m\u001b[38;5;21;01m.\u001b[39;00m\u001b[38;5;21;01mstorage\u001b[39;00m \u001b[38;5;28;01mimport\u001b[39;00m InMemoryByteStore\n\u001b[1;32m      4\u001b[0m store \u001b[38;5;241m=\u001b[39m InMemoryByteStore()\n\u001b[1;32m      6\u001b[0m cached_embedder \u001b[38;5;241m=\u001b[39m CacheBackedEmbeddings\u001b[38;5;241m.\u001b[39mfrom_bytes_store(\n\u001b[0;32m----> 7\u001b[0m     \u001b[43munderlying_embeddings\u001b[49m, store, namespace\u001b[38;5;241m=\u001b[39munderlying_embeddings\u001b[38;5;241m.\u001b[39mmodel\n\u001b[1;32m      8\u001b[0m )\n",
      "\u001b[0;31mNameError\u001b[0m: name 'underlying_embeddings' is not defined"
     ]
    }
   ],
   "source": [
    "from langchain.embeddings import CacheBackedEmbeddings\n",
    "from langchain.storage import InMemoryByteStore\n",
    "\n",
    "store = InMemoryByteStore()\n",
    "\n",
    "cached_embedder = CacheBackedEmbeddings.from_bytes_store(\n",
    "    underlying_embeddings, store, namespace=underlying_embeddings.model\n",
    ")"
   ]
  },
  {
   "cell_type": "code",
   "execution_count": 11,
   "metadata": {},
   "outputs": [],
   "source": [
    "from langchain_upstage import UpstageEmbeddings\n",
    "\n",
    "embeddings = UpstageEmbeddings(model=\"solar-embedding-1-large\")"
   ]
  },
  {
   "cell_type": "code",
   "execution_count": 12,
   "metadata": {},
   "outputs": [
    {
     "name": "stdout",
     "output_type": "stream",
     "text": [
      "[[-0.0038604736328125, -0.028656005859375, 0.0060577392578125, 0.0158233642578125, -0.013580322265625, -0.0175323486328125, 0.006557464599609375, -0.00798797607421875, 0.0010929107666015625, 0.01146697998046875, 0.0189666748046875, 0.02105712890625, -0.0019683837890625, 0.005359649658203125, 0.0038356781005859375, -0.0019855499267578125, 0.00621795654296875, 0.0005564689636230469, 0.0253753662109375, -0.006328582763671875, -0.0208892822265625, 0.0016584396362304688, -0.0011148452758789062, 0.0093231201171875, -0.00383758544921875, 0.0032253265380859375, 0.0106658935546875, 0.01033782958984375, 0.0038051605224609375, 0.0146942138671875, 0.0147247314453125, -0.00943756103515625, 0.0176849365234375, 0.00287628173828125, 0.004291534423828125, -0.007640838623046875, 0.009552001953125, 0.03466796875, -0.0021209716796875, 0.00994873046875, 0.02142333984375, -0.005741119384765625, 0.0005497932434082031, 0.001194000244140625, -0.0033779144287109375, -0.0009002685546875, -0.00244140625, -0.005512237548828125, -0.0059967041015625, 0.0011959075927734375, -0.015899658203125, -0.02899169921875, -0.0030879974365234375, -0.09637451171875, -0.0023326873779296875, 0.006591796875, -0.041290283203125, -0.01093292236328125, 0.0091705322265625, 0.0005898475646972656, -0.0011510848999023438, -0.0040283203125, 0.00725555419921875, 0.009552001953125, -0.0168304443359375, -0.006011962890625, -0.003093719482421875, -0.00199127197265625, 0.006488800048828125, 0.01100921630859375, 0.003337860107421875, 0.008880615234375, -0.00991058349609375, 0.01204681396484375, -0.01739501953125, -0.039093017578125, 0.0224151611328125, -0.0301361083984375, 0.0112152099609375, 0.0086822509765625, -0.004070281982421875, 0.0107421875, -0.0175628662109375, 0.00795745849609375, -0.01120758056640625, 0.015869140625, -0.0218048095703125, -0.00769805908203125, -0.0085906982421875, -0.0179595947265625, -0.004062652587890625, -0.0013380050659179688, 0.0139007568359375, 0.01473236083984375, 0.005191802978515625, 0.005489349365234375, -0.006198883056640625, 0.0105438232421875, -0.026458740234375, -0.011810302734375, 0.019775390625, 0.005001068115234375, 0.0052337646484375, -0.0303192138671875, 0.004566192626953125, 0.005542755126953125, -0.004711151123046875, -0.00688934326171875, 0.029205322265625, 0.0041961669921875, 0.012908935546875, 0.003940582275390625, -0.0168304443359375, 0.0044708251953125, 0.001285552978515625, 0.00707244873046875, 0.0052947998046875, 0.0192413330078125, 0.005031585693359375, 0.043914794921875, -0.01380157470703125, 0.01214599609375, 0.00897216796875, -0.003559112548828125, 0.006778717041015625, 0.01134490966796875, 0.0211181640625, 0.006374359130859375, 0.01165008544921875, -0.0113525390625, 0.01105499267578125, 0.0015993118286132812, -0.0013408660888671875, 0.013519287109375, -0.004070281982421875, -0.0140228271484375, -0.0223541259765625, 0.002223968505859375, -0.003631591796875, -0.0004940032958984375, 0.001926422119140625, 0.00775146484375, 0.0166015625, -0.01396942138671875, 0.0073699951171875, -0.00901031494140625, 0.0020198822021484375, 0.0162353515625, 0.002532958984375, -0.00536346435546875, -0.0237579345703125, 0.01116180419921875, 0.0008873939514160156, -0.00888824462890625, 0.01580810546875, 0.0144805908203125, -0.01337432861328125, 0.0204010009765625, -0.01033782958984375, -0.0045166015625, 6.204843521118164e-05, 0.01303863525390625, 0.00995635986328125, -0.033050537109375, -0.014678955078125, -0.006866455078125, -0.007160186767578125, 0.002437591552734375, -0.01303863525390625, -0.0231170654296875, -0.009429931640625, 0.0081329345703125, -0.0017480850219726562, 0.0019893646240234375, -0.01515960693359375, -0.00716400146484375, 0.0096588134765625, 0.0013561248779296875, -0.004131317138671875, -0.00687408447265625, -0.017333984375, -0.0074615478515625, 0.01198577880859375, -0.0014591217041015625, 0.0186309814453125, -0.01288604736328125, -0.00130462646484375, -0.002216339111328125, 0.00543975830078125, 0.0172119140625, 0.0015468597412109375, 0.007434844970703125, -0.00406646728515625, 0.024200439453125, -0.009490966796875, 0.01268768310546875, -0.0222015380859375, 0.036712646484375, 0.00887298583984375, 0.019775390625, -0.0139312744140625, 0.0051727294921875, 0.0002033710479736328, -0.0027923583984375, 0.06011962890625, 0.0004425048828125, -0.02789306640625, -0.0002810955047607422, -0.031402587890625, 0.0019969940185546875, -0.0145263671875, 0.017730712890625, 0.01371002197265625, -0.001537322998046875, 0.001155853271484375, -0.00466156005859375, -0.00983428955078125, 0.0008540153503417969, 0.0145721435546875, -0.002124786376953125, 0.0070037841796875, 0.01097869873046875, -0.0401611328125, 0.0249176025390625, 0.0275421142578125, -0.009613037109375, 0.0008754730224609375, 0.0149383544921875, -0.034881591796875, 0.0217742919921875, -0.016204833984375, -0.00843048095703125, 0.0039215087890625, -0.0008182525634765625, 0.0251007080078125, 0.03179931640625, -0.001750946044921875, 0.0120849609375, 0.00033974647521972656, -0.01322174072265625, -0.0102386474609375, -0.00902557373046875, -0.01102447509765625, -0.01074981689453125, 0.014312744140625, -0.006488800048828125, 0.0151519775390625, -0.01015472412109375, -0.016571044921875, 0.005828857421875, 0.002956390380859375, -0.0011587142944335938, -0.0030651092529296875, 0.0204620361328125, -0.00608062744140625, -0.03375244140625, 0.005054473876953125, -0.01068878173828125, 0.0216827392578125, -0.010406494140625, 0.0234222412109375, -0.0205078125, -0.0288848876953125, 0.0191497802734375, -0.006378173828125, -0.004634857177734375, -0.0115814208984375, -0.0004401206970214844, 0.01519775390625, -0.0123291015625, -0.0204925537109375, -0.003818511962890625, 0.0111236572265625, 0.01922607421875, -0.00923919677734375, 0.0172119140625, 0.003223419189453125, -0.01513671875, 0.002040863037109375, -0.01090240478515625, -0.005069732666015625, -0.002788543701171875, -0.00024580955505371094, 0.01312255859375, 0.0001920461654663086, -0.0042266845703125, 0.0133209228515625, -0.0063018798828125, -0.003814697265625, 0.00814056396484375, 0.01515960693359375, 0.021331787109375, 0.0187835693359375, -0.01082611083984375, -0.01454925537109375, 0.021270751953125, -0.0024127960205078125, -0.016693115234375, 0.00408172607421875, -0.0005984306335449219, 0.04473876953125, 0.0296783447265625, 0.005321502685546875, -8.499622344970703e-05, 0.0020313262939453125, -0.004497528076171875, 0.0093841552734375, -0.010345458984375, 0.01342010498046875, -0.004299163818359375, 0.03497314453125, -0.0030460357666015625, -0.01611328125, 0.016937255859375, -0.00307464599609375, 0.0129241943359375, -0.0291748046875, -0.003299713134765625, 0.021270751953125, 0.01068878173828125, 0.01390838623046875, -0.004718780517578125, 0.0247650146484375, -0.003253936767578125, 0.022979736328125, 0.018463134765625, -0.0032749176025390625, -0.0187225341796875, -0.0010900497436523438, -0.00836181640625, -0.0285186767578125, 0.0201263427734375, -0.0033054351806640625, 0.0128326416015625, 0.0218658447265625, 0.0008730888366699219, -0.02508544921875, -0.0032215118408203125, 0.00739288330078125, 0.0037841796875, 0.0027923583984375, -0.0016355514526367188, 0.00389862060546875, 0.0109100341796875, 0.006137847900390625, -0.00731658935546875, -0.004474639892578125, -0.0239715576171875, -0.016387939453125, -0.00868988037109375, -0.006450653076171875, -0.0006642341613769531, 0.0011577606201171875, -0.0075225830078125, -0.002956390380859375, -0.0145721435546875, 0.010589599609375, 0.01094818115234375, -0.01416778564453125, -0.003162384033203125, -0.01030731201171875, -0.0165863037109375, 0.011871337890625, 0.032958984375, 0.00012362003326416016, -0.009429931640625, -0.0038604736328125, 0.01094818115234375, -0.0036296844482421875, -0.037567138671875, 0.01227569580078125, -0.01049041748046875, -0.00354766845703125, 0.01483154296875, 0.017669677734375, 0.0160064697265625, -0.002750396728515625, 0.005413055419921875, 0.0002543926239013672, -0.01358795166015625, -0.00803375244140625, 0.0039520263671875, 0.0056304931640625, -0.0073089599609375, 0.02288818359375, 0.024017333984375, 0.007049560546875, 0.0002765655517578125, 0.00946044921875, -0.0018224716186523438, 0.01000213623046875, -0.0215911865234375, -0.001384735107421875, -0.022613525390625, -0.0203094482421875, 0.017181396484375, -0.0180816650390625, -0.014923095703125, 0.007068634033203125, 0.0017118453979492188, -0.02288818359375, 0.0201263427734375, -0.0104217529296875, -0.00273895263671875, -0.006927490234375, 0.0286865234375, -0.0110321044921875, 0.0007891654968261719, -0.0230865478515625, 0.0094146728515625, 0.0044097900390625, -0.01409912109375, 0.0211029052734375, 0.007671356201171875, -0.018402099609375, 0.004589080810546875, -0.0006113052368164062, 0.00978851318359375, 0.0183868408203125, -0.01248931884765625, -0.002536773681640625, -0.00536346435546875, 0.004848480224609375, 0.0203857421875, -0.007358551025390625, 0.0173492431640625, 0.0267181396484375, 0.006969451904296875, -0.01209259033203125, 0.038665771484375, 0.0082244873046875, 0.0012407302856445312, -0.006683349609375, -0.01317596435546875, -0.0006690025329589844, 0.0258636474609375, 0.0007100105285644531, 0.00348663330078125, -0.00017201900482177734, 0.0116729736328125, -0.00457763671875, -0.0036411285400390625, 0.041595458984375, 0.0184326171875, 0.01329803466796875, -0.038177490234375, 0.01983642578125, 0.005863189697265625, -0.035186767578125, -0.0084686279296875, 0.007518768310546875, 0.005603790283203125, -0.01012420654296875, 0.01509857177734375, -0.0182342529296875, -0.007602691650390625, 0.009521484375, 0.0260772705078125, 0.01666259765625, 0.02984619140625, -0.0059967041015625, -0.022735595703125, 0.005859375, 0.00289154052734375, -0.00921630859375, -0.002712249755859375, -0.0216827392578125, 0.01367950439453125, -0.0111541748046875, 0.0040130615234375, 0.00911712646484375, 0.012939453125, 0.004505157470703125, 0.00453948974609375, -0.007274627685546875, -0.007297515869140625, 0.01416015625, -0.0011014938354492188, -0.01824951171875, -0.007022857666015625, -0.0151519775390625, -0.00848388671875, 0.004878997802734375, -0.0023403167724609375, -0.000514984130859375, -0.007640838623046875, -0.01666259765625, -0.0024871826171875, 0.0156707763671875, -0.0014944076538085938, -0.00830841064453125, -0.00908660888671875, 0.0270233154296875, -0.0292816162109375, -0.004276275634765625, 0.0121307373046875, -0.01036834716796875, -0.00959014892578125, 0.006862640380859375, -0.00176239013671875, 0.00719451904296875, 0.0282745361328125, 0.004398345947265625, 0.0098876953125, 0.02105712890625, 0.0154571533203125, -0.018157958984375, -0.0002865791320800781, -0.0223846435546875, -0.00463104248046875, 0.01294708251953125, -0.01531982421875, -0.01158905029296875, -0.01340484619140625, -0.01922607421875, -0.0225982666015625, 0.005817413330078125, 0.007465362548828125, -0.00554656982421875, 0.01085662841796875, -0.0303955078125, 0.0170745849609375, 0.0158233642578125, 0.0113677978515625, 0.0089569091796875, -0.0094146728515625, -0.00774383544921875, -0.007236480712890625, 0.0013532638549804688, -0.0187530517578125, -0.00446319580078125, 0.01428985595703125, -0.0053863525390625, -0.01486968994140625, 0.004180908203125, -0.003955841064453125, -0.0205230712890625, 0.01409912109375, 0.0027179718017578125, -0.007511138916015625, -0.018585205078125, 0.0086669921875, 0.007354736328125, -0.0156707763671875, 0.014251708984375, -0.039886474609375, -0.0196533203125, -0.0243682861328125, 0.0054779052734375, 0.01134490966796875, 0.0221710205078125, -0.01198577880859375, -0.0269775390625, -0.0203094482421875, -0.006908416748046875, -0.00901031494140625, -0.0010042190551757812, 0.0183563232421875, -0.0189208984375, 0.0267486572265625, -0.031005859375, -0.0029048919677734375, -0.026702880859375, 0.021636962890625, 0.01210784912109375, -0.00876617431640625, 0.02020263671875, -0.004955291748046875, -0.011077880859375, -0.00568389892578125, -0.0234222412109375, -0.0026111602783203125, -0.00024962425231933594, -0.012054443359375, 0.0298614501953125, -7.295608520507812e-05, -0.0231475830078125, 0.01324462890625, -0.09881591796875, 0.0024433135986328125, 0.0005245208740234375, 0.03131103515625, -0.01715087890625, 0.0004317760467529297, 0.005062103271484375, -0.00013756752014160156, 0.020172119140625, 0.0057373046875, 0.00621795654296875, -0.0015459060668945312, 0.0286102294921875, -0.0167236328125, 0.0235595703125, 0.004852294921875, 0.007427215576171875, 0.0003962516784667969, 0.01116180419921875, 0.0247650146484375, 0.04058837890625, -0.00122833251953125, 0.017181396484375, -0.021942138671875, 0.0175628662109375, 0.007110595703125, 0.006561279296875, 0.00467681884765625, -0.036376953125, 0.005615234375, 0.019561767578125, 0.007472991943359375, 0.00812530517578125, 0.01335906982421875, -0.0022125244140625, 0.0225067138671875, -0.00047397613525390625, -0.0255584716796875, -0.015869140625, 0.009002685546875, 0.0006837844848632812, 0.0304107666015625, 0.01204681396484375, -0.013397216796875, -0.00980377197265625, 0.01171875, 0.000904083251953125, 0.005474090576171875, 0.008758544921875, -0.0213775634765625, -0.007061004638671875, 0.002201080322265625, 0.0037403106689453125, -0.00044155120849609375, -0.034912109375, 0.0012607574462890625, -0.01047515869140625, -0.031829833984375, -0.01166534423828125, -0.004009246826171875, -0.0017232894897460938, 0.001369476318359375, -0.01464080810546875, 0.01113128662109375, -0.0155792236328125, 0.00936126708984375, 0.0194549560546875, 0.010223388671875, -0.007099151611328125, -0.029998779296875, -0.003902435302734375, -0.009063720703125, 0.004016876220703125, 0.0247039794921875, -0.00029659271240234375, 0.0001475811004638672, 0.0014410018920898438, 0.00833892822265625, 0.004039764404296875, 0.00768280029296875, -0.0153656005859375, -0.0004527568817138672, -0.006969451904296875, -0.026947021484375, -0.059722900390625, -0.0036773681640625, -0.010955810546875, 0.0129547119140625, -0.007480621337890625, 0.0009102821350097656, -0.01145172119140625, -0.03082275390625, 0.0207977294921875, -0.03466796875, -0.01617431640625, 0.0006861686706542969, 0.03570556640625, 0.009918212890625, -0.0023403167724609375, 0.0011920928955078125, 0.0006499290466308594, 0.00408935546875, 0.00428009033203125, 0.01062774658203125, -4.947185516357422e-05, -0.0034351348876953125, -0.006366729736328125, -0.00867462158203125, -0.007205963134765625, -0.004528045654296875, -0.0243682861328125, 0.01334381103515625, 5.4895877838134766e-05, 0.0369873046875, 0.0009889602661132812, -0.0007915496826171875, 0.00954437255859375, 0.0056915283203125, 0.008270263671875, 0.01544189453125, -0.017181396484375, -0.00787353515625, -0.0090179443359375, 0.03759765625, -0.01035308837890625, -0.0004410743713378906, 0.00891876220703125, 0.0302886962890625, 0.0208892822265625, 0.01235198974609375, -0.0018482208251953125, 0.004581451416015625, 0.0137176513671875, -0.005420684814453125, 0.023712158203125, -0.017059326171875, -0.002490997314453125, -0.004291534423828125, 0.005634307861328125, 0.007030487060546875, 0.0004401206970214844, -0.0089111328125, -0.01052093505859375, 0.00909423828125, 0.012115478515625, -0.00547027587890625, -0.0242919921875, -0.0223846435546875, 0.01401519775390625, 0.005634307861328125, -0.02410888671875, -0.0039825439453125, -0.0017366409301757812, 0.01165771484375, -0.028717041015625, -0.01309967041015625, -0.004558563232421875, 0.0028018951416015625, -0.009796142578125, 0.005107879638671875, -0.0235748291015625, -0.0012445449829101562, -0.005001068115234375, 0.033660888671875, 0.0292816162109375, 0.00655364990234375, 0.0066986083984375, 0.0006399154663085938, -5.91278076171875e-05, -0.0174713134765625, -0.00023353099822998047, -0.01715087890625, 0.0027103424072265625, 0.0157318115234375, 0.01021575927734375, 0.0264434814453125, 0.0038166046142578125, -0.00034117698669433594, 0.00170135498046875, 0.00330352783203125, -0.002166748046875, 0.0005645751953125, -0.005279541015625, 0.007419586181640625, -0.0190887451171875, 0.0017147064208984375, -0.01055145263671875, -0.003482818603515625, 0.00037789344787597656, 0.00597381591796875, 0.019012451171875, 0.02520751953125, -0.0037670135498046875, -0.0079803466796875, -0.0216827392578125, 0.00519561767578125, -0.002452850341796875, -0.00542449951171875, -0.00829315185546875, 0.0496826171875, 0.013916015625, -0.0160064697265625, -0.0024929046630859375, -0.007511138916015625, -0.00186920166015625, -0.0081939697265625, -0.0063018798828125, 0.0196075439453125, -0.0220489501953125, 0.005767822265625, 0.0024814605712890625, -0.02630615234375, 0.0107421875, -0.03240966796875, 0.00787353515625, -0.0034389495849609375, -0.022308349609375, 0.002086639404296875, -0.0029697418212890625, 0.0002720355987548828, 0.0173492431640625, -0.00621795654296875, -0.0011463165283203125, 0.0192718505859375, -0.0240631103515625, 0.01169586181640625, -0.003887176513671875, -0.0176849365234375, 0.026275634765625, -0.01027679443359375, 0.001407623291015625, -0.00919342041015625, 0.0032634735107421875, 0.007137298583984375, -0.00783538818359375, 0.0179443359375, 0.00400543212890625, 0.006175994873046875, 0.006557464599609375, 0.0252227783203125, -0.004364013671875, -0.00868988037109375, 0.009307861328125, 0.01415252685546875, -0.00249481201171875, -0.021240234375, 0.006439208984375, -0.0085296630859375, 0.00727081298828125, -0.0173187255859375, 0.01233673095703125, 0.0109405517578125, 0.01049041748046875, -0.00528717041015625, 0.0005712509155273438, 0.00710296630859375, -0.01102447509765625, -0.050384521484375, -0.0035858154296875, -0.0223541259765625, -0.01457977294921875, -0.02911376953125, 0.0166015625, 0.0064697265625, -0.0005044937133789062, 0.02020263671875, 0.0212554931640625, -0.0005612373352050781, -0.01123809814453125, -0.00872039794921875, -0.004390716552734375, -0.01306915283203125, 0.00957489013671875, -0.003627777099609375, -0.0015058517456054688, 0.010040283203125, -0.0275726318359375, 0.0018558502197265625, -0.005176544189453125, -0.0156402587890625, 0.0015468597412109375, -0.0259857177734375, -0.0009746551513671875, 0.002506256103515625, -0.01436614990234375, -0.03375244140625, -0.01413726806640625, 0.01111602783203125, -0.004848480224609375, -0.038177490234375, 0.006023406982421875, -0.005023956298828125, -0.005481719970703125, -0.0147247314453125, 0.026214599609375, -0.03106689453125, 0.00769805908203125, 0.007366180419921875, -0.0106201171875, -0.00139617919921875, 0.0180511474609375, 0.01544189453125, 0.0204010009765625, -0.0046844482421875, 0.0221099853515625, 0.045867919921875, 0.01263427734375, 0.00897216796875, -0.004863739013671875, -0.006412506103515625, -0.00244140625, -0.0021266937255859375, 0.0036411285400390625, -0.004276275634765625, 0.0076446533203125, 0.0213623046875, -0.0032444000244140625, 0.00926971435546875, -0.0198211669921875, -0.01178741455078125, 0.0095367431640625, -0.0182342529296875, -0.007965087890625, 0.01348876953125, 0.0155792236328125, 0.006122589111328125, -0.011627197265625, 0.012237548828125, -0.012603759765625, 0.01462554931640625, 0.0076751708984375, -0.0274658203125, 0.01378631591796875, 0.0171051025390625, 0.01409912109375, -0.01425933837890625, -0.01116180419921875, 0.009124755859375, 0.0027141571044921875, -0.004669189453125, 0.0069580078125, -0.006046295166015625, 0.005321502685546875, 0.0214996337890625, -0.00437164306640625, 0.007904052734375, 0.022857666015625, -0.00458526611328125, 0.00720977783203125, 0.0139007568359375, -0.0269927978515625, -0.008270263671875, -0.004505157470703125, -0.029876708984375, -0.0023097991943359375, -0.00719451904296875, -0.01377105712890625, -0.01412200927734375, -0.005084991455078125, -0.0109405517578125, 0.02374267578125, 0.0029964447021484375, 0.005588531494140625, -0.0225830078125, 0.002178192138671875, -0.016937255859375, -0.004852294921875, -0.0148468017578125, -0.00450897216796875, -0.0093841552734375, 0.005023956298828125, 0.022003173828125, -0.0164947509765625, -0.023223876953125, -0.00994110107421875, 0.00560760498046875, -0.01666259765625, -0.006595611572265625, -0.007411956787109375, -0.02691650390625, 0.03631591796875, 0.0155487060546875, -0.0105438232421875, 0.00879669189453125, -0.01055145263671875, -0.0237579345703125, 0.00875091552734375, 0.0005373954772949219, -0.01194000244140625, -0.0157470703125, -0.007099151611328125, 0.005825042724609375, 0.015655517578125, -0.0001150965690612793, 0.00095367431640625, -0.004779815673828125, 0.0167694091796875, -0.005863189697265625, 0.0036678314208984375, -0.0029621124267578125, 0.00675201416015625, 0.0012359619140625, 0.0220947265625, -0.02349853515625, -0.0020599365234375, -0.0006356239318847656, -0.00696563720703125, -0.0026035308837890625, -0.005832672119140625, 0.0228271484375, -0.012847900390625, 0.0181121826171875, 0.01222991943359375, 0.01195526123046875, 0.0162353515625, 0.0079803466796875, -0.008697509765625, -0.005527496337890625, 0.00214385986328125, 0.0174407958984375, -0.01220703125, -0.0090179443359375, -0.0030193328857421875, 0.0095367431640625, -0.00461578369140625, -0.01033782958984375, 0.003124237060546875, -0.017242431640625, -0.0130462646484375, -0.0102081298828125, -0.01441192626953125, -0.00676727294921875, 0.0103302001953125, -0.0160675048828125, -0.0038089752197265625, 0.012542724609375, 0.0005245208740234375, -0.01113128662109375, 0.007160186767578125, -0.0025310516357421875, 0.0017795562744140625, 0.0052337646484375, -0.006565093994140625, 0.0110931396484375, 0.005916595458984375, -0.01458740234375, -0.0021686553955078125, 0.00685882568359375, -0.00385284423828125, -0.00673675537109375, 0.0203094482421875, -0.02337646484375, -0.1072998046875, 0.005374908447265625, 0.01081085205078125, -0.018463134765625, -0.022857666015625, -0.00909423828125, 0.005245208740234375, 0.00487518310546875, 0.00244140625, 0.01140594482421875, -0.0285491943359375, -0.031341552734375, -0.00878143310546875, 0.01508331298828125, -0.00479888916015625, 0.027496337890625, 0.0279693603515625, -0.0022563934326171875, -0.002269744873046875, 0.003376007080078125, -0.006900787353515625, -0.0262451171875, -0.00658416748046875, -0.0139617919921875, 0.0013141632080078125, -0.0251312255859375, -0.0308837890625, -0.0005450248718261719, -0.003093719482421875, -0.00568389892578125, 0.0087738037109375, -0.017822265625, 0.0055694580078125, -0.00846099853515625, -0.01380157470703125, -0.0034923553466796875, -0.01425933837890625, -0.0106048583984375, -0.032989501953125, -0.003086090087890625, -0.0338134765625, 0.0093231201171875, -0.00988006591796875, -0.009307861328125, 0.0120697021484375, 0.0005049705505371094, 0.0163116455078125, 0.01467132568359375, -0.018218994140625, -0.004787445068359375, 0.000835418701171875, 0.003932952880859375, 0.006999969482421875, -0.006641387939453125, -0.00913238525390625, 0.0195465087890625, 0.031219482421875, -0.015838623046875, -0.0104522705078125, -0.0054168701171875, -0.019775390625, -0.0187530517578125, 0.007381439208984375, -0.00812530517578125, 0.0204010009765625, 0.0116424560546875, 0.0031948089599609375, -0.008544921875, 0.02532958984375, -0.01090240478515625, -0.01149749755859375, -0.0038166046142578125, -0.018218994140625, 0.01425933837890625, 0.0101318359375, -0.006351470947265625, -0.01214599609375, 0.0078582763671875, 0.00856781005859375, 0.01171112060546875, 0.003459930419921875, 0.00901031494140625, -0.0036678314208984375, 0.00836944580078125, -0.006740570068359375, -0.006984710693359375, 0.03961181640625, -0.0262451171875, 0.0072174072265625, -0.0120849609375, 0.0102691650390625, -0.0242462158203125, 0.0023651123046875, -0.012847900390625, -0.0202178955078125, 0.029693603515625, 0.0227203369140625, -0.003154754638671875, 0.0220184326171875, 0.0183868408203125, 0.0178985595703125, 0.002803802490234375, 0.00125885009765625, 0.0018939971923828125, 0.00021958351135253906, -0.0017242431640625, 0.0029544830322265625, -0.02191162109375, 0.015777587890625, -0.0113372802734375, -0.0001360177993774414, -0.023681640625, -0.01568603515625, -0.00952911376953125, 0.003086090087890625, -0.018585205078125, -0.00047659873962402344, 0.00391387939453125, 0.0256805419921875, -0.00830841064453125, -0.006183624267578125, 0.0242462158203125, -0.0147247314453125, 0.012176513671875, -0.001934051513671875, 0.0007672309875488281, 0.0195770263671875, -0.006649017333984375, 0.0079498291015625, -0.021942138671875, 0.01331329345703125, -0.025421142578125, 0.0201568603515625, 0.01265716552734375, 0.013824462890625, -0.0006327629089355469, 0.01505279541015625, -0.018157958984375, -0.014739990234375, 0.005718231201171875, 0.00902557373046875, -0.00942230224609375, 0.01457977294921875, -0.011505126953125, 0.0186004638671875, 0.01222991943359375, 0.0180816650390625, -0.0003311634063720703, -0.01413726806640625, 0.035064697265625, -0.0238037109375, -0.004810333251953125, -0.005153656005859375, 0.01401519775390625, 0.03179931640625, 0.00433349609375, 0.0232696533203125, 0.0227508544921875, 0.0051727294921875, -0.024810791015625, -0.01317596435546875, 0.00714111328125, -0.000255584716796875, -0.01432037353515625, -0.0205078125, 0.029083251953125, -0.0185394287109375, 0.0136871337890625, 0.0084075927734375, 0.00948333740234375, 0.0079345703125, -0.006092071533203125, -0.00214385986328125, -0.00463104248046875, 0.00936126708984375, 0.0094451904296875, 0.004955291748046875, 0.010223388671875, 0.017425537109375, -0.005939483642578125, -0.0230712890625, -0.043426513671875, -0.010528564453125, 0.034881591796875, 0.008453369140625, 0.01169586181640625, -0.01003265380859375, 0.009613037109375, -0.005008697509765625, -0.037872314453125, -0.020416259765625, -0.0181732177734375, -0.015838623046875, -0.00335693359375, -0.019744873046875, 0.0150299072265625, -0.0276336669921875, 0.01128387451171875, 0.0194549560546875, 0.008697509765625, 0.006725311279296875, 0.01502227783203125, -0.01079559326171875, 0.00016760826110839844, 0.017181396484375, 0.01751708984375, 0.005859375, -0.0030193328857421875, 0.0153961181640625, 0.01192474365234375, -0.0006494522094726562, -0.0088348388671875, 0.032928466796875, 0.0186767578125, -0.00771331787109375, -0.007659912109375, 0.0201263427734375, -0.01910400390625, 0.01058197021484375, -0.00836181640625, -0.003696441650390625, -0.01021575927734375, -0.01227569580078125, -0.0084991455078125, 0.016510009765625, 0.01788330078125, -0.0291290283203125, 0.017791748046875, -0.0139617919921875, -0.0325927734375, -0.01090240478515625, -0.004261016845703125, 0.0234375, 0.005344390869140625, -0.01488494873046875, 0.007694244384765625, 0.004810333251953125, 0.003620147705078125, -0.016357421875, 0.01474761962890625, 0.0089569091796875, -0.00689697265625, 0.0190277099609375, 0.0024738311767578125, -0.004817962646484375, 0.004016876220703125, -0.01800537109375, 0.0022125244140625, 0.00690460205078125, -0.01273345947265625, 0.0015306472778320312, -0.0012521743774414062, -0.00942230224609375, 0.00792694091796875, 0.02288818359375, 0.0023021697998046875, 0.00780487060546875, 0.00046062469482421875, -0.001163482666015625, 0.002292633056640625, 0.01436614990234375, 0.0268096923828125, -0.00998687744140625, -0.00757598876953125, 0.007293701171875, -0.02069091796875, -0.00017309188842773438, -0.0020809173583984375, 0.01971435546875, 0.0116119384765625, -0.0174407958984375, 0.0170135498046875, -0.0018510818481445312, -0.02130126953125, -0.0167694091796875, -0.0037479400634765625, -0.01331329345703125, 0.01204681396484375, -0.018218994140625, 0.017181396484375, -0.01171112060546875, 0.0009145736694335938, -0.0127105712890625, 0.0198974609375, 0.004302978515625, 0.00811004638671875, -0.0030536651611328125, 0.0159454345703125, 0.005580902099609375, -0.0032291412353515625, 0.0244140625, -0.0091705322265625, -0.0006203651428222656, -0.00870513916015625, 0.01953125, 0.008758544921875, 0.0017499923706054688, 0.0189666748046875, 0.01605224609375, -0.0234832763671875, 0.032257080078125, 0.02020263671875, -0.0033969879150390625, 0.0079345703125, -9.179115295410156e-05, -0.0040435791015625, 0.03106689453125, -0.0142822265625, 0.022552490234375, 0.004146575927734375, -0.00946807861328125, -0.015655517578125, -0.0013828277587890625, 0.005107879638671875, 0.003875732421875, 0.040679931640625, -0.01328277587890625, 0.017242431640625, -0.004886627197265625, -0.01163482666015625, 0.021514892578125, -0.031494140625, -0.0013284683227539062, -0.00984954833984375, 0.0062255859375, 4.5299530029296875e-06, -0.01397705078125, -0.0017757415771484375, -0.00021839141845703125, 0.017333984375, -0.01491546630859375, 0.017974853515625, 0.009368896484375, 0.0030460357666015625, 0.00662994384765625, 0.0134429931640625, 0.008575439453125, -0.0008549690246582031, 2.3305416107177734e-05, 0.018524169921875, 0.0335693359375, 0.016448974609375, 0.019622802734375, -0.01534271240234375, 0.0016126632690429688, -0.042816162109375, 0.0161285400390625, 0.00927734375, -0.007465362548828125, 0.01378631591796875, -0.0256500244140625, 0.0131988525390625, 0.003269195556640625, 0.00775909423828125, 0.01360321044921875, -0.006214141845703125, -0.0074615478515625, -0.0023746490478515625, 0.0002703666687011719, -0.006893157958984375, -0.0037136077880859375, -0.0160675048828125, -0.00260162353515625, -0.00466156005859375, -0.005855560302734375, -0.0218353271484375, -0.0167694091796875, 0.006011962890625, -0.0084686279296875, -0.01016998291015625, -0.008697509765625, 0.0003077983856201172, 0.021331787109375, 0.00963592529296875, -0.01154327392578125, 0.00687408447265625, 0.032257080078125, 0.0018911361694335938, -0.005092620849609375, 0.003749847412109375, 0.01812744140625, -0.0294647216796875, 0.016143798828125, -0.0173187255859375, -0.00691986083984375, -0.0100860595703125, 0.01499176025390625, -0.012969970703125, 0.01421356201171875, -0.001712799072265625, 0.014434814453125, -0.0155029296875, 0.0031757354736328125, 0.0008134841918945312, -0.007537841796875, -0.017730712890625, 0.016754150390625, -0.00516510009765625, 0.0170745849609375, 0.0033512115478515625, 0.0135650634765625, 0.012664794921875, -0.0203704833984375, -0.029388427734375, -0.0406494140625, 0.00518035888671875, -0.025299072265625, -0.00036644935607910156, -0.00255584716796875, -0.00887298583984375, 0.0030574798583984375, 0.011474609375, -0.005107879638671875, 0.0207672119140625, 0.01123809814453125, 0.0013265609741210938, -0.0024623870849609375, -0.04693603515625, -0.0003490447998046875, -0.00794219970703125, -0.0017709732055664062, 0.004634857177734375, 0.0021114349365234375, 0.0092620849609375, -0.01885986328125, 0.003398895263671875, -0.0164947509765625, 0.0095062255859375, 0.006092071533203125, 0.00917816162109375, 0.0234222412109375, -0.0005669593811035156, 0.014495849609375, -0.01462554931640625, -0.005706787109375, -0.008453369140625, -0.00946044921875, 0.004589080810546875, -0.0099029541015625, -0.00402069091796875, -0.0007624626159667969, -0.0023193359375, -0.0004203319549560547, 0.019622802734375, -0.006710052490234375, 0.005542755126953125, -0.0303497314453125, -0.0017414093017578125, -0.01033782958984375, 0.0117340087890625, 0.010162353515625, 0.005878448486328125, -0.0447998046875, -0.0149383544921875, 0.0233154296875, -0.0195159912109375, 0.0806884765625, 0.00396728515625, -0.0192108154296875, 0.0019063949584960938, 0.0123138427734375, -0.01519012451171875, 0.0139007568359375, 0.017669677734375, -0.00800323486328125, 0.0093536376953125, -0.002788543701171875, -0.008026123046875, -0.011077880859375, 0.0162506103515625, -0.0182342529296875, -0.0006365776062011719, -0.00852203369140625, -0.004669189453125, -0.0034389495849609375, 0.018798828125, -0.00982666015625, -0.003108978271484375, -0.01021575927734375, 0.00836181640625, -0.0153045654296875, -0.004482269287109375, 0.0261993408203125, 0.00760650634765625, -0.007534027099609375, -0.007129669189453125, -0.006145477294921875, -0.01001739501953125, -0.0163116455078125, -0.0051116943359375, 0.020233154296875, -0.00916290283203125, -0.03460693359375, -0.00713348388671875, -0.003482818603515625, -0.002788543701171875, -0.0009889602661132812, 0.00787353515625, -0.0246124267578125, -0.0190277099609375, 0.000782012939453125, 0.007495880126953125, 0.0011959075927734375, -7.337331771850586e-05, 0.00725555419921875, -0.01153564453125, 0.0154266357421875, 0.004505157470703125, -0.0017232894897460938, -0.001491546630859375, -0.004032135009765625, -0.032073974609375, 0.01177978515625, 0.004329681396484375, 0.00881195068359375, -0.0170135498046875, 0.01178741455078125, -0.005748748779296875, 0.00827789306640625, -0.004238128662109375, 0.0068359375, -0.003742218017578125, 0.02178955078125, 0.039337158203125, 0.005031585693359375, -0.027099609375, 0.0032806396484375, -0.018951416015625, -0.0190887451171875, 0.0009641647338867188, -0.0167388916015625, -0.005718231201171875, 0.0333251953125, -0.02508544921875, 0.0151214599609375, -0.01910400390625, 0.0103912353515625, 0.01556396484375, 0.00569915771484375, 0.011810302734375, 0.005962371826171875, 0.00489044189453125, 0.0204010009765625, 0.00753021240234375, -0.003620147705078125, -0.00027871131896972656, 0.0047454833984375, 0.04058837890625, -0.041748046875, 0.015716552734375, -0.00936126708984375, -0.0015993118286132812, 0.0138702392578125, 0.0143585205078125, -0.018463134765625, 0.006511688232421875, -0.006374359130859375, 0.01509857177734375, -0.0007691383361816406, -0.0233917236328125, -0.00272369384765625, -0.027587890625, 0.0008244514465332031, -0.004558563232421875, 0.01922607421875, -0.00897979736328125, -0.0005617141723632812, 0.013519287109375, 0.00409698486328125, -0.01424407958984375, 0.0187530517578125, 0.051300048828125, 0.02777099609375, 0.0205078125, 0.011199951171875, 0.0027103424072265625, -0.0185699462890625, 0.015411376953125, -0.012786865234375, 0.0185089111328125, 0.02825927734375, -0.012115478515625, -0.0157318115234375, 0.0004601478576660156, 0.005268096923828125, -0.0171356201171875, -0.0223236083984375, -0.0182342529296875, -0.020416259765625, -0.00868988037109375, -0.0008707046508789062, 0.0008306503295898438, 0.009552001953125, 0.016845703125, -0.0045166015625, 0.0002849102020263672, 0.013946533203125, -0.01421356201171875, 0.00371551513671875, 0.0154571533203125, -0.02105712890625, 0.004627227783203125, -0.00833892822265625, -0.012298583984375, -0.002742767333984375, -0.044189453125, -0.006679534912109375, 0.0241241455078125, 0.017608642578125, -0.0068359375, 0.01024627685546875, 0.0787353515625, -0.005786895751953125, -0.0089263916015625, -0.00438690185546875, -0.039215087890625, 0.005786895751953125, 0.01509857177734375, -0.00762176513671875, 0.0017223358154296875, 0.006816864013671875, -0.0005068778991699219, 0.0160369873046875, 0.0037899017333984375, -0.00782012939453125, -0.01134490966796875, -0.00714111328125, 0.006267547607421875, 0.00725555419921875, -0.0147857666015625, -0.00806427001953125, 0.0208892822265625, 0.007625579833984375, -0.00140380859375, -0.0027904510498046875, 0.00386810302734375, 0.035003662109375, 0.005786895751953125, 0.017913818359375, -0.01016998291015625, 0.001895904541015625, -0.01525115966796875, 0.01456451416015625, 0.03271484375, 0.0102691650390625, 0.0016727447509765625, -0.0056304931640625, 0.006145477294921875, 0.024566650390625, -0.01837158203125, 0.01261138916015625, 0.004940032958984375, 0.00684356689453125, 0.006839752197265625, -0.0009164810180664062, -0.0140838623046875, 0.01702880859375, -0.00827789306640625, -0.039703369140625, 0.0093841552734375, 0.00800323486328125, -0.00743865966796875, -0.0135498046875, 0.0182342529296875, 0.00536346435546875, 0.005725860595703125, -0.019989013671875, -0.0065155029296875, 0.0347900390625, -0.0025424957275390625, 0.00363922119140625, 0.0104522705078125, 0.007476806640625, -0.0221710205078125, -0.0171966552734375, 0.01030731201171875, 0.0267791748046875, 0.00013005733489990234, 0.02154541015625, -0.004283905029296875, 0.005275726318359375, 0.0152740478515625, -0.0116729736328125, -0.005146026611328125, 0.0196075439453125, 0.0016641616821289062, -0.0157318115234375, -0.0095672607421875, -0.0016736984252929688, -0.008209228515625, -0.0250396728515625, -0.0050201416015625, 0.01336669921875, 0.041351318359375, -0.018035888671875, -0.00688934326171875, -0.01306915283203125, -0.0006647109985351562, 0.006557464599609375, 0.023406982421875, 0.025115966796875, -0.0101776123046875, 0.0154571533203125, -0.0005922317504882812, 0.0010557174682617188, 0.016357421875, 0.0232086181640625, -0.02630615234375, -0.01416015625, -0.00455474853515625, 0.01142120361328125, -0.029937744140625, 0.0031337738037109375, 0.007022857666015625, -0.01490020751953125, -0.0005469322204589844, -0.0181732177734375, -0.01514434814453125, 0.0016126632690429688, -0.00984954833984375, 0.016510009765625, -0.0197906494140625, 0.01328277587890625, 2.3484230041503906e-05, 0.00396728515625, -0.0236053466796875, -0.00025177001953125, 0.018646240234375, -0.007366180419921875, -0.007503509521484375, -0.0017862319946289062, -0.0157318115234375, -0.00809478759765625, 0.00836944580078125, -0.019744873046875, -0.0026493072509765625, 0.0017414093017578125, 0.0162811279296875, 0.007167816162109375, 0.0036640167236328125, 0.0223388671875, 0.01059722900390625, -0.0023632049560546875, -0.013580322265625, 0.00745391845703125, -0.007297515869140625, 0.0034503936767578125, 0.00750732421875, 0.007843017578125, 0.01068878173828125, -0.0034999847412109375, 5.543231964111328e-06, -0.0018796920776367188, -0.006435394287109375, -0.0090179443359375, 0.006130218505859375, -0.01488494873046875, -0.01959228515625, 0.0021533966064453125, -0.02587890625, 0.0117034912109375, -0.0157318115234375, 0.01177978515625, 0.006488800048828125, -0.00864410400390625, 0.002086639404296875, -0.003841400146484375, -0.01255035400390625, 0.006847381591796875, -0.001033782958984375, -0.016937255859375, 0.006526947021484375, 0.02978515625, -0.00748443603515625, -0.009857177734375, -0.01378631591796875, 0.00959014892578125, -0.0222930908203125, 0.0087738037109375, -0.0209808349609375, 0.0059051513671875, 0.01837158203125, 0.0301971435546875, 0.01390838623046875, 0.01305389404296875, 0.0036754608154296875, 0.0012063980102539062, -0.0011930465698242188, -0.0281829833984375, -0.01018524169921875, 0.0104217529296875, -0.0002505779266357422, 0.0006117820739746094, 0.0114898681640625, 0.02447509765625, 0.0264892578125, 0.00545501708984375, 0.016693115234375, -0.022705078125, 0.004596710205078125, -0.0184783935546875, -0.0177459716796875, -0.003265380859375, 0.004329681396484375, 0.0208740234375, 0.0117645263671875, -0.00806427001953125, -0.0178375244140625, 0.0081939697265625, 0.00798797607421875, -0.0377197265625, -0.0011396408081054688, 0.0155487060546875, 0.028839111328125, -0.01113128662109375, 0.0001271963119506836, 0.000667572021484375, -0.00534820556640625, -0.003055572509765625, -0.002063751220703125, -0.0037364959716796875, 0.006259918212890625, 0.0141448974609375, -0.01222991943359375, -0.030670166015625, -0.01690673828125, 0.005035400390625, 0.01189422607421875, 0.0059967041015625, -0.005252838134765625, 0.0021266937255859375, -0.00400543212890625, -0.00905609130859375, -0.032440185546875, -0.003025054931640625, -0.004283905029296875, -0.0006723403930664062, -0.016510009765625, -0.0138092041015625, 0.0316162109375, -0.005283355712890625, -0.0142669677734375, 0.007442474365234375, 0.0180206298828125, -0.0189666748046875, 0.0247802734375, -0.0166015625, 0.005626678466796875, -0.0009512901306152344, -0.017181396484375, -0.0186004638671875, 0.0078582763671875, 0.0207366943359375, 0.0099029541015625, 0.029998779296875, -0.0130767822265625, 0.00708770751953125, 0.0085906982421875, -0.0174102783203125, 0.040191650390625, 0.005462646484375, -0.007781982421875, 0.0026836395263671875, -0.01137542724609375, 0.0053558349609375, 0.03289794921875, -0.00841522216796875, -0.0175933837890625, 0.016326904296875, -0.005222320556640625, 0.0016994476318359375, -0.0164642333984375, -0.0197296142578125, 0.0234527587890625, 0.031280517578125, 0.0107269287109375, -0.01102447509765625, 0.02508544921875, -0.02020263671875, -0.0021343231201171875, 0.0177459716796875, -0.0088348388671875, 0.01276397705078125, 0.005191802978515625, -0.003078460693359375, 0.00290679931640625, -0.005069732666015625, 0.005527496337890625, -0.0050048828125, 0.00855255126953125, 0.0015239715576171875, 0.0167999267578125, 0.0246124267578125, -0.0245361328125, 0.034759521484375, -0.0140533447265625, 0.010528564453125, 0.0186767578125, 0.003986358642578125, -0.0159454345703125, 0.0172882080078125, 0.01255035400390625, 0.006927490234375, 0.0011959075927734375, -0.0123748779296875, 0.01532745361328125, 0.006847381591796875, -0.001277923583984375, -0.018310546875, -0.0222930908203125, 0.0012903213500976562, 0.01013946533203125, 0.00824737548828125, -0.00962066650390625, 2.86102294921875e-05, -0.0218658447265625, 0.01177978515625, -0.018157958984375, 0.0049896240234375, 0.0110321044921875, 0.011566162109375, 0.0304412841796875, -0.0092926025390625, 0.01407623291015625, -0.0281829833984375, 0.0018939971923828125, 0.011962890625, -0.0053558349609375, 0.0084991455078125, -0.01910400390625, -0.011688232421875, -0.004688262939453125, -0.00301361083984375, 0.0035800933837890625, 0.0104217529296875, 0.007343292236328125, 0.040740966796875, -0.01055908203125, -0.0005974769592285156, -0.01486968994140625, 0.0222320556640625, 0.005886077880859375, 0.01236724853515625, -0.0025348663330078125, -0.0024204254150390625, -0.0152587890625, -0.0024013519287109375, 0.0193634033203125, -0.001461029052734375, 0.01343536376953125, -0.01161956787109375, -0.019805908203125, -0.0258331298828125, 0.00847625732421875, 0.0010805130004882812, -0.058197021484375, 0.02740478515625, -0.018951416015625, -0.037445068359375, -6.80088996887207e-05, -0.00586700439453125, -0.0154266357421875, -0.0013446807861328125, -0.0123748779296875, -0.024871826171875, 0.01099395751953125, 0.00780487060546875, 0.01007080078125, -0.038726806640625, 0.006031036376953125, -0.005626678466796875, -0.0007014274597167969, -0.0203399658203125, -0.00827789306640625, -0.0150604248046875, -0.0240936279296875, -0.0029773712158203125, -0.01129913330078125, -0.046234130859375, -0.01169586181640625, 0.0131072998046875, 0.00579833984375, 0.0182647705078125, 0.008544921875, -0.0177459716796875, 0.00986480712890625, 0.0030517578125, -0.037384033203125, -0.00478363037109375, -0.00936126708984375, 0.006069183349609375, -0.0136566162109375, 0.01031494140625, -0.05364990234375, 0.0295257568359375, -0.00426483154296875, -0.001827239990234375, 0.007404327392578125, 0.0079345703125, 0.015594482421875, -0.0032787322998046875, -0.0016870498657226562, -0.0098724365234375, -0.036773681640625, 0.0027446746826171875, 0.0229949951171875, 0.0009984970092773438, -0.0037250518798828125, 0.002262115478515625, 0.0060577392578125, -0.00766754150390625, 0.0014181137084960938, 0.004901885986328125, -0.0029239654541015625, -0.0200347900390625, -0.0271148681640625, -0.01276397705078125, 0.0214996337890625, -0.010284423828125, -0.00868988037109375, -0.00218963623046875, 0.0215911865234375, 0.01532745361328125, -0.023040771484375, 0.0100860595703125, -0.01262664794921875, -0.00856781005859375, -0.01151275634765625, -0.0236968994140625, -0.028778076171875, -0.003536224365234375, -0.005802154541015625, -0.0225677490234375, 0.01419830322265625, -0.038116455078125, -0.0087127685546875, 0.0130767822265625, 0.01148223876953125, 0.01495361328125, -0.0219573974609375, 0.034332275390625, -0.0194549560546875, 0.02117919921875, -0.0255279541015625, -0.008270263671875, 0.0006093978881835938, -0.0240631103515625, -0.004535675048828125, -0.004299163818359375, 0.006122589111328125, 0.008636474609375, -0.003520965576171875, 0.017425537109375, -0.0014543533325195312, -0.0147247314453125, -0.01210784912109375, -0.00241851806640625, 0.020721435546875, -0.0204010009765625, -0.0003867149353027344, 0.0207672119140625, 0.0106201171875, 0.016632080078125, -0.028839111328125, 0.027740478515625, 0.0232391357421875, -0.01120758056640625, -0.003032684326171875, 0.005985260009765625, -0.00804901123046875, -0.00814056396484375, -0.0177764892578125, -0.00363922119140625, 0.007312774658203125, -0.00121307373046875, -0.0306243896484375, 0.032684326171875, 0.004062652587890625, -0.034088134765625, -0.01273345947265625, 0.00283050537109375, 0.00476837158203125, 0.0205230712890625, 0.0167694091796875, -0.01320648193359375, -0.0015001296997070312, 0.01494598388671875, 0.003795623779296875, -0.001811981201171875, -0.0276947021484375, -0.02001953125, -0.02099609375, -0.0236968994140625, 0.027679443359375, 0.0163421630859375, 0.0015401840209960938, 0.0002448558807373047, -0.0289764404296875, -0.01366424560546875, 0.0137786865234375, 0.0253143310546875, 0.003330230712890625, 0.0210723876953125, -0.011749267578125, 0.03424072265625, -0.005695343017578125, 0.0021820068359375, -0.01187896728515625, 0.007015228271484375, -0.005096435546875, -0.0034694671630859375, 0.006500244140625, 0.0159149169921875, -0.0087127685546875, -0.004299163818359375, 0.005908966064453125, 0.0258026123046875, 0.0400390625, 0.00304412841796875, 0.02166748046875, 0.0051116943359375, 0.01007080078125, 0.013885498046875, -0.0153350830078125, -0.019256591796875, 0.00797271728515625, 0.0031642913818359375, -0.01299285888671875, -0.0199737548828125, 0.0171356201171875, -0.004566192626953125, 0.01416778564453125, -0.00644683837890625, -0.0200042724609375, 0.005138397216796875, -0.01403045654296875, 0.0166015625, 0.006763458251953125, -0.006107330322265625, -0.0102081298828125, 0.019500732421875, -0.0160064697265625, 0.020965576171875, 0.0002949237823486328, 0.00833892822265625, 0.02093505859375, 0.01512908935546875, -0.007640838623046875, -0.002685546875, -0.00792694091796875, -0.0140228271484375, 0.0003635883331298828, 0.01123809814453125, 0.0249176025390625, 0.0091552734375, 0.0030765533447265625, 0.01515960693359375, 0.002109527587890625, 0.01220703125, 0.0024890899658203125, -0.00921630859375, -0.005695343017578125, 0.0160064697265625, 0.005279541015625, 0.004726409912109375, -0.0234832763671875, 0.03826904296875, 0.0014286041259765625, 0.0017118453979492188, -0.01422119140625, -0.009521484375, -0.0147552490234375, 0.02630615234375, 0.02642822265625, 0.01715087890625, 0.04107666015625, -0.0174560546875, 0.0005507469177246094, -0.005474090576171875, 0.015899658203125, 0.01123046875, 0.01432037353515625, -0.0114898681640625, -0.024993896484375, 0.00844573974609375, -0.0089874267578125, 0.004482269287109375, 0.001811981201171875, 0.004680633544921875, 0.01175689697265625, 0.01519012451171875, 0.0189208984375, -0.004673004150390625, -0.0157928466796875, -0.00860595703125, 6.842613220214844e-05, -0.0029048919677734375, -0.01195526123046875, 0.0110626220703125, 0.00890350341796875, 0.01425933837890625, -0.0032901763916015625, -0.02484130859375, 0.022247314453125, 0.00606536865234375, -0.010009765625, -0.01451873779296875, 0.0192718505859375, -0.00897979736328125, -0.002811431884765625, -0.0057525634765625, -0.0055389404296875, -0.047576904296875, -0.026153564453125, 0.00089263916015625, 0.00421142578125, -0.0034732818603515625, 0.0246734619140625, -0.0006465911865234375, -0.0018301010131835938, -0.0209503173828125, -0.0013828277587890625, 0.01004791259765625, 0.0156402587890625, -0.0059967041015625, -0.0276947021484375, 0.0093841552734375, -0.0019006729125976562, 0.00823211669921875, -0.0009632110595703125, -0.011962890625, -0.009918212890625, 0.046844482421875, -0.005115509033203125, -0.019073486328125, -0.002185821533203125, -0.00991058349609375, -0.00849151611328125, -0.0175323486328125, 0.007282257080078125, -0.004199981689453125, -0.0030002593994140625, -0.006923675537109375, 0.0013885498046875, 0.009307861328125, -0.005138397216796875, -0.004825592041015625, 0.00023281574249267578, -0.0027980804443359375, -0.0012311935424804688, 0.01184844970703125, 0.0120849609375, -0.0177001953125, -0.0147705078125, 0.00211334228515625, 0.032135009765625, 0.007472991943359375, -0.00188446044921875, -0.0104522705078125, -0.01534271240234375, 0.0017986297607421875, -0.01480865478515625, 0.0005507469177246094, -0.018157958984375, 0.0097808837890625, -0.00047016143798828125, -0.00724029541015625, 0.0191802978515625, -0.0009217262268066406, 0.015228271484375, -0.01120758056640625, -0.0006527900695800781, -0.0036258697509765625, -0.019683837890625, -0.0021572113037109375, 0.01006317138671875, -0.015716552734375, -0.007083892822265625, -0.00485992431640625, 0.01177978515625, 0.0157928466796875, -0.01493072509765625, -0.0236358642578125, 0.03546142578125, 0.004421234130859375, 0.00707244873046875, -0.001201629638671875, 0.00012874603271484375, 0.007610321044921875, -0.02081298828125, -0.002338409423828125, 0.0245513916015625, -0.015106201171875, 0.0021800994873046875, -0.00409698486328125, 0.00016164779663085938, 0.00853729248046875, -0.017913818359375, -0.01114654541015625, -0.01222991943359375, -0.0007266998291015625, 0.014556884765625, 0.01229095458984375, 0.0173797607421875, 0.003223419189453125, -0.007965087890625, -0.0271148681640625, 0.02142333984375, -0.00930023193359375, 0.003566741943359375, 0.0012302398681640625, -0.00473785400390625, 0.039031982421875, 0.0188751220703125, 0.019012451171875, -0.009368896484375, 0.01004791259765625, 0.0292816162109375, -0.0032672882080078125, -0.010406494140625, 0.035400390625, -0.00933074951171875, 0.0216827392578125, -0.0239105224609375, 0.02105712890625, -0.00849151611328125, 0.0019989013671875, -0.000728607177734375, 0.005809783935546875, -0.0025920867919921875, 0.01369476318359375, -0.007030487060546875, -0.01203155517578125, -0.0138397216796875, -0.01898193359375, 0.0264434814453125, 0.016143798828125, -0.0068206787109375, 0.0028285980224609375, 0.0205841064453125, -0.01273345947265625, -0.0086517333984375, -0.00905609130859375, 0.01291656494140625, 0.00848388671875, 0.009857177734375, 0.00714111328125, -0.00384521484375, -0.00550079345703125, -0.005340576171875, -0.0024871826171875, -0.028350830078125, 0.0105438232421875, -0.0029449462890625, -0.035064697265625, 0.0036258697509765625, -0.0235748291015625, 0.007434844970703125, -0.0035190582275390625, -0.00403594970703125, 0.0157928466796875, -0.01605224609375, -0.00983428955078125, 0.004673004150390625, 0.0270538330078125, -0.00628662109375, 0.01342010498046875, -0.0022125244140625, 0.016143798828125, -0.0164947509765625, -0.01282501220703125, 0.00824737548828125, -0.0110931396484375, 0.0033245086669921875, -0.0191192626953125, -0.014923095703125, -0.004848480224609375, 0.0182342529296875, 0.0107574462890625, -0.01090240478515625, 0.04913330078125, 0.01531982421875, -0.002788543701171875, -0.0203399658203125, -0.001476287841796875, 0.001064300537109375, -0.0213470458984375, -0.01074981689453125, 0.005077362060546875, 0.0040740966796875, -0.0163421630859375, 0.0197601318359375, -0.0021762847900390625, 0.00312042236328125, -0.020050048828125, 0.01172637939453125, -0.014251708984375, 0.0197296142578125, 0.00505828857421875, -0.01328277587890625, 0.00556182861328125, 0.0042572021484375, -0.0216217041015625, -0.01152801513671875, -0.0012493133544921875, -0.019561767578125, 0.0077362060546875, 0.002025604248046875, -0.005176544189453125, 0.003116607666015625, 0.0003998279571533203, 0.008087158203125, -0.0059051513671875, -0.0007653236389160156, 0.0116729736328125, -0.004131317138671875, -0.0035800933837890625, 0.01617431640625, 0.019866943359375, -0.0016164779663085938, -0.019622802734375, -0.00736236572265625, 0.01215362548828125, -0.027435302734375, 0.01806640625, -4.774332046508789e-05, -0.01454925537109375, -0.0009984970092773438, -0.001277923583984375, -0.0130462646484375, -0.00807952880859375, -0.006519317626953125, -0.00455474853515625, 0.006809234619140625, -0.0095977783203125, 0.00994110107421875, 0.005428314208984375, -0.00691986083984375, 0.02728271484375, -0.0225830078125, -0.0182342529296875, 0.00372314453125, -0.0036029815673828125, 0.021240234375, -0.00510406494140625, -0.0146026611328125, 0.017242431640625, -0.01038360595703125, 0.00677490234375, 0.0185394287109375, -0.03082275390625, -0.022552490234375, -0.0022487640380859375, 0.01146697998046875, -0.002544403076171875, -0.01064300537109375, -0.0034122467041015625, 0.0022907257080078125, 0.0126495361328125, 0.01441192626953125, -0.00904083251953125, 0.03082275390625, 0.00630950927734375, -0.020477294921875, 0.002452850341796875, 0.0077056884765625, -0.0097503662109375, 0.006927490234375, -0.0110626220703125, -0.0003833770751953125, 0.007232666015625, -0.0034122467041015625, -0.01480865478515625, 0.004611968994140625, 0.007167816162109375, -0.010345458984375, 0.008819580078125, -0.026275634765625, 0.02276611328125, -0.004314422607421875, -0.0084075927734375, 0.0089569091796875, -0.011749267578125, 0.0226287841796875, -0.01067352294921875, -0.004573822021484375, 0.00582122802734375, 0.002414703369140625, -0.027252197265625, 0.0020351409912109375, 0.007160186767578125, 0.0167236328125, -0.017822265625, -0.0025482177734375, 0.00911712646484375, 0.005466461181640625, 0.0004718303680419922, -0.005832672119140625, 0.0057830810546875, 0.00753021240234375, -0.01181793212890625, 0.0168914794921875, 0.02099609375, 0.009033203125, -0.01904296875, 0.0012578964233398438, -0.011810302734375, -0.0090484619140625, -0.0007371902465820312, -0.0153961181640625, -0.0369873046875, 0.0017032623291015625, 0.0008940696716308594, 0.0295562744140625, 0.00423431396484375, 0.0021800994873046875, 0.0263519287109375, -0.019805908203125, -0.0005297660827636719, -0.010345458984375, 0.004390716552734375, -0.0276031494140625, -0.0233612060546875, 0.00916290283203125, -0.0199432373046875, 0.0066680908203125, -0.037841796875, -0.01186370849609375, 0.01885986328125, 0.01390838623046875, -0.016632080078125, -0.011810302734375, 0.0242462158203125, -0.009185791015625, -0.0135345458984375, 0.0023746490478515625, 0.02996826171875, -0.0160369873046875, -0.00833892822265625, 0.0142669677734375, -0.022857666015625, 0.01104736328125, -0.0010061264038085938, -0.0124359130859375, 0.0180511474609375, 0.0007762908935546875, -0.00725555419921875, 0.0076904296875, 0.023345947265625, 0.007633209228515625, -0.0193634033203125, 0.002712249755859375, -0.0059814453125, 0.029296875, 0.01450347900390625, -0.0240478515625, 0.00281524658203125, -0.00811767578125, -0.01221466064453125, 0.0023174285888671875, 0.0144805908203125, 0.0115509033203125, 0.004032135009765625, -0.0020198822021484375, -0.01537322998046875, 0.0081634521484375, -0.013275146484375, -0.0016603469848632812, 0.01265716552734375, 0.00449371337890625, 0.01128387451171875, 0.0252227783203125, -0.00012171268463134766, 0.03857421875, -0.00017201900482177734, 0.003559112548828125, 0.01410675048828125, -0.019927978515625, 0.01515960693359375, 0.0230712890625, -0.00010657310485839844, -0.01471710205078125, 0.0251617431640625, 0.004413604736328125, 0.014556884765625, -0.00848388671875, 0.03009033203125, -0.00820159912109375, 0.0188751220703125, 0.004077911376953125, -0.006916046142578125, -0.005756378173828125, -0.00484466552734375, 0.0169830322265625, -0.010772705078125, -0.00939178466796875, -0.0029430389404296875, -0.003955841064453125, 0.027099609375, -0.0301361083984375, -0.000339508056640625, -0.0130157470703125, -0.0193939208984375, -0.00013005733489990234, 0.0022525787353515625, -0.0269622802734375, -0.0283966064453125, 0.02630615234375, 0.01220703125, 0.004787445068359375, 0.003902435302734375, -0.004711151123046875, 0.007110595703125, -0.00269317626953125, -0.0174407958984375, -0.04034423828125, 0.0064697265625, 0.03131103515625, -0.01044464111328125, -0.0084228515625, -0.00514984130859375, -0.0030956268310546875, 0.004974365234375, 0.0024013519287109375, 0.005435943603515625, 0.01120758056640625, -0.0106964111328125, -0.006534576416015625, 0.0010051727294921875, 0.0212554931640625, 0.0089569091796875, -0.12103271484375, 0.00640869140625, -0.00470733642578125, -0.010467529296875, -0.0291748046875, -0.0011682510375976562, 0.026947021484375, 0.027923583984375, 0.00885772705078125, 0.00449371337890625, -0.0047760009765625, -0.005573272705078125, -0.024383544921875, 0.02972412109375, 0.01611328125, 0.0035495758056640625, -0.0034198760986328125, -0.006343841552734375, -0.018585205078125, 0.0144805908203125, 0.0170440673828125, 0.05743408203125, 0.037445068359375, 0.033294677734375, 0.00664520263671875, 0.005817413330078125, 0.0111083984375, 0.0025768280029296875, 0.01128387451171875, -0.010986328125, 0.00432586669921875, 0.0003197193145751953, 0.005664825439453125, 0.007686614990234375, -0.015228271484375, -0.02801513671875, -0.01100921630859375, -0.00991058349609375, 0.0250396728515625, -0.0119781494140625, 0.0072479248046875, 0.001506805419921875, -0.003910064697265625, 0.01519775390625, -0.00814056396484375, 0.0228729248046875, -0.0005383491516113281, -0.0134429931640625, -0.0087738037109375, 0.0030994415283203125, 0.00524139404296875, -0.0177764892578125, 0.01519775390625, -0.028411865234375, 0.01421356201171875, -0.0177459716796875, -0.01375579833984375, 0.0081024169921875, 0.01611328125, 0.012939453125, 0.0190277099609375, 0.0192413330078125, -0.0377197265625, 0.00397491455078125, 0.0126495361328125, -0.0210113525390625, 0.004962921142578125, -0.007373809814453125, 0.0085906982421875, 0.01163482666015625, 0.00925445556640625, -0.00820159912109375, -0.00362396240234375, -0.01837158203125, -0.00785064697265625, 0.00348663330078125, -0.01088714599609375, 0.0105743408203125, 0.0004229545593261719, 0.014312744140625, -0.0042724609375, -0.00012409687042236328, -0.03619384765625, -0.01264190673828125, 0.005245208740234375, -0.0020885467529296875, -0.01276397705078125, -0.01027679443359375, 0.00791168212890625, 0.00023949146270751953, -0.012176513671875, 0.01131439208984375, 0.0097503662109375, -0.00313568115234375, -0.004383087158203125, 0.0042266845703125, 0.0169830322265625, -0.005710601806640625, -0.00440216064453125, -0.018585205078125, 0.0147857666015625, 0.0152130126953125, -0.00769805908203125, -0.0102081298828125, -0.00792694091796875, -0.023040771484375, 0.01480865478515625, -0.018310546875, -0.008697509765625, 0.011962890625, -0.003353118896484375, -0.002712249755859375, -0.006183624267578125, 0.02313232421875, -0.0175323486328125, -0.00852203369140625, 0.00972747802734375, -0.00518798828125, 0.011993408203125, -0.00437164306640625, -0.004459381103515625, 0.00289154052734375, 0.006725311279296875, -0.006130218505859375, 0.036895751953125, -0.006412506103515625, -0.0097198486328125, -0.01303863525390625, -0.00655364990234375, -0.00954437255859375, 0.0098876953125, -0.022918701171875, 0.013275146484375, 0.00366973876953125, -0.005489349365234375, -0.0243377685546875, 0.0173797607421875, -0.017120361328125, 0.0192108154296875, -0.0189056396484375, 0.0175628662109375, -0.0303955078125, 0.003070831298828125, 0.010650634765625, -0.0184783935546875, 0.02044677734375, -0.02081298828125, 0.0024890899658203125, 0.017425537109375, -0.026458740234375, 0.003971099853515625, 0.008087158203125, -0.0027942657470703125, 0.00039696693420410156, 0.0155181884765625, -0.004817962646484375, -0.007450103759765625, -0.013336181640625, 0.0009851455688476562, 0.0022945404052734375, 0.01386260986328125, 0.007144927978515625, -0.0269927978515625, -0.0014963150024414062, -0.001987457275390625, -0.0013055801391601562, 0.004909515380859375, -0.01471710205078125, 0.03271484375, -0.036376953125, 0.0167236328125, -0.007320404052734375, -0.03497314453125, -0.01439666748046875, 0.01464080810546875, 0.0075531005859375, -0.003643035888671875, 0.0091094970703125, -0.0030460357666015625, -0.005096435546875, 0.000965118408203125, -0.00930023193359375, -0.0107269287109375, -0.0182342529296875, 0.00420379638671875, 0.01239776611328125, 0.00015938282012939453, 0.0019235610961914062, 0.0280914306640625, 0.00608062744140625, -0.01290130615234375, 0.0009264945983886719, -0.0035800933837890625, 0.00582122802734375, -0.0119476318359375, 0.031890869140625, -0.004970550537109375, 0.0177764892578125, -0.0289306640625, 0.018157958984375, -0.0160369873046875, 0.020538330078125, 0.006145477294921875, -0.0155487060546875, 0.0037937164306640625, 0.004596710205078125, -0.0171051025390625, 0.003993988037109375, -0.0239715576171875, 0.0284576416015625, -0.00774383544921875, 0.0115966796875, -0.0222930908203125, 0.004161834716796875, -0.01424407958984375, -0.00628662109375, -0.0201416015625, 0.01415252685546875, 0.0082855224609375, 0.004425048828125, -0.005405426025390625, -0.0170745849609375, 0.01004791259765625, -0.008270263671875, 0.005344390869140625, 0.0005517005920410156, 0.0085601806640625, 0.01076507568359375, 0.0149078369140625, -0.0225830078125, 0.017242431640625, -0.0104827880859375, 0.0098419189453125, 0.0004940032958984375, -0.004337310791015625, -0.024383544921875, -0.001895904541015625, -0.0011854171752929688, -0.019866943359375, -0.01007080078125, 0.0145263671875, 0.0137481689453125, 0.01125335693359375, 0.003955841064453125, -0.0026874542236328125, 0.0008740425109863281, -0.00832366943359375, -0.04681396484375, -0.0190887451171875, 0.0171051025390625, 0.01477813720703125, 0.01519012451171875, -0.0159454345703125, 0.0010194778442382812, 0.01605224609375, -0.014617919921875, 0.0058746337890625, -0.0060577392578125, -0.005870819091796875, -0.005702972412109375, -0.010009765625, 0.006534576416015625, -0.01494598388671875, -0.0159149169921875, -0.00433349609375, -0.045928955078125, -0.00521087646484375, -0.0201416015625, -0.0225372314453125, -0.0015020370483398438, -0.0141143798828125, 0.0180511474609375, -0.0109405517578125, -0.001651763916015625, 0.031341552734375, -0.0216827392578125, 0.0198974609375, 0.0014362335205078125, 0.016693115234375, 0.0006303787231445312, -0.006076812744140625, -0.0098876953125, -0.0272674560546875, -0.014862060546875, 0.0177001953125, 0.009185791015625, -0.0009899139404296875, 0.0017147064208984375, 0.006641387939453125, -0.0149383544921875, 0.0237884521484375, 0.0301055908203125, -0.00798797607421875, -0.00318145751953125, -0.003246307373046875, -0.0164642333984375, -0.00882720947265625, -0.00478363037109375, 0.0164031982421875, 0.0743408203125, 0.003971099853515625, -0.01105499267578125, 0.01183319091796875, 0.004375457763671875, -0.02783203125, -0.0010585784912109375, -0.0270233154296875, 0.0200958251953125, 0.006420135498046875, 0.0217437744140625, 0.013275146484375, 0.0004696846008300781, -0.027557373046875, -0.019134521484375, -0.0018873214721679688, 0.053497314453125, 0.0020599365234375, 0.02069091796875, 0.01511383056640625, -0.013214111328125, 0.00913238525390625, 0.00435638427734375, 0.003143310546875, 0.018280029296875, 0.0138092041015625, -0.0194549560546875, -0.004131317138671875, 0.005092620849609375, 0.0213165283203125, -0.019287109375, 0.0225982666015625, 0.01212310791015625, 0.00386810302734375, -0.00162506103515625, 0.004962921142578125, 0.03851318359375, 0.0073394775390625, -0.0127410888671875, 0.0343017578125, -0.0015468597412109375, 0.002197265625, -0.0158538818359375, -0.0217742919921875, -0.00814056396484375, -0.0036029815673828125, 0.01019287109375, -0.017364501953125, -0.0015077590942382812, 0.0155792236328125, -0.039398193359375, -0.0007405281066894531, 0.0153656005859375, 0.011962890625, -0.0210723876953125, 0.0185699462890625, -0.00394439697265625, 0.00907135009765625, -0.0015811920166015625, -0.004772186279296875, -0.0006623268127441406, 0.0031986236572265625, 0.007335662841796875, -0.0035686492919921875, 0.0002422332763671875, 0.0021495819091796875, 0.0033206939697265625, -0.0069122314453125, -0.0009613037109375, 0.00859832763671875, 0.004734039306640625, 0.0021495819091796875, -0.005840301513671875, -0.0294952392578125, 0.006214141845703125, 0.00582122802734375, -0.0013093948364257812, 0.01296234130859375, -0.01149749755859375, 0.01702880859375, -0.012481689453125, 0.010284423828125, -0.00024580955505371094, -0.0130157470703125, -0.005279541015625, -0.0244140625, -0.0125885009765625, -0.0016660690307617188, -0.0045623779296875, -0.031829833984375, -0.00722503662109375, -0.0025768280029296875, -0.048919677734375, -0.0200347900390625, -0.01030731201171875, 0.0085296630859375, -0.00435638427734375, -0.005146026611328125, 0.0211334228515625, 0.0021724700927734375, 0.0007987022399902344, 0.00150299072265625, -0.004909515380859375, -0.013824462890625, 0.004070281982421875, 0.01151275634765625, 0.0032558441162109375, 0.01125335693359375, 0.0032176971435546875, -0.0035400390625, 0.058135986328125, -0.021759033203125, -0.01485443115234375, 0.009246826171875, 0.01444244384765625, -0.008087158203125, -0.0026454925537109375, 0.00937652587890625, -0.01010894775390625, -0.0004892349243164062, 0.029266357421875, -0.007259368896484375, -0.00806427001953125, -0.003177642822265625, -0.003894805908203125, -0.005275726318359375, -0.00021505355834960938, -0.002643585205078125, -0.03125, 0.020172119140625, 0.024932861328125, 0.02099609375, -0.0029506683349609375, -0.0227508544921875, 0.0199432373046875, -0.0077972412109375, -0.01166534423828125, 0.0215911865234375, 0.006137847900390625, -0.00379180908203125, 0.00543975830078125, 0.00861358642578125, -0.004238128662109375, 0.01324462890625, 0.0204620361328125, 0.00015246868133544922, 0.0009746551513671875, 0.0197601318359375, 0.01061248779296875, 0.005916595458984375, -0.005275726318359375, -0.028961181640625, -0.00287628173828125, 0.0240020751953125, 0.01328277587890625, -0.0144500732421875, -0.00926971435546875, -0.004512786865234375, 0.0243072509765625, -0.036041259765625, 0.01074981689453125, -0.0081787109375, -0.0102996826171875, -0.0121917724609375, 0.010528564453125, -0.0257415771484375, -0.01119232177734375, 5.221366882324219e-05, 0.005390167236328125, -0.01129913330078125, -0.0108642578125, -0.026580810546875, 0.004222869873046875, -0.039642333984375, -0.00455474853515625, 0.0014057159423828125, -0.0166778564453125, 0.004199981689453125, -0.0016574859619140625, -0.024078369140625, -0.0093231201171875, 0.0019283294677734375, -0.0033111572265625, 0.0015935897827148438, 0.016448974609375, -0.0199737548828125, -0.01030731201171875, 0.015228271484375, -0.02325439453125, -0.0007963180541992188, 0.00341033935546875, -0.020843505859375, 0.005863189697265625, -0.0123443603515625, 0.0030765533447265625, -0.02056884765625, 0.0061798095703125, 0.002094268798828125, -0.004238128662109375, 0.009674072265625, -0.002849578857421875, -0.01146697998046875, 0.0106353759765625, 0.0229644775390625, -0.0018358230590820312, -0.00030517578125, 0.01215362548828125, 0.01136016845703125, -0.0019168853759765625, -0.0031986236572265625, -0.027374267578125, 0.0026607513427734375, 0.005702972412109375, 0.0166778564453125, -0.0086822509765625, 0.00548553466796875, 0.003284454345703125, 0.024749755859375, -0.00986480712890625, -0.00926971435546875, 0.0095672607421875, -0.01276397705078125, -0.0004954338073730469, -0.0006704330444335938, -0.01116943359375, -0.01470184326171875, -0.001430511474609375, -0.007080078125, -0.01306915283203125, -0.0009493827819824219, -0.032257080078125, 0.0141448974609375, 0.0268707275390625, 0.0038394927978515625, -0.03033447265625, -0.0016546249389648438, 0.0074005126953125, 0.00850677490234375, -0.003887176513671875, -0.00617218017578125, -0.0215606689453125, -0.0215911865234375, 0.0150299072265625, 0.0078277587890625, -0.005828857421875, 0.0009737014770507812, 0.023590087890625, -0.01438140869140625, 0.006092071533203125, 0.00047850608825683594, 0.0009427070617675781, 0.004642486572265625, -0.01004791259765625, 0.01201629638671875, 0.0017185211181640625, 0.0030803680419921875, 0.005924224853515625, 0.0190277099609375, -0.0085906982421875, -0.004245758056640625, 0.00847625732421875, 0.007007598876953125, 0.01079559326171875, -0.00881195068359375, 0.00665283203125, 0.00203704833984375, -0.006908416748046875, 0.007518768310546875, -0.003482818603515625, 0.006740570068359375, 0.0037555694580078125, -0.0002543926239013672, 0.01480865478515625, 0.0299224853515625, -0.023345947265625, 0.0016355514526367188, -0.0004730224609375, -0.040069580078125, 0.0097503662109375, 0.004608154296875, 0.004695892333984375, 0.013946533203125, 0.00258636474609375, -0.00646209716796875, 0.0158843994140625, 0.007781982421875, 0.005176544189453125, 0.0177154541015625, 0.0181121826171875, 0.0184478759765625, -0.001399993896484375, -0.0067901611328125, -0.0281829833984375, -0.0010089874267578125, -0.0064697265625, -0.037841796875, 0.0242462158203125, 0.005462646484375, 0.00121307373046875, 0.00725555419921875, 0.01201629638671875, 0.0179595947265625, -0.023406982421875, 0.00047278404235839844, -0.0023651123046875, -0.030242919921875, 0.0087127685546875, -0.0027751922607421875, 0.0157470703125, 0.00345611572265625, -0.023406982421875, -0.0155792236328125, 0.00531005859375, -0.004016876220703125, -0.01519775390625, 0.0260009765625, 0.015594482421875, -0.006710052490234375, -0.0198974609375, 0.006103515625, 0.0008969306945800781, -0.0275726318359375, 0.01486968994140625, 0.00164031982421875, 0.004840850830078125, -0.01232147216796875, -0.0018663406372070312, 0.004413604736328125, 0.0121002197265625, 0.00566864013671875, 0.02655029296875, -0.0190277099609375, -0.0024509429931640625, -0.0058746337890625, -0.0155029296875, -0.002063751220703125, -0.0245513916015625, -0.004940032958984375, 0.0144500732421875, -0.0219573974609375, 0.002872467041015625, 0.00873565673828125, -0.023345947265625, -0.0258941650390625, 0.01016998291015625, 0.004177093505859375, -0.0110626220703125, 0.005161285400390625, 0.0004944801330566406, -0.00963592529296875, 0.01806640625, 0.0032501220703125, 0.016082763671875, 0.014678955078125, 0.0147247314453125, -0.0169525146484375, 0.010345458984375, -0.00775909423828125, -0.0179595947265625, 0.0052337646484375, -0.004238128662109375, 0.005817413330078125, 0.00441741943359375, -0.0098724365234375, 0.0267791748046875, -0.00274658203125, 0.02557373046875, -0.003284454345703125, -0.00968170166015625, -0.0019664764404296875, -0.00757598876953125, -0.0103759765625, -0.00487518310546875, -0.0016727447509765625, -0.004581451416015625, -0.014678955078125, -0.0175323486328125, 0.0194244384765625, -0.0036144256591796875, -0.00530242919921875, -0.021209716796875, 0.01971435546875, 0.0129241943359375, 0.0007605552673339844, 0.01012420654296875, -0.023406982421875, 0.0173187255859375, -0.0007543563842773438, 0.017059326171875, -0.0152740478515625, 0.045074462890625, -0.0047149658203125, 0.004253387451171875, 0.01226806640625, -0.0161285400390625, -0.053375244140625, 0.00365447998046875, 0.0011615753173828125, 0.0023250579833984375, 0.01430511474609375, 0.003692626953125, -0.00554656982421875, 0.003681182861328125, 0.00980377197265625, -0.00507354736328125, -0.0153350830078125, 0.0240478515625, 0.0238494873046875, -0.0026950836181640625, -0.02337646484375, 0.02197265625, 0.00943756103515625, -0.0070648193359375, 0.0253448486328125, 0.0037326812744140625, 0.0246429443359375, 0.0159912109375, 0.00308990478515625, 0.0147247314453125, -0.0085906982421875, -0.01056671142578125, -0.022186279296875, -0.020294189453125, 0.02337646484375, 0.001308441162109375, -0.00917816162109375, -0.017852783203125, 0.030670166015625, 0.0027141571044921875, -0.048187255859375, 0.009124755859375, 0.0079498291015625, -0.0110931396484375, 0.00257110595703125, -0.0082550048828125, 0.0008339881896972656, -0.00023281574249267578, -0.017120361328125, -0.02655029296875, 0.0163421630859375, -0.0107574462890625, -0.0101470947265625, 0.0010995864868164062, 0.015594482421875, 0.0249481201171875, 0.0008993148803710938, -0.007781982421875, 0.014984130859375, 0.020416259765625, 0.0025730133056640625, 0.04400634765625, -0.016845703125, -0.0115966796875, -0.0013980865478515625, 0.0210113525390625, -0.0062103271484375, 0.00995635986328125, 0.0215606689453125, -0.0159759521484375, 0.017791748046875, -0.010345458984375, -0.00027489662170410156, -0.01715087890625, 0.016448974609375, 0.0248565673828125, 0.0174713134765625, -0.0010499954223632812, 0.0080718994140625, 0.01313018798828125, 0.0300140380859375, -0.01282501220703125, 0.0013647079467773438, -0.019195556640625, 0.0153656005859375, -0.00559234619140625, -0.0050506591796875, 0.004253387451171875, -0.0195159912109375, 0.00197601318359375, -0.0063323974609375, -0.00730133056640625, -0.012939453125, 0.027679443359375, -0.01044464111328125, -0.01959228515625, -0.003978729248046875, -0.002155303955078125, -0.0006055831909179688, -0.006542205810546875, 0.004180908203125, -0.00019657611846923828, 0.0051727294921875, 0.0214385986328125, -0.0164947509765625, -0.019775390625, 0.0025272369384765625, 0.0093536376953125, 0.0157012939453125, 0.0206756591796875, -0.00888824462890625, 0.007110595703125, 0.01007080078125, 0.00394439697265625, -0.0167694091796875, 0.007114410400390625, -0.0011539459228515625, 0.0094757080078125, 0.0009164810180664062, -0.0030345916748046875, 0.016571044921875, 0.011260986328125, -0.00835418701171875, 0.026123046875, 0.0212249755859375, -0.004878997802734375, 0.01380157470703125, 0.0166473388671875, 0.02862548828125, -0.0088958740234375, -0.0010366439819335938, 0.00785064697265625, -0.0236663818359375, -0.015289306640625, -0.01200103759765625, -0.004566192626953125, -0.01055908203125, -0.0133514404296875, -0.003173828125, 0.01198577880859375, -0.021759033203125, -0.01035308837890625, -0.00042128562927246094, -0.0027599334716796875, 0.01105499267578125, -0.0037860870361328125, -0.0105133056640625, -0.0080108642578125, 0.0006375312805175781, -0.0147857666015625, 0.036102294921875, -0.017242431640625, -0.0089874267578125, 0.0246429443359375, -0.00949859619140625, 0.021942138671875, -0.003631591796875, -0.0196380615234375, -0.007587432861328125, 0.019439697265625, -0.00728607177734375, -0.0248870849609375, -0.00864410400390625, -0.023834228515625, -0.02032470703125, 0.002422332763671875, -0.001064300537109375, 0.010833740234375, 0.0195465087890625, 0.0006227493286132812, -0.00836181640625, 0.0002422332763671875, 0.0005121231079101562, 0.0008096694946289062, -0.00191497802734375, -0.00612640380859375, -0.012664794921875, 0.0181884765625, -0.0110321044921875, -0.00464630126953125, -0.0115203857421875, 0.0018367767333984375, 0.0005822181701660156, 0.0040740966796875, 0.000972747802734375, 0.007282257080078125, -0.00038552284240722656, 0.005992889404296875, 0.01873779296875, -0.00812530517578125, 0.01071929931640625, -0.0200958251953125, 0.01416778564453125, 0.0294952392578125, -0.0016336441040039062, -0.01512908935546875, 0.01139068603515625, -0.02130126953125, -0.0175323486328125, -0.0016965866088867188, -0.01641845703125, 2.950429916381836e-05, 0.00769805908203125, 0.00557708740234375, 0.0007963180541992188, -0.00548553466796875, 0.01082611083984375, -0.0157470703125, 0.0251312255859375, -0.0078277587890625, 0.0123748779296875, -0.03802490234375, -0.003875732421875, 0.007221221923828125, -0.0246124267578125, 0.01517486572265625, -0.01103973388671875, 0.039947509765625, 0.0089263916015625, -0.0181884765625, -0.0142974853515625, 0.0095367431640625, 0.01189422607421875, 0.017730712890625, 0.016571044921875, -0.004299163818359375, -0.020294189453125, 0.006351470947265625, -0.0023441314697265625, -0.036773681640625, -0.0201263427734375, -0.01114654541015625, -0.006145477294921875, -0.00495147705078125, 0.0089263916015625, 0.0018177032470703125, 0.0306396484375, 0.026580810546875, 0.03228759765625, -0.0004611015319824219, 0.0134735107421875, -0.0154266357421875, -0.0140838623046875, -0.01519012451171875, -0.01004791259765625, -0.004268646240234375, -0.0247955322265625, -0.004749298095703125, -0.002960205078125, -0.042755126953125, -0.00916290283203125, -0.005161285400390625, 0.005931854248046875, -0.002071380615234375, -0.0249481201171875, 0.000690460205078125, 0.0018892288208007812, -0.0076141357421875, 0.0379638671875, -0.00980377197265625, -0.0012197494506835938, 0.00994110107421875, -0.0172271728515625, 0.0020999908447265625, -0.0258331298828125, -0.008544921875, 0.00511932373046875, -0.003810882568359375, -0.019073486328125, 0.0012235641479492188, -0.0279541015625, -0.0264739990234375, -0.00392913818359375, -0.01192474365234375, 0.01390838623046875, -0.01050567626953125, -0.01477813720703125, -0.0274658203125, 0.0079803466796875, -0.01226043701171875, -0.0080718994140625, 0.01021575927734375, 0.0029468536376953125, -0.0018625259399414062, 0.0170135498046875, 0.040740966796875, -0.0277252197265625, -0.0171661376953125, -0.0005307197570800781, 0.00923919677734375, -0.0157470703125, 0.005306243896484375, -0.0352783203125, -0.018218994140625, -0.033843994140625, 0.004405975341796875, 0.0142822265625, -0.0039520263671875, -0.00693511962890625, 0.02020263671875, 0.0089263916015625, 0.0219573974609375, 0.002071380615234375, 0.0034332275390625, -0.004238128662109375, 0.0052032470703125, -0.0196075439453125, -0.009521484375, 0.0179901123046875, 0.01129913330078125, 0.0004963874816894531, -0.007404327392578125, 0.0172119140625, 0.0003979206085205078, -0.01087188720703125, 0.01338958740234375, -0.0281219482421875, 0.0198974609375, -0.01519012451171875, 0.00896453857421875, -0.006824493408203125, 0.00800323486328125, -0.0006203651428222656, 0.0035381317138671875, -0.009552001953125, 0.0006246566772460938, -0.0191192626953125, -0.0254364013671875, -0.003246307373046875, -0.004932403564453125, 0.02130126953125, -0.005779266357421875, 0.0031585693359375, 0.0036334991455078125, -0.007099151611328125, -0.01297760009765625, 0.01019287109375, 0.028472900390625, 0.0028896331787109375, 0.03851318359375, 0.02117919921875, 0.00710296630859375, 0.0303955078125, 0.0031909942626953125, -0.01351165771484375, -0.00919342041015625, -0.0215911865234375, -0.0110015869140625, -0.0192108154296875, -0.00971221923828125, -0.006633758544921875, -0.01419830322265625, 0.0423583984375, -0.006031036376953125, -0.0181427001953125, 0.001842498779296875, -0.01396942138671875, 0.01204681396484375, 0.02069091796875, 0.0118865966796875, 0.0019044876098632812, -0.005863189697265625, 0.01361083984375, -0.0197906494140625, 0.0105438232421875, -0.01641845703125, -0.00772857666015625, -0.0125732421875, -0.0062255859375, 0.0040435791015625, 0.006683349609375, -0.0175018310546875, -0.004302978515625, -0.00928497314453125, 0.0068511962890625, 0.00870513916015625, 0.0262298583984375, -0.010528564453125, -0.0038242340087890625, 0.006305694580078125, -0.003910064697265625, -0.0208282470703125, 0.01079559326171875, -0.007843017578125, -0.016357421875, -0.0019102096557617188, 0.01064300537109375, -0.01184844970703125, -0.006992340087890625, 0.0025806427001953125, -0.00734710693359375, -0.0186309814453125, -0.0182342529296875, 0.021484375, -0.0052490234375, -0.02703857421875, -0.002285003662109375, 0.037353515625, -0.006229400634765625, 0.00954437255859375, 0.002071380615234375, -0.0064239501953125, 0.000698089599609375, 0.01837158203125, 0.0031414031982421875, -0.0011911392211914062, 0.0040740966796875, -0.036956787109375, 0.006977081298828125, 0.0024890899658203125, 0.012786865234375, 0.0002655982971191406, 0.0274200439453125, -0.0056915283203125, -0.00406646728515625, -0.015899658203125, 0.01702880859375, -0.01483154296875, -0.026336669921875, 0.0016489028930664062, 0.01195526123046875, 0.00574493408203125, 0.024993896484375, -0.020416259765625, -0.0033397674560546875, -0.007568359375, 0.0158233642578125, 0.02130126953125, -0.0032520294189453125, 0.0134124755859375, -0.0240936279296875, -0.020538330078125, 0.0009202957153320312, 0.0102691650390625, -0.0094146728515625, -0.0139312744140625, -0.001934051513671875, 0.0251312255859375, -0.01157379150390625, -0.00525665283203125, -0.00027108192443847656, 0.01380157470703125, 0.01485443115234375, 0.018463134765625, -0.0114593505859375, 0.01800537109375, 0.002712249755859375, -0.0202789306640625, 0.046783447265625, -0.005115509033203125, 0.0055999755859375, -0.001987457275390625, -0.01776123046875, -0.0032329559326171875, -0.006877899169921875, 0.005859375, -0.005710601806640625, 0.0001933574676513672, -0.004627227783203125, 0.0072479248046875, 0.01263427734375, -0.0189666748046875, -0.0065765380859375, 0.006664276123046875, 0.0230255126953125, -0.026336669921875, 0.00705718994140625, -0.03857421875, 0.035430908203125, -2.9146671295166016e-05, 0.01523590087890625, -0.0005955696105957031, -0.0026149749755859375, -0.012237548828125, 0.01044464111328125, -0.02410888671875, -0.00714111328125, 0.011444091796875, -0.0046539306640625, 0.007503509521484375, -0.003021240234375, 0.02093505859375, -0.0155792236328125, -0.0303497314453125, -0.018768310546875, 0.0007343292236328125, -0.003261566162109375, 0.0101470947265625, 0.001201629638671875, 0.026611328125, 0.004718780517578125, -0.0153656005859375, -0.01197052001953125, 0.00388336181640625, 0.002735137939453125, -0.0113067626953125, -0.0164794921875, -0.009490966796875, 0.01296234130859375, -0.009674072265625, -0.00412750244140625, -0.010772705078125, -0.01155853271484375, -0.022796630859375, 0.0127410888671875, -0.01386260986328125, 0.0760498046875, 0.007965087890625, 0.00800323486328125, -0.00888824462890625, -0.00647735595703125, -0.0147247314453125, -0.00272369384765625, -0.0099029541015625, -0.001552581787109375, -0.0070648193359375, -0.0005784034729003906, 0.00897216796875, 0.0010805130004882812, -0.00856781005859375, 0.015869140625, -0.01084136962890625, 0.0090179443359375, 0.00551605224609375, 0.00649261474609375, -0.0010690689086914062, 0.0178985595703125, 0.0084991455078125, 0.00522613525390625, 0.01178741455078125, 0.0025482177734375, 0.01528167724609375, 0.006702423095703125, -0.016265869140625, 0.036102294921875, 0.01085662841796875, 0.00333404541015625, 0.0197906494140625, -0.0017070770263671875, 0.0130462646484375, 0.0012140274047851562, -0.0055694580078125, -0.0008063316345214844, 0.035247802734375, -0.0024738311767578125, -0.0009622573852539062, -0.006671905517578125, -0.0087127685546875, -0.01209259033203125, 0.0030364990234375, -0.00241851806640625, 0.0188446044921875, 0.00022494792938232422, -0.0046844482421875, 0.01201629638671875, -0.0257415771484375, -0.0114898681640625, 0.01031494140625, 0.01409912109375, -0.0188751220703125, -0.01271820068359375, 0.0190277099609375, 0.008819580078125, -0.016571044921875, -0.0084991455078125, -0.00803375244140625, -0.01374053955078125, -0.0146484375, -0.006107330322265625, -0.012603759765625, 0.00133514404296875, 0.022003173828125, -0.03424072265625, 0.013885498046875, -0.01117706298828125, 0.007152557373046875, -0.0154571533203125, 0.01078033447265625, -0.006992340087890625, -0.007022857666015625, 0.02239990234375, 0.0258026123046875, 0.0296478271484375, 0.01248931884765625, 0.036590576171875, -0.0218963623046875, -0.0037288665771484375, -0.00954437255859375, -0.0127410888671875, -0.01213836669921875, 0.011932373046875, 0.00682830810546875, 0.00817108154296875, -0.01025390625, 0.01446533203125, 0.04974365234375, -0.02288818359375, -0.00582122802734375, -0.0201416015625, 0.004302978515625, 0.00258636474609375, -0.016357421875, -0.00905609130859375, 0.007659912109375, 0.0025959014892578125, -0.0030803680419921875, -0.006450653076171875, -0.0155487060546875, -0.00022649765014648438, 0.0021076202392578125, 0.0291748046875, 0.032745361328125, -0.0016689300537109375, 0.00030541419982910156, -0.010589599609375, 0.01096343994140625, -0.01033782958984375, 0.00827789306640625, 0.002559661865234375, -0.0207061767578125, 0.008697509765625, -0.0038280487060546875, -0.0106201171875, -0.01434326171875, -0.0301666259765625, -0.00606536865234375, 0.0004315376281738281, -0.00510406494140625, -0.006855010986328125, -0.0211029052734375, -0.005016326904296875, -0.0120849609375, -0.0003886222839355469, -0.01464080810546875, 0.002552032470703125, -0.0164947509765625, -0.0186309814453125, 0.0291748046875, -0.02081298828125, 0.035675048828125, 0.005359649658203125, -0.00391387939453125, -0.0012197494506835938, 0.010711669921875, 0.01641845703125, -0.00168609619140625, 0.0218353271484375, 0.0024738311767578125, -0.00490570068359375, -0.01363372802734375, 0.0013885498046875, -0.023468017578125, -0.0276031494140625, -0.0034198760986328125, 0.008575439453125, 0.00762176513671875, -0.0256500244140625, 0.0139007568359375, 0.0171966552734375, -0.051666259765625, 0.0164031982421875, 0.01233673095703125, -0.0165863037109375, -0.016937255859375, 0.0013952255249023438, -0.003627777099609375, 0.009918212890625, -0.008148193359375, -0.0113677978515625, 0.00533294677734375, 0.013153076171875, -0.024169921875, -0.00783538818359375, -0.007205963134765625, 0.000926971435546875, 0.0036373138427734375, -0.01114654541015625, -0.00887298583984375, 0.004779815673828125, -0.01593017578125, 0.0003516674041748047, 0.00791168212890625, 0.01306915283203125, -0.0004029273986816406, 0.004241943359375, -0.0076904296875, 0.0199127197265625, 0.00794219970703125, -0.0009617805480957031, -0.0133514404296875, -0.0053558349609375, 0.0201416015625, 0.00977325439453125, -0.0026454925537109375, -0.01149749755859375, -0.01016998291015625, -0.007167816162109375, -0.00634765625, 0.00836181640625, -0.0126190185546875, -0.0147705078125, 0.01247406005859375, -0.00823974609375, -0.0196075439453125, -0.0207061767578125, -0.01177215576171875, -0.00431060791015625, -0.01180267333984375, -0.0097198486328125, -0.0017786026000976562, -0.0211181640625, -0.0022487640380859375, -0.003620147705078125, 0.010467529296875, 0.011077880859375, -0.0005183219909667969, -0.0221099853515625, 0.00925445556640625, -0.0081939697265625, -0.005680084228515625, 0.0020999908447265625, 0.0238189697265625, -0.0207061767578125, -0.017730712890625, 0.01100921630859375, -0.014129638671875, -0.0015048980712890625, -0.00705718994140625, 0.0016307830810546875, -0.00592041015625, -0.004978179931640625, -0.0225830078125, 0.00757598876953125, 0.016326904296875, -0.01184844970703125, 0.0007200241088867188, 0.0006732940673828125, -0.00731658935546875, -0.007015228271484375, 0.0011396408081054688, -0.0027370452880859375, -0.007457733154296875, -0.0916748046875, 0.0035152435302734375, -0.0238800048828125, 0.0060272216796875, -0.007411956787109375], [0.02374267578125, -0.0036525726318359375, -0.034149169921875, -0.0178070068359375, 0.004154205322265625, 0.0096893310546875, -0.00873565673828125, -0.02081298828125, -0.0097808837890625, 0.00260162353515625, 0.020477294921875, 0.00470733642578125, -0.02197265625, 0.0126953125, 0.020263671875, 0.011932373046875, -0.0173187255859375, 0.0033206939697265625, 0.0202484130859375, -0.0200653076171875, -0.0056915283203125, -0.01357269287109375, 0.0029277801513671875, -0.017120361328125, 0.00037288665771484375, -0.0003161430358886719, 0.00299835205078125, 0.00021469593048095703, 0.00846099853515625, -0.008270263671875, 0.03485107421875, 0.00580596923828125, 0.00850677490234375, -0.00833892822265625, 0.0019330978393554688, 0.00083160400390625, -0.0011749267578125, -0.0050506591796875, 0.0107421875, -0.01629638671875, -0.00896453857421875, 0.0005259513854980469, -0.0282440185546875, 0.0034236907958984375, -0.01641845703125, -0.00299835205078125, -0.0189361572265625, 0.01107025146484375, -0.0166778564453125, -0.0015392303466796875, 0.007282257080078125, -0.0140533447265625, 0.0075225830078125, -0.1578369140625, -0.01617431640625, 0.0079803466796875, -0.00670623779296875, 0.0010423660278320312, 0.005008697509765625, -0.01331329345703125, -0.0153656005859375, -0.00388336181640625, -0.01404571533203125, -0.006832122802734375, -0.00628662109375, -0.0135650634765625, 0.004077911376953125, -0.0104217529296875, -0.03265380859375, 0.01222991943359375, 0.00778961181640625, 0.01015472412109375, -0.0028781890869140625, 0.0261077880859375, -0.0160064697265625, -0.009674072265625, 0.02410888671875, -0.0186920166015625, -0.007541656494140625, -0.006992340087890625, 0.007007598876953125, 0.003948211669921875, 0.0008673667907714844, 0.003387451171875, -0.01497650146484375, 0.0023860931396484375, 0.0129852294921875, -0.004512786865234375, -0.0099639892578125, -0.0130157470703125, 0.008544921875, -0.0279388427734375, 0.0009570121765136719, 0.00031185150146484375, -0.023223876953125, 0.0252227783203125, 0.0019474029541015625, 0.0185089111328125, 0.00577545166015625, 0.00579833984375, 0.01062774658203125, 0.0049285888671875, 0.01316070556640625, -0.0018930435180664062, 0.0054473876953125, -0.00601959228515625, 0.00032067298889160156, -0.0178680419921875, 0.006977081298828125, 0.005756378173828125, 0.01268768310546875, 0.006763458251953125, -0.0063323974609375, -0.032196044921875, -0.0301666259765625, 0.019287109375, 0.00757598876953125, 0.0005645751953125, -0.00888824462890625, 0.01641845703125, -0.00795745849609375, 0.00457000732421875, 0.002033233642578125, -0.01055145263671875, -0.007266998291015625, -0.00385284423828125, 0.01271820068359375, -0.0053253173828125, -0.0056915283203125, -0.0247650146484375, 0.0021114349365234375, 0.0173187255859375, -0.002368927001953125, 0.036712646484375, 0.004451751708984375, -0.00525665283203125, -0.007396697998046875, -0.0047607421875, -0.02099609375, 0.004322052001953125, -0.00862884521484375, 0.001522064208984375, 0.008758544921875, -0.0004436969757080078, -0.01416015625, 0.0020809173583984375, -0.016357421875, 0.0120849609375, 0.0032634735107421875, 0.00817108154296875, -0.0126190185546875, 0.006320953369140625, 0.01166534423828125, 0.011871337890625, 0.0046844482421875, 0.0298614501953125, -0.0240631103515625, 0.0016155242919921875, -0.00545501708984375, 8.612871170043945e-05, 0.015411376953125, 0.006870269775390625, 0.01007843017578125, -0.02044677734375, 0.006427764892578125, 0.0199737548828125, 0.0160064697265625, -0.023284912109375, -0.0210723876953125, -0.005672454833984375, -0.00782012939453125, -0.001720428466796875, -0.0014524459838867188, 0.0335693359375, 0.007312774658203125, 0.0013790130615234375, -0.003223419189453125, 0.01009368896484375, -0.006786346435546875, 0.0017805099487304688, -0.021148681640625, -0.0077056884765625, -0.0184478759765625, 0.01107025146484375, -0.003204345703125, -0.0005412101745605469, -0.01070404052734375, -0.002689361572265625, -0.00806427001953125, 0.032318115234375, -0.036590576171875, 0.002758026123046875, -0.01959228515625, -0.01436614990234375, -0.005527496337890625, 0.00579071044921875, 0.0029010772705078125, 0.0164947509765625, 0.0134429931640625, 0.006748199462890625, -0.0026493072509765625, -0.007312774658203125, -0.006404876708984375, -0.0189056396484375, -0.008331298828125, 0.0204925537109375, -0.0267791748046875, -0.0208587646484375, 5.5849552154541016e-05, 0.006778717041015625, -0.035980224609375, 0.031402587890625, 0.0205078125, 3.4689903259277344e-05, -0.0029697418212890625, 0.0043792724609375, 0.011138916015625, -0.017486572265625, -0.0067901611328125, 0.002468109130859375, 0.0036334991455078125, 0.0242156982421875, -0.00641632080078125, -0.002307891845703125, 0.023773193359375, 0.003276824951171875, 0.01318359375, -0.0035610198974609375, -0.0015516281127929688, -0.0006861686706542969, -0.007289886474609375, -0.0081024169921875, 0.00878143310546875, -0.006542205810546875, -0.01393890380859375, -0.0006852149963378906, 0.00017023086547851562, 0.0178070068359375, -0.0017957687377929688, 0.005130767822265625, 0.0008883476257324219, -0.01406097412109375, 0.0053863525390625, -0.01136016845703125, 0.00749969482421875, 0.0094757080078125, 0.025299072265625, 0.0137939453125, 0.01068878173828125, -0.0135650634765625, 0.0102691650390625, 0.011077880859375, -0.00316619873046875, 0.007625579833984375, 0.0047760009765625, -0.01094818115234375, 0.00435638427734375, 0.01285552978515625, 0.002841949462890625, -0.003047943115234375, 0.02728271484375, -0.006191253662109375, -0.004177093505859375, -0.0142822265625, 0.01061248779296875, 0.0017690658569335938, -0.0197906494140625, -0.002285003662109375, 8.320808410644531e-05, 0.02374267578125, 0.005504608154296875, 0.004291534423828125, -0.0031452178955078125, 0.01311492919921875, 0.00653076171875, 0.014434814453125, 0.010040283203125, 0.00894927978515625, 0.00797271728515625, -0.0158843994140625, -0.005382537841796875, -0.0082855224609375, -0.0060272216796875, 0.0093536376953125, -0.00981903076171875, -0.0196075439453125, -0.01323699951171875, 0.006038665771484375, -0.0254364013671875, 0.01666259765625, -0.0119171142578125, 0.019775390625, -0.00872039794921875, -0.0107421875, -0.021148681640625, -0.0107879638671875, 0.003124237060546875, 0.009521484375, 0.002593994140625, -0.00530242919921875, 0.028411865234375, 0.01398468017578125, 0.0133819580078125, 0.0271759033203125, -0.0068511962890625, 0.0176544189453125, -0.0123748779296875, 0.0092926025390625, 0.0125885009765625, -0.01403045654296875, -0.0285491943359375, -0.00415802001953125, -0.007320404052734375, 0.01319122314453125, -0.006328582763671875, -0.007198333740234375, -0.0308990478515625, -0.0102691650390625, -0.012664794921875, -0.0044708251953125, 0.025634765625, -0.0201873779296875, -0.006916046142578125, -0.0111236572265625, 0.03955078125, 0.005126953125, 0.00667572021484375, -0.0060577392578125, -0.0097198486328125, -0.0050506591796875, -0.004638671875, 0.0095062255859375, -0.0032958984375, 0.031585693359375, -0.0013837814331054688, -0.01020050048828125, -0.014007568359375, 0.01255035400390625, 0.0034694671630859375, 0.0162200927734375, 0.0042572021484375, -0.021636962890625, -0.003276824951171875, -0.00577545166015625, -0.017364501953125, 0.014007568359375, -0.01560211181640625, -0.01287078857421875, -0.0276031494140625, -0.001369476318359375, -0.00301361083984375, 0.0036716461181640625, -0.0260467529296875, -0.01314544677734375, 0.00820159912109375, -0.0177154541015625, 0.007755279541015625, 0.01392364501953125, -0.0191497802734375, -0.0163116455078125, -0.0030155181884765625, 0.0140838623046875, 0.00490570068359375, -0.00414276123046875, -0.0208587646484375, 0.0198822021484375, 0.012939453125, 0.012847900390625, -0.0011272430419921875, -0.017822265625, -0.01279449462890625, 0.0015773773193359375, -0.00482177734375, 0.003810882568359375, -0.002902984619140625, -0.02093505859375, 0.0166473388671875, 0.004024505615234375, -0.00582122802734375, 0.01064300537109375, -0.01181793212890625, -0.029388427734375, 0.005115509033203125, -0.00830078125, -0.004459381103515625, 0.0160064697265625, 0.00372314453125, -0.0095062255859375, 0.0172271728515625, -0.03839111328125, 0.0004353523254394531, -0.013946533203125, -0.003086090087890625, -0.01120758056640625, -0.02001953125, 0.005405426025390625, -0.033233642578125, -0.038848876953125, 0.00489044189453125, -0.0005936622619628906, -0.00905609130859375, 0.00713348388671875, 0.0014162063598632812, 0.005054473876953125, 0.01617431640625, 0.004337310791015625, -0.004047393798828125, 0.0086517333984375, -0.0411376953125, -0.005168914794921875, 0.0174407958984375, 0.0122833251953125, 0.01009368896484375, 0.01142120361328125, -0.041778564453125, -0.0167999267578125, -0.021942138671875, 0.0185546875, 0.0092926025390625, -0.004047393798828125, -0.01134490966796875, -0.01117706298828125, -0.00039696693420410156, 0.00801849365234375, -0.0010786056518554688, -0.007648468017578125, 0.0077362060546875, 0.015380859375, -0.0212860107421875, 0.0022792816162109375, -0.0066375732421875, 0.0201263427734375, -0.00832366943359375, 0.00592803955078125, -0.006702423095703125, 0.0175628662109375, -0.02197265625, 0.00930023193359375, -0.0048828125, -0.0004744529724121094, -0.008392333984375, 0.003650665283203125, 0.037933349609375, 0.0030002593994140625, 0.0299835205078125, 0.003040313720703125, 0.017364501953125, -0.0016727447509765625, -0.0272674560546875, -0.011474609375, 0.00562286376953125, 0.016815185546875, -0.01210784912109375, -0.0033969879150390625, -0.0206756591796875, -0.00037026405334472656, 0.0017557144165039062, 0.0093536376953125, -0.003055572509765625, 0.037445068359375, -0.0138092041015625, -0.004058837890625, 0.0138397216796875, -0.00614166259765625, -0.00507354736328125, 0.005092620849609375, -0.023345947265625, 0.0041351318359375, 0.00255584716796875, 0.01502227783203125, 0.03717041015625, 0.0175018310546875, -0.00618743896484375, -0.027374267578125, -0.007297515869140625, 0.009002685546875, 0.01291656494140625, -0.01806640625, -0.012115478515625, 0.00011485815048217773, -0.0198822021484375, -0.027496337890625, -0.01007843017578125, -0.013275146484375, -0.0009593963623046875, 0.02685546875, -0.0003154277801513672, 0.010101318359375, 0.0004570484161376953, -0.01538848876953125, 0.0030040740966796875, -0.00428009033203125, 0.001575469970703125, -0.00750732421875, -0.025115966796875, -0.0017194747924804688, 0.01290130615234375, 0.005451202392578125, -0.0146942138671875, 0.013702392578125, -0.00867462158203125, 0.0194244384765625, 0.017974853515625, 0.04058837890625, 0.019744873046875, 0.0168914794921875, -0.0169219970703125, 0.017486572265625, -0.001758575439453125, 0.01412200927734375, -0.02435302734375, -0.0116729736328125, -0.0183563232421875, 0.004123687744140625, -0.0205230712890625, 0.0232696533203125, 0.00470733642578125, 0.01297760009765625, 0.0047607421875, 0.0180511474609375, -0.0025634765625, 0.0036449432373046875, -0.0005927085876464844, 0.00925445556640625, 0.0012750625610351562, -0.009124755859375, -0.01084136962890625, -0.024688720703125, -0.00435638427734375, 0.005786895751953125, -0.002704620361328125, -0.0145416259765625, -0.006496429443359375, -0.00591278076171875, -0.00743865966796875, 0.012237548828125, -0.023712158203125, 0.00838470458984375, -0.0104522705078125, -0.003467559814453125, 0.01308441162109375, 0.0242462158203125, 0.0198516845703125, 0.0217742919921875, 0.0188140869140625, 0.0032367706298828125, -0.0246124267578125, 0.01259613037109375, 0.0102996826171875, -0.01448822021484375, 0.0027027130126953125, 0.004154205322265625, 0.03814697265625, -0.0252532958984375, 0.00939178466796875, -0.00788116455078125, -0.01091766357421875, 0.01213836669921875, 0.007709503173828125, 0.01285552978515625, -0.0080108642578125, 0.00710296630859375, 0.0017175674438476562, 0.01558685302734375, 0.015899658203125, -0.01178741455078125, 0.0087432861328125, -0.00986480712890625, -0.0208892822265625, -0.00420379638671875, 0.005100250244140625, -0.0172271728515625, 0.009185791015625, 0.0218658447265625, -0.002300262451171875, -0.01000213623046875, 0.0161895751953125, 0.02386474609375, -0.0136260986328125, -0.002422332763671875, -0.0007343292236328125, -0.00904083251953125, -0.0080108642578125, -0.013427734375, 0.0278778076171875, 0.010284423828125, -0.016387939453125, -0.0005140304565429688, 0.005657196044921875, 0.00919342041015625, 0.02557373046875, -0.0275115966796875, -0.01224517822265625, 0.014007568359375, 0.0113372802734375, 0.007221221923828125, 0.0080718994140625, 0.009185791015625, 0.038299560546875, 0.01108551025390625, -0.0001558065414428711, -0.01387786865234375, 0.011932373046875, -0.0149383544921875, -0.014984130859375, -0.008209228515625, -0.016082763671875, 0.0078125, 0.005237579345703125, 0.021453857421875, -0.0124053955078125, 0.01416015625, -0.028106689453125, 0.01511383056640625, -0.0021686553955078125, 0.006435394287109375, -0.006862640380859375, 0.01409149169921875, -0.003692626953125, 0.0025196075439453125, -0.004871368408203125, -0.01287078857421875, -0.018035888671875, -0.005870819091796875, 0.0380859375, 0.0129852294921875, 0.0030155181884765625, -0.017730712890625, -0.001209259033203125, 0.015533447265625, -0.0228729248046875, -0.004817962646484375, 0.01245880126953125, 0.007358551025390625, -0.006534576416015625, -0.0162353515625, 0.00394439697265625, -0.0142059326171875, 0.014251708984375, -0.006847381591796875, -0.0123291015625, 0.0175018310546875, 0.0027027130126953125, 0.0067291259765625, -0.01120758056640625, -0.0140380859375, 0.0195770263671875, -0.0031986236572265625, -0.0013523101806640625, -0.012786865234375, -9.399652481079102e-05, 0.019927978515625, -0.0288543701171875, -0.0111541748046875, -0.00543212890625, -0.015289306640625, -0.0013723373413085938, -0.00374603271484375, -0.0109100341796875, -0.002162933349609375, 0.0132598876953125, -0.00891876220703125, -0.025299072265625, -0.015167236328125, -0.0117950439453125, 0.0198822021484375, 0.037506103515625, -0.00957489013671875, 0.0030574798583984375, -0.022857666015625, 0.01525115966796875, -0.020843505859375, 0.024627685546875, -0.00621795654296875, 0.0273284912109375, -0.003376007080078125, 0.002834320068359375, -0.0006432533264160156, 0.00922393798828125, -0.00449371337890625, 0.0139617919921875, -0.001239776611328125, -0.00876617431640625, -0.007434844970703125, 0.0130157470703125, 0.020751953125, 0.014892578125, 0.033843994140625, -0.0184783935546875, -0.0022563934326171875, 0.0013380050659179688, -0.0011081695556640625, -0.006053924560546875, -0.01105499267578125, 0.01433563232421875, -0.032562255859375, 0.004199981689453125, -0.0006151199340820312, -0.01511383056640625, -0.02301025390625, 0.036529541015625, 0.0180206298828125, -0.0277252197265625, 0.0243072509765625, 0.002353668212890625, 0.042388916015625, 0.030487060546875, 0.007297515869140625, -0.01486968994140625, 0.005977630615234375, -0.00022459030151367188, -0.003894805908203125, 0.0122833251953125, -0.0187225341796875, -0.00676727294921875, -0.0086212158203125, 0.0027256011962890625, 0.003101348876953125, -0.003047943115234375, 0.01457977294921875, 0.00965118408203125, 0.01396942138671875, 0.0031528472900390625, 0.00205230712890625, -0.01166534423828125, 0.0106048583984375, 0.003322601318359375, 0.005832672119140625, -0.00853729248046875, 0.003993988037109375, 0.0042266845703125, 0.004413604736328125, 0.007297515869140625, -0.00698089599609375, -0.00421905517578125, -0.006008148193359375, -0.01387786865234375, -0.0035839080810546875, -0.0291595458984375, 0.00919342041015625, -0.01666259765625, 0.00868988037109375, -0.0075836181640625, 0.006168365478515625, 0.0016031265258789062, 0.0027065277099609375, 0.0027637481689453125, -0.010345458984375, -0.0178070068359375, 0.0011835098266601562, 0.00852203369140625, -0.00696563720703125, -0.019805908203125, 0.00945281982421875, 0.0209503173828125, -0.005931854248046875, -0.0015993118286132812, 0.0008168220520019531, -0.0162506103515625, 0.01186370849609375, 1.043081283569336e-05, -0.0167083740234375, -0.0234527587890625, -0.0192108154296875, 0.004642486572265625, -0.002239227294921875, -0.00954437255859375, -0.013702392578125, -0.007198333740234375, 0.034698486328125, 0.0099945068359375, -0.01291656494140625, -0.00717926025390625, -0.02252197265625, -0.0006136894226074219, -0.0271453857421875, -0.0080718994140625, 0.07110595703125, 0.0006337165832519531, 0.0175628662109375, 0.02001953125, 0.00389862060546875, -0.004283905029296875, -0.01861572265625, -0.003437042236328125, 0.006061553955078125, -0.00012695789337158203, 0.01383209228515625, -0.0014467239379882812, -0.01161956787109375, 0.0049285888671875, -0.00433349609375, 0.0024127960205078125, 0.0010223388671875, -0.01425933837890625, -0.01447296142578125, 0.0027332305908203125, -0.014984130859375, 0.0029087066650390625, -0.0276031494140625, 0.0160064697265625, -0.00548553466796875, -0.0249786376953125, 0.0091094970703125, -0.005725860595703125, -0.007030487060546875, 0.0144805908203125, -0.00039887428283691406, 0.016510009765625, -0.001117706298828125, -0.0169219970703125, 0.00875091552734375, -0.0019435882568359375, 0.00740814208984375, -0.0021533966064453125, 0.014068603515625, 0.0027866363525390625, 0.020050048828125, 0.0101318359375, 0.0032863616943359375, 0.00862884521484375, 0.004032135009765625, 0.01015472412109375, -0.02044677734375, -0.002964019775390625, -0.01898193359375, -0.00690460205078125, 0.0328369140625, 0.006847381591796875, -0.003162384033203125, 0.0251312255859375, -0.0016031265258789062, 0.002742767333984375, -0.0207672119140625, -0.0016717910766601562, 0.04180908203125, -0.01110076904296875, -0.00885772705078125, 0.006046295166015625, -0.0226287841796875, 0.00579071044921875, -0.01207733154296875, 0.0235137939453125, 0.0215301513671875, -0.00569915771484375, -0.005054473876953125, 0.0003619194030761719, 0.019989013671875, -0.0210418701171875, -0.034454345703125, 0.0042266845703125, -0.001567840576171875, -0.0038318634033203125, -0.0035572052001953125, -0.0146026611328125, -0.0041046142578125, 0.00980377197265625, -0.0018558502197265625, -0.01593017578125, -0.037261962890625, 0.0031986236572265625, -0.0119476318359375, -0.045928955078125, -0.01139068603515625, -0.02410888671875, 0.01090240478515625, -0.027923583984375, -0.006984710693359375, -0.00350189208984375, -0.0035762786865234375, -0.0171051025390625, -0.0008754730224609375, 0.01456451416015625, -0.0182037353515625, 0.0055694580078125, -0.01071929931640625, -0.0279693603515625, -0.0123443603515625, 0.025787353515625, -0.005084991455078125, -0.01497650146484375, 0.001010894775390625, 0.0184783935546875, 0.033111572265625, 0.0142822265625, -0.02423095703125, 0.0135345458984375, 0.01078033447265625, 0.01383209228515625, 0.01229095458984375, 0.0006260871887207031, 0.03509521484375, -0.0203704833984375, -0.0233612060546875, 0.0034542083740234375, -0.0095367431640625, -0.0017347335815429688, -0.00746917724609375, 0.0183868408203125, 0.0243072509765625, 0.0019817352294921875, 0.0066070556640625, 0.0182342529296875, 0.01885986328125, 0.0006432533264160156, 0.00795745849609375, 0.00936126708984375, 0.0257415771484375, 0.0030517578125, -0.0169219970703125, 0.012359619140625, 0.01128387451171875, -0.0125732421875, 0.0013589859008789062, 0.016754150390625, -0.0013113021850585938, -0.0075225830078125, 0.0017137527465820312, 0.0171051025390625, 0.00943756103515625, 0.004238128662109375, -0.001720428466796875, -0.02325439453125, -0.01181793212890625, 0.02789306640625, -0.006175994873046875, 0.0153045654296875, -0.0027828216552734375, 0.0007433891296386719, 0.0012350082397460938, -0.01473236083984375, 0.0034770965576171875, 0.0085906982421875, -0.0006875991821289062, 0.00244903564453125, -0.0081787109375, -0.01558685302734375, -0.007686614990234375, -0.014190673828125, 0.0294036865234375, 0.00534820556640625, -0.016082763671875, 0.032073974609375, -0.0063018798828125, -0.002986907958984375, -0.01294708251953125, -0.00446319580078125, 0.01023101806640625, -0.0031452178955078125, -0.003505706787109375, 0.01187896728515625, -0.0013971328735351562, -0.0044708251953125, 0.0038661956787109375, -0.018890380859375, 0.01345062255859375, -0.0022220611572265625, 0.004154205322265625, -0.002582550048828125, -0.0003457069396972656, 0.00583648681640625, 0.022552490234375, 0.00601959228515625, -0.017120361328125, 0.0122833251953125, -0.0115203857421875, -0.0096893310546875, -0.04510498046875, 0.004566192626953125, 0.01024627685546875, 0.005863189697265625, 0.014312744140625, 0.0211639404296875, -0.004680633544921875, 0.0010461807250976562, 0.01593017578125, 0.0032291412353515625, -0.00457763671875, -0.006519317626953125, 0.004756927490234375, 0.03253173828125, 0.0165252685546875, -0.0340576171875, -0.008209228515625, -0.0013751983642578125, -0.06146240234375, -0.01212310791015625, 0.0160980224609375, 0.0136871337890625, -0.0025844573974609375, 0.01334381103515625, 0.007305145263671875, 0.0157623291015625, 0.00913238525390625, 0.00446319580078125, -0.013671875, -0.01519012451171875, -0.0026874542236328125, -0.00487518310546875, 0.01419830322265625, -0.017120361328125, 0.0163726806640625, -0.031097412109375, 0.0157318115234375, 0.009185791015625, 0.019744873046875, -0.01294708251953125, 0.0091094970703125, -0.0222625732421875, -0.0018405914306640625, 0.0224761962890625, -0.021240234375, 0.01715087890625, -0.001140594482421875, 0.0226898193359375, -0.0233306884765625, 0.01514434814453125, -0.0023860931396484375, 0.0112762451171875, -0.013763427734375, -0.0063018798828125, -0.00601959228515625, -0.004055023193359375, -0.01419830322265625, 0.01041412353515625, -0.02313232421875, 0.00788116455078125, -0.0215606689453125, -0.0115203857421875, -0.005687713623046875, -0.08868408203125, -0.0034923553466796875, 0.0190887451171875, -0.00626373291015625, -0.018341064453125, -0.022735595703125, 0.0150146484375, 0.007579803466796875, 0.00569915771484375, 0.0032253265380859375, -0.024383544921875, -0.061614990234375, -0.0087738037109375, 0.0205078125, 0.00972747802734375, -0.0061798095703125, 0.0216522216796875, -0.0231781005859375, 0.005626678466796875, 0.01273345947265625, -0.005985260009765625, -0.0142822265625, 0.01959228515625, -0.013580322265625, -0.004978179931640625, 0.00960540771484375, -0.00836944580078125, -0.011993408203125, -0.017974853515625, 0.007266998291015625, -0.002292633056640625, -0.014312744140625, -0.0169525146484375, -0.015167236328125, -0.01050567626953125, 0.01476287841796875, 0.00241851806640625, -0.013458251953125, -0.00600433349609375, -0.01117706298828125, -0.024810791015625, 0.0095672607421875, -0.0017910003662109375, -0.00997161865234375, -0.0146636962890625, 0.0111083984375, 0.006015777587890625, 0.0046234130859375, -0.02764892578125, -0.0212554931640625, -0.021728515625, -0.02008056640625, -0.0013170242309570312, 0.00684356689453125, 0.0031414031982421875, 0.0310821533203125, 0.0155181884765625, 0.01235198974609375, 0.0023288726806640625, -0.0016727447509765625, 0.00740814208984375, 0.0015687942504882812, 0.0146331787109375, -0.005771636962890625, -0.01322174072265625, -0.001422882080078125, 0.0212860107421875, -0.01029205322265625, 0.0031032562255859375, -0.0143890380859375, 0.00010859966278076172, -0.004077911376953125, -0.0247650146484375, 0.015960693359375, -0.00609588623046875, 0.02362060546875, -0.018829345703125, 0.00432586669921875, 0.011474609375, 0.013885498046875, 0.005306243896484375, 0.017913818359375, -0.003849029541015625, -0.004474639892578125, 0.011077880859375, 0.0003960132598876953, 0.01311492919921875, -0.014007568359375, 0.002384185791015625, -0.0171356201171875, -0.0123138427734375, 0.01348114013671875, -0.001247406005859375, -0.00013148784637451172, -0.017486572265625, 0.051239013671875, 0.0154876708984375, -0.006191253662109375, 0.008087158203125, 0.01015472412109375, 0.005550384521484375, -0.0094757080078125, -0.02191162109375, 0.019866943359375, -0.016082763671875, -0.00801849365234375, 0.0070953369140625, -0.0077056884765625, -0.0042724609375, 0.014068603515625, -0.0027942657470703125, -0.01171875, -0.00817108154296875, -0.00525665283203125, 0.0114898681640625, -0.01184844970703125, -0.00720977783203125, 0.0235137939453125, 0.0036602020263671875, 0.007266998291015625, 3.796815872192383e-05, -0.01171112060546875, -0.016082763671875, -0.01001739501953125, 0.0083465576171875, -0.00907135009765625, -0.0112152099609375, 0.031280517578125, -0.0008192062377929688, 0.0180816650390625, 0.026275634765625, -0.0117645263671875, 0.032928466796875, -0.0010004043579101562, 0.012847900390625, -0.00981903076171875, -0.002223968505859375, -0.0080108642578125, 0.0031909942626953125, 0.0250396728515625, 0.0018482208251953125, -0.01195526123046875, 0.02435302734375, -0.0278778076171875, 0.01125335693359375, 0.005519866943359375, 0.029571533203125, 0.004718780517578125, 0.0125732421875, 0.011871337890625, -0.00865936279296875, -0.019683837890625, 0.0012950897216796875, 0.0018768310546875, 0.021026611328125, -0.006591796875, 0.004642486572265625, 0.020477294921875, -0.01290130615234375, -0.01425933837890625, -0.005290985107421875, 0.002170562744140625, -0.01067352294921875, -0.01503753662109375, -0.02301025390625, -0.0158233642578125, -0.00882720947265625, 0.02337646484375, -0.005084991455078125, 0.0013256072998046875, -0.00791168212890625, 0.00644683837890625, 0.004627227783203125, 0.01453399658203125, -0.01197052001953125, 0.0226593017578125, 0.0140838623046875, 0.005764007568359375, 0.01251983642578125, -0.01346588134765625, -0.032928466796875, -0.037872314453125, -0.0011034011840820312, 0.0171051025390625, -0.01255035400390625, 0.01319122314453125, 0.005420684814453125, 0.006397247314453125, -0.01412200927734375, -0.031524658203125, -0.007701873779296875, -0.006305694580078125, -0.01314544677734375, 0.0019741058349609375, -0.0119476318359375, -0.004398345947265625, 0.0035343170166015625, 0.0004200935363769531, 0.0176239013671875, -0.0226898193359375, 0.01087188720703125, -0.006931304931640625, -0.0005612373352050781, 0.0149078369140625, -0.0111083984375, 0.01317596435546875, 0.018096923828125, -0.00443267822265625, 0.00984954833984375, 0.017791748046875, 0.01555633544921875, -0.00850677490234375, 0.006877899169921875, 0.00536346435546875, 0.0049591064453125, -0.016448974609375, 0.01514434814453125, -0.007144927978515625, -0.0232696533203125, 0.0193328857421875, -0.001338958740234375, -0.004383087158203125, -0.0289154052734375, 0.0262908935546875, 0.025146484375, 0.0210418701171875, -0.035980224609375, 0.0034503936767578125, -0.017974853515625, -0.0048828125, -0.0120086669921875, 0.0019016265869140625, 0.00887298583984375, 0.018280029296875, 0.0018568038940429688, 0.0184173583984375, -0.01006317138671875, 0.0054473876953125, -0.0147857666015625, -0.005596160888671875, 0.00612640380859375, -0.003086090087890625, 0.00907135009765625, 0.00870513916015625, 0.0038013458251953125, -0.0021076202392578125, -0.024383544921875, -0.00917816162109375, -0.0096588134765625, -0.0204010009765625, -0.01203155517578125, 0.004222869873046875, -0.006687164306640625, -0.003925323486328125, 0.004886627197265625, 0.016754150390625, 0.008453369140625, 0.0075225830078125, -0.002685546875, -0.0164947509765625, -0.00266265869140625, 0.025604248046875, 0.0012636184692382812, -0.01088714599609375, 0.01325225830078125, 0.01137542724609375, -0.0038356781005859375, 0.0020732879638671875, 0.004718780517578125, -0.0168304443359375, -0.0007805824279785156, -0.0196075439453125, 0.003742218017578125, -0.020172119140625, -0.0009441375732421875, 0.014892578125, -0.0152740478515625, -0.03912353515625, -0.01666259765625, 0.001064300537109375, 0.0035877227783203125, -0.02423095703125, -0.01654052734375, -0.0139617919921875, -0.0010232925415039062, -0.01055145263671875, 0.007366180419921875, -0.01039886474609375, -0.01401519775390625, -0.020416259765625, -0.004779815673828125, -0.01399993896484375, 0.010223388671875, 0.01812744140625, -0.009033203125, 0.023223876953125, 0.01212310791015625, -0.0038776397705078125, 0.002788543701171875, -0.031585693359375, 0.003513336181640625, 0.017608642578125, -0.0002065896987915039, 0.007965087890625, 0.00986480712890625, -0.00408172607421875, -0.01212310791015625, -0.00836944580078125, 0.00855255126953125, 0.02264404296875, -0.0032672882080078125, 0.0235137939453125, -0.0093231201171875, -0.006053924560546875, -0.003589630126953125, 0.0254364013671875, 0.00261688232421875, -0.0024585723876953125, -0.01108551025390625, -0.01282501220703125, 0.0083770751953125, -0.01531219482421875, 0.009490966796875, 0.0028476715087890625, 0.0051422119140625, 0.0134124755859375, 0.0007300376892089844, -0.0013780593872070312, -0.00469207763671875, 0.0048828125, 0.0010776519775390625, 0.01229095458984375, 0.020477294921875, -0.01004791259765625, 0.004756927490234375, 0.006046295166015625, -0.0217437744140625, 0.014801025390625, 0.01029205322265625, 0.0276336669921875, 0.035552978515625, -0.02105712890625, -0.045806884765625, -0.026336669921875, -0.01049041748046875, -0.1273193359375, 0.0203399658203125, 0.0164031982421875, 0.0007534027099609375, 0.0139923095703125, 0.00911712646484375, 0.0088348388671875, 0.00246429443359375, 0.004665374755859375, 0.0185699462890625, -0.0030498504638671875, -0.017425537109375, 0.007450103759765625, 0.004261016845703125, -0.00559234619140625, 0.00910186767578125, -0.0190277099609375, 0.0098724365234375, -0.026153564453125, -0.01509857177734375, -0.0214080810546875, 0.006633758544921875, -0.01427459716796875, 0.004978179931640625, -0.004604339599609375, 0.00284576416015625, -0.016448974609375, -0.0047760009765625, 0.0203399658203125, 0.0027637481689453125, 0.0019445419311523438, -0.0254058837890625, -0.01195526123046875, -0.00501251220703125, 0.00795745849609375, 0.005496978759765625, -0.01111602783203125, 0.0027103424072265625, -0.0206756591796875, -0.009765625, -0.0066986083984375, -0.0012598037719726562, -0.0092315673828125, -0.00379180908203125, -0.001682281494140625, 0.007709503173828125, 0.00690460205078125, -0.0020084381103515625, -0.0009870529174804688, -0.004131317138671875, -0.0139923095703125, 0.0160675048828125, -0.003448486328125, 0.0191802978515625, -0.02081298828125, 0.0089569091796875, 0.01129913330078125, 0.0193023681640625, -0.006038665771484375, -0.03778076171875, 0.0048828125, -0.0089569091796875, 0.00010651350021362305, -0.01256561279296875, 0.002033233642578125, -0.00011289119720458984, 0.00997161865234375, 0.0095367431640625, 0.0061798095703125, -0.012908935546875, 0.0016050338745117188, -0.0056915283203125, -0.0201568603515625, 0.0102691650390625, -0.0144805908203125, -0.0063018798828125, -0.006946563720703125, -0.00595855712890625, 0.00092315673828125, 0.00800323486328125, 0.02154541015625, -0.048309326171875, 0.0106201171875, -0.0026302337646484375, -0.00994110107421875, 0.0116729736328125, 0.0108489990234375, 0.0024356842041015625, -0.0330810546875, -0.011505126953125, -0.02557373046875, -0.0169219970703125, -0.01335906982421875, -0.0015268325805664062, -0.01904296875, -0.002948760986328125, -0.02960205078125, 0.01082611083984375, -0.019989013671875, 0.0180511474609375, 0.0011110305786132812, -0.0030879974365234375, -0.01026153564453125, -0.00623321533203125, 0.006946563720703125, 0.00531768798828125, -0.0033092498779296875, -0.02044677734375, -0.027374267578125, 0.002674102783203125, 0.0300140380859375, 0.043487548828125, -0.033782958984375, -0.007793426513671875, 0.007396697998046875, 0.0016050338745117188, 0.002925872802734375, 0.0031871795654296875, -0.0058135986328125, -0.02593994140625, 0.00466156005859375, 0.01233673095703125, -0.0018072128295898438, 0.003063201904296875, 0.00399017333984375, -0.0077972412109375, -0.01079559326171875, -0.000946044921875, -0.0009169578552246094, -0.003108978271484375, 0.003063201904296875, 0.0001863241195678711, -0.01171875, -0.004512786865234375, 0.006351470947265625, 0.01593017578125, -0.019195556640625, -0.0073394775390625, 0.0223541259765625, 0.0019016265869140625, -0.0200347900390625, -0.0029506683349609375, -0.0157012939453125, 0.0173797607421875, -0.007602691650390625, 0.0244598388671875, -0.00225830078125, -0.028289794921875, -0.0002942085266113281, -0.0182342529296875, -0.0150299072265625, -0.00484466552734375, 0.0279388427734375, -0.041290283203125, -0.008270263671875, -0.00014579296112060547, 0.010284423828125, 0.009429931640625, 0.0408935546875, 0.00392913818359375, 0.0121307373046875, -0.0084075927734375, 0.00725555419921875, -0.00010967254638671875, -0.0012006759643554688, -0.016632080078125, -0.0094757080078125, -0.0042724609375, 0.0203704833984375, 0.01297760009765625, -0.0014867782592773438, 0.0018167495727539062, -0.0030422210693359375, 0.01557159423828125, 0.0239715576171875, -0.0088958740234375, -0.0005631446838378906, 0.01334381103515625, 0.0018148422241210938, -0.0054931640625, -0.008209228515625, -0.01201629638671875, 0.005725860595703125, -0.01436614990234375, 0.0069580078125, 0.028289794921875, 0.00521087646484375, 0.014251708984375, 0.00910186767578125, 0.008087158203125, -0.028350830078125, 0.00896453857421875, 0.01296234130859375, 0.0082855224609375, 0.002643585205078125, 0.0236968994140625, -0.0033283233642578125, 0.0215911865234375, 0.0212554931640625, 0.0085906982421875, -0.00859832763671875, -0.0181427001953125, 0.00238037109375, -0.0009870529174804688, 0.01306915283203125, -0.00555419921875, 0.0099639892578125, 0.021148681640625, 0.00934600830078125, 0.0006537437438964844, -0.015960693359375, -0.0027561187744140625, 0.0221099853515625, -0.004497528076171875, -0.051422119140625, 0.002838134765625, -0.0217437744140625, 0.007015228271484375, 0.02587890625, 0.0133056640625, 0.01617431640625, -0.0030536651611328125, 0.006771087646484375, 0.0036220550537109375, 0.013702392578125, -0.004833221435546875, 0.0298309326171875, 0.023895263671875, -0.00083160400390625, 0.0379638671875, 0.03875732421875, 0.0167999267578125, -0.0132598876953125, -0.0084991455078125, 0.0157012939453125, 0.0169219970703125, 0.0011348724365234375, 0.00315093994140625, -0.0049285888671875, -0.0038623809814453125, -0.00922393798828125, -0.0171051025390625, -0.0038928985595703125, -0.0207366943359375, -0.0227813720703125, -0.01502227783203125, -0.00884246826171875, -0.003841400146484375, 0.008270263671875, 0.02215576171875, -0.006603240966796875, -0.0016717910766601562, 0.0034008026123046875, -0.00930023193359375, 0.002620697021484375, 0.0009927749633789062, 0.0111083984375, 0.0012407302856445312, -0.0005164146423339844, 0.011749267578125, -0.00745391845703125, 0.0053253173828125, 0.026123046875, 0.033477783203125, 0.00019299983978271484, -0.0094757080078125, 0.103271484375, -0.01654052734375, 0.019439697265625, 0.006275177001953125, 0.016387939453125, -0.01181793212890625, -0.0024013519287109375, -0.0046234130859375, 0.01450347900390625, -0.00957489013671875, -0.0103302001953125, 0.031585693359375, -0.00981903076171875, -0.0038967132568359375, -0.03472900390625, 8.511543273925781e-05, 0.026641845703125, 0.0020351409912109375, -0.0135040283203125, -0.007617950439453125, 0.0008187294006347656, 0.025848388671875, -0.0081024169921875, 0.0009551048278808594, 0.003734588623046875, -0.0019159317016601562, -0.010284423828125, 0.02081298828125, 0.006389617919921875, 0.007236480712890625, 0.0138397216796875, 0.011016845703125, 0.036590576171875, -0.0157470703125, 0.01050567626953125, -0.02447509765625, 0.007160186767578125, -8.416175842285156e-05, -0.0015096664428710938, 0.0005221366882324219, 0.00262451171875, 0.033172607421875, -0.0029354095458984375, -0.00812530517578125, 0.012359619140625, 0.007122039794921875, -0.0194549560546875, -0.02191162109375, -0.0010271072387695312, 0.026519775390625, -0.0009665489196777344, -0.0072021484375, 0.01824951171875, 0.0092620849609375, 0.0002300739288330078, -0.01366424560546875, -0.00867462158203125, -0.0198211669921875, -0.01351165771484375, -0.0278167724609375, -0.0167083740234375, 0.0013456344604492188, -8.416175842285156e-05, -0.00853729248046875, 0.004238128662109375, 0.035614013671875, -0.0268402099609375, -0.0003325939178466797, -0.01366424560546875, 0.0097503662109375, -0.0177764892578125, -0.00849151611328125, -0.0157012939453125, 0.014312744140625, -0.0233306884765625, 0.0011243820190429688, -0.043365478515625, -0.0152740478515625, 0.01546478271484375, -0.013336181640625, 0.00719451904296875, 0.0160980224609375, -0.0031986236572265625, -0.019989013671875, -0.00531005859375, 0.0151824951171875, -0.0030040740966796875, -0.0087890625, -0.0036144256591796875, -0.018585205078125, -0.014434814453125, -0.0250396728515625, -0.003265380859375, -0.007091522216796875, 0.01271820068359375, -0.003887176513671875, -0.012054443359375, -0.0186614990234375, 0.01123809814453125, 0.0128936767578125, -0.0015163421630859375, -0.004543304443359375, 0.0106048583984375, -0.01800537109375, 0.009918212890625, -0.022064208984375, -0.01166534423828125, 0.003925323486328125, -0.0139007568359375, 0.0006861686706542969, 0.01027679443359375, 0.0106964111328125, -0.0180816650390625, -0.004077911376953125, -0.0028247833251953125, -0.003879547119140625, 0.01035308837890625, 0.004611968994140625, 0.00262451171875, -0.012237548828125, 0.00791168212890625, -0.0005249977111816406, 0.0163726806640625, 0.0284271240234375, -0.00356292724609375, 0.025238037109375, 0.01898193359375, -0.017181396484375, -0.0257110595703125, -0.00373077392578125, -0.01371002197265625, -0.0127410888671875, -0.0237579345703125, 0.006847381591796875, -0.004795074462890625, -0.0019626617431640625, 0.0007495880126953125, 0.0246429443359375, -0.004344940185546875, -0.00617218017578125, -0.0066070556640625, 0.019927978515625, -0.0063323974609375, -0.0173492431640625, 0.00653076171875, 0.004413604736328125, 0.0151824951171875, -0.01065826416015625, 0.0003685951232910156, -0.0098114013671875, 0.011138916015625, 0.0008478164672851562, -0.0051116943359375, -0.0101776123046875, 0.00811767578125, -0.0007810592651367188, -0.026397705078125, 0.000202178955078125, -0.0023174285888671875, -0.0006074905395507812, -0.0096282958984375, -0.0005168914794921875, 0.01229095458984375, -0.00609588623046875, -0.0004086494445800781, 0.0026645660400390625, 0.0225372314453125, -0.0047760009765625, -0.01317596435546875, 0.0156707763671875, 0.00046563148498535156, 0.00023162364959716797, 0.004566192626953125, 0.0009717941284179688, -0.023345947265625, 0.0264129638671875, 0.006366729736328125, 0.012298583984375, 0.00146484375, 0.03253173828125, 0.0214385986328125, -0.031341552734375, 0.0009365081787109375, 0.0207061767578125, 0.021759033203125, 0.012786865234375, 0.01171875, 0.005855560302734375, 0.0164337158203125, -0.01088714599609375, -0.012481689453125, 0.007350921630859375, 0.0015621185302734375, 0.02496337890625, 0.0014238357543945312, 0.0029697418212890625, 0.03009033203125, 0.0092620849609375, 0.017822265625, 0.027557373046875, 0.00582122802734375, 0.031768798828125, -0.0009784698486328125, 0.00403594970703125, 0.0082244873046875, 0.0102691650390625, -0.0099334716796875, 0.01654052734375, 0.01062774658203125, 0.0107879638671875, -0.005016326904296875, -0.0028553009033203125, 0.00572967529296875, -0.013763427734375, 0.012359619140625, 0.0204010009765625, 0.01515960693359375, 0.01117706298828125, 0.03961181640625, 0.01290130615234375, 0.0208892822265625, 0.0018062591552734375, 0.006725311279296875, 0.0006265640258789062, -0.00849151611328125, 0.0016307830810546875, 0.011810302734375, -0.006679534912109375, 0.01496124267578125, -0.0096435546875, -0.0084991455078125, 0.0066680908203125, 0.004291534423828125, -0.0024776458740234375, 0.0107421875, -0.045745849609375, 0.0024471282958984375, -0.01904296875, -0.01128387451171875, 0.0066986083984375, 0.001251220703125, 0.00865936279296875, 0.0283203125, -0.0031185150146484375, 0.006954193115234375, 0.0090179443359375, -0.0003647804260253906, -0.01511383056640625, -0.01438140869140625, -0.005138397216796875, -0.007617950439453125, -0.006259918212890625, 0.0160675048828125, 0.01525115966796875, 0.0014085769653320312, -0.00342559814453125, -0.0045928955078125, -0.006618499755859375, -0.012054443359375, 0.013336181640625, -0.0308380126953125, -0.01277923583984375, 0.0187225341796875, 0.03314208984375, 0.01629638671875, -0.004673004150390625, 0.00704193115234375, -0.01424407958984375, 0.0117340087890625, -0.00803375244140625, 0.007328033447265625, -0.00447845458984375, 0.01033782958984375, -0.00519561767578125, -0.002513885498046875, 0.0037059783935546875, -0.00910186767578125, -0.003871917724609375, 0.01959228515625, -0.01097869873046875, -0.010040283203125, 0.03302001953125, 0.01611328125, -0.005619049072265625, 0.028228759765625, -0.005153656005859375, -0.0196075439453125, -0.006084442138671875, 0.0190277099609375, -0.01702880859375, -0.003673553466796875, -0.0087738037109375, -0.01593017578125, -0.0013093948364257812, 0.0156707763671875, 0.006801605224609375, 0.006748199462890625, -0.00434112548828125, -0.027374267578125, -0.0167694091796875, 0.0026111602783203125, -0.004222869873046875, 0.003101348876953125, 0.021575927734375, -0.0240020751953125, 0.006168365478515625, 0.004314422607421875, -0.012481689453125, 0.00569915771484375, 0.014556884765625, 0.0124359130859375, -0.00569915771484375, 0.00676727294921875, 0.001628875732421875, -0.005359649658203125, 0.0203094482421875, -0.0011510848999023438, 0.006572723388671875, 0.0083160400390625, -0.0134735107421875, 0.0014257431030273438, 0.0240325927734375, 0.010009765625, 0.0174713134765625, 0.01404571533203125, 0.0421142578125, -0.0150909423828125, -0.0012493133544921875, 0.020355224609375, 0.00980377197265625, 0.011138916015625, 0.01479339599609375, -0.0017271041870117188, -0.004802703857421875, -0.0006809234619140625, -0.0102386474609375, -0.0152740478515625, -0.00803375244140625, -0.031158447265625, 0.0060577392578125, -0.0479736328125, -0.003719329833984375, 0.0036945343017578125, 0.001438140869140625, -0.0255889892578125, -0.003631591796875, 0.0103912353515625, -0.026519775390625, 0.0070037841796875, 0.005184173583984375, 0.004039764404296875, 0.01342010498046875, 0.007770538330078125, -0.00368499755859375, -0.00035071372985839844, -0.0270843505859375, 0.0143890380859375, -0.031280517578125, 0.00429534912109375, -0.006938934326171875, -0.01335906982421875, -0.00374603271484375, -0.01381683349609375, -0.0137939453125, -0.019775390625, -0.00196075439453125, -0.0235137939453125, -0.0295257568359375, -0.00022923946380615234, -0.00801849365234375, -0.0190887451171875, -0.00433349609375, 0.02691650390625, -0.0109710693359375, 0.0013675689697265625, 0.016754150390625, -0.00899505615234375, -0.0162353515625, -0.00732421875, -0.0175933837890625, 0.0131378173828125, 0.01502227783203125, 0.0139312744140625, 0.0205078125, 0.01543426513671875, -0.005832672119140625, -0.01049041748046875, -0.004108428955078125, 0.010101318359375, -0.0133514404296875, 0.004039764404296875, 0.00524139404296875, -0.026519775390625, 0.0023670196533203125, 0.0143280029296875, -0.0219879150390625, 0.004058837890625, -0.0116729736328125, 0.014801025390625, -0.0012722015380859375, 0.0253143310546875, 0.038421630859375, -0.0006222724914550781, -0.0009326934814453125, -0.0119476318359375, -0.005428314208984375, -0.01187896728515625, -0.01617431640625, -0.044586181640625, 0.0013866424560546875, 0.0002970695495605469, -0.00817108154296875, -0.011505126953125, -0.01009368896484375, 0.006168365478515625, 0.0012006759643554688, 0.005046844482421875, 0.002368927001953125, -0.00507354736328125, 0.005954742431640625, -0.0022640228271484375, -0.006786346435546875, 0.00789642333984375, -0.00522613525390625, -0.01149749755859375, 0.0181732177734375, 0.005054473876953125, -0.0030727386474609375, -0.0328369140625, 0.037109375, 0.0164947509765625, -0.011688232421875, -0.0210418701171875, -0.0202178955078125, -0.00030684471130371094, -0.000980377197265625, -0.0012912750244140625, 0.0190887451171875, -0.0129547119140625, -0.0111083984375, 0.00017201900482177734, -0.00365447998046875, -0.0088348388671875, 0.0243682861328125, -0.00914764404296875, 0.0250091552734375, -0.0018415451049804688, 0.0113677978515625, -0.0060882568359375, 0.01520538330078125, 0.0128021240234375, 0.01096343994140625, -0.017791748046875, -0.01629638671875, 0.00971221923828125, 0.0181121826171875, -0.00661468505859375, 0.00278472900390625, 0.020111083984375, 0.0203704833984375, -0.0225982666015625, -0.01023101806640625, 0.00901031494140625, 0.00025153160095214844, 0.0199432373046875, -0.003658294677734375, 0.0023899078369140625, -0.0019855499267578125, -0.01318359375, 0.01360321044921875, -0.01139068603515625, 0.041656494140625, 0.007450103759765625, 0.0185546875, -0.022613525390625, -0.00664520263671875, -0.021728515625, 0.014312744140625, 0.006137847900390625, -0.0141143798828125, -0.009185791015625, -0.002132415771484375, -0.007129669189453125, 0.013427734375, -0.01390838623046875, -0.0002799034118652344, -0.0120849609375, 0.017059326171875, -0.0164794921875, 0.031982421875, -0.0017404556274414062, -0.030853271484375, -0.0017719268798828125, 0.01511383056640625, -0.00319671630859375, 0.0021572113037109375, -0.006412506103515625, -0.00769805908203125, -0.0135498046875, -0.01229095458984375, 0.01456451416015625, 0.0106353759765625, -0.01157379150390625, 0.0123748779296875, 0.024169921875, 0.01088714599609375, -0.00737762451171875, -0.0254364013671875, 0.03546142578125, 0.0135498046875, 0.009735107421875, 0.00447845458984375, -0.0015125274658203125, 0.0066375732421875, 0.01067352294921875, 0.0149993896484375, -0.0306243896484375, 0.0036716461181640625, -0.004535675048828125, -0.0021152496337890625, -0.0036754608154296875, -0.002735137939453125, 0.0012712478637695312, -0.0040740966796875, -0.0114898681640625, 0.015899658203125, 0.004970550537109375, -0.0013608932495117188, -0.0052642822265625, -0.0193634033203125, 0.0199127197265625, 0.00678253173828125, 0.02032470703125, -0.011016845703125, 0.01934814453125, -0.004970550537109375, -0.00733184814453125, -0.0121917724609375, -0.0171966552734375, 0.04766845703125, -0.000762939453125, -0.0142059326171875, 0.0197296142578125, -0.0012598037719726562, -0.0172576904296875, 0.015106201171875, 0.01493072509765625, 0.0064544677734375, -0.0093994140625, 0.00949859619140625, -0.0003542900085449219, 0.01971435546875, -0.0197296142578125, -0.00467681884765625, 0.0023174285888671875, -0.0035648345947265625, 0.004177093505859375, -0.00408935546875, -0.000484466552734375, -0.0029773712158203125, 0.0017757415771484375, -0.02362060546875, 0.0251922607421875, -0.004444122314453125, 0.01332855224609375, 0.00494384765625, 0.007778167724609375, -0.006923675537109375, 0.005107879638671875, 0.008544921875, 0.016754150390625, -0.00759124755859375, -0.0001842975616455078, 0.016754150390625, -0.00710296630859375, 0.014129638671875, -0.02679443359375, 0.0106201171875, -0.01079559326171875, 0.007167816162109375, 0.01461029052734375, 0.01248931884765625, 0.00865936279296875, 0.0125885009765625, 0.015594482421875, 0.012847900390625, 0.018524169921875, 0.007602691650390625, -0.003803253173828125, -0.01206207275390625, 0.00904083251953125, -0.07147216796875, -0.0160064697265625, -0.002941131591796875, -0.01995849609375, -0.0462646484375, -0.00028228759765625, 0.0046844482421875, -0.0018529891967773438, 0.0017843246459960938, -0.004695892333984375, -0.0166778564453125, -0.0186309814453125, 0.030364990234375, 0.00934600830078125, 0.0007157325744628906, 0.00257110595703125, -0.01338958740234375, -0.008514404296875, -0.0015516281127929688, 0.0006775856018066406, -0.005573272705078125, 0.0009202957153320312, -0.0232696533203125, -0.038787841796875, -0.006229400634765625, 0.00032401084899902344, -0.0190277099609375, -0.0005254745483398438, 0.00539398193359375, -0.0030422210693359375, -0.002330780029296875, -0.0180511474609375, 0.0101776123046875, -0.0172576904296875, -0.005062103271484375, -0.00760650634765625, -0.00730133056640625, -0.0257720947265625, -0.01436614990234375, -0.01073455810546875, -0.012969970703125, 0.0057220458984375, -0.003864288330078125, -0.003810882568359375, -0.0002665519714355469, -0.0064544677734375, 0.015472412109375, 0.0093841552734375, 0.004428863525390625, -0.01020050048828125, -0.0264129638671875, -0.012481689453125, 0.0111083984375, -0.018524169921875, 0.019256591796875, 0.0101470947265625, -0.0132293701171875, -0.00897979736328125, 0.0098419189453125, -0.028167724609375, 0.015960693359375, -0.02752685546875, -0.0045166015625, 0.0007719993591308594, 0.0020122528076171875, -0.01229095458984375, 0.0224151611328125, 0.00830841064453125, -0.004062652587890625, 0.0088348388671875, -0.025299072265625, -0.0238494873046875, 0.00502777099609375, 0.0026683807373046875, 0.0264739990234375, -0.011077880859375, 0.0012521743774414062, -0.0197601318359375, 0.01412200927734375, 0.01242828369140625, -0.0295257568359375, -0.01122283935546875, -0.00833892822265625, 0.00876617431640625, -0.006221771240234375, 0.012908935546875, -0.01451873779296875, -0.02972412109375, -0.010711669921875, 0.0223236083984375, 0.006374359130859375, -0.0101776123046875, 0.0107879638671875, 0.00597381591796875, -0.006748199462890625, 0.0135955810546875, -0.0113067626953125, -0.003780364990234375, 0.01520538330078125, -0.0020847320556640625, -0.0013828277587890625, 0.007328033447265625, -0.02252197265625, 0.0108184814453125, -0.01296234130859375, 0.0035400390625, -0.017974853515625, -0.00312042236328125, -0.0025768280029296875, -0.0091400146484375, 0.00260162353515625, 0.003307342529296875, 0.01415252685546875, 0.0034732818603515625, -0.00327301025390625, 0.048248291015625, 0.0140838623046875, 0.007335662841796875, 0.00612640380859375, 0.010162353515625, 0.0195159912109375, 0.0014200210571289062, -0.01195526123046875, -0.0177764892578125, 0.00850677490234375, 0.017333984375, -0.0122833251953125, 0.004512786865234375, 0.018341064453125, -0.0036754608154296875, -0.01468658447265625, -0.00910186767578125, 0.015411376953125, 0.0116729736328125, -0.0069732666015625, 0.01348114013671875, -0.006420135498046875, -0.01824951171875, 0.0222320556640625, -0.0016317367553710938, -0.0012826919555664062, 0.020721435546875, -0.01018524169921875, -0.00818634033203125, -0.000400543212890625, 0.0015153884887695312, 0.0076904296875, -0.00800323486328125, -0.008209228515625, -0.006160736083984375, 0.0165557861328125, -0.022857666015625, -0.0194854736328125, 0.031463623046875, 0.007274627685546875, 0.007144927978515625, 0.0003123283386230469, -0.02099609375, 0.013427734375, -0.01012420654296875, 0.0106964111328125, 0.0095977783203125, -0.0004551410675048828, 0.00914764404296875, -0.0174407958984375, 0.0152740478515625, 0.016815185546875, -0.004955291748046875, -0.0006923675537109375, 0.00649261474609375, -0.020172119140625, -0.040313720703125, -0.0078277587890625, 0.00746917724609375, -0.01523590087890625, -0.0022487640380859375, -0.010345458984375, 0.0225677490234375, -0.0234527587890625, 0.01113128662109375, -0.00498199462890625, 0.01218414306640625, 0.0254364013671875, -0.001331329345703125, -0.0171966552734375, -0.0011997222900390625, -0.00620269775390625, 0.005199432373046875, -0.0066070556640625, 0.0126953125, 0.0128173828125, 0.0185546875, -0.0147857666015625, -0.00879669189453125, 0.0078887939453125, -0.0172271728515625, 0.00443267822265625, -0.026092529296875, -0.0030155181884765625, 0.00665283203125, 0.01358795166015625, 0.004199981689453125, -0.0115203857421875, -0.00986480712890625, 0.0160980224609375, 0.01456451416015625, -0.015716552734375, -0.01145172119140625, 0.004421234130859375, 0.003055572509765625, -0.0101776123046875, 0.00762176513671875, -0.01251983642578125, -0.0097503662109375, 0.00482177734375, -0.00891876220703125, 0.00937652587890625, -0.004207611083984375, 0.0010499954223632812, 0.01299285888671875, 0.01390838623046875, -0.01666259765625, 0.0250091552734375, -0.003711700439453125, -0.0262298583984375, 0.003833770751953125, -0.0011320114135742188, -0.0006346702575683594, 0.01062774658203125, -0.03289794921875, 0.0024089813232421875, 0.03375244140625, -0.0072479248046875, 0.001903533935546875, 0.0024127960205078125, -0.0223541259765625, 0.026763916015625, -0.00841522216796875, -0.01038360595703125, -0.005023956298828125, 0.006008148193359375, 0.0041046142578125, 0.00977325439453125, 0.0008196830749511719, -0.005077362060546875, 0.004009246826171875, 0.00864410400390625, 0.005481719970703125, 0.0079803466796875, -0.01666259765625, -0.0111846923828125, 0.0166473388671875, 0.017913818359375, -0.004032135009765625, -0.007965087890625, 0.006572723388671875, -0.013702392578125, -0.00012230873107910156, -0.014190673828125, 0.0198516845703125, -0.02166748046875, 0.0062103271484375, -0.004207611083984375, 0.005352020263671875, -0.00395965576171875, -0.004772186279296875, 0.004184722900390625, -0.01221466064453125, 0.00026607513427734375, 0.002685546875, -0.005161285400390625, -0.0179901123046875, -0.034820556640625, -0.00797271728515625, -0.0085601806640625, -0.00548553466796875, 0.01131439208984375, -0.0008664131164550781, 0.0205535888671875, -0.01617431640625, -0.00778961181640625, 0.00926971435546875, -0.0056915283203125, -0.0027713775634765625, 0.00225830078125, -0.023529052734375, -0.006832122802734375, 0.006336212158203125, -0.0020008087158203125, 0.007678985595703125, 0.0330810546875, -0.01171875, -0.0772705078125, -0.0032634735107421875, 0.0013017654418945312, -0.01232147216796875, 0.028900146484375, 0.0029735565185546875, -0.006229400634765625, 0.0011072158813476562, 0.0031795501708984375, -0.0269927978515625, -0.00849151611328125, 0.0005383491516113281, 0.00420379638671875, -0.0208282470703125, 0.0291290283203125, 0.0018224716186523438, -0.0021953582763671875, 0.0106658935546875, -0.00634002685546875, 0.032440185546875, 0.0199737548828125, -0.016998291015625, 0.033111572265625, -0.00960540771484375, -0.01276397705078125, -0.01995849609375, -0.002811431884765625, -0.0038013458251953125, -0.01157379150390625, 0.0023250579833984375, -0.0192108154296875, 0.0060882568359375, -0.038116455078125, -0.005542755126953125, 0.012420654296875, 0.006206512451171875, -0.010467529296875, 0.0188446044921875, 0.00511932373046875, -0.0005106925964355469, -0.0131683349609375, 0.0067291259765625, 0.022613525390625, -0.01305389404296875, -0.0091552734375, -0.0005259513854980469, -0.021087646484375, 0.0271759033203125, -0.005126953125, -0.00325775146484375, 0.01457977294921875, -0.0194854736328125, 0.0205078125, -0.01476287841796875, 0.0129852294921875, -0.01126861572265625, -0.01971435546875, 0.00022327899932861328, -0.0182647705078125, 0.021148681640625, 0.0211029052734375, 0.01004791259765625, -0.0182952880859375, -0.0034580230712890625, 0.02410888671875, -0.01276397705078125, -0.02032470703125, 0.0096893310546875, -0.01200103759765625, 0.00714111328125, 0.012115478515625, -0.0015859603881835938, -0.0134735107421875, -0.0015916824340820312, -0.0034847259521484375, -0.0178680419921875, 0.00585174560546875, 0.01251983642578125, 0.0171356201171875, 0.00963592529296875, -0.0032558441162109375, -0.024810791015625, 0.00792694091796875, -0.011871337890625, 0.004940032958984375, 0.00681304931640625, -0.007175445556640625, -0.0074005126953125, 0.0157318115234375, 0.0008444786071777344, -0.02056884765625, 0.002895355224609375, -0.007793426513671875, 0.0029964447021484375, 0.01910400390625, 0.0256195068359375, 0.008026123046875, -0.0117645263671875, 0.007472991943359375, 0.002590179443359375, -0.0111236572265625, 0.0019273757934570312, -0.0011310577392578125, 0.01271820068359375, 0.015594482421875, -0.006435394287109375, -0.012847900390625, -0.00786590576171875, 0.025909423828125, -0.0017766952514648438, -0.00710296630859375, -0.011383056640625, -0.0662841796875, -0.0011157989501953125, 0.004589080810546875, 0.01110076904296875, 0.025726318359375, -0.00826263427734375, 0.000484466552734375, 0.01226043701171875, 0.00928497314453125, 0.005374908447265625, 0.0030193328857421875, -0.005596160888671875, -0.0013513565063476562, -0.0019044876098632812, -0.0061187744140625, 0.0169525146484375, 0.0014667510986328125, 0.0080413818359375, -0.009765625, 0.0028438568115234375, 0.004116058349609375, 0.0018796920776367188, 0.0148468017578125, 0.02178955078125, 0.0171966552734375, -0.1917724609375, -0.0168609619140625, -0.01026153564453125, 0.0042266845703125, -0.00807952880859375, 0.021209716796875, 0.0116119384765625, -0.0013065338134765625, -0.014251708984375, 0.01363372802734375, -0.01122283935546875, 0.021453857421875, -0.041717529296875, 0.0211944580078125, 0.0112762451171875, -0.0031108856201171875, -0.01812744140625, 0.00714111328125, 0.0285797119140625, -0.01522064208984375, 0.0266571044921875, 0.00652313232421875, 0.01837158203125, 0.00429534912109375, 0.006839752197265625, -0.01885986328125, -0.0149688720703125, 0.0237274169921875, 0.0007801055908203125, -0.0104217529296875, -0.0162200927734375, -3.886222839355469e-05, 0.0054779052734375, 0.0019073486328125, 0.004459381103515625, -0.0195159912109375, -0.006252288818359375, -0.0253753662109375, 0.023162841796875, 0.0016269683837890625, 0.010498046875, -0.005901336669921875, -0.006496429443359375, -0.004024505615234375, -0.0262298583984375, -0.00045752525329589844, 0.001178741455078125, -0.0117340087890625, 0.013641357421875, -0.0077056884765625, -0.005893707275390625, 0.015655517578125, -0.0009326934814453125, -0.0283050537109375, -0.004856109619140625, 0.0013065338134765625, -0.0294647216796875, -0.00865936279296875, -0.0027828216552734375, 0.0026645660400390625, 0.006275177001953125, -0.0092620849609375, 0.00212860107421875, -0.0169525146484375, 0.00379180908203125, -0.00820159912109375, -0.0047454833984375, -0.0257110595703125, 0.006320953369140625, 0.0155792236328125, 0.003387451171875, -0.003795623779296875, 0.00502777099609375, 0.00023508071899414062, 0.00310516357421875, -0.005519866943359375, 0.001506805419921875, -0.01213836669921875, -0.036285400390625, 0.00780487060546875, -0.0255889892578125, -0.0184478759765625, 0.006229400634765625, -0.004444122314453125, 0.01374053955078125, -0.01715087890625, -0.0003387928009033203, 0.00811767578125, 0.00971221923828125, 0.00853729248046875, -0.0011262893676757812, -0.0125274658203125, -0.0014190673828125, -0.0008707046508789062, 0.0090484619140625, 0.00439453125, 0.0050201416015625, -0.01959228515625, 0.0004131793975830078, 0.0019702911376953125, 0.009490966796875, -0.01271820068359375, -0.0012636184692382812, -0.01264190673828125, -0.0051116943359375, 0.039886474609375, -0.006725311279296875, -0.0228118896484375, -0.0355224609375, -0.00400543212890625, -0.0173187255859375, 0.002655029296875, -0.018585205078125, 0.01227569580078125, 0.00494384765625, 0.0012350082397460938, -0.0027866363525390625, -0.0178070068359375, 0.0073394775390625, -0.0313720703125, -0.011688232421875, -0.0205078125, -0.014251708984375, 0.00791168212890625, 0.04705810546875, -0.00913238525390625, -0.0097198486328125, -0.002269744873046875, 0.0023555755615234375, 0.00257110595703125, 0.045745849609375, -0.00878143310546875, -0.006061553955078125, 0.018310546875, 0.016754150390625, -0.00537109375, -0.00809478759765625, -0.06219482421875, 0.00868988037109375, -0.0153656005859375, 0.01922607421875, -0.002685546875, 0.03704833984375, -0.0068206787109375, -0.01483917236328125, 0.0202789306640625, -0.016693115234375, 0.00533294677734375, 0.02197265625, 0.0004067420959472656, -0.00472259521484375, 0.0090179443359375, -0.0169219970703125, -0.0025634765625, -0.0034770965576171875, -0.083984375, 0.003307342529296875, -0.0092620849609375, 0.0100555419921875, 0.0013103485107421875, 0.012481689453125, 0.00931549072265625, -0.01328277587890625, 0.004047393798828125, 0.01259613037109375, -0.01305389404296875, 0.0026607513427734375, -0.0059661865234375, 0.01094818115234375, -0.02972412109375, -0.004444122314453125, -0.0016918182373046875, -0.0176239013671875, 0.006664276123046875, -0.003452301025390625, 0.00992584228515625, -0.006076812744140625, 0.00489044189453125, -0.02301025390625, 0.004146575927734375, 0.002956390380859375, 0.00905609130859375, -0.004810333251953125, -0.0124359130859375, 0.01520538330078125, -0.00975799560546875, -0.005062103271484375, -0.00685882568359375, 0.0144500732421875, -0.005695343017578125, -0.0188140869140625, 0.01439666748046875, -0.0020084381103515625, 0.01238250732421875, -0.01515960693359375, 0.0263519287109375, -0.00817108154296875, -0.009490966796875, -0.0215606689453125, -0.0265350341796875, -0.0221405029296875, -0.01360321044921875, 0.0086669921875, -1.7821788787841797e-05, 0.026885986328125, 0.011566162109375, 0.00281524658203125, 0.0097808837890625, 0.0095367431640625, 0.01058197021484375, 0.00554656982421875, 0.002170562744140625, -0.0172882080078125, 0.0206146240234375, -0.0159149169921875, -0.026885986328125, -0.01258087158203125, 0.01338958740234375, 0.006481170654296875, 0.004108428955078125, -0.010986328125, 0.0014553070068359375, -0.0154266357421875, -0.0194854736328125, 0.009552001953125, -0.0207366943359375, -0.019683837890625, -0.00917816162109375, -0.0051422119140625, -0.0184173583984375, 0.00931549072265625, 0.018218994140625, -0.0005159378051757812, -3.343820571899414e-05, 0.01311492919921875, -0.0017986297607421875, 0.0185546875, 0.01276397705078125, 0.01175689697265625, 0.012237548828125, -0.0005049705505371094, 0.0124359130859375, 0.00682830810546875, 0.01910400390625, 0.013427734375, 0.00238800048828125, -0.0010690689086914062, -0.0005230903625488281, 0.0015268325805664062, -0.025909423828125, -0.004993438720703125, 0.0192413330078125, -0.00351715087890625, -0.0092620849609375, 0.0025234222412109375, -0.0022182464599609375, -0.01678466796875, 0.0244140625, -0.0191802978515625, -0.009124755859375, 0.01064300537109375, 0.0194854736328125, -0.013916015625, -0.0172882080078125, -0.00811767578125, 0.024200439453125, 0.009002685546875, 0.00146484375, 0.01401519775390625, -0.0059051513671875, -0.0134124755859375, 0.02978515625, -0.0244293212890625, 0.01090240478515625, 0.0015735626220703125, -0.0174713134765625, 0.0014448165893554688, -0.0105438232421875, 0.0016813278198242188, -0.004131317138671875, -0.0032405853271484375, 0.01107025146484375, -0.00411224365234375, -0.004932403564453125, -0.0007576942443847656, 0.0041961669921875, -0.01503753662109375, -0.01776123046875, 0.007282257080078125, 0.0124053955078125, 0.00920867919921875, -0.01216888427734375, 0.00458526611328125, -0.01061248779296875, -0.0102996826171875, 0.001499176025390625, 0.002315521240234375, -0.0018463134765625, 0.013916015625, 0.04876708984375, 0.01190948486328125, -0.01200103759765625, -0.007411956787109375, -0.0055389404296875, -0.0185546875, -0.00876617431640625, 0.0010623931884765625, 0.02392578125, -0.00905609130859375, -0.007244110107421875, 0.0031375885009765625, 0.01006317138671875, -0.00911712646484375, -0.0020542144775390625, -0.028839111328125, 0.0020294189453125, -0.004619598388671875, 0.0005469322204589844, -0.0027065277099609375, -0.01560211181640625, -0.0112762451171875, 0.0167388916015625, 0.01123046875, 0.00955963134765625, 0.02392578125, -0.00469207763671875, 0.0069122314453125, -0.0106964111328125, 0.0102386474609375, 0.00012612342834472656, 0.01499176025390625, -0.0035076141357421875, -1.6510486602783203e-05, -0.0251312255859375, 0.018646240234375, 0.01320648193359375, 0.007556915283203125, -0.0095062255859375, 0.0175933837890625, 0.006465911865234375, 0.007266998291015625, 0.0154876708984375, -0.036468505859375, 0.0294342041015625, 0.011749267578125, 0.0014333724975585938, -0.018310546875, -0.00492095947265625, 0.01363372802734375, -0.00846099853515625, -0.003936767578125, 0.0178070068359375, -0.0020503997802734375, -0.01551055908203125, 0.00904083251953125, -0.0031795501708984375, -1.8417835235595703e-05, 0.01409149169921875, -0.024322509765625, -0.022705078125, 0.0155029296875, -0.005687713623046875, 0.00539398193359375, -0.004772186279296875, -0.004482269287109375, 0.00548553466796875, -0.0002510547637939453, -0.0229644775390625, 0.01132965087890625, 0.0169830322265625, 0.00771331787109375, 0.009033203125, -0.0141754150390625, 0.0270538330078125, 0.0009555816650390625, -0.0101470947265625, 0.013824462890625, -0.020904541015625, 0.00724029541015625, -0.0265960693359375, 0.00885772705078125, 0.0272369384765625, -0.0247039794921875, 0.0041046142578125, 0.006565093994140625, -0.007106781005859375, 0.00799560546875, -0.0165863037109375, 0.01160430908203125, -0.004039764404296875, 0.0082550048828125, -0.01436614990234375, -0.01229095458984375, -0.004146575927734375, 0.021087646484375, -0.007511138916015625, -0.0024242401123046875, 0.0089874267578125, -0.0276947021484375, 0.006069183349609375, -0.004680633544921875, 0.003787994384765625, 0.005199432373046875, 0.004451751708984375, 0.0007677078247070312, -0.006145477294921875, 0.00458526611328125, -0.00887298583984375, 0.004306793212890625, -0.02294921875, -0.06414794921875, -0.0264434814453125, 0.01399993896484375, 0.0139923095703125, -0.0130462646484375, 0.01045989990234375, -0.014251708984375, -0.00690460205078125, 0.0045623779296875, 0.0140228271484375, -0.034881591796875, -0.0009531974792480469, -0.01236724853515625, -0.006511688232421875, -0.00585174560546875, -0.003910064697265625, 0.005344390869140625, 0.003330230712890625, 0.0234375, 0.0193328857421875, 0.033538818359375, -0.007602691650390625, -0.00266265869140625, 0.00920867919921875, -0.0023059844970703125, -0.0245513916015625, 0.0202789306640625, 0.0117645263671875, 0.0018663406372070312, -0.042205810546875, -0.02239990234375, 0.010711669921875, 0.005001068115234375, 0.01702880859375, 0.0167388916015625, 0.004955291748046875, 0.0008950233459472656, 0.004138946533203125, 0.0166778564453125, -0.02178955078125, -0.0019016265869140625, -0.0017843246459960938, -0.0002598762512207031, 0.013153076171875, 0.00865936279296875, 0.0009870529174804688, 0.00940704345703125, -0.01456451416015625, -0.003612518310546875, 0.026153564453125, 0.010650634765625, -0.004314422607421875, -0.033905029296875, -0.01934814453125, -0.00730133056640625, 0.01306915283203125, 0.003307342529296875, 0.005283355712890625, 0.0008358955383300781, 0.0003077983856201172, -0.026947021484375, -0.0079193115234375, 0.02001953125, -0.01209259033203125, 0.0185699462890625, 0.00972747802734375, 0.02789306640625, 0.01119232177734375, -0.017059326171875, 0.01311492919921875, 0.003559112548828125, -0.001129150390625, -0.025848388671875, 0.00394439697265625, 0.01136016845703125, -0.00946807861328125, 0.0116729736328125, 0.0104217529296875, 0.0193328857421875, 0.0025615692138671875, -0.018218994140625, 0.0005807876586914062, -0.0151519775390625, 5.841255187988281e-06, -0.0026531219482421875, 0.0209503173828125, -0.00243377685546875, 0.0160369873046875, 0.0003516674041748047, -0.007335662841796875, -0.003025054931640625, -0.00263214111328125, 0.005779266357421875, 0.0054779052734375, -0.00365447998046875, 0.0014886856079101562, 0.003055572509765625, -0.007038116455078125, 0.00679779052734375, 0.0023021697998046875, -0.0030841827392578125, 0.003612518310546875, 0.036224365234375, -0.0020542144775390625, -0.00016617774963378906, -0.0175628662109375, 0.0210723876953125, -0.005252838134765625, -0.009765625, 0.0038433074951171875, -0.0198516845703125, -0.013519287109375, 0.00466156005859375, 0.0179595947265625, -0.004138946533203125, -0.0227813720703125, 0.0170440673828125, 0.0096282958984375, 0.0009264945983886719, -0.0182647705078125, 0.0257415771484375, 0.00873565673828125, -0.022918701171875, 0.004253387451171875, -0.0015392303466796875, 0.002788543701171875, 0.01320648193359375, -0.0169830322265625, -0.01020050048828125, 0.0124053955078125, -0.0147552490234375, -0.0070037841796875, 0.0011577606201171875, 0.0038013458251953125, -0.020355224609375, 0.0012054443359375, -0.0118560791015625, -0.004741668701171875, 0.01337432861328125, -0.01322174072265625, -0.003536224365234375, -0.0180206298828125, 0.004405975341796875, -0.01126861572265625, 0.00691986083984375, -0.003559112548828125, 0.01154327392578125, -0.0216827392578125, -0.0257415771484375, 0.01087188720703125, -0.02960205078125, -0.0040740966796875, -0.007549285888671875, 0.01293182373046875, 0.013885498046875, -0.01265716552734375, 0.00804901123046875, -0.014801025390625, 0.012969970703125, -0.01541900634765625, -0.0185089111328125, 0.016387939453125, -0.0092315673828125, -0.003185272216796875, 0.004756927490234375, 0.0017185211181640625, -0.012451171875, -0.0142974853515625, 0.01390838623046875, 0.016143798828125, 0.016571044921875, 0.01546478271484375, 0.013702392578125, 0.055450439453125, 0.00661468505859375, 0.005657196044921875, 0.02569580078125, -0.002971649169921875, -0.0008788108825683594, -0.0036716461181640625, -0.003841400146484375, -0.00450897216796875, 0.0131988525390625, 0.000423431396484375, -0.053192138671875, 0.0159454345703125, 0.003978729248046875, 0.020599365234375, -0.0095367431640625, -0.00608062744140625, -0.0003864765167236328, 0.0030803680419921875, 0.00868988037109375, -0.0028591156005859375, -0.01461029052734375, 0.00027441978454589844, -0.002155303955078125, 0.023468017578125, -0.0022144317626953125, 0.0064544677734375, 0.0094451904296875, -0.00376129150390625, 0.003543853759765625, 0.0005955696105957031, 0.009674072265625, 0.0186920166015625, 0.006992340087890625, -0.0026340484619140625, -0.01078033447265625, -0.003612518310546875, -0.01959228515625, 0.0141754150390625, 0.0016880035400390625, -0.0142364501953125, 0.009063720703125, 0.0031528472900390625, 0.029388427734375, -0.0185089111328125, 0.0249481201171875, 0.0088043212890625, 0.0106964111328125, 0.0130767822265625, 0.009521484375, 0.00997161865234375, 0.003986358642578125, 0.006763458251953125, 0.006542205810546875, -0.00540924072265625, -0.0030574798583984375, -0.01181793212890625, -0.00704193115234375, 0.0097503662109375, -0.036102294921875, -0.02001953125, -0.009796142578125, -0.007122039794921875, -0.066650390625, -0.00811767578125, 0.006099700927734375, -0.0149688720703125, -0.0020122528076171875, -0.005329132080078125, 0.01227569580078125, -0.0101470947265625, -0.028228759765625, 0.0026149749755859375, -0.0017004013061523438, -0.0270233154296875, -0.004058837890625, 0.013824462890625, 0.0028705596923828125, 0.01071929931640625, 0.0055999755859375, 0.0015516281127929688, -0.01416015625, 0.0364990234375, 0.01111602783203125, 0.01213836669921875, -0.0085296630859375, -0.028350830078125, 0.0006556510925292969, 0.0211029052734375, 0.018096923828125, 0.00884246826171875, 0.00018131732940673828, -0.00043201446533203125, -0.00774383544921875, -0.0196075439453125, -0.009765625, -0.00644683837890625, 0.03448486328125, 0.00011450052261352539, 0.006992340087890625, -0.0186920166015625, -0.0007696151733398438, -0.0017337799072265625, -0.0187530517578125, 0.0015478134155273438, 0.0023021697998046875, 0.02801513671875, -0.00728607177734375, 0.0134735107421875, -0.009063720703125, 0.01442718505859375, -0.023529052734375, 0.0048980712890625, -0.01245880126953125, 0.0003037452697753906, -0.0023784637451171875, 0.0105743408203125, 0.023284912109375, -0.0032215118408203125, -0.00887298583984375, 0.0013151168823242188, 0.0207672119140625, 0.029754638671875, -0.002925872802734375, 0.007167816162109375, -0.0196990966796875, -0.0014362335205078125, 0.0036830902099609375, 0.0032215118408203125, 0.0163421630859375, -0.0033512115478515625, 0.0196380615234375, 0.0196380615234375, -0.00910186767578125, 0.0136260986328125, -0.006183624267578125, 0.01499176025390625, -0.03369140625, -0.01549530029296875, 0.0107574462890625, -0.03924560546875, -0.0209197998046875, -0.034820556640625, 0.035186767578125, 0.0249176025390625, 0.034271240234375, 0.00885772705078125, -0.0036678314208984375, 0.0007123947143554688, -0.0220184326171875, -0.015106201171875, -0.0248870849609375, 0.005695343017578125, -0.0194244384765625, -0.020660400390625, -0.007747650146484375, 0.0095367431640625, -0.013397216796875, 0.01146697998046875, 0.0115814208984375, -0.00978851318359375, -0.00916290283203125, 0.006069183349609375, 0.01291656494140625, 0.01303863525390625, 0.014617919921875, 0.00634765625, -0.00878143310546875, -0.004398345947265625, -0.00780487060546875, 0.01290130615234375, -0.007251739501953125, 0.005893707275390625, 0.029571533203125, 0.00897979736328125, 0.03582763671875, 0.01552581787109375, 0.0008406639099121094, -0.0009160041809082031, 0.0113372802734375, 0.013427734375, 0.031951904296875, -0.0408935546875, 0.01213836669921875, 0.018096923828125, -0.0016841888427734375, -0.0105743408203125, -0.00441741943359375, 0.00911712646484375, 0.024444580078125, 0.0164947509765625, -0.021270751953125, 0.01427459716796875, 0.0111236572265625, -0.01027679443359375, -0.007015228271484375, 0.0070343017578125, -0.00658416748046875, 0.0154571533203125, 0.01093292236328125, 0.0085296630859375, -0.004695892333984375, 0.005420684814453125, 0.015045166015625, 0.0082244873046875, 0.0006961822509765625, -0.006160736083984375, -0.0124359130859375, 0.02044677734375, 0.0047607421875, 0.0081024169921875, -0.006183624267578125, -0.037078857421875, 0.0204010009765625, 0.01493072509765625, -0.0137481689453125, 0.002811431884765625, 0.01145172119140625, 0.0203094482421875, -0.00777435302734375, -0.003444671630859375, -0.00875091552734375, 0.018341064453125, -0.0008034706115722656, 0.01145172119140625, 0.006282806396484375, -0.00013649463653564453, 0.00421905517578125, 0.027862548828125, -0.002925872802734375, -0.01194000244140625, -0.00875091552734375, 0.0235748291015625, -0.004550933837890625, -0.0075836181640625, 0.004016876220703125, 0.00235748291015625, -0.01137542724609375, 0.018524169921875, 0.0164337158203125, 0.00292205810546875, -0.0253143310546875, -0.0141754150390625, 0.0069427490234375, -0.01788330078125, -0.0136871337890625, -0.00034117698669433594, 0.007465362548828125, 0.0186309814453125, 0.015716552734375, -0.005046844482421875, -0.0018014907836914062, -0.01470184326171875, -0.022430419921875, -0.005130767822265625, 0.00044083595275878906, 0.01351165771484375, -0.0049896240234375, 0.006420135498046875, -0.010223388671875, 0.011688232421875, 0.006137847900390625, 0.003997802734375, 0.0038471221923828125, 0.009857177734375, 0.007076263427734375, 0.0257720947265625, 0.01372528076171875, -0.01340484619140625, -0.007610321044921875, -0.028045654296875, -0.0136566162109375, -0.0016908645629882812, -0.01323699951171875, 0.004505157470703125, -0.01198577880859375, 0.0170745849609375, -0.037506103515625, -0.0028247833251953125, -0.007549285888671875, -0.00502777099609375, 0.007083892822265625, 0.0178070068359375, 0.0059814453125, -0.00817108154296875, -0.038665771484375, -0.017486572265625, 0.00704193115234375, 0.0330810546875, 0.0012187957763671875, -0.0010166168212890625, 0.007358551025390625, 0.003173828125, 0.0189666748046875, 0.0038814544677734375, -0.015045166015625, -0.01277923583984375, 0.0293426513671875, -0.00374603271484375, -0.016632080078125, -0.005107879638671875, -0.0009188652038574219, 0.0135955810546875, -0.00847625732421875, 0.01708984375, -0.007221221923828125, -0.0047454833984375, -0.01465606689453125, -0.0008420944213867188, 0.0164794921875, -0.0011510848999023438, 0.045074462890625, 0.0010404586791992188, 0.01983642578125, -0.026397705078125, 0.00754547119140625, 0.0129547119140625, 0.005130767822265625, -0.0016994476318359375, -0.01549530029296875, -0.0018024444580078125, -0.018798828125, 0.0379638671875, 0.023101806640625, -0.00960540771484375, -0.0029087066650390625, 0.00018906593322753906, -6.461143493652344e-05, 0.0185394287109375, 0.0177154541015625, 0.01537322998046875, 0.00370025634765625, -1.9609928131103516e-05, -0.0226898193359375, 0.004459381103515625, -0.007236480712890625, -0.0012216567993164062, -0.00756072998046875, -0.0021572113037109375, -0.00324249267578125, 0.01245880126953125, 0.01001739501953125, -0.0193328857421875, 0.030181884765625, 0.019866943359375, 0.0059814453125, 0.0018482208251953125, -0.0139923095703125, -0.031585693359375, 0.01290130615234375, -0.0251312255859375, -0.034515380859375, -0.01203155517578125, -0.00734710693359375, -0.0078582763671875, -0.0011014938354492188, -0.0165557861328125, 0.01203155517578125, -0.004268646240234375, -0.014495849609375, -0.01413726806640625, 0.016143798828125, 0.01200103759765625, 0.01438140869140625, -0.002971649169921875, -0.00027489662170410156, -0.006793975830078125, 0.0019969940185546875, 0.01522064208984375, -0.0091400146484375, -0.0005106925964355469, 0.01369476318359375, -0.0092926025390625, 0.002025604248046875, -0.01230621337890625, -0.0234527587890625, 0.0032138824462890625, -0.00273895263671875, -0.0015869140625, 0.007343292236328125, 0.002468109130859375, -0.005580902099609375, 0.00719451904296875, 0.00811004638671875, -0.00534820556640625, -0.005859375, 0.0101318359375, 0.0223236083984375, -0.0009822845458984375, -0.0134429931640625, 0.0110931396484375, -0.06414794921875, 0.0078887939453125, -0.00400543212890625, -0.0145416259765625, 0.01206207275390625, 0.0038166046142578125, 0.00417327880859375, -0.005344390869140625, -0.006313323974609375, 0.0023441314697265625, -0.00708770751953125, -0.007419586181640625, 0.008544921875, 0.01654052734375, 0.01548004150390625, -0.0114898681640625, -0.01534271240234375, 0.01287078857421875, -0.01273345947265625, -0.0171051025390625, -0.019866943359375, -0.00934600830078125, 0.0223846435546875, -0.01485443115234375, -0.0105743408203125, -0.005634307861328125, 0.003292083740234375, -0.0002899169921875, -0.00579071044921875, 0.0194244384765625, 0.00838470458984375, 0.005184173583984375, -0.0221405029296875, 0.001689910888671875, -0.0307159423828125, 0.019378662109375, -0.0161590576171875, 0.00803375244140625, -0.0037288665771484375, -0.00888824462890625, 0.00070953369140625, 0.0238800048828125, -0.01122283935546875, -0.0255584716796875, 0.0038509368896484375, 0.0004968643188476562, -0.01247406005859375, 0.00534820556640625, 0.0037555694580078125, -0.040618896484375, -0.008026123046875, 0.027496337890625, 0.0168609619140625, 0.0178070068359375, 0.006404876708984375, 0.0005574226379394531, 0.0015611648559570312, -0.0016756057739257812, -0.01288604736328125, 0.010284423828125, -0.01212310791015625, 0.00975799560546875, -0.00615692138671875, -0.01398468017578125, -0.003948211669921875, 0.0035228729248046875, 0.0210723876953125, -0.0048370361328125, -0.0085906982421875, 0.016937255859375, -0.005352020263671875, 0.00011676549911499023, 0.0100250244140625, 0.009033203125, -0.010040283203125, -0.00876617431640625, 0.0191497802734375, -0.0090179443359375, 0.01448822021484375, -0.0110931396484375, 0.006877899169921875, -0.0188751220703125, -0.0009870529174804688, -0.004337310791015625, 0.0010042190551757812, 0.0165557861328125, 0.0211334228515625, 0.00574493408203125, 0.0195465087890625, 0.00745391845703125, -0.005619049072265625, -0.00888824462890625, 0.0019330978393554688, 0.0155029296875, -0.01088714599609375, -0.00450897216796875, 0.014678955078125, -0.01247406005859375, -0.003070831298828125, -0.003589630126953125, -0.00829315185546875, -0.0197296142578125, -0.01605224609375, 0.0232391357421875, -0.016021728515625, 0.0012311935424804688, 0.019134521484375, 0.02032470703125, -0.004070281982421875, -0.00568389892578125, 0.006992340087890625, 0.02178955078125, -0.01219940185546875, -0.02288818359375, 0.0003750324249267578, 0.025115966796875, 0.0010623931884765625, -0.011749267578125, -0.009033203125, 0.0135345458984375, 0.0006456375122070312, -0.0016241073608398438, -0.011199951171875, -0.0236968994140625, -0.0020046234130859375, 0.007030487060546875, 0.0170135498046875, 0.00550079345703125, -0.0031833648681640625, -0.018035888671875, 0.006755828857421875, -0.0257110595703125, -0.0098419189453125, -0.00823974609375, 0.007610321044921875, -0.002643585205078125, 0.0173492431640625, -0.0156402587890625, 0.01221466064453125, 0.003936767578125, 0.019744873046875, 0.0012521743774414062, 0.02947998046875, 0.01554107666015625, -0.009429931640625, -0.01284027099609375, -0.0007624626159667969, -0.0114898681640625, 0.0009069442749023438, -0.005138397216796875, 0.0055084228515625, 0.023834228515625, -0.007556915283203125, 0.01053619384765625, 0.01230621337890625, 0.0005259513854980469, 0.01277923583984375, 0.002536773681640625, 0.0005583763122558594, -7.343292236328125e-05, 0.02423095703125, -0.00981903076171875, 0.02325439453125, -0.01328277587890625, 0.006679534912109375, 0.009002685546875, 0.006999969482421875, -0.003021240234375, -0.0008177757263183594, 0.0181732177734375, -0.005832672119140625, 0.006069183349609375, -0.027740478515625, -0.0158538818359375, -0.02587890625, 0.00965118408203125, 0.003223419189453125, -0.0036144256591796875, -0.0142974853515625, -0.0157928466796875, 0.0007376670837402344, -0.006694793701171875, 0.0173797607421875, 0.031646728515625, -0.0012922286987304688, 0.01467132568359375, -0.02362060546875, -0.0175628662109375, 0.02215576171875, -0.0036029815673828125, 0.0247039794921875, 0.033905029296875, 0.00971221923828125, 0.0285797119140625, -0.00018358230590820312, 0.0293426513671875, -0.0200958251953125, -0.012786865234375, -0.00992584228515625, 0.00016629695892333984, -0.01363372802734375, 0.0247344970703125, 0.0140228271484375, 0.01541900634765625, -0.012115478515625, 0.00301361083984375, 0.003787994384765625, -0.005771636962890625, 0.00814056396484375, -0.007549285888671875, -0.005336761474609375, 0.002529144287109375, 0.0018682479858398438, -0.007633209228515625, 0.0006833076477050781, -0.0084075927734375, -0.01947021484375, -0.012786865234375, 0.0166473388671875, -0.007259368896484375, -0.04766845703125, -0.004489898681640625, -0.0030956268310546875, -0.006671905517578125, -0.0165252685546875, -0.0016689300537109375, 0.0234527587890625, -0.007541656494140625, -0.0011224746704101562, 0.005588531494140625, -0.00595855712890625, 0.01727294921875, 0.0014848709106445312, 0.018798828125, -0.0035610198974609375, -0.0129852294921875, -0.01126861572265625, -0.01157379150390625, 0.00576019287109375, 0.01132965087890625, 0.0225372314453125, 0.00450897216796875, -0.001644134521484375, 0.01824951171875, -0.0036411285400390625, -0.00018346309661865234, 0.00011581182479858398, 0.0115203857421875, -0.0157318115234375, 0.01555633544921875, -0.0018100738525390625, 0.004673004150390625, 0.016021728515625, 0.005016326904296875, 0.0029773712158203125, -0.020355224609375, -0.007724761962890625, 0.0025424957275390625, 0.00038695335388183594, -0.0008234977722167969, 0.0079345703125, -0.0015850067138671875, -0.0219268798828125, -0.000335693359375, -0.00917816162109375, 0.0211029052734375, 0.0002665519714355469, -0.0010881423950195312, -0.01151275634765625, -0.020751953125, 0.00791168212890625, 0.00450897216796875, 0.006191253662109375, -0.006862640380859375, -0.0125579833984375, -0.00913238525390625, -0.01473236083984375, 0.000293731689453125, 0.01314544677734375, -0.0064697265625, -0.01007843017578125, -0.01215362548828125, -0.01690673828125, 0.0077056884765625, 0.0084991455078125, 0.01050567626953125, -0.06103515625, 0.008270263671875, 0.00043272972106933594, 0.003520965576171875, -0.00809478759765625, 0.004817962646484375, -0.0003743171691894531, -0.006984710693359375, 0.0018739700317382812, -0.0052947998046875, -0.0102691650390625, 0.0147857666015625, -0.012237548828125, -0.0089111328125, -0.00441741943359375, 0.01287078857421875, 0.0037555694580078125, -0.0259857177734375, 0.00725555419921875, -0.00994110107421875, -0.0160064697265625, 0.0015935897827148438, -0.0027332305908203125, 0.02728271484375, -0.024383544921875, 0.0004119873046875, -0.0083770751953125, 0.0117950439453125, 0.01181793212890625, 0.00885772705078125, -0.0156707763671875, -0.0162353515625, 0.006305694580078125, 0.0147247314453125, 0.012420654296875, 0.0126953125, 0.01450347900390625, -0.00821685791015625, 0.015625, 0.00554656982421875, 0.003978729248046875, -0.018463134765625, 0.0224456787109375, -0.0305023193359375, -0.0028667449951171875, 0.0311431884765625, 0.004192352294921875, 0.00749969482421875, 0.0162353515625, -8.910894393920898e-05, 0.01099395751953125, -0.006542205810546875, -0.0004439353942871094, 0.01151275634765625, -0.0039215087890625, -0.0020771026611328125, -0.00421905517578125, -0.01947021484375, -0.0137481689453125, 0.00676727294921875, -0.001407623291015625, -0.00853729248046875, -0.0177459716796875, 0.00037550926208496094, -0.0200347900390625, 0.00783538818359375, 0.020538330078125, 0.01242828369140625, -0.020965576171875, 0.0283660888671875, 0.0017900466918945312, 0.007015228271484375, 0.01094818115234375, -0.003910064697265625, -0.00287628173828125, -0.0009579658508300781, -0.0270233154296875, -0.036651611328125, 0.00493621826171875, -0.0007834434509277344, -0.007549285888671875, -0.007801055908203125, -0.009002685546875, 0.0166473388671875, -0.00753021240234375, -0.01203155517578125, 0.006290435791015625, -0.0007004737854003906, 0.01448822021484375, 0.021392822265625, 0.02642822265625, -0.00933074951171875, 0.01061248779296875, 0.005054473876953125, 0.00395965576171875, -0.0010480880737304688, -0.00748443603515625, -0.011016845703125, 0.03192138671875, -0.0010805130004882812, -0.007076263427734375, -0.0244140625, 0.004146575927734375, -0.0203094482421875, -0.016326904296875, -0.0012998580932617188, -0.0034618377685546875, -0.005672454833984375, 0.002685546875, -0.0254974365234375, 0.0095977783203125, -0.0006375312805175781, -0.007732391357421875, -0.020599365234375, 0.0034809112548828125, 0.00820159912109375, 0.01427459716796875, -0.002857208251953125, 0.0092010498046875, -0.005695343017578125, -0.0013723373413085938, -0.0026378631591796875, 0.032867431640625, 0.0137481689453125, -0.0271759033203125, -0.002780914306640625, -0.001453399658203125, 0.021453857421875, 0.0101318359375, 0.00897979736328125, 0.0010633468627929688, 0.002155303955078125, -0.006862640380859375, -0.0176849365234375, -0.01088714599609375, 0.010650634765625, -0.0202484130859375, -0.0023708343505859375, 0.01131439208984375, -0.01428985595703125, -0.023895263671875, 0.0098724365234375, 0.003589630126953125, 0.00400543212890625, -0.019256591796875, 0.0190277099609375, 0.0016536712646484375, -0.005847930908203125, 0.01241302490234375, 0.004421234130859375, -0.00832366943359375, -0.03668212890625, -0.007289886474609375, -0.01012420654296875, 0.00714111328125, -0.0251007080078125, 0.0010385513305664062, -0.028167724609375, -0.025787353515625, -0.01392364501953125, 0.01517486572265625, 0.01003265380859375, -0.0173492431640625, 0.0016345977783203125, -0.0181732177734375, -0.025360107421875, -0.0307159423828125, -0.017547607421875, -0.0073699951171875, 0.01412200927734375, -0.0733642578125, -0.026123046875, -0.0036983489990234375, 0.02252197265625, 0.0001354217529296875]]\n"
     ]
    }
   ],
   "source": [
    "doc_result = embeddings.embed_documents(\n",
    "    [\"Sung is a professor.\", \"This is another document\"]\n",
    ")\n",
    "print(doc_result)"
   ]
  },
  {
   "cell_type": "code",
   "execution_count": 13,
   "metadata": {},
   "outputs": [
    {
     "name": "stdout",
     "output_type": "stream",
     "text": [
      "[0.01363372802734375, -0.043426513671875, 0.001598358154296875, 0.01305389404296875, -0.031494140625, -0.01763916015625, 0.0088653564453125, -0.0079193115234375, -0.00745391845703125, 0.01082611083984375, 0.01296234130859375, 0.033172607421875, -0.005279541015625, 0.00591278076171875, -0.016632080078125, -0.01323699951171875, -0.01456451416015625, 0.0150146484375, -0.0157623291015625, -0.007045745849609375, -0.01436614990234375, -0.0014753341674804688, -0.01190185546875, 0.0021839141845703125, -0.021942138671875, -0.00592041015625, 0.01140594482421875, -0.01544952392578125, 0.0169830322265625, 0.006481170654296875, 0.01202392578125, -0.0006933212280273438, 0.01080322265625, 0.004589080810546875, 0.0084228515625, -0.003604888916015625, -0.01114654541015625, 0.0267333984375, 0.0008950233459472656, -0.0081634521484375, 0.016937255859375, -0.005939483642578125, -0.021331787109375, 0.000736236572265625, 0.02606201171875, -0.01334381103515625, -0.00395965576171875, -0.01296234130859375, 0.0009093284606933594, 0.0126495361328125, 0.005939483642578125, -0.015289306640625, -0.0020580291748046875, -0.006435394287109375, -0.007904052734375, 0.0164794921875, -0.0124053955078125, -0.00627899169921875, -0.0032901763916015625, 0.0021877288818359375, 0.0111846923828125, -0.01332855224609375, -0.0152435302734375, -0.0115966796875, -0.005046844482421875, -0.0011415481567382812, 0.0201263427734375, -0.0185394287109375, 0.007114410400390625, -0.01049041748046875, 0.0030117034912109375, 6.175041198730469e-05, -0.00844573974609375, -0.0022430419921875, -0.041961669921875, -0.03277587890625, 0.0035800933837890625, -0.0118865966796875, 0.0060577392578125, -0.0152435302734375, -0.02215576171875, 0.01611328125, -0.01479339599609375, 0.002513885498046875, -0.01372528076171875, 0.02587890625, -0.0109405517578125, -0.0022945404052734375, -0.00814056396484375, -0.01262664794921875, -0.007167816162109375, 0.0215606689453125, -0.004840850830078125, 0.05908203125, -0.00907135009765625, -0.00815582275390625, -0.006946563720703125, 0.0027313232421875, -0.037017822265625, -0.0194091796875, 0.0157318115234375, 0.0013799667358398438, 0.0108184814453125, -0.018890380859375, -0.0007266998291015625, 0.002513885498046875, 0.0089111328125, 0.0176544189453125, 0.0205230712890625, 0.0232086181640625, 0.0257720947265625, -0.0154876708984375, -0.0162811279296875, -0.01406097412109375, -0.01277923583984375, 0.0018415451049804688, 0.022735595703125, 0.0009417533874511719, -0.00139617919921875, 0.022857666015625, 0.0012102127075195312, 0.035552978515625, 0.0230712890625, -0.0080108642578125, -0.0018787384033203125, 0.0028629302978515625, 0.0308990478515625, 0.0246734619140625, 0.02117919921875, -0.002483367919921875, 0.014617919921875, -0.008056640625, -0.001522064208984375, -0.010162353515625, 0.0022411346435546875, -0.0093841552734375, -0.046051025390625, 0.0062713623046875, 0.015411376953125, 0.00295257568359375, 0.006855010986328125, -0.0010128021240234375, -0.0097808837890625, -0.001922607421875, 0.022125244140625, 0.005359649658203125, -0.0091552734375, 0.006984710693359375, 0.019134521484375, -0.0128173828125, -0.00200653076171875, 0.00907135009765625, 0.0174102783203125, -0.0217437744140625, 0.006877899169921875, -0.0211639404296875, -0.01442718505859375, 0.0025634765625, 0.003665924072265625, -0.0008225440979003906, 0.008392333984375, 0.00432586669921875, 0.0189056396484375, -0.005222320556640625, -0.006603240966796875, 0.0066375732421875, 0.00864410400390625, -0.01788330078125, -0.020233154296875, -0.006839752197265625, -0.00653076171875, 0.0101318359375, -0.007099151611328125, -0.0208740234375, -0.01385498046875, -0.01436614990234375, -0.0098419189453125, 0.0025768280029296875, -0.0018243789672851562, -0.010833740234375, -0.007106781005859375, -0.008148193359375, -0.0158538818359375, 0.00530242919921875, 0.0261383056640625, -0.018096923828125, -0.0184783935546875, 0.006992340087890625, 0.0093536376953125, 0.0174102783203125, 0.017974853515625, 0.01273345947265625, 0.009124755859375, -0.016937255859375, -0.00946044921875, 0.001384735107421875, -0.005458831787109375, 0.050567626953125, -0.023681640625, 0.017303466796875, -0.007526397705078125, 0.032958984375, -0.0033111572265625, -0.01354217529296875, 0.034820556640625, -0.006366729736328125, -0.044281005859375, -0.00499725341796875, 0.00847625732421875, 0.00347900390625, -0.0077972412109375, 0.0194091796875, -0.0123291015625, -0.0005283355712890625, 0.0018463134765625, -0.0099029541015625, -0.02923583984375, -0.00852203369140625, 0.0145111083984375, -0.0126953125, 0.011322021484375, -0.0005545616149902344, -0.048858642578125, 0.01418304443359375, 0.0013980865478515625, -0.01284027099609375, -0.006359100341796875, -0.004428863525390625, 0.004352569580078125, 0.008819580078125, -0.01251983642578125, -0.00811004638671875, 0.006435394287109375, 0.00868988037109375, 0.016204833984375, 0.042236328125, -0.036224365234375, 0.019256591796875, 0.028839111328125, -0.017364501953125, 0.010589599609375, -0.0006761550903320312, -0.01092529296875, -0.01436614990234375, 0.0096435546875, -0.0216064453125, 0.0166015625, 0.00649261474609375, 0.01091766357421875, 0.007099151611328125, -0.03948974609375, -0.0010013580322265625, -0.0251617431640625, 0.01235198974609375, -0.0184173583984375, -0.03631591796875, -0.012451171875, -0.016693115234375, 0.017913818359375, 0.0027675628662109375, -0.003139495849609375, -0.0125885009765625, -0.042999267578125, 0.0137176513671875, 0.00286865234375, 0.00579833984375, 0.0204315185546875, 0.0120086669921875, 0.00142669677734375, 0.019256591796875, -0.03466796875, 0.007335662841796875, -0.0011959075927734375, 0.023834228515625, 0.00738525390625, 0.0071868896484375, -0.01141357421875, -0.0009670257568359375, 0.00449371337890625, 0.01025390625, -0.01436614990234375, 0.01491546630859375, -0.01454925537109375, 0.0248565673828125, 0.0012226104736328125, -0.0037670135498046875, -0.007732391357421875, -0.0203857421875, 0.01044464111328125, 0.00733184814453125, -0.0008187294006347656, 0.01544952392578125, 0.0148773193359375, -0.012420654296875, -0.01459503173828125, -0.0040740966796875, 0.0092620849609375, -0.01214599609375, -0.01418304443359375, -0.0005307197570800781, 0.00983428955078125, 0.0316162109375, 0.0017719268798828125, 0.019073486328125, 0.00788116455078125, -0.012054443359375, 0.0391845703125, 0.0174102783203125, -0.01300811767578125, -0.0043487548828125, 0.00632476806640625, -0.006404876708984375, -0.0010900497436523438, 0.01690673828125, -0.012176513671875, -0.0296478271484375, -0.0047454833984375, -0.01329803466796875, 0.031524658203125, 0.0275726318359375, 0.0106658935546875, -0.016845703125, 0.051055908203125, 0.00792694091796875, 0.031768798828125, 0.01541900634765625, 0.01471710205078125, -0.001129150390625, 0.005138397216796875, 0.0209808349609375, -0.0211639404296875, 0.0128936767578125, 0.01334381103515625, 0.01800537109375, 0.01617431640625, -0.004058837890625, -0.006626129150390625, 0.015899658203125, -0.0089263916015625, 0.0022678375244140625, -0.01134490966796875, 0.0150299072265625, 0.0103302001953125, -0.0081329345703125, 0.0028839111328125, 0.0121612548828125, -0.037506103515625, -0.0004298686981201172, -0.007350921630859375, -0.005863189697265625, -0.0001900196075439453, -0.015167236328125, 0.00023865699768066406, -0.0184783935546875, -0.00839996337890625, 0.00414276123046875, 0.0223236083984375, 0.04034423828125, -0.018035888671875, -0.0195770263671875, -0.0103912353515625, 0.0206298828125, 0.002216339111328125, 0.0101165771484375, -0.00907135009765625, -0.008056640625, -0.008514404296875, -0.0263519287109375, 0.01183319091796875, -0.00159454345703125, -0.006710052490234375, -0.004512786865234375, 0.0217437744140625, -0.01324462890625, -0.00836944580078125, 0.0023708343505859375, 0.0021762847900390625, 0.0206298828125, 0.0194549560546875, -0.029327392578125, -0.0196533203125, 0.0174713134765625, 0.0139312744140625, -0.0181121826171875, 0.0157012939453125, -0.0033206939697265625, 0.010833740234375, 0.0172271728515625, 0.0038318634033203125, 0.0081787109375, 0.00634765625, -0.033355712890625, 0.0045318603515625, -0.0098724365234375, -0.024169921875, 0.00968170166015625, 0.0071868896484375, 0.00287628173828125, -0.0038318634033203125, -0.0025577545166015625, -0.0238037109375, -0.001373291015625, -0.00057220458984375, 0.0080718994140625, 0.0013895034790039062, 0.01739501953125, 0.01384735107421875, 0.007404327392578125, -0.00992584228515625, 0.0005903244018554688, -0.0028820037841796875, -0.0016422271728515625, 0.0096893310546875, 0.00804901123046875, 0.00713348388671875, -0.006290435791015625, 0.01154327392578125, 0.03155517578125, 0.0247039794921875, -0.026763916015625, 0.017303466796875, 0.0138397216796875, 0.01220703125, 0.0208282470703125, -0.0093994140625, 0.009979248046875, 0.020172119140625, 0.0007863044738769531, 0.00312042236328125, 0.0171966552734375, 0.01519012451171875, -0.00897979736328125, 0.0070037841796875, -0.017333984375, -0.018524169921875, 0.0094451904296875, 0.0018939971923828125, 0.01456451416015625, -0.018829345703125, 0.0021915435791015625, -0.0031719207763671875, 0.006137847900390625, 0.023590087890625, 0.0247344970703125, 0.0039825439453125, -0.01206207275390625, -0.00862884521484375, 0.00528717041015625, 0.0008721351623535156, -0.00400543212890625, 0.028594970703125, 0.009002685546875, -0.0276031494140625, 0.0152587890625, 0.002780914306640625, 0.00025725364685058594, 0.019500732421875, 0.0293426513671875, 0.00041961669921875, 0.0142974853515625, 0.0076141357421875, -0.01568603515625, -0.0203094482421875, -0.0012903213500976562, -0.01494598388671875, -0.0227203369140625, -0.016448974609375, 0.0203399658203125, -0.00856781005859375, 0.0095062255859375, 0.0037708282470703125, -0.002719879150390625, 0.007358551025390625, -0.013092041015625, -0.0142669677734375, -0.004268646240234375, 0.002002716064453125, 0.01078033447265625, 0.006465911865234375, -0.0038890838623046875, -0.0021915435791015625, 0.005886077880859375, -0.0036678314208984375, 0.00461578369140625, 0.00621795654296875, -0.00966644287109375, -0.04058837890625, -0.004001617431640625, 0.0145263671875, 0.028533935546875, 0.005580902099609375, -0.01473236083984375, 0.0396728515625, -0.033050537109375, 0.002956390380859375, 0.01385498046875, -0.0094757080078125, -0.007343292236328125, -0.017120361328125, -0.01194000244140625, -0.006732940673828125, 0.00939178466796875, -0.01971435546875, 0.007183074951171875, 0.02069091796875, 0.005290985107421875, -0.014007568359375, -0.0089874267578125, 0.00919342041015625, -0.01293182373046875, 0.031829833984375, -0.0100250244140625, -0.025604248046875, -0.00475311279296875, -0.0277862548828125, -0.0240020751953125, 0.021453857421875, 0.0123138427734375, -0.0006361007690429688, -0.002620697021484375, -0.0133819580078125, 0.01406097412109375, 0.0184478759765625, 0.0167083740234375, 0.00530242919921875, -0.0101776123046875, -0.023468017578125, -0.0007867813110351562, 0.004138946533203125, -0.0238037109375, -0.00011211633682250977, 0.0037326812744140625, 0.0078582763671875, -0.001873016357421875, 0.01430511474609375, 0.009735107421875, -0.008544921875, 0.0224609375, -0.0210418701171875, 0.00917816162109375, -0.010406494140625, -0.0204925537109375, -0.01360321044921875, -0.02093505859375, -0.00836944580078125, -0.01007843017578125, -0.007366180419921875, -0.021759033203125, 0.038116455078125, -0.02545166015625, -0.01654052734375, -0.0245819091796875, 0.01348114013671875, -0.024200439453125, -0.010467529296875, -0.0207672119140625, 0.01126861572265625, -0.006885528564453125, -0.00876617431640625, 0.02783203125, -0.01910400390625, -0.018646240234375, -0.01520538330078125, 0.006404876708984375, 0.03887939453125, 0.0284881591796875, 0.01332855224609375, -0.0009112358093261719, 0.00653839111328125, 0.003284454345703125, -0.006870269775390625, 0.005756378173828125, 0.005558013916015625, -0.00897216796875, 0.03076171875, -0.019500732421875, 0.01473236083984375, 0.003498077392578125, 0.0147857666015625, 0.01209259033203125, -0.00798797607421875, 0.0287322998046875, -0.0311737060546875, -0.002666473388671875, -0.00499725341796875, -0.0142669677734375, 0.01174163818359375, 0.0040740966796875, -0.0113525390625, 0.003543853759765625, 0.031494140625, -0.010009765625, 0.0146484375, 0.01007080078125, -0.0012454986572265625, 0.0016021728515625, -0.003444671630859375, 0.01346588134765625, 0.01190948486328125, 0.008819580078125, -0.01629638671875, -0.0208892822265625, 0.006237030029296875, -0.00860595703125, 0.01136016845703125, 0.0151214599609375, -0.0184478759765625, 0.0127410888671875, -0.0104522705078125, -0.012359619140625, 0.0224609375, 0.003726959228515625, -0.0110931396484375, 0.0022411346435546875, -0.0124359130859375, -0.01287078857421875, -0.0239410400390625, 0.0003819465637207031, 0.036529541015625, -0.0014047622680664062, 0.01422882080078125, -0.01800537109375, -0.029022216796875, 0.0213775634765625, -0.0087127685546875, -0.0006451606750488281, 0.0036449432373046875, -0.00028324127197265625, 0.006511688232421875, 0.012176513671875, -0.0008940696716308594, -0.0012416839599609375, -0.034393310546875, -0.01236724853515625, -0.022796630859375, -0.01763916015625, 0.005458831787109375, 0.004291534423828125, -0.00937652587890625, 0.00862884521484375, -0.01306915283203125, -0.01953125, 0.008148193359375, 0.0009245872497558594, 0.006488800048828125, -0.0166778564453125, -0.0037288665771484375, -0.03338623046875, -0.01194000244140625, -0.00756072998046875, -0.00750732421875, 0.0167083740234375, -0.00226593017578125, 0.0298919677734375, 0.00641632080078125, 0.00374603271484375, 0.0125274658203125, 0.0083770751953125, -0.0238037109375, 0.007030487060546875, 0.0224609375, -0.0258941650390625, 0.0281219482421875, -0.00281524658203125, -0.015228271484375, 0.01091766357421875, -0.0081024169921875, -0.0018987655639648438, -0.0050201416015625, -0.0230712890625, 0.03021240234375, -0.02459716796875, 0.01125335693359375, -0.0174713134765625, 0.03057861328125, 0.0023059844970703125, -0.006374359130859375, -0.008636474609375, 0.0013141632080078125, 0.00739288330078125, 0.0032291412353515625, 0.024749755859375, -0.00809478759765625, -0.00592803955078125, -0.00011444091796875, -0.0122528076171875, -0.0116729736328125, -0.022705078125, -0.0268707275390625, 0.0074920654296875, 0.01361846923828125, 0.022186279296875, -0.0185394287109375, -0.0195465087890625, 0.0135040283203125, 0.019195556640625, -0.007114410400390625, 0.0192108154296875, -0.00016689300537109375, -0.0012874603271484375, -0.029541015625, -0.01520538330078125, -0.0173187255859375, -0.0037746429443359375, 0.002685546875, 0.0162506103515625, 0.0201416015625, 0.005222320556640625, 0.0180206298828125, -0.01247406005859375, -0.00408935546875, 0.0059967041015625, -0.0023975372314453125, -0.0185394287109375, -0.026397705078125, -0.004322052001953125, -0.0002589225769042969, -0.00475311279296875, -0.005451202392578125, 0.009185791015625, -0.0125885009765625, -0.00914764404296875, 0.0011034011840820312, -0.023956298828125, -0.00913238525390625, -0.006229400634765625, -0.01739501953125, 0.001926422119140625, -0.0139312744140625, 0.01467132568359375, 0.0227508544921875, -0.00890350341796875, -0.01018524169921875, 0.0113677978515625, -0.0018968582153320312, 0.005359649658203125, 0.0011835098266601562, 0.00858306884765625, -0.0241241455078125, -0.0244598388671875, -0.0162506103515625, 0.018646240234375, 0.005970001220703125, -0.00029850006103515625, -0.0014734268188476562, -0.027252197265625, 0.003692626953125, 0.004924774169921875, -0.013397216796875, -0.016815185546875, -0.01407623291015625, 0.0179901123046875, -0.015655517578125, 0.03204345703125, 0.01291656494140625, 0.00864410400390625, 0.012176513671875, 0.0018901824951171875, -0.0017595291137695312, 0.0025844573974609375, 0.003635406494140625, 0.011688232421875, 0.00665283203125, -0.00882720947265625, -0.0189666748046875, 0.0227508544921875, -0.00203704833984375, 0.0169830322265625, 0.006519317626953125, 0.0189971923828125, 0.0077667236328125, -0.01337432861328125, -0.024871826171875, 0.00128173828125, -0.003513336181640625, 0.00341033935546875, -0.00362396240234375, -0.0238800048828125, 0.01468658447265625, -0.020751953125, -0.0106048583984375, -0.0125885009765625, 0.0321044921875, -0.00641632080078125, -0.0217132568359375, 0.011962890625, -0.00896453857421875, -0.0018854141235351562, -0.016693115234375, -0.014404296875, -0.008209228515625, -0.0156402587890625, -0.007717132568359375, -0.007297515869140625, -0.031646728515625, 0.01342010498046875, -0.004100799560546875, -0.0003535747528076172, 0.0186920166015625, -0.0004696846008300781, -0.00926971435546875, 0.0266571044921875, -0.0266571044921875, 0.0009655952453613281, 0.0023670196533203125, -0.022796630859375, 0.03448486328125, 0.0078582763671875, 0.0011577606201171875, -0.023193359375, -0.014862060546875, 0.0032711029052734375, 0.002899169921875, 0.004314422607421875, 0.00737762451171875, 0.034423828125, 0.01262664794921875, 0.0006899833679199219, 0.0132293701171875, -0.006282806396484375, 0.0032176971435546875, 0.02215576171875, 0.02374267578125, -0.00751495361328125, -0.0007185935974121094, -0.00969696044921875, 0.01232147216796875, -0.017730712890625, 0.0135345458984375, 0.016693115234375, 0.0047760009765625, -0.01245880126953125, -0.0020236968994140625, -0.0008940696716308594, 0.0207366943359375, -0.007457733154296875, 0.0025348663330078125, -0.01517486572265625, 0.0019664764404296875, -0.005466461181640625, 0.01058197021484375, -0.0016946792602539062, -0.0076446533203125, 0.0260162353515625, 0.022003173828125, -0.0240478515625, 0.0037975311279296875, 0.0093231201171875, 0.01459503173828125, 0.0019178390502929688, 0.0006761550903320312, 0.0189361572265625, 0.0010242462158203125, 0.000141143798828125, -0.010467529296875, 0.01085662841796875, 0.0036716461181640625, -0.008270263671875, -0.005458831787109375, -0.024658203125, 0.0014448165893554688, -0.014862060546875, -0.00862884521484375, -0.0146636962890625, -0.0004012584686279297, 0.0022106170654296875, 0.01178741455078125, -0.030059814453125, 0.04522705078125, -0.00033473968505859375, -0.005306243896484375, -0.0330810546875, 0.0036678314208984375, -0.004978179931640625, -0.0170135498046875, -0.0142822265625, -0.01139068603515625, -0.01110076904296875, -0.0022830963134765625, 0.019256591796875, 0.0189056396484375, -0.006458282470703125, -0.002925872802734375, 0.027130126953125, 0.006420135498046875, 0.01013946533203125, -0.01690673828125, 0.007080078125, 0.007366180419921875, 0.00490570068359375, -0.003818511962890625, -0.004558563232421875, 0.0029010772705078125, 0.006618499755859375, -0.002544403076171875, -0.00608062744140625, -0.03240966796875, 0.00785064697265625, 0.026519775390625, 0.0236663818359375, -0.01506805419921875, 0.001262664794921875, 0.0253143310546875, 0.02288818359375, 0.0087432861328125, 0.03070068359375, -0.00951385498046875, 0.004024505615234375, -0.0083770751953125, -0.0194244384765625, 0.0034427642822265625, 0.0256195068359375, -0.0157012939453125, -0.02227783203125, -0.00864410400390625, -0.02044677734375, 0.0209808349609375, 0.003337860107421875, 0.004199981689453125, 0.02264404296875, -0.01448822021484375, 0.00615692138671875, -0.015838623046875, 0.01432037353515625, 0.00998687744140625, 0.002048492431640625, -0.004169464111328125, 0.0142974853515625, -0.026519775390625, -0.016632080078125, 0.01910400390625, -0.01177978515625, 0.01263427734375, 0.004291534423828125, -0.02239990234375, 0.04229736328125, 0.016143798828125, -0.00039124488830566406, 0.017333984375, 0.01142120361328125, -0.0161895751953125, -0.0008449554443359375, -0.00472259521484375, -0.0146331787109375, -0.0046539306640625, -0.0176544189453125, -0.006694793701171875, -0.0026416778564453125, 0.007099151611328125, -0.0043487548828125, 0.0008306503295898438, -0.0068511962890625, -0.01922607421875, 0.016754150390625, 0.010711669921875, 0.004436492919921875, -0.0223541259765625, -0.040557861328125, 0.00853729248046875, -0.01372528076171875, 0.02056884765625, 0.004791259765625, -0.01311492919921875, -0.00690460205078125, 0.0190277099609375, -0.026214599609375, -0.0294342041015625, -0.007904052734375, 0.02203369140625, 0.0284881591796875, 0.005481719970703125, 0.0110931396484375, 0.0022411346435546875, -0.0219573974609375, 0.0153961181640625, -0.00566864013671875, 0.019256591796875, 0.01435089111328125, 0.0017347335815429688, -0.0017900466918945312, 0.037872314453125, -0.03778076171875, -0.005146026611328125, -0.00890350341796875, -0.01103973388671875, 0.01837158203125, 0.00701904296875, 0.033599853515625, -0.033905029296875, 0.0141448974609375, 0.0310821533203125, 0.018310546875, -0.02142333984375, -0.004650115966796875, 0.007785797119140625, 0.0179443359375, 0.0004680156707763672, 0.01473236083984375, -0.0161285400390625, 0.005229949951171875, -0.034912109375, 0.01264190673828125, 0.003932952880859375, -0.01300811767578125, 0.04498291015625, -0.00574493408203125, -0.0301666259765625, 0.00220489501953125, -0.0167999267578125, -0.02703857421875, 0.01294708251953125, -0.0077667236328125, 0.0013303756713867188, 0.00013148784637451172, 0.01611328125, -0.01080322265625, -0.004302978515625, -0.04150390625, 0.0223388671875, 0.0083465576171875, -0.01861572265625, -0.0150299072265625, 0.0020084381103515625, -0.0092620849609375, 0.0008344650268554688, 0.00940704345703125, 0.018798828125, 0.004848480224609375, 0.01316070556640625, 0.007480621337890625, 0.00867462158203125, -0.018524169921875, -0.00815582275390625, -0.0138397216796875, -0.003376007080078125, 0.012359619140625, -0.0024700164794921875, -0.0020580291748046875, -0.0008668899536132812, 0.0261383056640625, -0.022857666015625, 0.0303802490234375, 0.0113067626953125, 0.0019159317016601562, -0.0181427001953125, 0.0247344970703125, 0.046722412109375, 0.01617431640625, -0.002933502197265625, 0.004611968994140625, -0.01354217529296875, -0.0192108154296875, 0.0009741783142089844, 0.006404876708984375, -0.00196075439453125, -0.0239410400390625, -0.0213775634765625, 0.0180816650390625, 0.0009341239929199219, 0.026397705078125, 0.01082611083984375, -0.0088043212890625, 0.005474090576171875, 0.01140594482421875, 0.01134490966796875, -0.0159454345703125, -0.006740570068359375, -0.023895263671875, -0.0142822265625, 0.026031494140625, -0.019012451171875, 0.0109710693359375, -0.00457763671875, -0.01605224609375, 0.0208587646484375, -0.01036834716796875, 0.01393890380859375, 0.0111236572265625, 0.0016546249389648438, -0.003170013427734375, 0.015960693359375, -0.004718780517578125, -0.00022649765014648438, 0.0124664306640625, 0.0029754638671875, -0.0189666748046875, 0.0264434814453125, -0.0012378692626953125, 0.00121307373046875, -0.0010309219360351562, -0.006343841552734375, -0.007080078125, 0.010101318359375, -0.0258941650390625, 0.018524169921875, 0.005462646484375, 0.0186920166015625, -0.007778167724609375, -0.033599853515625, 0.00933837890625, -0.02764892578125, -0.0025081634521484375, -0.00391387939453125, 0.0030727386474609375, 0.02386474609375, 0.01120758056640625, 0.0020427703857421875, 0.026397705078125, 0.008148193359375, 0.0221405029296875, 0.01739501953125, 0.0035190582275390625, -0.0014638900756835938, 0.0013933181762695312, -0.01666259765625, 0.0196380615234375, 0.00452423095703125, 0.007732391357421875, -0.02130126953125, 0.00858306884765625, -0.006977081298828125, -0.01406097412109375, -0.006259918212890625, -0.0145416259765625, -0.0259246826171875, -0.0316162109375, -0.00650787353515625, 0.01026153564453125, 0.0030078887939453125, -0.0070037841796875, -0.011627197265625, 0.0180816650390625, -0.0081329345703125, -0.0207366943359375, 0.0117645263671875, 0.01116180419921875, -0.004894256591796875, -0.027008056640625, -0.00982666015625, -0.02545166015625, 0.01171112060546875, -0.016815185546875, -0.0133209228515625, -0.0134124755859375, -0.0019178390502929688, -0.01457977294921875, 0.02508544921875, -0.0183868408203125, 0.043182373046875, -0.023834228515625, 0.001651763916015625, 0.039794921875, 0.002391815185546875, 0.0246734619140625, -0.0031585693359375, -0.009124755859375, 0.00836181640625, -0.0119171142578125, 0.0178680419921875, -0.011810302734375, 0.0184783935546875, -0.00714111328125, 0.0116729736328125, 0.0121002197265625, 0.01236724853515625, -0.010498046875, 0.003875732421875, -0.03466796875, 0.006023406982421875, 0.011566162109375, 0.0103607177734375, 0.00640106201171875, 0.008392333984375, 0.01000213623046875, -0.005893707275390625, -0.0083770751953125, 0.008636474609375, 0.0006399154663085938, 0.0142822265625, -0.004596710205078125, -0.0227508544921875, -0.0027141571044921875, 0.0074310302734375, 0.006866455078125, -0.0028476715087890625, 0.001010894775390625, 0.00362396240234375, -0.0009908676147460938, -0.0027675628662109375, -0.004016876220703125, -0.002628326416015625, -0.00882720947265625, 0.0098724365234375, -0.0297088623046875, -0.01544952392578125, -0.03173828125, -0.00021255016326904297, -0.00791168212890625, 0.00833892822265625, 0.007904052734375, 0.016265869140625, -0.0189971923828125, -9.423494338989258e-05, -0.00457763671875, -0.018341064453125, -0.0087890625, 0.0126800537109375, 0.0180206298828125, 0.0095672607421875, -0.00433349609375, -0.0053558349609375, -0.024200439453125, -0.0102386474609375, 0.0238037109375, -0.03216552734375, -0.0026531219482421875, -0.002628326416015625, 0.011627197265625, 0.01035308837890625, -0.0164642333984375, -0.004505157470703125, 0.00077056884765625, -0.0009860992431640625, -0.0120391845703125, -0.008880615234375, 0.0041961669921875, -0.018951416015625, 0.0209808349609375, 0.004673004150390625, 0.0194854736328125, 0.00803375244140625, 0.027130126953125, -0.0022525787353515625, 0.0029926300048828125, -0.01096343994140625, 0.035369873046875, -0.0036487579345703125, 0.002422332763671875, 0.017059326171875, 0.025726318359375, -0.0017299652099609375, 0.018585205078125, 0.0275726318359375, -0.0164947509765625, -0.0176239013671875, -0.0013933181762695312, 0.023162841796875, 0.007587432861328125, -0.01065826416015625, -0.0121917724609375, -0.009490966796875, -6.955862045288086e-05, 0.0225982666015625, -0.0026035308837890625, 0.01303863525390625, 0.0035495758056640625, -0.0242462158203125, 0.0299530029296875, -0.0166473388671875, -0.0090179443359375, 0.00675201416015625, -0.004302978515625, 0.0278778076171875, 0.0057220458984375, 0.00749969482421875, 0.0216064453125, 0.00312042236328125, 0.002361297607421875, -0.005702972412109375, 0.006008148193359375, 0.004299163818359375, -0.01192474365234375, 0.0276641845703125, 0.0215301513671875, 0.033111572265625, -0.01544952392578125, -0.0200653076171875, -0.00255584716796875, 0.00792694091796875, -0.018280029296875, -0.006107330322265625, 0.0086517333984375, 0.0084991455078125, 0.0076751708984375, -0.0013818740844726562, 0.0006413459777832031, -0.0008797645568847656, -0.0304107666015625, -0.01177215576171875, 0.009063720703125, 0.0158843994140625, 0.01097869873046875, -0.00693511962890625, -0.0215606689453125, 0.0012664794921875, -0.0006246566772460938, 0.0197296142578125, -0.005519866943359375, 0.0135040283203125, 0.0271759033203125, 0.00276947021484375, 0.02874755859375, 0.01178741455078125, 0.011962890625, -0.0138702392578125, 0.00347900390625, -0.02203369140625, 0.016937255859375, -0.01226043701171875, -0.02490234375, -0.01061248779296875, -0.002849578857421875, -0.0178375244140625, 0.0157470703125, 0.0021724700927734375, -0.00244903564453125, -0.0043792724609375, 0.049468994140625, -0.00034332275390625, -0.005611419677734375, 0.03387451171875, -0.0013265609741210938, 0.0010423660278320312, 0.0303802490234375, 0.00833892822265625, 0.01082611083984375, 0.00824737548828125, 0.0121612548828125, -0.0187835693359375, -0.0005130767822265625, 0.027740478515625, 0.038177490234375, 0.00965118408203125, 0.00732421875, -0.0273284912109375, -0.00519561767578125, 0.0133819580078125, 0.002315521240234375, 0.0218048095703125, 0.0034389495849609375, -0.0110626220703125, -0.0094757080078125, 0.0173797607421875, 0.012786865234375, -0.0167388916015625, 0.02337646484375, 0.00659942626953125, 0.0010528564453125, 0.0112152099609375, -0.0299530029296875, 0.0045166015625, 0.016998291015625, 0.00791168212890625, 0.019012451171875, -0.010498046875, -0.0022830963134765625, 0.00836944580078125, -0.004364013671875, 0.007904052734375, 0.014984130859375, -0.0024433135986328125, 0.0120849609375, -0.00383758544921875, -0.00965118408203125, 0.0136260986328125, -0.0034580230712890625, 0.01494598388671875, 0.00592041015625, 0.01247406005859375, 0.0145416259765625, 0.03472900390625, 0.00780487060546875, -0.047607421875, -0.0174407958984375, -0.013092041015625, 0.06292724609375, 0.018646240234375, 0.0151214599609375, -0.0044097900390625, 0.0160369873046875, -0.020233154296875, 0.007472991943359375, 0.01654052734375, 0.0186767578125, 0.005950927734375, -0.0032215118408203125, -0.0014543533325195312, -0.003482818603515625, -0.01430511474609375, 0.001708984375, 0.01264190673828125, -0.0259246826171875, 0.018341064453125, -0.0032176971435546875, 0.020660400390625, -0.01052093505859375, -0.006725311279296875, 0.009979248046875, 0.020782470703125, -0.0036106109619140625, -0.0018482208251953125, 0.01079559326171875, 0.020721435546875, 0.0021038055419921875, 0.0094146728515625, 0.0313720703125, 0.0092315673828125, 0.00209808349609375, 0.006259918212890625, 0.00991058349609375, 0.01157379150390625, -0.0211944580078125, 0.016845703125, -0.0027980804443359375, 0.0211029052734375, 0.02874755859375, 0.0146331787109375, -0.00928497314453125, -0.0263519287109375, 0.0032138824462890625, 0.02105712890625, -0.0287017822265625, 0.018463134765625, 0.0020084381103515625, -0.0288543701171875, -0.0205841064453125, 0.0293426513671875, -0.00966644287109375, -0.02569580078125, 0.0203399658203125, 1.9311904907226562e-05, 0.0004506111145019531, -0.01351165771484375, -0.00966644287109375, -0.018798828125, 0.0037364959716796875, 0.0042877197265625, 0.006221771240234375, -0.016357421875, 0.007160186767578125, 0.005016326904296875, 0.01387786865234375, -0.002044677734375, 0.009002685546875, 0.01084136962890625, -0.0159912109375, -0.0161590576171875, -0.0145263671875, 0.0050048828125, -0.02642822265625, 0.007282257080078125, 0.0226287841796875, 0.0176239013671875, -0.0197296142578125, -0.01398468017578125, 0.001453399658203125, 0.013916015625, -0.0017223358154296875, 0.0274810791015625, -0.00887298583984375, 0.0218505859375, 0.0005235671997070312, 0.01493072509765625, -0.033966064453125, 0.01025390625, -0.003421783447265625, -0.00794219970703125, -0.0200653076171875, -0.00662994384765625, 0.03076171875, -0.0251922607421875, 0.00666046142578125, 0.01377105712890625, 0.0013685226440429688, -0.01366424560546875, -0.0198516845703125, -0.0024261474609375, -0.008331298828125, -0.0177154541015625, -0.0009012222290039062, 0.011993408203125, 0.009368896484375, -0.0207672119140625, -0.0182342529296875, 0.003116607666015625, -0.00231170654296875, -0.0328369140625, 0.003631591796875, -0.007904052734375, 0.0135650634765625, 0.01629638671875, -0.039459228515625, 0.026123046875, 0.019012451171875, -0.01432037353515625, -0.0012407302856445312, -0.01416015625, 0.01230621337890625, 0.0008993148803710938, 0.0086212158203125, -0.00860595703125, 0.0230560302734375, -0.00672149658203125, -0.005313873291015625, -0.0052337646484375, 0.0211334228515625, -0.008026123046875, -0.0215301513671875, 0.0102386474609375, 0.017578125, -0.009521484375, 0.0015840530395507812, 0.0240936279296875, 0.0007424354553222656, -0.01268768310546875, -0.0021076202392578125, -0.0260772705078125, -0.019287109375, -0.004955291748046875, -9.816884994506836e-05, 0.0286712646484375, 0.01119232177734375, -0.028350830078125, -0.014007568359375, -0.01456451416015625, -0.017242431640625, 0.00853729248046875, 0.01197052001953125, -0.0131988525390625, -0.00801849365234375, -0.0009579658508300781, -0.0095672607421875, 0.01079559326171875, 0.01273345947265625, 7.086992263793945e-05, -0.0182037353515625, 0.00345611572265625, -0.020172119140625, -0.009368896484375, 0.0180206298828125, -0.00323486328125, -0.008636474609375, 0.00720977783203125, -3.0338764190673828e-05, 0.005290985107421875, -0.00423431396484375, -0.0025005340576171875, -0.0022449493408203125, -5.030632019042969e-05, 0.004077911376953125, 0.004238128662109375, 0.0022106170654296875, 0.01641845703125, -0.004451751708984375, 0.003299713134765625, -0.0027008056640625, 0.01012420654296875, -0.01305389404296875, -0.007732391357421875, -0.00200653076171875, -0.01030731201171875, -0.0193939208984375, 0.033782958984375, -0.01352691650390625, 0.0243988037109375, -0.0192108154296875, 0.0010890960693359375, -0.0078887939453125, -0.0194244384765625, -0.01291656494140625, -0.006862640380859375, -0.0031108856201171875, -0.0231170654296875, -0.007732391357421875, -0.0135650634765625, -0.0273590087890625, 0.0032520294189453125, 0.01073455810546875, -0.0199432373046875, 0.0049896240234375, -0.005931854248046875, 0.00487518310546875, 0.02099609375, 0.0081329345703125, -0.0081939697265625, -0.0009436607360839844, 0.0009288787841796875, -0.007671356201171875, -0.018646240234375, -0.036346435546875, 0.00475311279296875, -0.033599853515625, 0.00678253173828125, 0.0052947998046875, 0.027557373046875, -8.237361907958984e-05, 0.0028209686279296875, 0.0013227462768554688, -0.008087158203125, 0.0041961669921875, 0.0029582977294921875, 0.029083251953125, 0.03497314453125, -0.0081634521484375, 0.00928497314453125, 0.01305389404296875, -0.047607421875, -0.00811767578125, 0.01157379150390625, 0.00998687744140625, 0.0234527587890625, -0.005645751953125, -0.0026092529296875, 0.01471710205078125, 0.0229949951171875, 0.010986328125, -0.0237274169921875, -0.0189361572265625, -0.027618408203125, -0.03460693359375, 0.0191497802734375, 0.0028553009033203125, 0.0215301513671875, 0.00955963134765625, -0.00839996337890625, 0.01546478271484375, -0.00533294677734375, -0.01161956787109375, -0.004131317138671875, -0.006618499755859375, 0.01264190673828125, 0.0190887451171875, 0.01018524169921875, 0.00484466552734375, 0.007904052734375, -0.02081298828125, -0.016265869140625, 0.0084228515625, 0.00975799560546875, 0.005352020263671875, 0.003124237060546875, 0.001373291015625, -0.002445220947265625, 0.009124755859375, 0.019622802734375, -0.01003265380859375, 0.01580810546875, 0.0100555419921875, 0.0018529891967773438, -0.0175323486328125, 0.001575469970703125, 0.009857177734375, 0.0029201507568359375, 0.0076446533203125, -0.029541015625, -0.012725830078125, -0.006244659423828125, -0.00814056396484375, 0.00039124488830566406, -0.005096435546875, -0.0084686279296875, 0.052825927734375, 0.020263671875, -0.0005044937133789062, -0.00016105175018310547, -0.014404296875, 0.005268096923828125, 0.01036834716796875, -0.014373779296875, -0.0010290145874023438, 0.01029205322265625, -0.007297515869140625, 0.0095977783203125, 0.01947021484375, -0.004608154296875, -0.0087738037109375, 0.01410675048828125, 0.01381683349609375, 0.018646240234375, -0.0255584716796875, 0.0203094482421875, -0.00970458984375, 0.0270843505859375, -0.01409149169921875, -0.01276397705078125, -0.03851318359375, 0.00739288330078125, -0.00510406494140625, -0.03857421875, -0.005336761474609375, -0.01190948486328125, 0.0156707763671875, -0.0186767578125, 0.00858306884765625, 0.00705718994140625, 0.01024627685546875, -0.0091705322265625, -0.00041484832763671875, 0.022735595703125, 0.01045989990234375, 0.017608642578125, -0.01003265380859375, -0.0021190643310546875, 0.012298583984375, 0.01190185546875, 0.00977325439453125, 0.0218353271484375, -0.018157958984375, 0.01348114013671875, -0.0009026527404785156, 0.0021228790283203125, -0.0113372802734375, -0.0059814453125, 0.0130767822265625, -0.0144195556640625, 0.00197601318359375, -0.0163116455078125, 0.00882720947265625, 0.006618499755859375, -0.0138702392578125, 0.009429931640625, -0.0011110305786132812, 0.0073089599609375, 0.027862548828125, -0.0283660888671875, -0.0028171539306640625, -0.01222991943359375, -0.01049041748046875, 0.0012750625610351562, 0.00272369384765625, 0.0022983551025390625, -0.0013742446899414062, 0.006092071533203125, 0.0264434814453125, 0.004619598388671875, 0.0012416839599609375, 0.0293426513671875, -0.0035839080810546875, -0.00888824462890625, -0.0269012451171875, 0.0060272216796875, -0.005184173583984375, -0.004337310791015625, 0.0013065338134765625, -0.033477783203125, -0.0131683349609375, -0.029296875, -0.0030574798583984375, -0.01555633544921875, 0.0178680419921875, -0.0121002197265625, -0.0159912109375, 0.033172607421875, 0.0136260986328125, 0.00882720947265625, -0.02447509765625, -0.01270294189453125, 0.0022830963134765625, -0.0094757080078125, -0.01605224609375, -0.00865936279296875, -0.004779815673828125, 0.0017633438110351562, 7.748603820800781e-06, -0.01270294189453125, -0.0157318115234375, -0.026275634765625, 0.0054779052734375, 0.0108795166015625, 0.01407623291015625, 0.008514404296875, -0.000553131103515625, -0.002727508544921875, 0.013519287109375, 0.0035228729248046875, -0.0262451171875, -0.02490234375, 0.00970458984375, -0.016754150390625, -0.0103912353515625, -0.00344085693359375, 0.0039215087890625, 0.005306243896484375, -0.01183319091796875, 0.0087127685546875, -0.005611419677734375, -0.035919189453125, -0.011993408203125, -0.0108642578125, -0.0294342041015625, -0.00750732421875, 0.0185546875, 0.01010894775390625, 0.007534027099609375, 0.0016155242919921875, -0.0100555419921875, -0.002529144287109375, 0.006893157958984375, -0.0178985595703125, -0.0207977294921875, -0.0084228515625, -0.001708984375, -0.0021209716796875, -0.01480865478515625, -0.00652313232421875, 0.0266876220703125, 0.013580322265625, -0.0224609375, -0.0015039443969726562, -0.0177001953125, 0.01303863525390625, 0.036224365234375, 0.020904541015625, 0.03076171875, 0.00919342041015625, 0.0131378173828125, -0.0008754730224609375, 0.0, -0.0278778076171875, -0.0008101463317871094, 0.0036373138427734375, -0.021453857421875, -0.006877899169921875, -0.0156402587890625, 0.018341064453125, 0.0108489990234375, 0.005718231201171875, 0.0014467239379882812, -0.0202178955078125, -0.0097503662109375, -0.00667572021484375, -0.0012254714965820312, -0.0029468536376953125, -0.023284912109375, 0.00893402099609375, -0.01229095458984375, -0.021453857421875, -0.01739501953125, 0.01461029052734375, 0.003021240234375, -0.0008525848388671875, -0.00428009033203125, -0.003528594970703125, -0.0019378662109375, 0.019805908203125, 0.0182037353515625, -0.00150299072265625, -0.01543426513671875, -0.0092620849609375, 0.017364501953125, -0.00653839111328125, -0.007122039794921875, 0.00908660888671875, -0.0227508544921875, 0.005748748779296875, -0.0124359130859375, -0.0139312744140625, 0.012481689453125, -0.005977630615234375, -0.00839996337890625, -0.014892578125, -0.00495147705078125, 0.00876617431640625, -0.035614013671875, 0.01023101806640625, 0.0034503936767578125, 0.014984130859375, -0.02386474609375, -0.0093231201171875, -0.0008893013000488281, 0.0057220458984375, 0.0022068023681640625, 0.00659942626953125, -0.026519775390625, -0.0193939208984375, -0.013397216796875, -0.0033092498779296875, -0.0060882568359375, -0.01242828369140625, -0.018768310546875, -0.012908935546875, 0.0168304443359375, -0.0050506591796875, 0.03070068359375, 0.00655364990234375, -0.004711151123046875, -0.00844573974609375, 0.00992584228515625, -0.00921630859375, 0.04644775390625, 0.0148773193359375, 0.01239013671875, -0.0176544189453125, -0.0180206298828125, -0.0025177001953125, -0.01910400390625, 0.0019006729125976562, -0.01216888427734375, -0.00122833251953125, 0.019744873046875, -0.00469207763671875, -0.035552978515625, -0.0084686279296875, -0.0005083084106445312, -0.00975799560546875, 0.006175994873046875, -0.01042938232421875, 0.0208892822265625, 0.00861358642578125, 0.0027942657470703125, -0.004913330078125, 0.008026123046875, -0.00220489501953125, 0.0149993896484375, 0.01264190673828125, -0.00249481201171875, -0.02435302734375, -0.01947021484375, 0.0086212158203125, 0.0303497314453125, -0.007724761962890625, 0.01461029052734375, 0.0167083740234375, -0.055511474609375, 0.013702392578125, -0.01629638671875, 0.003963470458984375, 0.027496337890625, 0.01300811767578125, -0.00655364990234375, 0.01544952392578125, -0.0157318115234375, 0.0160064697265625, -0.00540924072265625, -0.0201568603515625, 0.005176544189453125, 0.01276397705078125, -0.00640869140625, -0.0262298583984375, -0.01062774658203125, -0.01690673828125, -0.0006504058837890625, -0.0087432861328125, -0.015167236328125, -0.01473236083984375, -0.0028934478759765625, 0.052398681640625, 0.0020427703857421875, 0.0028934478759765625, -0.0137481689453125, -0.002086639404296875, 0.002063751220703125, -0.016448974609375, 0.0223236083984375, -0.011932373046875, -0.01137542724609375, 0.0246734619140625, -0.01520538330078125, -0.0031890869140625, -0.01580810546875, -0.01555633544921875, 0.001068115234375, 0.009613037109375, 0.01055145263671875, -0.0016126632690429688, 0.0204315185546875, 0.000988006591796875, 0.006778717041015625, -0.00894927978515625, -0.02392578125, 0.0257415771484375, 0.023284912109375, -0.007904052734375, -0.006618499755859375, -0.0253143310546875, -0.0288848876953125, -0.005157470703125, 0.020843505859375, 0.0016012191772460938, 0.0184326171875, -0.02728271484375, 0.00421905517578125, -0.0228424072265625, -0.0195770263671875, 0.0158233642578125, -0.0297088623046875, 0.0277099609375, -0.006011962890625, -0.0085296630859375, -0.0141754150390625, 0.0021190643310546875, -0.016021728515625, 0.01230621337890625, 0.0015211105346679688, -0.0167083740234375, -0.0141448974609375, 0.01410675048828125, -0.00609588623046875, -0.0141448974609375, 0.00345611572265625, 0.017669677734375, -0.01282501220703125, -0.0027446746826171875, -0.0250396728515625, -0.014373779296875, -0.0193634033203125, 0.0122833251953125, -0.0011949539184570312, -0.03900146484375, -0.010406494140625, -0.007663726806640625, -0.012115478515625, 0.01141357421875, -0.01461029052734375, 0.00150299072265625, -0.0032825469970703125, 0.00449371337890625, -0.0271148681640625, -0.007358551025390625, -0.0113983154296875, 0.00047397613525390625, -0.005645751953125, -0.0107269287109375, 0.013427734375, 0.0213775634765625, -0.000797271728515625, 0.01363372802734375, -0.00827789306640625, 0.00811004638671875, 0.00797271728515625, -0.01448822021484375, -0.00122833251953125, 0.02569580078125, -0.01763916015625, 0.0225830078125, 0.002292633056640625, 0.0231475830078125, 0.0006361007690429688, 0.034576416015625, -0.01111602783203125, 0.009857177734375, -0.0009713172912597656, 0.03167724609375, -0.003948211669921875, -0.029327392578125, -0.0291595458984375, 0.01617431640625, 0.01544952392578125, -0.01016998291015625, 0.0021343231201171875, 0.0234375, 0.0188446044921875, 0.0163116455078125, -0.025909423828125, 0.012054443359375, -0.0428466796875, 0.0177764892578125, -0.0023632049560546875, 0.0, 0.0026149749755859375, 0.0026531219482421875, 0.0036182403564453125, -0.005645751953125, 0.0158843994140625, -0.02471923828125, -0.00977325439453125, 0.0033512115478515625, -0.002147674560546875, 0.007411956787109375, -0.00943756103515625, 0.040771484375, -0.006549835205078125, 0.01258087158203125, -0.027801513671875, -0.0136871337890625, -0.0158843994140625, -0.0225830078125, -0.006076812744140625, -0.02923583984375, 0.0027904510498046875, 0.0006976127624511719, 0.0014219284057617188, 0.0121002197265625, -0.0031871795654296875, -0.00531005859375, -0.0233306884765625, -0.004238128662109375, 0.020294189453125, -0.0269927978515625, -0.01222991943359375, 0.0029773712158203125, -0.0146484375, -0.0217437744140625, -0.003627777099609375, 0.038848876953125, 0.007770538330078125, 0.03778076171875, 0.0012454986572265625, 0.0158843994140625, -0.006580352783203125, 0.003299713134765625, -0.0106048583984375, 0.006328582763671875, 0.0208587646484375, -0.01520538330078125, -0.0098419189453125, 0.0380859375, 0.01727294921875, -0.027740478515625, 0.013916015625, -0.0013322830200195312, -0.005069732666015625, -0.0040435791015625, -0.022857666015625, -0.004558563232421875, 0.01506805419921875, -0.00946044921875, 0.0004930496215820312, -0.00884246826171875, -0.021759033203125, 0.0214996337890625, -0.0181427001953125, -0.0134735107421875, 0.0167388916015625, -0.0099945068359375, 0.007038116455078125, -0.012451171875, -0.01461029052734375, -0.01617431640625, 0.0035572052001953125, 0.015533447265625, -0.0101318359375, -0.0220489501953125, -0.03240966796875, 0.0282135009765625, -0.007411956787109375, -0.0215301513671875, -0.01180267333984375, 0.0258331298828125, -0.005680084228515625, -0.0176544189453125, -0.0099334716796875, -0.00677490234375, -0.01042938232421875, -0.0223388671875, -0.0277557373046875, 0.0096893310546875, 0.01491546630859375, -0.010162353515625, -0.007602691650390625, -0.0137939453125, -0.005092620849609375, 0.00279998779296875, 0.006175994873046875, -0.01030731201171875, 0.0096588134765625, 0.005619049072265625, -0.00028586387634277344, -0.01242828369140625, 0.0258026123046875, -0.00034880638122558594, 0.006908416748046875, -0.01261138916015625, -0.007091522216796875, 0.002788543701171875, -0.007122039794921875, 0.005825042724609375, 0.01273345947265625, 0.01021575927734375, -0.0047607421875, -0.0069122314453125, -0.00429534912109375, 0.01309967041015625, -0.01221466064453125, 0.01708984375, 0.0169219970703125, -0.0146484375, -0.0126800537109375, -0.001247406005859375, 0.0006270408630371094, 0.002010345458984375, -0.00946807861328125, 0.008209228515625, -0.0027790069580078125, 0.02447509765625, -0.00873565673828125, 0.031341552734375, -0.0185089111328125, -0.005706787109375, 0.0170135498046875, -0.0268402099609375, 0.00856781005859375, -0.01093292236328125, 0.0112762451171875, 0.01739501953125, -0.0187530517578125, 0.0274200439453125, -0.024810791015625, 0.0113525390625, -0.016632080078125, -0.005992889404296875, 0.0053558349609375, 0.01378631591796875, -0.0174102783203125, -0.00807952880859375, 0.033355712890625, -0.009521484375, 0.00856781005859375, -0.0023021697998046875, -0.03350830078125, -0.0258331298828125, 0.036956787109375, -0.025115966796875, -0.01012420654296875, -0.0058441162109375, -0.01056671142578125, -0.00458526611328125, 0.0157623291015625, -0.0154876708984375, 0.01023101806640625, 0.01036834716796875, 0.003818511962890625, 0.01245880126953125, -0.01383209228515625, -0.004627227783203125, 0.01129150390625, 0.0199127197265625, -0.00635528564453125, 0.002346038818359375, -0.007663726806640625, 0.034515380859375, -0.00800323486328125, -0.01354217529296875, 0.047515869140625, 0.01015472412109375, 0.00031185150146484375, -0.0003211498260498047, 0.0255889892578125, 0.0096893310546875, 0.006145477294921875, 0.0152435302734375, -0.0003180503845214844, -0.0201568603515625, -0.0034542083740234375, 0.015594482421875, 0.004100799560546875, 0.01467132568359375, 0.013092041015625, 0.0142822265625, 0.00045990943908691406, -0.025238037109375, -0.007289886474609375, 0.0010700225830078125, -0.01071929931640625, -0.00229644775390625, -0.0236968994140625, -0.008270263671875, 0.0306243896484375, -0.003101348876953125, -0.0092010498046875, -0.019866943359375, 0.0191192626953125, 0.00431060791015625, -0.004924774169921875, -0.01873779296875, -0.007724761962890625, -0.0308380126953125, 0.00299072265625, -0.0186767578125, 0.01102447509765625, -0.0081634521484375, 0.013031005859375, -0.006778717041015625, -0.004398345947265625, 0.00540924072265625, 0.0168304443359375, -0.004596710205078125, 0.004604339599609375, -0.0007481575012207031, 0.005588531494140625, 0.01383209228515625, 0.02557373046875, -0.0005450248718261719, -0.0191192626953125, 0.0016946792602539062, 0.00893402099609375, 2.0563602447509766e-05, 0.0035152435302734375, -0.01276397705078125, -0.018646240234375, 0.0100555419921875, 0.0012264251708984375, 0.0029773712158203125, -0.0157318115234375, 0.00034308433532714844, -0.0116424560546875, -0.00788116455078125, 0.014251708984375, 0.0058135986328125, -0.0007205009460449219, 0.003467559814453125, 0.0061187744140625, 0.0011262893676757812, -0.007244110107421875, 0.0198974609375, 0.02349853515625, -0.0171966552734375, -0.0037746429443359375, 0.005619049072265625, 0.006549835205078125, 0.0030384063720703125, -0.00852203369140625, 0.0037136077880859375, 0.0234222412109375, 0.0201263427734375, 0.00788116455078125, 0.006259918212890625, -0.01418304443359375, -0.005046844482421875, -0.01483917236328125, 0.0025157928466796875, -0.004505157470703125, 0.002780914306640625, -0.007457733154296875, 0.01285552978515625, 0.00923919677734375, -0.0095062255859375, -0.0002522468566894531, -0.01116180419921875, -0.0090179443359375, 0.0140228271484375, 0.018646240234375, 0.0011463165283203125, 0.0193939208984375, 0.0274810791015625, 0.00579833984375, -0.0009622573852539062, 0.0167999267578125, 0.0219879150390625, 0.01373291015625, -0.0215911865234375, 0.020355224609375, 0.037872314453125, -0.0024394989013671875, 0.00850677490234375, 0.005496978759765625, 0.00968170166015625, 0.0107421875, 0.0014591217041015625, -0.010406494140625, 0.03399658203125, -0.019287109375, 0.01251983642578125, -0.0125885009765625, 0.01995849609375, 0.00888824462890625, 0.014007568359375, -0.007167816162109375, 0.0110015869140625, 0.01517486572265625, -0.01282501220703125, -0.014739990234375, -0.016845703125, -0.0182952880859375, -0.0247955322265625, 0.0008592605590820312, -0.007518768310546875, 0.005092620849609375, 0.0003757476806640625, 0.00936126708984375, -0.0211334228515625, 0.007965087890625, 0.003566741943359375, 0.00844573974609375, -0.00519561767578125, 0.007160186767578125, -0.01160430908203125, 0.01317596435546875, 0.0009646415710449219, 0.0008597373962402344, -0.0205230712890625, -0.0264892578125, -0.00971221923828125, -0.0054168701171875, -0.035308837890625, -0.006610870361328125, -0.01064300537109375, 0.00201416015625, -0.005817413330078125, 0.0093231201171875, 0.001155853271484375, -0.0245513916015625, -0.0125885009765625, 0.022735595703125, 0.01349639892578125, 0.01473236083984375, 0.01554107666015625, -0.017852783203125, 0.01361846923828125, 0.003940582275390625, -0.0017461776733398438, 0.0155181884765625, 0.0355224609375, 0.032958984375, -0.0025482177734375, 0.01282501220703125, -0.0113525390625, 0.013580322265625, 0.00978851318359375, 0.00888824462890625, -0.036163330078125, 0.0219573974609375, -0.00579071044921875, -0.017303466796875, 0.006191253662109375, 0.0225677490234375, -0.01270294189453125, 0.005908966064453125, -0.0011110305786132812, 0.01207733154296875, 0.003082275390625, 0.018035888671875, -0.021484375, 0.0159149169921875, -0.0321044921875, 0.015716552734375, -0.015777587890625, 0.006404876708984375, -0.014862060546875, 0.0024261474609375, -0.015777587890625, 0.0090179443359375, -0.0020008087158203125, -0.01190948486328125, 0.0171051025390625, -0.0175323486328125, 0.0318603515625, 0.0263824462890625, 0.0007257461547851562, 0.00518798828125, -0.00209808349609375, 0.01187896728515625, 0.0112762451171875, -0.0038242340087890625, -0.016204833984375, -0.00795745849609375, 0.002788543701171875, -0.00901031494140625, 0.0264739990234375, -0.0278778076171875, -0.0122528076171875, -0.004261016845703125, 0.0118255615234375, -0.0180206298828125, -0.0103759765625, 0.007335662841796875, -0.0140533447265625, -0.0050811767578125, -0.00018286705017089844, 0.00563812255859375, 0.002422332763671875, 0.0252227783203125, 0.006084442138671875, 0.0135650634765625, -0.004459381103515625, -0.0014514923095703125, 0.023101806640625, 0.005893707275390625, 0.03729248046875, 0.013427734375, 0.004199981689453125, 0.016204833984375, -0.013641357421875, 0.016387939453125, -0.002239227294921875, -0.01398468017578125, 0.0003304481506347656, 0.0019702911376953125, 0.01197052001953125, -0.0174407958984375, -0.0026149749755859375, -0.022186279296875, -0.00801849365234375, 0.0227203369140625, -0.00884246826171875, 0.00872039794921875, 0.0137939453125, -0.00514984130859375, 0.0203857421875, 0.007595062255859375, 0.01326751708984375, 0.014495849609375, 0.0256195068359375, 0.01219940185546875, -0.016693115234375, 0.0101165771484375, -0.0030956268310546875, 0.0227508544921875, -0.013031005859375, -0.004116058349609375, -0.0079803466796875, -0.006072998046875, -0.00017201900482177734, 0.006786346435546875, -0.00882720947265625, -0.006946563720703125, -0.01513671875, -0.0132598876953125, 0.01568603515625, -0.0035915374755859375, -0.006885528564453125, 0.01447296142578125, -0.004230499267578125, 0.0063629150390625, -0.021270751953125, 0.00775146484375, 0.009185791015625, 0.01007843017578125, -0.0283203125, -0.00032782554626464844, -0.00795745849609375, 0.02850341796875, -0.0478515625, -0.016204833984375, 0.0521240234375, 0.0134429931640625, 0.01471710205078125, -0.0203399658203125, 0.0024051666259765625, 0.0010766983032226562, -0.02923583984375, -0.01128387451171875, 0.01183319091796875, -0.01165771484375, -0.0304412841796875, 0.00273895263671875, -0.018463134765625, 0.00595855712890625, 0.031524658203125, 0.01035308837890625, -0.0232086181640625, -0.0158538818359375, 0.01340484619140625, -0.0031261444091796875, 0.0106964111328125, -0.01546478271484375, 0.007053375244140625, -0.01371002197265625, -0.0005249977111816406, -0.0096588134765625, 0.00971221923828125, -0.017791748046875, -0.0089263916015625, -0.0008401870727539062, 0.006404876708984375, 0.001972198486328125, -0.00714111328125, 0.00839996337890625, 0.02288818359375, 0.025665283203125, -0.0330810546875, -0.0141143798828125, 0.00197601318359375, -0.0107879638671875, -0.00634002685546875, 0.0095062255859375, 0.0120849609375, -0.0114593505859375, 0.002285003662109375, -0.00739288330078125, 0.0004572868347167969, 0.00042510032653808594, 0.0164337158203125, 0.002162933349609375, 0.006626129150390625, 0.002410888671875, -0.00939178466796875, -0.0014820098876953125, 0.004055023193359375, 0.0160675048828125, 0.003875732421875, 0.01006317138671875, 0.014617919921875, 0.00499725341796875, -0.0043487548828125, -0.01290130615234375, -0.0027370452880859375, -0.0248870849609375, -0.0141754150390625, 0.0018224716186523438, -0.006832122802734375, -0.0062713623046875, 0.0015106201171875, 0.0030498504638671875, -0.011749267578125, 0.001148223876953125, -0.03472900390625, -0.0018329620361328125, 0.0004458427429199219, 0.003574371337890625, 0.01364898681640625, 0.0051422119140625, 0.0022125244140625, 0.0169677734375, -0.0158538818359375, 0.04180908203125, -0.0031223297119140625, -0.02020263671875, -8.946657180786133e-05, -0.007419586181640625, 0.0095672607421875, -0.012664794921875, 0.0021953582763671875, 0.01522064208984375, 0.0107269287109375, 0.00518035888671875, 0.010498046875, -0.00882720947265625, 0.06787109375, -0.0025196075439453125, 0.004917144775390625, -0.004146575927734375, -0.01177978515625, 0.01187896728515625, -0.004474639892578125, -0.0242767333984375, 0.013824462890625, -0.026641845703125, 0.03778076171875, -0.017608642578125, 0.036773681640625, -0.0134429931640625, -0.0164642333984375, 0.00015175342559814453, 0.00206756591796875, -0.0157012939453125, 0.00472259521484375, 0.032684326171875, 0.0176544189453125, 0.01369476318359375, -0.0009622573852539062, -0.0011243820190429688, -0.0012311935424804688, -0.019744873046875, -0.00946807861328125, -0.0210723876953125, -0.0007348060607910156, 0.01233673095703125, -0.0242462158203125, 0.002773284912109375, -0.00550079345703125, -0.01424407958984375, -0.00870513916015625, -0.0149993896484375, 0.00310516357421875, 0.0035762786865234375, -0.01232147216796875, 0.01470184326171875, 0.007175445556640625, 0.01369476318359375, 0.0194549560546875, -0.03826904296875, -0.01318359375, 0.007770538330078125, -0.0041961669921875, -0.006237030029296875, -0.0002161264419555664, 0.003948211669921875, 0.01430511474609375, 0.0020465850830078125, -0.00531005859375, -0.0181732177734375, 0.018310546875, 0.0038242340087890625, 0.004116058349609375, -0.00199127197265625, 0.0267181396484375, -0.015289306640625, 0.004901885986328125, 0.0034160614013671875, -0.0151214599609375, 0.01485443115234375, 0.060333251953125, -0.0259552001953125, 0.01444244384765625, 0.0014476776123046875, -0.021270751953125, -0.0031719207763671875, 0.00658416748046875, 0.0216827392578125, 0.03271484375, -0.0147552490234375, -0.002410888671875, 0.001514434814453125, 0.017242431640625, -0.0188751220703125, -0.01016998291015625, -0.0236053466796875, -0.01508331298828125, 0.011749267578125, 0.003498077392578125, 0.019256591796875, -0.01479339599609375, -0.01235198974609375, -0.0035495758056640625, 0.005336761474609375, 0.0171051025390625, -0.0169219970703125, -0.03167724609375, -0.0081634521484375, -0.026336669921875, 0.0269622802734375, -0.0254974365234375, 0.00890350341796875, -0.0020751953125, -0.004627227783203125, -0.014495849609375, -0.0031299591064453125, 0.00022780895233154297, 0.005687713623046875, 0.038238525390625, 0.0005092620849609375, 0.016448974609375, 0.0033016204833984375, 0.0178070068359375, -0.023529052734375, -0.00543212890625, 0.019683837890625, -0.006542205810546875, 0.0141143798828125, -0.003406524658203125, 0.01529693603515625, -0.01605224609375, 0.01076507568359375, -0.0220489501953125, -0.0258331298828125, -0.01003265380859375, 0.0016498565673828125, 0.035308837890625, -0.01227569580078125, -0.0035400390625, 0.028778076171875, -0.005859375, -0.0283203125, -0.004177093505859375, 0.0182037353515625, -0.008453369140625, -0.0002684593200683594, 0.0208282470703125, -0.0040740966796875, 0.018402099609375, 0.00605010986328125, 0.0021915435791015625, 0.00801849365234375, -0.00681304931640625, -0.004230499267578125, -0.007724761962890625, 0.0182647705078125, -0.0083160400390625, -0.00472259521484375, -0.0274505615234375, -0.00836944580078125, -0.001750946044921875, -0.0083770751953125, -0.0141448974609375, -0.011474609375, -0.0141143798828125, -0.0083770751953125, -0.022735595703125, 0.0030612945556640625, -0.01197052001953125, -0.007457733154296875, -0.009979248046875, 0.009124755859375, 0.0214385986328125, -0.0178070068359375, -0.0227813720703125, -0.0101318359375, -0.021636962890625, -0.0025196075439453125, 0.0004603862762451172, -0.01288604736328125, 0.0037097930908203125, 0.0069580078125, -0.0011129379272460938, 0.03564453125, 0.0045928955078125, -0.01027679443359375, -0.00270843505859375, -0.00554656982421875, -0.007221221923828125, -0.0151519775390625, -0.01253509521484375, -0.007396697998046875, 0.00701141357421875, 0.00443267822265625, -0.01103973388671875, -0.01012420654296875, -0.041046142578125, 0.0074462890625, -0.0267486572265625, -0.0008492469787597656, -0.0193328857421875, -0.018707275390625, -0.0081024169921875, -0.0023632049560546875, 0.0233917236328125, -0.006649017333984375, -0.0054473876953125, 0.00537109375, -0.0182342529296875, -0.005706787109375, -0.00458526611328125, 0.0301971435546875, -0.003414154052734375, 0.00015175342559814453, -0.00940704345703125, 0.0013637542724609375, -0.0291900634765625, -0.003662109375, -0.004123687744140625, -0.0219573974609375, -0.001522064208984375, -0.013092041015625, -0.01544952392578125, -0.024261474609375, -0.0007157325744628906, 0.01522064208984375, -0.0081787109375, 0.035308837890625, 0.00016689300537109375, 0.002414703369140625, 0.0184173583984375, -0.0015764236450195312, -0.041229248046875, 0.0025615692138671875, -0.0034084320068359375, -0.0014734268188476562, 0.00400543212890625, -0.0206298828125, -0.015533447265625, -0.01279449462890625, -0.0148773193359375, -0.01290130615234375, -0.01473236083984375, -0.020782470703125, 0.01485443115234375, 0.01207733154296875, 0.015289306640625, -0.0017299652099609375, 0.00705718994140625, -0.0166778564453125, 0.00403594970703125, -0.00960540771484375, -0.0030364990234375, 0.002597808837890625, 0.0147857666015625, 0.00699615478515625, 0.0321044921875, -0.0038013458251953125, -0.00858306884765625, -0.0127105712890625, 0.00646209716796875, -0.005680084228515625, -0.036163330078125, 0.0085296630859375, 0.00243377685546875, 0.007587432861328125, -0.0136566162109375, -0.0117340087890625, 0.0288543701171875, 0.00588226318359375, 0.018768310546875, 0.008087158203125, -0.004962921142578125, 0.0016260147094726562, -0.005504608154296875, -0.00691986083984375, 0.016143798828125, 0.005859375, -0.019622802734375, 0.0214996337890625, -0.004894256591796875, 0.0155029296875, -0.0008649826049804688, 0.01293182373046875, 0.006500244140625, 0.004367828369140625, 0.0160980224609375, 0.0247039794921875, -0.0200653076171875, 0.0159454345703125, -0.00902557373046875, 0.015838623046875, 0.0030364990234375, 0.00762939453125, -0.018402099609375, -0.0036830902099609375, 0.0019779205322265625, -0.0135345458984375, -0.01629638671875, 0.00856781005859375, 0.0102386474609375, 0.002613067626953125, 0.0166015625, -0.02154541015625, 0.0203094482421875, 0.007709503173828125, -0.0171661376953125, 0.0019292831420898438, -0.0090179443359375, 0.0242919921875, -0.01485443115234375, -0.01020050048828125, -0.01108551025390625, 0.004913330078125, -0.0236663818359375, -0.025360107421875, -0.005107879638671875, -0.0038928985595703125, -0.00849151611328125, 0.005146026611328125, 0.028076171875, 0.005275726318359375, 0.004608154296875, 0.0008120536804199219, -0.04443359375, -0.01312255859375, -0.0160980224609375, 0.0019054412841796875, -0.01898193359375, -0.0035495758056640625, -0.01076507568359375, -0.0162200927734375, -0.011993408203125, 0.0278778076171875, -0.035797119140625, 0.017822265625, 0.014862060546875, 0.00763702392578125, -0.014373779296875, 0.009735107421875, 0.0037746429443359375, -0.01071929931640625, -0.01493072509765625, 0.012237548828125, 0.0010128021240234375, -0.004878997802734375, -0.029510498046875, -0.0008544921875, -0.01529693603515625, 0.021392822265625, 0.01336669921875, 0.004535675048828125, 0.02801513671875, -0.0150146484375, 0.004749298095703125, 0.0174713134765625, -0.001903533935546875, 0.014617919921875, -0.006092071533203125, 0.006618499755859375, -0.0001888275146484375, 0.00010001659393310547, -0.00592041015625, -0.0258941650390625, -0.0056915283203125, -0.00786590576171875, 0.015625, 0.006927490234375, 0.0100555419921875, -0.030792236328125, -0.0015974044799804688, -0.0218963623046875, -0.02923583984375, 0.006359100341796875, 0.0687255859375, -0.0020999908447265625, 0.01641845703125, 0.0093536376953125, 0.01128387451171875, 0.007282257080078125, 0.0041961669921875, 0.01727294921875, -0.004947662353515625, 0.01250457763671875, -0.024078369140625, -0.01580810546875, 0.01253509521484375, -0.00679779052734375, -0.0014238357543945312, 0.032012939453125, 0.00589752197265625, -0.0240020751953125, 0.0099029541015625, 0.002986907958984375, 0.0002777576446533203, 0.01334381103515625, -0.002140045166015625, 0.0011243820190429688, 0.003978729248046875, 0.0021381378173828125, -0.005184173583984375, -0.0202484130859375, -0.005580902099609375, -0.00421905517578125, 0.0149078369140625, 0.004482269287109375, 0.0170745849609375, 0.022705078125, -0.006084442138671875, 0.0258331298828125, -0.0012865066528320312, 0.01503753662109375, -0.003688812255859375, 0.003726959228515625, 0.006229400634765625, 0.004852294921875, -0.020477294921875, 0.005889892578125, 0.0074462890625, 0.0034637451171875, -0.006404876708984375, -0.0159149169921875, 0.0170440673828125, 0.015289306640625, 0.0134429931640625, -0.007472991943359375, 0.01300811767578125, 0.0095977783203125, 0.0149993896484375, -0.0014123916625976562, 0.003414154052734375, -0.020355224609375, -0.0013456344604492188, -0.00563812255859375, 0.01039886474609375, -0.0123291015625, -0.01348876953125, 0.00472259521484375, -0.0033969879150390625, 0.01432037353515625, -0.0013179779052734375, -0.004638671875, 0.00106048583984375, -0.03582763671875, 0.0067901611328125, -0.00701141357421875, -0.00310516357421875, -0.02154541015625, 0.019500732421875, 0.0032367706298828125, -0.031829833984375, -0.0125732421875, -0.012115478515625, -0.0183258056640625, 0.0234527587890625, -0.0159912109375, 0.01568603515625, 0.0172119140625, -0.0220489501953125, 0.022705078125, -0.0116119384765625, -0.009246826171875, -0.00362396240234375, 0.004055023193359375, -0.023956298828125, 0.005290985107421875, 0.01058197021484375, 0.0129547119140625, 0.00571441650390625, -0.0177001953125, 0.012664794921875, -0.034942626953125, -0.019622802734375, -0.004947662353515625, 0.0016155242919921875, -0.00739288330078125, 0.0208892822265625, -0.0295867919921875, -0.0003254413604736328, 0.00972747802734375, -0.007236480712890625, -0.0011444091796875, -0.0229339599609375, 0.003955841064453125, -0.032379150390625, 0.020477294921875, 0.004619598388671875, -0.0081634521484375, 0.0188140869140625, 0.01265716552734375, 0.008392333984375, -0.0260162353515625, 0.0322265625, 0.006343841552734375, -0.007030487060546875, 0.007175445556640625, -0.0098876953125, -0.01421356201171875, 0.0279083251953125, 0.014862060546875, 0.0123138427734375, 0.0179595947265625, 0.0033588409423828125, 0.00627899169921875, 0.0183868408203125, 0.01152801513671875, 0.0223236083984375, 0.00725555419921875, -0.011077880859375, -0.034088134765625, 0.0087127685546875, 0.0093231201171875, -0.00829315185546875, -0.0251007080078125, -0.0112762451171875, -0.01849365234375, 0.030975341796875, -0.00907135009765625, -0.01219940185546875, 0.0040740966796875, 0.0046539306640625, -0.005641937255859375, -0.00580596923828125, -0.0261383056640625, -0.022705078125, 0.01039886474609375, -0.01215362548828125, -0.0171661376953125, 0.01308441162109375, -0.013916015625, 0.0207366943359375, -0.0167694091796875, 0.01922607421875, 0.016754150390625, -0.01654052734375, -0.0070648193359375, -0.00437164306640625, 0.01300811767578125, 0.01169586181640625, 0.0230560302734375, -0.0025577545166015625, 0.01517486572265625, 0.01055145263671875, -0.0186920166015625, -0.0218048095703125, -0.00870513916015625, -0.0281219482421875, 0.01387786865234375, 0.00206756591796875, -0.0257720947265625, 0.0080718994140625, 0.0149993896484375, 0.0032596588134765625, -0.01010894775390625, 0.0217132568359375, 0.01378631591796875, -0.00196075439453125, 0.013153076171875, -0.00417327880859375, -0.005985260009765625, -0.0086517333984375, -0.0070648193359375, 0.01036834716796875, -0.0049591064453125, -0.01479339599609375, -0.006805419921875, 0.0202484130859375, -0.00032067298889160156, -0.002788543701171875, -0.010467529296875, 0.00566864013671875, -0.01629638671875, 0.004268646240234375, 0.0118560791015625, 0.01580810546875, 0.03045654296875, 0.005153656005859375, 0.006214141845703125, 0.01837158203125, 0.007274627685546875, -0.00676727294921875, 0.007274627685546875, 0.0086212158203125, -0.002246856689453125, 0.0267486572265625, -0.0237579345703125, -0.028076171875, -0.003177642822265625, -0.01617431640625, -0.00685882568359375, 0.0295867919921875, 0.0217132568359375, -0.0195465087890625, -0.02728271484375, 0.0082244873046875, 0.0005526542663574219, -0.003543853759765625, -0.01190185546875, -0.00629425048828125, -0.02001953125, 0.003917694091796875, 0.018707275390625, -0.0258331298828125, 0.020233154296875, 0.0209808349609375, -0.01306915283203125, 0.0011682510375976562, 0.01214599609375, 0.018707275390625, -4.887580871582031e-06, -0.0027828216552734375, 0.027130126953125, 0.012298583984375, -0.021636962890625, 0.00820159912109375, 0.03216552734375, -0.0035839080810546875, -0.00025725364685058594, 0.013916015625, 0.01336669921875, 0.032012939453125, -0.0113372802734375, -0.0124359130859375, 0.00019943714141845703, 0.00331878662109375, 0.00403594970703125, -0.031341552734375, 0.0021152496337890625, 0.00472259521484375, -0.019012451171875, 0.0017595291137695312, -0.0009517669677734375, -0.01531219482421875, -0.01293182373046875, 0.01279449462890625, -0.0007205009460449219, 0.0111236572265625, -0.0092926025390625, 0.0012416839599609375, 0.02337646484375, 0.0021190643310546875, -0.01039886474609375, -0.01678466796875, -0.008697509765625, -0.01116180419921875, -0.00827789306640625, 0.00380706787109375, -0.003337860107421875, -0.0009527206420898438, -0.00983428955078125, -0.0109405517578125, -0.0226287841796875, -0.0170440673828125, -0.0101776123046875, 0.015777587890625, -0.0006899833679199219, -0.0101318359375, -0.017852783203125, 0.02325439453125, 0.00733184814453125, -0.005096435546875, -0.0234222412109375, 0.022735595703125, -0.0135040283203125, 0.0010881423950195312, -0.0167999267578125, 0.017303466796875, 0.0242919921875, -0.0167083740234375, -0.01503753662109375, 0.0014142990112304688, 0.0006608963012695312, -0.0010137557983398438, -0.0263214111328125, -0.00659942626953125, -0.0124359130859375, -0.01306915283203125, -0.003360748291015625, -0.010101318359375, -0.0026378631591796875, 0.007213592529296875, 0.005645751953125, 0.004261016845703125, -0.00838470458984375, 0.010955810546875, 0.004543304443359375, 0.016693115234375, -0.0135650634765625, -0.001434326171875, 0.0084228515625, 0.0013723373413085938, -0.004909515380859375, 0.0029201507568359375, 0.006927490234375, -0.02001953125, -0.0014200210571289062, -0.006679534912109375, -0.0106353759765625, 0.027801513671875, 0.018218994140625, -0.00991058349609375, -0.017303466796875, -0.0158843994140625, 0.002414703369140625, -0.00913238525390625, -0.006130218505859375, -0.0128021240234375, -0.0178985595703125, -0.000606536865234375, -0.011962890625, 0.0192718505859375, 0.02154541015625, 0.00890350341796875, -0.00945281982421875, 0.00472259521484375, -0.00782012939453125, 0.00206756591796875, -0.019012451171875, -0.0152740478515625, -0.0095062255859375, -0.003376007080078125, -0.00677490234375, -0.00554656982421875, 0.00769805908203125, 0.022552490234375, -0.010040283203125, -0.0249786376953125, -0.0107421875, 0.01329803466796875, -0.020965576171875, 0.01409149169921875, -0.002685546875, -0.0017070770263671875, -0.019744873046875, -0.0005593299865722656, 0.004917144775390625, 0.0009908676147460938, 0.01418304443359375, -0.0300750732421875, 0.0289764404296875, 0.01407623291015625, -0.0058135986328125, 0.0040740966796875, -0.014007568359375, 0.018829345703125, 0.0047454833984375, 0.0122833251953125, -0.00206756591796875, -0.0013904571533203125, 0.0258941650390625, 0.00750732421875, -0.0029392242431640625, -0.01136016845703125, 0.04937744140625, -0.0014410018920898438, -0.011260986328125, -0.0269775390625, -0.00041413307189941406, -0.007236480712890625, 0.0033359527587890625, -0.00014412403106689453, -0.006671905517578125, 0.003753662109375, 0.003841400146484375, 0.002826690673828125, -0.0020618438720703125, 0.006443023681640625, 0.0054168701171875, 0.03564453125, -0.01171112060546875, -0.0193023681640625, 0.0202178955078125, 0.007965087890625, 0.0282135009765625, 0.017303466796875, -0.02337646484375, -0.004261016845703125, -0.01342010498046875, 0.006114959716796875, -0.006710052490234375, -0.0249786376953125, 0.0284271240234375, 0.0201416015625, 0.00511932373046875, -0.0021991729736328125, -0.007488250732421875, 0.006317138671875, 0.005748748779296875, 0.00028824806213378906, 0.0105438232421875, -0.0235443115234375, 0.01326751708984375, -0.03302001953125, 0.003631591796875, -0.0179595947265625, -0.0248565673828125, -0.0655517578125, 0.00434112548828125, -0.007366180419921875, 0.00884246826171875, -0.007038116455078125, -0.00881195068359375, 0.0161285400390625, 0.00966644287109375, -0.02728271484375, -0.018646240234375, 0.003231048583984375, -0.0006546974182128906, 0.00873565673828125, -0.0037841796875, -0.0070648193359375, -0.0341796875, 0.004611968994140625, 0.001407623291015625, 0.017333984375, 0.0104217529296875, -0.022552490234375, 0.00962066650390625, 0.01247406005859375, 0.0213623046875, -0.004741668701171875, 0.006320953369140625, -0.0085906982421875, 0.0017786026000976562, -0.00933074951171875, -0.0224456787109375, 0.011627197265625, 0.021636962890625, -0.0207366943359375, 0.031585693359375, -0.0128936767578125, 0.0025234222412109375, -0.005428314208984375, 0.00859832763671875, -0.01194000244140625, -0.005405426025390625, 0.017578125, 0.00713348388671875, -0.0096893310546875, 0.0318603515625, 0.002399444580078125, -0.01041412353515625, -0.00870513916015625, 0.02105712890625, 0.01007843017578125, -0.01479339599609375, 0.014251708984375, -0.0286102294921875, 0.0097808837890625, -0.01247406005859375, -0.026092529296875, -0.007274627685546875, -0.0004277229309082031, 0.00124359130859375, 0.0022144317626953125, 0.01308441162109375, 0.00743865966796875, -0.00347900390625, -0.01419830322265625, -0.0034885406494140625, -0.004596710205078125, 0.00682830810546875, -0.0019178390502929688, -0.0186614990234375, 0.0017366409301757812, -0.007534027099609375, 0.005016326904296875, 0.0015878677368164062, -0.021148681640625, -0.010772705078125, -0.00027751922607421875, 0.02899169921875, -0.00380706787109375, 0.0131683349609375, -0.003757476806640625, -0.01326751708984375, -0.0086517333984375, 0.012908935546875, 0.01280975341796875, -0.021453857421875, -0.018890380859375, 0.006740570068359375, 0.02325439453125, 0.0014133453369140625, -0.0175323486328125, 0.006381988525390625, 0.01076507568359375, 0.0014085769653320312, 0.005161285400390625, -0.0160064697265625, 0.0147552490234375, -0.0010194778442382812, -0.01103973388671875, -0.004608154296875, -0.005199432373046875, -0.003597259521484375, -0.013916015625, 0.0223236083984375, -0.00738525390625, -0.043914794921875, 0.00896453857421875, -0.01221466064453125, 0.0171661376953125, -0.0262298583984375, -0.025115966796875, 0.0228118896484375, 0.0245819091796875, -0.007770538330078125, 0.01483917236328125, -0.001384735107421875, -0.034759521484375, -0.018524169921875, -0.036895751953125, 0.00859832763671875, -0.006732940673828125, 0.01010894775390625, -0.022552490234375, -0.0129547119140625, 0.007228851318359375, 0.0187225341796875, 0.0004322528839111328, -0.0036220550537109375, -0.032440185546875, -0.01076507568359375, 0.01140594482421875, -0.027008056640625, 0.009002685546875, 0.01197052001953125, 0.02239990234375, -0.00666046142578125, -0.006011962890625, 0.0005517005920410156, -0.01629638671875, 0.0027599334716796875, 0.00688934326171875, -0.004566192626953125, 0.01459503173828125, 0.022918701171875, -0.01358795166015625, 0.020782470703125, 0.0435791015625, -0.0005221366882324219, 0.03271484375, -0.0065155029296875, -0.004261016845703125, 0.00986480712890625, -0.0022678375244140625, -0.03411865234375, -0.02496337890625, -0.01204681396484375, 0.017974853515625, -0.003223419189453125, 0.010223388671875, -0.002994537353515625, 0.0095672607421875, 0.01763916015625, 0.00295257568359375, 0.0208282470703125, -0.01959228515625, 0.0208282470703125, -0.01557159423828125, -0.004169464111328125, 0.059722900390625, -0.006206512451171875, 0.004817962646484375, 0.0238037109375, -0.00885772705078125, -0.00732421875, 0.01251983642578125, 0.0034084320068359375, -0.0284576416015625, -0.0009102821350097656, -0.01282501220703125, -0.0006632804870605469, 0.0114898681640625, 0.0014514923095703125, -0.01079559326171875, -0.0102691650390625, -0.03961181640625, -0.00844573974609375, -0.01806640625, 0.0117950439453125, -0.01898193359375, 0.0226593017578125, 0.0204315185546875, -0.013916015625, -0.00830078125, 0.01203155517578125, 0.002899169921875, -0.00628662109375, 0.0111541748046875, -0.019073486328125, 0.00811004638671875, -0.00563812255859375, 0.01285552978515625, 0.0160369873046875, -0.01348114013671875, -0.0261688232421875, -0.00939178466796875, 0.0217742919921875, 0.006221771240234375, -0.00327301025390625, -0.00726318359375, -0.00942230224609375, 0.0288543701171875, 0.0132598876953125, 0.0159149169921875, -0.01904296875, -0.0051727294921875, -0.0030975341796875, 0.0147552490234375, -0.021728515625, -0.016693115234375, -0.020233154296875, -0.0016527175903320312, 0.002048492431640625, 0.0130462646484375, 0.0172882080078125, -0.024139404296875, -0.0048370361328125, 0.00463104248046875, 0.00852203369140625, -0.00101470947265625, 0.007080078125, -0.01116943359375, -0.006168365478515625, -0.030517578125, 0.002483367919921875, 0.01207733154296875, -0.001827239990234375, 0.003002166748046875, 0.0292205810546875, 0.0128021240234375, 0.007030487060546875, 0.00925445556640625, 0.00688934326171875, 0.003665924072265625, 0.00861358642578125, 0.01049041748046875, -0.0158538818359375, -0.01132965087890625, -0.01467132568359375, -0.00848388671875, 0.0121307373046875, 0.00043272972106933594, -0.0111541748046875, 0.0273590087890625, -0.0110626220703125, 0.0004470348358154297, -0.0101470947265625, 0.0037593841552734375, 0.0082855224609375, 0.0022373199462890625, -0.008087158203125, -0.007904052734375, 0.0004734992980957031, -0.01001739501953125, -0.015228271484375, 0.021392822265625, 0.0221405029296875, -0.0110931396484375, -0.0004298686981201172, 0.005138397216796875, 0.0005922317504882812, -0.01296234130859375, -0.0077362060546875, 0.015960693359375, 0.0020732879638671875, -0.0032405853271484375, 0.004352569580078125, -0.017364501953125, 0.00606536865234375, -0.01995849609375, 0.0183868408203125, -0.0188751220703125, 0.0013113021850585938, -0.002452850341796875, 0.001861572265625, 0.004787445068359375, 0.006946563720703125, -0.01007080078125, 0.0005369186401367188, 0.017822265625, -0.015533447265625, 0.027313232421875, 0.0180816650390625, 0.0199127197265625, 0.021453857421875, 0.0035800933837890625, 0.0226593017578125, -0.00563812255859375, -0.00525665283203125, 0.004909515380859375, -0.0102386474609375, 0.00846099853515625, -0.01285552978515625, 0.01148223876953125, -0.005466461181640625, -0.0202178955078125, 0.00830078125, -0.00556182861328125, -0.0144195556640625, 0.0178985595703125, -0.004291534423828125, 0.0016651153564453125, -0.019500732421875, -0.00414276123046875, -0.0161285400390625, -0.0168609619140625, 0.0255279541015625, -0.0058135986328125, 0.00612640380859375, -0.0080108642578125, -0.00403594970703125, -0.025054931640625, 6.502866744995117e-05, 0.01062774658203125, -0.00789642333984375, 0.001178741455078125, 0.00847625732421875, -0.042877197265625, -0.0010499954223632812, -0.00707244873046875, 0.0196075439453125, -0.02349853515625, 0.0152740478515625, 0.004863739013671875, 0.01190185546875, -0.0193023681640625, -0.01322174072265625, -0.0219268798828125, -0.01090240478515625, -0.0195159912109375, 0.0022640228271484375, -0.01153564453125, -0.0146636962890625, 0.0037136077880859375, -0.0016107559204101562, -0.0238037109375, 0.0031261444091796875, 0.01580810546875, -0.0160675048828125, 0.01140594482421875, 0.0094451904296875, 0.01354217529296875, 0.0172882080078125, 0.0226898193359375, 0.0039215087890625, 0.01433563232421875, -0.023406982421875, 0.0293426513671875, -0.0108184814453125, -0.01395416259765625, 0.01479339599609375, -0.0239410400390625, 0.0095062255859375, -0.0135650634765625, 0.0166168212890625, -0.00690460205078125, 0.01479339599609375, -0.0012521743774414062, 0.0013713836669921875, -0.0020751953125, -0.01210784912109375, 0.00579833984375, -0.028045654296875, 0.00749969482421875, 0.00858306884765625, -0.0012722015380859375, 0.017913818359375, -0.011962890625, -0.006839752197265625, -0.0306549072265625, -0.00553131103515625, 0.0099029541015625, -0.00856781005859375, 0.01264190673828125, -0.0213165283203125, -0.0076904296875, -0.00302886962890625, -0.0013561248779296875, -0.0240936279296875, -0.00783538818359375, 0.014984130859375, -0.00672149658203125, -0.015106201171875, -0.0020160675048828125, 0.0157470703125, 0.005641937255859375, 0.022064208984375, 0.01555633544921875, -0.005802154541015625, 0.005535125732421875, -0.0062255859375, -0.024078369140625, 0.0198211669921875, 0.00733184814453125, 0.015960693359375, -0.012115478515625, 0.00732421875, 0.0108489990234375, -0.003749847412109375, -0.00574493408203125, -0.0075836181640625, 0.0098114013671875, 0.0078125, 0.0170440673828125, 0.00011497735977172852, -0.02227783203125, -0.01230621337890625, 0.02716064453125, 0.0126190185546875, 0.01203155517578125, 0.0006556510925292969, -0.006622314453125, 0.032989501953125, 0.00450897216796875, -0.01204681396484375, -0.003719329833984375, 0.0015249252319335938, 0.019012451171875, 0.00872039794921875, 0.0008449554443359375, -0.001739501953125, -0.01306915283203125, 0.006732940673828125, -0.0019683837890625, -0.02313232421875, -0.018463134765625, -0.0142974853515625, -0.006252288818359375, -0.0010623931884765625, -0.0135040283203125, 0.0038547515869140625, 0.01059722900390625, -0.0016126632690429688, -0.00908660888671875, 0.0255584716796875, -0.0184173583984375, -0.0177764892578125, 0.0039520263671875, 0.0025482177734375, -0.01406097412109375, -0.0203094482421875, -0.0087127685546875, 0.02398681640625, 0.020904541015625, -0.016021728515625, -0.01788330078125, 0.0158233642578125, 0.0024433135986328125, 0.0035457611083984375, 0.01284027099609375, 0.04095458984375, 0.02923583984375, 0.01128387451171875, -0.000812530517578125, 0.03131103515625, -0.0118408203125, -0.0270843505859375, -0.01200103759765625, 0.0010080337524414062, -0.037933349609375, 0.005123138427734375, 0.00559234619140625, 0.006580352783203125, -0.0187835693359375, 0.027862548828125, -0.005290985107421875, 0.035430908203125, -0.01171112060546875, -0.009979248046875, 0.004024505615234375, -0.0005660057067871094, 0.01019287109375, 0.01153564453125, 0.00644683837890625, -0.004734039306640625, 0.017333984375, 0.0022373199462890625, -0.0022220611572265625, 0.0173492431640625, 0.01348876953125, 0.0004940032958984375, -0.0016851425170898438, -0.006175994873046875, 0.027130126953125, -0.0158233642578125, 0.0195770263671875, 0.005157470703125, 0.0343017578125, 0.0140533447265625, -0.0035762786865234375, -0.0185394287109375, 0.01116943359375, 0.00859832763671875, -0.002178192138671875, 0.004161834716796875, 0.014984130859375, 0.0001348257064819336, 0.01012420654296875, 0.006259918212890625, 0.00141143798828125, 0.0146484375, -0.01036834716796875, 0.0174713134765625, -0.01534271240234375, 0.0016374588012695312, 0.008636474609375, -0.0007114410400390625, -0.0013980865478515625, -0.022674560546875, 0.02056884765625, -0.00278472900390625, 0.0006432533264160156, 0.0146331787109375, 0.0027446746826171875, 0.01305389404296875, 0.0126800537109375, -0.046142578125, -0.0110931396484375, -0.00839996337890625, 0.00846099853515625, 0.0057525634765625, 0.0099639892578125, 0.00858306884765625, -0.035003662109375, 0.01096343994140625, 0.0023174285888671875, -0.00533294677734375, 0.00408172607421875, 0.0097503662109375, -0.021820068359375, 0.0022487640380859375, -0.00347900390625, 0.0005016326904296875, -0.005107879638671875, 0.0204010009765625, 0.01073455810546875, -0.0125885009765625, 0.01389312744140625, -0.01239013671875, -0.0016927719116210938, -0.0201873779296875, 0.00476837158203125, -0.006103515625, -0.005767822265625, -0.0152435302734375, -0.0208892822265625, 0.0157318115234375, -0.00672149658203125, 0.007427215576171875, 0.00597381591796875, 0.019805908203125, -0.005828857421875, -0.0013952255249023438, 0.004352569580078125, 0.032440185546875, 0.034088134765625, 0.0037937164306640625, 0.0002753734588623047, -0.0182647705078125, -0.00972747802734375, 0.001842498779296875, 0.016571044921875, 0.007038116455078125, 0.0014591217041015625, -0.01513671875, 0.0209197998046875, -0.0262908935546875, 0.0057373046875, -0.00685882568359375, 0.00662994384765625, -0.012115478515625, 0.01468658447265625, 0.0147857666015625, -0.0175323486328125, 0.019378662109375, -0.015289306640625, 0.03875732421875, 0.002593994140625, 0.0021419525146484375, 0.0014753341674804688, -0.01546478271484375, 0.007404327392578125, -0.04150390625, 0.055511474609375, 0.0246734619140625, -0.0180206298828125, -0.0179901123046875, 0.0115509033203125, -0.0003955364227294922, 0.0021266937255859375, 0.0311737060546875, 0.01288604736328125, -0.005847930908203125, 0.009490966796875, -0.0311737060546875, -0.023223876953125, -0.01593017578125, -0.0255279541015625, 0.01120758056640625, 0.0136260986328125, -0.0102996826171875, 0.0088348388671875, 0.0194091796875, -0.038818359375, 0.00873565673828125, 0.01348114013671875, -0.006649017333984375, -0.006397247314453125, -0.0254058837890625, -0.019805908203125, 0.0162353515625, 0.0026226043701171875, -0.01580810546875, 0.00039768218994140625, -0.00177001953125, -0.02728271484375, -0.023773193359375, -0.0034198760986328125, 0.0272369384765625, 0.003261566162109375, 0.00453948974609375, -0.024658203125, -0.005596160888671875, -0.004230499267578125, 0.01190948486328125, -0.0133209228515625, 0.0177154541015625, -0.0289459228515625, -0.01233673095703125, -0.033966064453125, 0.0070037841796875, 0.00507354736328125, 0.0252685546875, -0.0238800048828125, 0.00936126708984375, -0.01104736328125, -0.0021419525146484375, 0.006175994873046875, -0.000518798828125, -0.02117919921875, 0.01654052734375, 0.01983642578125, 0.0034389495849609375, -0.001583099365234375, -0.038330078125, 0.003635406494140625, -0.00022125244140625, 0.0032444000244140625, -0.01454925537109375, 0.0013113021850585938, 0.0033893585205078125, -0.01727294921875, -0.0025482177734375, 0.00391387939453125, 0.00922393798828125, 0.019866943359375, 0.00659942626953125, 0.025665283203125, -0.00035381317138671875, 0.01454925537109375, -0.0195770263671875, -0.01296234130859375, 0.0037441253662109375, -0.02069091796875, 0.004116058349609375, 0.0033702850341796875, -0.016876220703125, -0.005062103271484375, -0.00196075439453125, 0.0197296142578125, -0.0009832382202148438, 0.00024080276489257812, 0.01593017578125, -0.01084136962890625, -0.01178741455078125, -0.03607177734375, -0.0012187957763671875, 0.0181427001953125, -0.0017070770263671875, 0.0022487640380859375, 0.027801513671875, -4.971027374267578e-05, 0.01470184326171875, 0.0004436969757080078, 0.01456451416015625, -0.038482666015625, -0.0209197998046875, 0.0014781951904296875, -0.0219879150390625, 0.018310546875, -0.005992889404296875]\n"
     ]
    }
   ],
   "source": [
    "query_result = embeddings.embed_query(\"What does Sung do?\")\n",
    "print(query_result)"
   ]
  }
 ],
 "metadata": {
  "kernelspec": {
   "display_name": "py-test",
   "language": "python",
   "name": "python3"
  },
  "language_info": {
   "codemirror_mode": {
    "name": "ipython",
    "version": 3
   },
   "file_extension": ".py",
   "mimetype": "text/x-python",
   "name": "python",
   "nbconvert_exporter": "python",
   "pygments_lexer": "ipython3",
   "version": "3.11.7"
  }
 },
 "nbformat": 4,
 "nbformat_minor": 2
}
